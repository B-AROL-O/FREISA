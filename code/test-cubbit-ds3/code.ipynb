{
 "cells": [
  {
   "cell_type": "markdown",
   "metadata": {},
   "source": [
    "Install library boto3 with **pip install boto3**"
   ]
  },
  {
   "cell_type": "code",
   "execution_count": 5,
   "metadata": {},
   "outputs": [],
   "source": [
    "import boto3\n",
    "\n",
    "# Replace these with your actual Cubbit S3 endpoint and credentials\n",
    "cubbit_s3_endpoint = \"https://s3.cubbit.eu\"\n",
    "\n",
    "aws_access_key = \"******\"\n",
    "aws_secret_key = \"******\"\n",
    "\n",
    "# Create a session with Cubbit's S3 service\n",
    "session = boto3.Session(\n",
    "    aws_access_key_id=aws_access_key,\n",
    "    aws_secret_access_key=aws_secret_key,\n",
    ")\n",
    "\n",
    "#session = boto3.Session()\n",
    "\n",
    "# Create an S3 client using the session\n",
    "s3_client = session.client(\"s3\", endpoint_url=cubbit_s3_endpoint)\n",
    "\n",
    "# Now you can use s3_client to interact with Cubbit's S3-compatible API\n"
   ]
  },
  {
   "cell_type": "markdown",
   "metadata": {},
   "source": [
    "### List all buckets"
   ]
  },
  {
   "cell_type": "code",
   "execution_count": 6,
   "metadata": {},
   "outputs": [
    {
     "name": "stdout",
     "output_type": "stream",
     "text": [
      "Bucket Name: santeligio\n",
      "Bucket Name: gmacario-test\n",
      "Bucket Name: baroloteam\n"
     ]
    }
   ],
   "source": [
    "response = s3_client.list_buckets()\n",
    "buckets = response['Buckets']\n",
    "for bucket in buckets:\n",
    "    print(f\"Bucket Name: {bucket['Name']}\")"
   ]
  },
  {
   "cell_type": "markdown",
   "metadata": {},
   "source": [
    "### List objects in a bucket"
   ]
  },
  {
   "cell_type": "code",
   "execution_count": 8,
   "metadata": {},
   "outputs": [
    {
     "name": "stdout",
     "output_type": "stream",
     "text": [
      "Object Key: IMG_20230826_124002_1.jpg\n",
      "Object Key: IMG_20230826_124009_1.jpg\n"
     ]
    }
   ],
   "source": [
    "bucket_name = \"your_bucket_name\"\n",
    "response = s3_client.list_objects(Bucket=bucket_name)\n",
    "objects = response.get('Contents', [])\n",
    "for obj in objects:\n",
    "    print(f\"Object Key: {obj['Key']}\")"
   ]
  },
  {
   "cell_type": "markdown",
   "metadata": {},
   "source": [
    "### Upload a file to a bucket\n",
    "\n",
    "The **ExtraArgs** parameter is <u>optional</u> and used to set the access control for the uploaded object, set the appropriate ACL according to your needs.\n",
    "Here are some common ACL options:\n",
    "\n",
    "* 'private': Only the bucket and object owner have access.\n",
    "* 'public-read': Anyone can read the object (including non-authenticated users).\n",
    "* 'authenticated-read': Only authenticated AWS users can read the object.\n",
    "* 'bucket-owner-full-control': The bucket owner has full control over the object.\n",
    "* 'aws-exec-read': Object owner and AWS service have access."
   ]
  },
  {
   "cell_type": "code",
   "execution_count": 10,
   "metadata": {},
   "outputs": [],
   "source": [
    "bucket_name = \"your_bucket_name\"\n",
    "file_path = \"path_to_your_file\"\n",
    "object_key = \"your_object_key\"  # The name of the object in the bucket\n",
    "desired_acl = \"desired_acl_option\"\n",
    "s3_client.upload_file(file_path, bucket_name, object_key, ExtraArgs={'ACL': desired_acl}\n",
    ")"
   ]
  },
  {
   "cell_type": "markdown",
   "metadata": {},
   "source": [
    "### Download an object from a bucket"
   ]
  },
  {
   "cell_type": "code",
   "execution_count": null,
   "metadata": {},
   "outputs": [],
   "source": [
    "bucket_name = \"your_bucket_name\"\n",
    "object_key = \"your_object_key\"  # The name of the object in the bucket\n",
    "download_path = \"local_path_to_save_object\"\n",
    "s3_client.download_file(bucket_name, object_key, download_path)"
   ]
  },
  {
   "cell_type": "markdown",
   "metadata": {},
   "source": [
    "### Delete an object from a bucket"
   ]
  },
  {
   "cell_type": "code",
   "execution_count": null,
   "metadata": {},
   "outputs": [],
   "source": [
    "bucket_name = \"your_bucket_name\"\n",
    "object_key = \"your_object_key\"  # The name of the object in the bucket\n",
    "s3_client.delete_object(Bucket=bucket_name, Key=object_key)"
   ]
  },
  {
   "cell_type": "markdown",
   "metadata": {},
   "source": [
    "### Delete a bucket"
   ]
  },
  {
   "cell_type": "code",
   "execution_count": null,
   "metadata": {},
   "outputs": [],
   "source": [
    "\n",
    "bucket_name = \"your_bucket_name\"\n",
    "s3_client.delete_bucket(Bucket=bucket_name)"
   ]
  }
 ],
 "metadata": {
  "kernelspec": {
   "display_name": "Python 3",
   "language": "python",
   "name": "python3"
  },
  "language_info": {
   "codemirror_mode": {
    "name": "ipython",
    "version": 3
   },
   "file_extension": ".py",
   "mimetype": "text/x-python",
   "name": "python",
   "nbconvert_exporter": "python",
   "pygments_lexer": "ipython3",
   "version": "3.10.4"
  },
  "orig_nbformat": 4
 },
 "nbformat": 4,
 "nbformat_minor": 2
}
