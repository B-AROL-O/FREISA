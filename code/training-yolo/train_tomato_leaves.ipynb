{
 "cells": [
  {
   "cell_type": "markdown",
   "id": "b4aabab0-3ada-460d-b15d-da332a8c4851",
   "metadata": {},
   "source": [
    "# Training YOLOv8 - Python API\n",
    "\n",
    "For comparison with launching the training from terminal (`yolo task=detect [...]`)\n"
   ]
  },
  {
   "cell_type": "markdown",
   "id": "10828d3e-b6ae-421f-bce6-ad1726ea6a40",
   "metadata": {},
   "source": [
    "## Training with AMP\n",
    "\n",
    "AMP = \"Automatic Mixed Precision\""
   ]
  },
  {
   "cell_type": "code",
   "execution_count": 1,
   "id": "d37de01d",
   "metadata": {},
   "outputs": [
    {
     "name": "stdout",
     "output_type": "stream",
     "text": [
      "Requirement already satisfied: ultralytics in /opt/conda/lib/python3.11/site-packages (8.2.8)\n",
      "Collecting ultralytics\n",
      "  Downloading ultralytics-8.2.9-py3-none-any.whl.metadata (40 kB)\n",
      "\u001b[2K     \u001b[90m━━━━━━━━━━━━━━━━━━━━━━━━━━━━━━━━━━━━━━━━\u001b[0m \u001b[32m40.7/40.7 kB\u001b[0m \u001b[31m3.3 MB/s\u001b[0m eta \u001b[36m0:00:00\u001b[0m\n",
      "\u001b[?25hRequirement already satisfied: pillow in /opt/conda/lib/python3.11/site-packages (10.3.0)\n",
      "Requirement already satisfied: matplotlib>=3.3.0 in /opt/conda/lib/python3.11/site-packages (from ultralytics) (3.8.4)\n",
      "Requirement already satisfied: opencv-python>=4.6.0 in /opt/conda/lib/python3.11/site-packages (from ultralytics) (4.9.0.80)\n",
      "Requirement already satisfied: pyyaml>=5.3.1 in /opt/conda/lib/python3.11/site-packages (from ultralytics) (6.0.1)\n",
      "Requirement already satisfied: requests>=2.23.0 in /opt/conda/lib/python3.11/site-packages (from ultralytics) (2.31.0)\n",
      "Requirement already satisfied: scipy>=1.4.1 in /opt/conda/lib/python3.11/site-packages (from ultralytics) (1.13.0)\n",
      "Requirement already satisfied: torch>=1.8.0 in /opt/conda/lib/python3.11/site-packages (from ultralytics) (2.3.0+cu121)\n",
      "Requirement already satisfied: torchvision>=0.9.0 in /opt/conda/lib/python3.11/site-packages (from ultralytics) (0.18.0+cu121)\n",
      "Requirement already satisfied: tqdm>=4.64.0 in /opt/conda/lib/python3.11/site-packages (from ultralytics) (4.66.2)\n",
      "Requirement already satisfied: psutil in /opt/conda/lib/python3.11/site-packages (from ultralytics) (5.9.8)\n",
      "Requirement already satisfied: py-cpuinfo in /opt/conda/lib/python3.11/site-packages (from ultralytics) (9.0.0)\n",
      "Requirement already satisfied: thop>=0.1.1 in /opt/conda/lib/python3.11/site-packages (from ultralytics) (0.1.1.post2209072238)\n",
      "Requirement already satisfied: pandas>=1.1.4 in /opt/conda/lib/python3.11/site-packages (from ultralytics) (2.2.2)\n",
      "Requirement already satisfied: seaborn>=0.11.0 in /opt/conda/lib/python3.11/site-packages (from ultralytics) (0.13.2)\n",
      "Requirement already satisfied: contourpy>=1.0.1 in /opt/conda/lib/python3.11/site-packages (from matplotlib>=3.3.0->ultralytics) (1.2.1)\n",
      "Requirement already satisfied: cycler>=0.10 in /opt/conda/lib/python3.11/site-packages (from matplotlib>=3.3.0->ultralytics) (0.12.1)\n",
      "Requirement already satisfied: fonttools>=4.22.0 in /opt/conda/lib/python3.11/site-packages (from matplotlib>=3.3.0->ultralytics) (4.51.0)\n",
      "Requirement already satisfied: kiwisolver>=1.3.1 in /opt/conda/lib/python3.11/site-packages (from matplotlib>=3.3.0->ultralytics) (1.4.5)\n",
      "Requirement already satisfied: numpy>=1.21 in /opt/conda/lib/python3.11/site-packages (from matplotlib>=3.3.0->ultralytics) (1.26.4)\n",
      "Requirement already satisfied: packaging>=20.0 in /opt/conda/lib/python3.11/site-packages (from matplotlib>=3.3.0->ultralytics) (24.0)\n",
      "Requirement already satisfied: pyparsing>=2.3.1 in /opt/conda/lib/python3.11/site-packages (from matplotlib>=3.3.0->ultralytics) (3.1.2)\n",
      "Requirement already satisfied: python-dateutil>=2.7 in /opt/conda/lib/python3.11/site-packages (from matplotlib>=3.3.0->ultralytics) (2.9.0)\n",
      "Requirement already satisfied: pytz>=2020.1 in /opt/conda/lib/python3.11/site-packages (from pandas>=1.1.4->ultralytics) (2024.1)\n",
      "Requirement already satisfied: tzdata>=2022.7 in /opt/conda/lib/python3.11/site-packages (from pandas>=1.1.4->ultralytics) (2024.1)\n",
      "Requirement already satisfied: charset-normalizer<4,>=2 in /opt/conda/lib/python3.11/site-packages (from requests>=2.23.0->ultralytics) (3.3.2)\n",
      "Requirement already satisfied: idna<4,>=2.5 in /opt/conda/lib/python3.11/site-packages (from requests>=2.23.0->ultralytics) (3.7)\n",
      "Requirement already satisfied: urllib3<3,>=1.21.1 in /opt/conda/lib/python3.11/site-packages (from requests>=2.23.0->ultralytics) (2.2.1)\n",
      "Requirement already satisfied: certifi>=2017.4.17 in /opt/conda/lib/python3.11/site-packages (from requests>=2.23.0->ultralytics) (2024.2.2)\n",
      "Requirement already satisfied: filelock in /opt/conda/lib/python3.11/site-packages (from torch>=1.8.0->ultralytics) (3.13.1)\n",
      "Requirement already satisfied: typing-extensions>=4.8.0 in /opt/conda/lib/python3.11/site-packages (from torch>=1.8.0->ultralytics) (4.11.0)\n",
      "Requirement already satisfied: sympy in /opt/conda/lib/python3.11/site-packages (from torch>=1.8.0->ultralytics) (1.12)\n",
      "Requirement already satisfied: networkx in /opt/conda/lib/python3.11/site-packages (from torch>=1.8.0->ultralytics) (3.3)\n",
      "Requirement already satisfied: jinja2 in /opt/conda/lib/python3.11/site-packages (from torch>=1.8.0->ultralytics) (3.1.3)\n",
      "Requirement already satisfied: fsspec in /opt/conda/lib/python3.11/site-packages (from torch>=1.8.0->ultralytics) (2024.3.1)\n",
      "Requirement already satisfied: nvidia-cuda-nvrtc-cu12==12.1.105 in /opt/conda/lib/python3.11/site-packages (from torch>=1.8.0->ultralytics) (12.1.105)\n",
      "Requirement already satisfied: nvidia-cuda-runtime-cu12==12.1.105 in /opt/conda/lib/python3.11/site-packages (from torch>=1.8.0->ultralytics) (12.1.105)\n",
      "Requirement already satisfied: nvidia-cuda-cupti-cu12==12.1.105 in /opt/conda/lib/python3.11/site-packages (from torch>=1.8.0->ultralytics) (12.1.105)\n",
      "Requirement already satisfied: nvidia-cudnn-cu12==8.9.2.26 in /opt/conda/lib/python3.11/site-packages (from torch>=1.8.0->ultralytics) (8.9.2.26)\n",
      "Requirement already satisfied: nvidia-cublas-cu12==12.1.3.1 in /opt/conda/lib/python3.11/site-packages (from torch>=1.8.0->ultralytics) (12.1.3.1)\n",
      "Requirement already satisfied: nvidia-cufft-cu12==11.0.2.54 in /opt/conda/lib/python3.11/site-packages (from torch>=1.8.0->ultralytics) (11.0.2.54)\n",
      "Requirement already satisfied: nvidia-curand-cu12==10.3.2.106 in /opt/conda/lib/python3.11/site-packages (from torch>=1.8.0->ultralytics) (10.3.2.106)\n",
      "Requirement already satisfied: nvidia-cusolver-cu12==11.4.5.107 in /opt/conda/lib/python3.11/site-packages (from torch>=1.8.0->ultralytics) (11.4.5.107)\n",
      "Requirement already satisfied: nvidia-cusparse-cu12==12.1.0.106 in /opt/conda/lib/python3.11/site-packages (from torch>=1.8.0->ultralytics) (12.1.0.106)\n",
      "Requirement already satisfied: nvidia-nccl-cu12==2.20.5 in /opt/conda/lib/python3.11/site-packages (from torch>=1.8.0->ultralytics) (2.20.5)\n",
      "Requirement already satisfied: nvidia-nvtx-cu12==12.1.105 in /opt/conda/lib/python3.11/site-packages (from torch>=1.8.0->ultralytics) (12.1.105)\n",
      "Requirement already satisfied: triton==2.3.0 in /opt/conda/lib/python3.11/site-packages (from torch>=1.8.0->ultralytics) (2.3.0)\n",
      "Requirement already satisfied: nvidia-nvjitlink-cu12 in /opt/conda/lib/python3.11/site-packages (from nvidia-cusolver-cu12==11.4.5.107->torch>=1.8.0->ultralytics) (12.4.127)\n",
      "Requirement already satisfied: six>=1.5 in /opt/conda/lib/python3.11/site-packages (from python-dateutil>=2.7->matplotlib>=3.3.0->ultralytics) (1.16.0)\n",
      "Requirement already satisfied: MarkupSafe>=2.0 in /opt/conda/lib/python3.11/site-packages (from jinja2->torch>=1.8.0->ultralytics) (2.1.5)\n",
      "Requirement already satisfied: mpmath>=0.19 in /opt/conda/lib/python3.11/site-packages (from sympy->torch>=1.8.0->ultralytics) (1.3.0)\n",
      "Downloading ultralytics-8.2.9-py3-none-any.whl (755 kB)\n",
      "\u001b[2K   \u001b[90m━━━━━━━━━━━━━━━━━━━━━━━━━━━━━━━━━━━━━━━━\u001b[0m \u001b[32m755.5/755.5 kB\u001b[0m \u001b[31m11.5 MB/s\u001b[0m eta \u001b[36m0:00:00\u001b[0ma \u001b[36m0:00:01\u001b[0m\n",
      "\u001b[?25hInstalling collected packages: ultralytics\n",
      "  Attempting uninstall: ultralytics\n",
      "    Found existing installation: ultralytics 8.2.8\n",
      "    Uninstalling ultralytics-8.2.8:\n",
      "      Successfully uninstalled ultralytics-8.2.8\n",
      "Successfully installed ultralytics-8.2.9\n",
      "Note: you may need to restart the kernel to use updated packages.\n"
     ]
    }
   ],
   "source": [
    "%pip install -U ultralytics pillow"
   ]
  },
  {
   "cell_type": "code",
   "execution_count": 2,
   "id": "89c99de4-d31a-452b-824d-24d410d75313",
   "metadata": {},
   "outputs": [
    {
     "name": "stdout",
     "output_type": "stream",
     "text": [
      "Ultralytics YOLOv8.2.9 🚀 Python-3.11.9 torch-2.3.0+cu121 CUDA:0 (NVIDIA A40, 45416MiB)\n",
      "Setup complete ✅ (4 CPUs, 7.7 GB RAM, 33.8/101.5 GB disk)\n"
     ]
    }
   ],
   "source": [
    "import os\n",
    "import time\n",
    "import sys\n",
    "import ultralytics\n",
    "from IPython import display\n",
    "import torch\n",
    "\n",
    "display.clear_output()\n",
    "\n",
    "ultralytics.checks()"
   ]
  },
  {
   "cell_type": "code",
   "execution_count": 3,
   "id": "9995d26b-cbc2-49d2-9d29-51ce1cb46a35",
   "metadata": {},
   "outputs": [
    {
     "name": "stdout",
     "output_type": "stream",
     "text": [
      "Home:  /home/jovyan/FREISA/code/training-yolo\n",
      "cuDNN available:  True\n",
      "cuDNN version:  8902\n"
     ]
    }
   ],
   "source": [
    "# Training parameters:\n",
    "n_epochs = 200\n",
    "n_patience = 80\n",
    "batch_size = 4\n",
    "amp_flag = True\n",
    "\n",
    "HOME_tomato_leaves_segm = os.getcwd()\n",
    "print(\"Home: \", HOME_tomato_leaves_segm)\n",
    "\n",
    "torch.backends.cudnn.benchmark = True\n",
    "# torch.backends.cudnn.enabled = False\n",
    "torch.backends.cudnn.enabled = True\n",
    "\n",
    "cudnn_flg = torch.backends.cudnn.is_available()\n",
    "print(\"cuDNN available: \", cudnn_flg)\n",
    "if cudnn_flg:\n",
    "    print(\"cuDNN version: \", torch.backends.cudnn.version())"
   ]
  },
  {
   "cell_type": "markdown",
   "id": "e302d599-4c19-434e-a060-5561822c836b",
   "metadata": {},
   "source": [
    "### Model selection\n",
    "\n",
    "Available YOLOv8 models (from least number of parameters to highest):\n",
    "\n",
    "* YOLOv8n -> Nano\n",
    "* YOLOv8s -> Small\n",
    "* YOLOv8m -> Medium\n",
    "* YOLOv8l -> Large\n",
    "* YOLOv8x -> Extra-large\n",
    "\n",
    "Notice that with bigger models not only the training takes much more time, but also inference does - meaning that, especially on a low-power device as the OAK-D lite, deploying the bigger models may be problematic."
   ]
  },
  {
   "cell_type": "code",
   "execution_count": 4,
   "id": "61d03bc2-ac7d-4091-96c3-6daea807986b",
   "metadata": {},
   "outputs": [],
   "source": [
    "## Select model:\n",
    "# yolo_model = 'yolov8n.pt'  # Use YOLOv8 'Nano'\n",
    "# yolo_model = 'yolov8s.pt'  # Use YOLOv8 'Small'\n",
    "yolo_model = 'yolov8m.pt'  # Use YOLOv8 'Medium'\n",
    "# yolo_model = 'yolov8l.pt'  # Use YOLOv8 'Large'\n",
    "# yolo_model = 'yolov8x.pt'  # Use YOLOv8 'Extra-large'"
   ]
  },
  {
   "cell_type": "code",
   "execution_count": 6,
   "id": "10b684ad-9c75-4788-bd02-c6399c0a17cf",
   "metadata": {},
   "outputs": [
    {
     "name": "stdout",
     "output_type": "stream",
     "text": [
      "Archive:  Tomato Leaves Detection.v1i.yolov8.zip\n",
      " extracting: README.dataset.txt      \n",
      " extracting: README.roboflow.txt     \n",
      " extracting: data.yaml               \n",
      "   creating: test/\n",
      "   creating: test/images/\n",
      " extracting: test/images/100_46341_jpg.rf.63aa23e5da862327a5ba86a056f1f9be.jpg  \n",
      " extracting: test/images/18_20201028_556416_jpg.rf.0a8c4c647344469162b574bcbd3a471e.jpg  \n",
      " extracting: test/images/18_20201028_557168_jpg.rf.134a8feafc3c84fd10714bc448fba73d.jpg  \n",
      " extracting: test/images/18_20201028_569179_jpg.rf.8cccbcbd02a85af0d0bb81a0d7535551.jpg  \n",
      " extracting: test/images/18_20201028_569215_jpg.rf.1dc27dbac8821595826fafe5e7ebefbe.jpg  \n",
      " extracting: test/images/18_20201028_569218_jpg.rf.a516e420dd9fc68bd6cb8fad1d89d422.jpg  \n",
      " extracting: test/images/18_20201028_569218_jpg.rf.f13a2f167a3a58d00bbfd8044604c335.jpg  \n",
      " extracting: test/images/18_20201028_569399_jpg.rf.7487585f1aec0bdb642a6ce431c33edd.jpg  \n",
      " extracting: test/images/18_20201118_1179132_jpg.rf.2c7d238e5d9e32d4dae0a86356fe8510.jpg  \n",
      " extracting: test/images/18_20201118_1179164_jpg.rf.215f80a0c946afc83c77dc5eb16efba1.jpg  \n",
      " extracting: test/images/18_20201118_1179165_jpg.rf.6708b145a17bbd02c4fff3ed54d5cf30.jpg  \n",
      " extracting: test/images/18_20201119_1195844_jpg.rf.7a01ed04c2c790b8b70c6065ff4f8d6b.jpg  \n",
      " extracting: test/images/18_20201119_1195861_jpg.rf.af87abdadfc527856def7d47281d61d9.jpg  \n",
      " extracting: test/images/18_20201119_1195912_jpg.rf.19d58e56308968f0284752bb4aad5625.jpg  \n",
      " extracting: test/images/18_20201119_1195914_jpg.rf.c161d805aeb6a8c52cb891ba51a18027.jpg  \n",
      " extracting: test/images/18_20201119_1195930_jpg.rf.305dde1101f65cb8be19af6ad70ecbc7.jpg  \n",
      " extracting: test/images/18_20201120_1246119_jpg.rf.6a658209f0ec9a3b6bfe5e160cfe0285.jpg  \n",
      " extracting: test/images/18_20201120_1246414_jpg.rf.2852a0251a3ab3a734109b8027818a6b.jpg  \n",
      " extracting: test/images/IMG_8512_jpg.rf.b4dd86c70ec9673881562a2245243742.jpg  \n",
      " extracting: test/images/IMG_8530_jpg.rf.f55c65b2aded99913890919b75da8ac4.jpg  \n",
      " extracting: test/images/Tomato-early-blight_1_1-12wmver_jpg.rf.e6994c6d02d8502843bd509677314436.jpg  \n",
      " extracting: test/images/Tomato_plant_4_jpeg.rf.8ae8e189ac0177d5c74209370b56c8e7.jpg  \n",
      " extracting: test/images/V006_79_0_00_07_03_12_0_c01_20201013_0015_S01_1_JPG_jpg.rf.41fb4e16900d147a6cba92794477e816.jpg  \n",
      " extracting: test/images/V006_79_0_00_07_03_12_0_c02_20201013_0034_S01_1_JPG_jpg.rf.e352ab4f36fc6bb7007b740611767802.jpg  \n",
      " extracting: test/images/V006_79_0_00_07_03_12_0_c02_20201013_0064_S01_1_JPG_jpg.rf.c789439ac0eec77f2e1ec12c726db076.jpg  \n",
      " extracting: test/images/V006_79_0_00_07_03_12_0_c13_20201023_0020_S01_1_jpg.rf.6bdcc52bdcf181756600b5a45b4bc050.jpg  \n",
      " extracting: test/images/V006_79_0_00_07_03_12_0_c13_20201023_0033_S01_1_jpg.rf.240b1021b07b1b40097747ad31c5d3e9.jpg  \n",
      " extracting: test/images/V006_79_0_00_07_03_12_0_c13_20201023_0033_S01_1_jpg.rf.5438374717dab86781a9bef5c495b481.jpg  \n",
      " extracting: test/images/V006_79_0_00_07_03_12_0_c14_20201103_0003_S01_1_jpg.rf.c3ce379dfd6e085c92d0f564633e5a6a.jpg  \n",
      " extracting: test/images/V006_79_0_00_07_03_12_0_c14_20201116_0003_S01_1_jpg.rf.2235188c0c704b235fa16dc8a67a9243.jpg  \n",
      " extracting: test/images/V006_79_1_15_07_03_12_1_5322z_20201111_114_jpg.rf.a4ca31072ad1f6b46098198e2fd7f11e.jpg  \n",
      " extracting: test/images/V006_79_1_15_07_03_12_1_5322z_20201118_119_jpg.rf.fdffcfd50a87e84dd0daaed7e188a25b.jpg  \n",
      " extracting: test/images/V006_79_1_15_07_03_12_1_8540w_20201123_50_jpg.rf.6a73e584cc1b6a821aa5b1f7faee6af8.jpg  \n",
      " extracting: test/images/V006_79_1_15_07_03_12_2_5322z_20201104_55_jpg.rf.9254a923caebeafe76f5bc8387123b72.jpg  \n",
      " extracting: test/images/V006_79_1_15_07_03_12_2_5322z_20201105_75_jpg.rf.6ad48d90092f7a74aac4670f75e1e7d0.jpg  \n",
      " extracting: test/images/V006_79_1_15_07_03_12_2_8540w_20201104_135_jpg.rf.c98cf074bb6e807cbe3493468557c6ca.jpg  \n",
      " extracting: test/images/V006_79_1_15_07_03_12_2_8540w_20201105_6_jpg.rf.6d7b9b9d640007085931e7e700ba1bc9.jpg  \n",
      " extracting: test/images/V006_79_1_15_07_03_12_2_8540w_20201106_29_jpg.rf.092ec59e246044fcf392374901c95154.jpg  \n",
      " extracting: test/images/V006_79_1_15_07_03_12_2_8540w_20201109_142_jpg.rf.3d0e91a5455ff5dd014ee5f68ac308d2.jpg  \n",
      " extracting: test/images/V006_79_1_15_07_03_12_2_8540w_20201109_148_jpg.rf.fb36453983da53d801606eb94375319f.jpg  \n",
      " extracting: test/images/V006_79_1_15_07_03_12_2_8540w_20201110_149_jpg.rf.83247ab3a784e86f18bce2e00aaea422.jpg  \n",
      " extracting: test/images/V006_79_1_15_07_03_12_2_8540w_20201111_42_jpg.rf.1fb4d20a1a623d760c91fc2f9b90e522.jpg  \n",
      " extracting: test/images/V006_79_1_15_07_03_12_2_8540w_20201116_207_jpg.rf.2ffd778d0babe11f654ba027d10dfdd2.jpg  \n",
      " extracting: test/images/V006_79_1_15_07_03_12_2_8540w_20201117_172_jpg.rf.81389e50e824358a608279c9478160e0.jpg  \n",
      " extracting: test/images/V006_79_1_15_07_03_12_2_8540w_20201117_46_jpg.rf.2aeb0ad26ea1526c599ccb06f3a6c8de.jpg  \n",
      " extracting: test/images/V006_79_1_15_07_03_12_2_8540w_20201117_46_jpg.rf.c09e22239631e5340493d976594e4bb3.jpg  \n",
      " extracting: test/images/V006_79_1_15_07_03_12_2_8540w_20201118_191_jpg.rf.aae96214cabb1bab127fd44dc9d0a90c.jpg  \n",
      " extracting: test/images/V006_79_1_15_07_03_12_2_8540w_20201120_103_jpg.rf.2e58fba388b2618e17804634a05bb935.jpg  \n",
      " extracting: test/images/earlyblight21_jpg.rf.b2ee389eb9b74ecf634fdac11be1ddbc.jpg  \n",
      " extracting: test/images/seedling-193-_jpg.rf.f59c23e2c02e418a2e1ccf349770cc34.jpg  \n",
      " extracting: test/images/seedling-84-_jpg.rf.2fa9814589bc6e2e312e891f6e3cf07f.jpg  \n",
      " extracting: test/images/tomatoes-1-_jpg.rf.43f640d41885711bae042ad24937c67c.jpg  \n",
      "   creating: test/labels/\n",
      " extracting: test/labels/100_46341_jpg.rf.63aa23e5da862327a5ba86a056f1f9be.txt  \n",
      " extracting: test/labels/18_20201028_556416_jpg.rf.0a8c4c647344469162b574bcbd3a471e.txt  \n",
      " extracting: test/labels/18_20201028_557168_jpg.rf.134a8feafc3c84fd10714bc448fba73d.txt  \n",
      " extracting: test/labels/18_20201028_569179_jpg.rf.8cccbcbd02a85af0d0bb81a0d7535551.txt  \n",
      " extracting: test/labels/18_20201028_569215_jpg.rf.1dc27dbac8821595826fafe5e7ebefbe.txt  \n",
      " extracting: test/labels/18_20201028_569218_jpg.rf.a516e420dd9fc68bd6cb8fad1d89d422.txt  \n",
      " extracting: test/labels/18_20201028_569218_jpg.rf.f13a2f167a3a58d00bbfd8044604c335.txt  \n",
      " extracting: test/labels/18_20201028_569399_jpg.rf.7487585f1aec0bdb642a6ce431c33edd.txt  \n",
      " extracting: test/labels/18_20201118_1179132_jpg.rf.2c7d238e5d9e32d4dae0a86356fe8510.txt  \n",
      " extracting: test/labels/18_20201118_1179164_jpg.rf.215f80a0c946afc83c77dc5eb16efba1.txt  \n",
      " extracting: test/labels/18_20201118_1179165_jpg.rf.6708b145a17bbd02c4fff3ed54d5cf30.txt  \n",
      " extracting: test/labels/18_20201119_1195844_jpg.rf.7a01ed04c2c790b8b70c6065ff4f8d6b.txt  \n",
      " extracting: test/labels/18_20201119_1195861_jpg.rf.af87abdadfc527856def7d47281d61d9.txt  \n",
      " extracting: test/labels/18_20201119_1195912_jpg.rf.19d58e56308968f0284752bb4aad5625.txt  \n",
      " extracting: test/labels/18_20201119_1195914_jpg.rf.c161d805aeb6a8c52cb891ba51a18027.txt  \n",
      " extracting: test/labels/18_20201119_1195930_jpg.rf.305dde1101f65cb8be19af6ad70ecbc7.txt  \n",
      " extracting: test/labels/18_20201120_1246119_jpg.rf.6a658209f0ec9a3b6bfe5e160cfe0285.txt  \n",
      " extracting: test/labels/18_20201120_1246414_jpg.rf.2852a0251a3ab3a734109b8027818a6b.txt  \n",
      " extracting: test/labels/IMG_8512_jpg.rf.b4dd86c70ec9673881562a2245243742.txt  \n",
      " extracting: test/labels/IMG_8530_jpg.rf.f55c65b2aded99913890919b75da8ac4.txt  \n",
      " extracting: test/labels/Tomato-early-blight_1_1-12wmver_jpg.rf.e6994c6d02d8502843bd509677314436.txt  \n",
      " extracting: test/labels/Tomato_plant_4_jpeg.rf.8ae8e189ac0177d5c74209370b56c8e7.txt  \n",
      " extracting: test/labels/V006_79_0_00_07_03_12_0_c01_20201013_0015_S01_1_JPG_jpg.rf.41fb4e16900d147a6cba92794477e816.txt  \n",
      " extracting: test/labels/V006_79_0_00_07_03_12_0_c02_20201013_0034_S01_1_JPG_jpg.rf.e352ab4f36fc6bb7007b740611767802.txt  \n",
      " extracting: test/labels/V006_79_0_00_07_03_12_0_c02_20201013_0064_S01_1_JPG_jpg.rf.c789439ac0eec77f2e1ec12c726db076.txt  \n",
      " extracting: test/labels/V006_79_0_00_07_03_12_0_c13_20201023_0020_S01_1_jpg.rf.6bdcc52bdcf181756600b5a45b4bc050.txt  \n",
      " extracting: test/labels/V006_79_0_00_07_03_12_0_c13_20201023_0033_S01_1_jpg.rf.240b1021b07b1b40097747ad31c5d3e9.txt  \n",
      " extracting: test/labels/V006_79_0_00_07_03_12_0_c13_20201023_0033_S01_1_jpg.rf.5438374717dab86781a9bef5c495b481.txt  \n",
      " extracting: test/labels/V006_79_0_00_07_03_12_0_c14_20201103_0003_S01_1_jpg.rf.c3ce379dfd6e085c92d0f564633e5a6a.txt  \n",
      " extracting: test/labels/V006_79_0_00_07_03_12_0_c14_20201116_0003_S01_1_jpg.rf.2235188c0c704b235fa16dc8a67a9243.txt  \n",
      " extracting: test/labels/V006_79_1_15_07_03_12_1_5322z_20201111_114_jpg.rf.a4ca31072ad1f6b46098198e2fd7f11e.txt  \n",
      " extracting: test/labels/V006_79_1_15_07_03_12_1_5322z_20201118_119_jpg.rf.fdffcfd50a87e84dd0daaed7e188a25b.txt  \n",
      " extracting: test/labels/V006_79_1_15_07_03_12_1_8540w_20201123_50_jpg.rf.6a73e584cc1b6a821aa5b1f7faee6af8.txt  \n",
      " extracting: test/labels/V006_79_1_15_07_03_12_2_5322z_20201104_55_jpg.rf.9254a923caebeafe76f5bc8387123b72.txt  \n",
      " extracting: test/labels/V006_79_1_15_07_03_12_2_5322z_20201105_75_jpg.rf.6ad48d90092f7a74aac4670f75e1e7d0.txt  \n",
      " extracting: test/labels/V006_79_1_15_07_03_12_2_8540w_20201104_135_jpg.rf.c98cf074bb6e807cbe3493468557c6ca.txt  \n",
      " extracting: test/labels/V006_79_1_15_07_03_12_2_8540w_20201105_6_jpg.rf.6d7b9b9d640007085931e7e700ba1bc9.txt  \n",
      " extracting: test/labels/V006_79_1_15_07_03_12_2_8540w_20201106_29_jpg.rf.092ec59e246044fcf392374901c95154.txt  \n",
      " extracting: test/labels/V006_79_1_15_07_03_12_2_8540w_20201109_142_jpg.rf.3d0e91a5455ff5dd014ee5f68ac308d2.txt  \n",
      " extracting: test/labels/V006_79_1_15_07_03_12_2_8540w_20201109_148_jpg.rf.fb36453983da53d801606eb94375319f.txt  \n",
      " extracting: test/labels/V006_79_1_15_07_03_12_2_8540w_20201110_149_jpg.rf.83247ab3a784e86f18bce2e00aaea422.txt  \n",
      " extracting: test/labels/V006_79_1_15_07_03_12_2_8540w_20201111_42_jpg.rf.1fb4d20a1a623d760c91fc2f9b90e522.txt  \n",
      " extracting: test/labels/V006_79_1_15_07_03_12_2_8540w_20201116_207_jpg.rf.2ffd778d0babe11f654ba027d10dfdd2.txt  \n",
      " extracting: test/labels/V006_79_1_15_07_03_12_2_8540w_20201117_172_jpg.rf.81389e50e824358a608279c9478160e0.txt  \n",
      " extracting: test/labels/V006_79_1_15_07_03_12_2_8540w_20201117_46_jpg.rf.2aeb0ad26ea1526c599ccb06f3a6c8de.txt  \n",
      " extracting: test/labels/V006_79_1_15_07_03_12_2_8540w_20201117_46_jpg.rf.c09e22239631e5340493d976594e4bb3.txt  \n",
      " extracting: test/labels/V006_79_1_15_07_03_12_2_8540w_20201118_191_jpg.rf.aae96214cabb1bab127fd44dc9d0a90c.txt  \n",
      " extracting: test/labels/V006_79_1_15_07_03_12_2_8540w_20201120_103_jpg.rf.2e58fba388b2618e17804634a05bb935.txt  \n",
      " extracting: test/labels/earlyblight21_jpg.rf.b2ee389eb9b74ecf634fdac11be1ddbc.txt  \n",
      " extracting: test/labels/seedling-193-_jpg.rf.f59c23e2c02e418a2e1ccf349770cc34.txt  \n",
      " extracting: test/labels/seedling-84-_jpg.rf.2fa9814589bc6e2e312e891f6e3cf07f.txt  \n",
      " extracting: test/labels/tomatoes-1-_jpg.rf.43f640d41885711bae042ad24937c67c.txt  \n",
      "   creating: train/\n",
      "   creating: train/images/\n",
      " extracting: train/images/100983448_jpg.rf.4a5f67b439ff0aaa21893e1327bf3ba6.jpg  \n",
      " extracting: train/images/100983448_jpg.rf.c9ac1cc0ec8ac57119848f4eefb7733c.jpg  \n",
      " extracting: train/images/100983448_jpg.rf.fb65879b1614802b25b0048b78afbc6c.jpg  \n",
      " extracting: train/images/18_20201027_553175_jpg.rf.70598980a953c986767a461394b3e47f.jpg  \n",
      " extracting: train/images/18_20201027_553175_jpg.rf.735ca2831a50afcea7df0405388abaa3.jpg  \n",
      " extracting: train/images/18_20201027_553175_jpg.rf.77ba077dae26003edae53223dcff8b20.jpg  \n",
      " extracting: train/images/18_20201027_553175_jpg.rf.77e0e3f631b45ba533200903f4d800df.jpg  \n",
      " extracting: train/images/18_20201027_553175_jpg.rf.8762b2b831ed82e8c8b9d7f11aa970bc.jpg  \n",
      " extracting: train/images/18_20201027_553175_jpg.rf.db5692f1d298765a8f8a7e4017f08ef1.jpg  \n",
      " extracting: train/images/18_20201027_553325_jpg.rf.03e17128f6cd5deb347b88a8644b3121.jpg  \n",
      " extracting: train/images/18_20201027_553325_jpg.rf.1162de19a4c852a1e20a55945e523325.jpg  \n",
      " extracting: train/images/18_20201027_553325_jpg.rf.4719df1ace88657d54776eadf81f581a.jpg  \n",
      " extracting: train/images/18_20201027_553325_jpg.rf.7ddd9fbe89178285fcb4a527cafeae3e.jpg  \n",
      " extracting: train/images/18_20201027_553325_jpg.rf.a312e8302b06bf2c28150de52eaa5678.jpg  \n",
      " extracting: train/images/18_20201027_553325_jpg.rf.ceb66f0969a2ae4d26107a19f160e9ae.jpg  \n",
      " extracting: train/images/18_20201027_553327_jpg.rf.7945702c7845e4e4e88701755ec4cd1e.jpg  \n",
      " extracting: train/images/18_20201027_553327_jpg.rf.b0b90696a9ecea1ddf5f6c8a4ff329f4.jpg  \n",
      " extracting: train/images/18_20201027_553327_jpg.rf.c39ecc226005468a67ee5c0af302ce7b.jpg  \n",
      " extracting: train/images/18_20201027_553327_jpg.rf.d0884266b27bc496af3b78d7e08eada6.jpg  \n",
      " extracting: train/images/18_20201027_553327_jpg.rf.d0f8372cffac91dabaf38a976b81176d.jpg  \n",
      " extracting: train/images/18_20201027_553327_jpg.rf.fcd722684afacbd6424324686a716c50.jpg  \n",
      " extracting: train/images/18_20201028_556175_jpg.rf.4ece00f01fb808428357d463a1b3677f.jpg  \n",
      " extracting: train/images/18_20201028_556175_jpg.rf.5db695b6aed8a6d2a617066e86295358.jpg  \n",
      " extracting: train/images/18_20201028_556175_jpg.rf.6e36049f16576b25bcf0308637135c76.jpg  \n",
      " extracting: train/images/18_20201028_556233_jpg.rf.0c983ccf79e04fd6442759e247d34382.jpg  \n",
      " extracting: train/images/18_20201028_556233_jpg.rf.34549c3b0ecd959e5816f9852fe77f2d.jpg  \n",
      " extracting: train/images/18_20201028_556233_jpg.rf.3497c8346ad07400125548eba1977602.jpg  \n",
      " extracting: train/images/18_20201028_556233_jpg.rf.875932b3ebe9196ebe86782189a6f01e.jpg  \n",
      " extracting: train/images/18_20201028_556233_jpg.rf.bba6fe7e77ee36b8a2c226f9b2d55f57.jpg  \n",
      " extracting: train/images/18_20201028_556233_jpg.rf.c4b18aec5371b255ac926e136e828bb4.jpg  \n",
      " extracting: train/images/18_20201028_556233_jpg.rf.de93ac0d0894ec8403b5a1e49729567d.jpg  \n",
      " extracting: train/images/18_20201028_556405_jpg.rf.068c11dcdf6828ab25f74e42905793f5.jpg  \n",
      " extracting: train/images/18_20201028_556405_jpg.rf.2c4b99ead53a207e65da8160bcd01c2c.jpg  \n",
      " extracting: train/images/18_20201028_556405_jpg.rf.54cd7df9d95bd1da71ab24f785cb64be.jpg  \n",
      " extracting: train/images/18_20201028_556405_jpg.rf.9688840ee3743e27eb9b04b79ac4a52a.jpg  \n",
      " extracting: train/images/18_20201028_556405_jpg.rf.a217de4edb2ad7afb78e5ea4c502a88c.jpg  \n",
      " extracting: train/images/18_20201028_556405_jpg.rf.d9bf41bdc55f023a714367b29acf1f51.jpg  \n",
      " extracting: train/images/18_20201028_556408_jpg.rf.39b60f2ade8f917d61b9287de47a6db5.jpg  \n",
      " extracting: train/images/18_20201028_556408_jpg.rf.484ff7a57595db26357244e28c63f861.jpg  \n",
      " extracting: train/images/18_20201028_556408_jpg.rf.803cd60918bd33506d875205494cd330.jpg  \n",
      " extracting: train/images/18_20201028_556408_jpg.rf.915ddc9f6a3c766a4b1f1d88ccfd58b4.jpg  \n",
      " extracting: train/images/18_20201028_556408_jpg.rf.a6931fa32070d9734adc198d506a56b6.jpg  \n",
      " extracting: train/images/18_20201028_556408_jpg.rf.c0c2991df8a6ed5fc5a927002fd9e7de.jpg  \n",
      " extracting: train/images/18_20201028_557118_jpg.rf.06ab0ec0096fb49e2c6161599ce301bf.jpg  \n",
      " extracting: train/images/18_20201028_557118_jpg.rf.2206306077e842f694064e32dd6df6c7.jpg  \n",
      " extracting: train/images/18_20201028_557118_jpg.rf.9e17f390714e8c0f2d7ba0f815df985d.jpg  \n",
      " extracting: train/images/18_20201028_557118_jpg.rf.bd2228fdafda9cf7d08713f23f0e2fa4.jpg  \n",
      " extracting: train/images/18_20201028_557118_jpg.rf.dc0f8ab7284124878a16ef445e1f8ac7.jpg  \n",
      " extracting: train/images/18_20201028_557121_jpg.rf.3076af9c04fed14d6f42915c105a876d.jpg  \n",
      " extracting: train/images/18_20201028_557121_jpg.rf.468fe2574a44dbff34ac56d568a22b88.jpg  \n",
      " extracting: train/images/18_20201028_557121_jpg.rf.783384df012e93d29c7005f0727ca5ee.jpg  \n",
      " extracting: train/images/18_20201028_557121_jpg.rf.9b097dc2fc5a47629fcabc01a17eb2f3.jpg  \n",
      " extracting: train/images/18_20201028_557141_jpg.rf.11e624ebea23d48923d4512583d94c84.jpg  \n",
      " extracting: train/images/18_20201028_557141_jpg.rf.de300839bfa1e8a563988f3c7973ce8b.jpg  \n",
      " extracting: train/images/18_20201028_557141_jpg.rf.f02aed48f5175b675ad226dad7c7c6e4.jpg  \n",
      " extracting: train/images/18_20201028_557143_jpg.rf.10a18baab10376be8010ff64b82b24ee.jpg  \n",
      " extracting: train/images/18_20201028_557143_jpg.rf.1cfe552d04dd33aae2eed73e6c82fa2b.jpg  \n",
      " extracting: train/images/18_20201028_557143_jpg.rf.ba80891502d7126085bc7f58ccb54623.jpg  \n",
      " extracting: train/images/18_20201028_557143_jpg.rf.da4541a1f9283ffdf9af88566c8ae7bf.jpg  \n",
      " extracting: train/images/18_20201028_557143_jpg.rf.f11af08ab3bad8f5ba07c8d2f650e73d.jpg  \n",
      " extracting: train/images/18_20201028_557144_jpg.rf.460046c68d1e7394cee88bdc3d2ebdbd.jpg  \n",
      " extracting: train/images/18_20201028_557144_jpg.rf.7dcfd9e2cda93a4c8f06dd4f10c3bc8c.jpg  \n",
      " extracting: train/images/18_20201028_557144_jpg.rf.8c5f7710335e6cdbb20de118dd49674f.jpg  \n",
      " extracting: train/images/18_20201028_557144_jpg.rf.8d35d6196b57bb431a0542fa4746e902.jpg  \n",
      " extracting: train/images/18_20201028_557144_jpg.rf.a7581d8d52ad6fe0ad0d8953c282dfce.jpg  \n",
      " extracting: train/images/18_20201028_557144_jpg.rf.d2182af0a975a06c230671cc6f09d491.jpg  \n",
      " extracting: train/images/18_20201028_557145_jpg.rf.5e7d7119bab9f59449d927984073fe5e.jpg  \n",
      " extracting: train/images/18_20201028_557145_jpg.rf.611572b42084d230c570a1361fd252b6.jpg  \n",
      " extracting: train/images/18_20201028_557145_jpg.rf.fb4ddb629d4e30a5d363cdbf3f4ac15c.jpg  \n",
      " extracting: train/images/18_20201028_557150_jpg.rf.0ee040a1b6251641430ad5fa09704a60.jpg  \n",
      " extracting: train/images/18_20201028_557150_jpg.rf.2cb2e14a81189cab453339d1cf76d9ad.jpg  \n",
      " extracting: train/images/18_20201028_557150_jpg.rf.6f4927350c5981853fc8cb5a05420d57.jpg  \n",
      " extracting: train/images/18_20201028_557151_jpg.rf.1da8c073405295fef0be43c5c81d0017.jpg  \n",
      " extracting: train/images/18_20201028_557151_jpg.rf.2753e30ffaaa12088b0fb5faf4a1724b.jpg  \n",
      " extracting: train/images/18_20201028_557151_jpg.rf.45e0a568a38a26df739fe9f2dca45eea.jpg  \n",
      " extracting: train/images/18_20201028_557151_jpg.rf.4b5f06b1331acc5f7f984a4812f3e4a7.jpg  \n",
      " extracting: train/images/18_20201028_557151_jpg.rf.9465d9b00075f05796ebbfee03d04f1a.jpg  \n",
      " extracting: train/images/18_20201028_557151_jpg.rf.fdefb19c1de3ef7a9d77f7d62b0c3c88.jpg  \n",
      " extracting: train/images/18_20201028_557153_jpg.rf.26bfed66e5ce70e8229b855f3e96e705.jpg  \n",
      " extracting: train/images/18_20201028_557153_jpg.rf.2ae60d3f90140e31c6e385b4d9f8479c.jpg  \n",
      " extracting: train/images/18_20201028_557153_jpg.rf.6d6a3096e13f825bbe4dd3f517ad29fc.jpg  \n",
      " extracting: train/images/18_20201028_557153_jpg.rf.7a2dc6ffc5d2e8d79f5f2bdf418f34f7.jpg  \n",
      " extracting: train/images/18_20201028_557153_jpg.rf.b240fb85656bf9f8879836d11c3dc687.jpg  \n",
      " extracting: train/images/18_20201028_557153_jpg.rf.e6fe08c29f467d65fbede4691334a778.jpg  \n",
      " extracting: train/images/18_20201028_557154_jpg.rf.082b4895b2bc1a2d084d70b41fd5780e.jpg  \n",
      " extracting: train/images/18_20201028_557154_jpg.rf.2049efa2a195be96f665e74a73c318a7.jpg  \n",
      " extracting: train/images/18_20201028_557154_jpg.rf.2ef7b1fbaf241a162ddbd0a8dc368016.jpg  \n",
      " extracting: train/images/18_20201028_557166_jpg.rf.078565b69e08d946781174040b8b31b0.jpg  \n",
      " extracting: train/images/18_20201028_557166_jpg.rf.35c2817b16399ad312f80b4afc487ee5.jpg  \n",
      " extracting: train/images/18_20201028_557166_jpg.rf.b42524a5db77d00a0a5ad8ef904bda3f.jpg  \n",
      " extracting: train/images/18_20201028_557166_jpg.rf.d2a3e1f52114d2016f96bb717a6c6a7a.jpg  \n",
      " extracting: train/images/18_20201028_557166_jpg.rf.e212b66adb5a82b3e57b83b2dc85c20b.jpg  \n",
      " extracting: train/images/18_20201028_557166_jpg.rf.fc267ed4d509b81faa38d4610d0c985d.jpg  \n",
      " extracting: train/images/18_20201028_557167_jpg.rf.06aecab281f74383bb45dadb65299799.jpg  \n",
      " extracting: train/images/18_20201028_557167_jpg.rf.50a285e5fb9d2ed8ff5e311cf4a9a178.jpg  \n",
      " extracting: train/images/18_20201028_557167_jpg.rf.b315b504b0da81ad44471bdc2a347591.jpg  \n",
      " extracting: train/images/18_20201028_557168_jpg.rf.1a06e0c699c7bdf7ecf5af8a3ef3ea05.jpg  \n",
      " extracting: train/images/18_20201028_557168_jpg.rf.36d532c043cb6e1231937c71c1a30e67.jpg  \n",
      " extracting: train/images/18_20201028_557168_jpg.rf.7aaa0e56fe807f84725e646f68ed02e3.jpg  \n",
      " extracting: train/images/18_20201028_557169_jpg.rf.195df791be1649557d1b177dc1e2912d.jpg  \n",
      " extracting: train/images/18_20201028_557169_jpg.rf.51003670e32a287b5d03a648db60394b.jpg  \n",
      " extracting: train/images/18_20201028_557169_jpg.rf.60c7251e46db4d17523e73096920e45d.jpg  \n",
      " extracting: train/images/18_20201028_557169_jpg.rf.aab25076cff4b37eb910f675e76827b5.jpg  \n",
      " extracting: train/images/18_20201028_557169_jpg.rf.adc4a24493371063571506ccad708891.jpg  \n",
      " extracting: train/images/18_20201028_557169_jpg.rf.eecc11646a32e106305b7faf167858cd.jpg  \n",
      " extracting: train/images/18_20201028_569176_jpg.rf.0935382930e583327c4c87d61c0c7a7a.jpg  \n",
      " extracting: train/images/18_20201028_569176_jpg.rf.5f3d67cc407ea2a0fbda24aad24e4db0.jpg  \n",
      " extracting: train/images/18_20201028_569176_jpg.rf.addb4a4426c3f1d7905564235d265aae.jpg  \n",
      " extracting: train/images/18_20201028_569176_jpg.rf.f0b9a65d917ec4a999fff612aa820a56.jpg  \n",
      " extracting: train/images/18_20201028_569176_jpg.rf.f4ff6cb66d23141fe24a518cf51b274e.jpg  \n",
      " extracting: train/images/18_20201028_569180_jpg.rf.5d0959f3eb9bb0147c3aa4745898b0db.jpg  \n",
      " extracting: train/images/18_20201028_569180_jpg.rf.e169010f863ca53afc4e38b1bcd0678a.jpg  \n",
      " extracting: train/images/18_20201028_569180_jpg.rf.ebdec36cbf22a254790f5dfeca28f7d6.jpg  \n",
      " extracting: train/images/18_20201028_569214_jpg.rf.112f4616af4d104c7a81ff4a85abf14e.jpg  \n",
      " extracting: train/images/18_20201028_569214_jpg.rf.3276b62e64603a32e2aa7418d1300da6.jpg  \n",
      " extracting: train/images/18_20201028_569214_jpg.rf.5aa9aa8ade0d254440eb99d14780121d.jpg  \n",
      " extracting: train/images/18_20201028_569214_jpg.rf.5abe326ed35c1ca5152e1992b101232c.jpg  \n",
      " extracting: train/images/18_20201028_569214_jpg.rf.881635f36c185f0ae82fcb69192d7386.jpg  \n",
      " extracting: train/images/18_20201028_569214_jpg.rf.ee0b45dcc18f3b3ad1c0c055f3180dbd.jpg  \n",
      " extracting: train/images/18_20201028_569215_jpg.rf.17111fc872c864e8b8f3f2a004044857.jpg  \n",
      " extracting: train/images/18_20201028_569215_jpg.rf.21ac1d8ba83511ec08450484453813fa.jpg  \n",
      " extracting: train/images/18_20201028_569215_jpg.rf.6e9b4dd24cbcee19097cebd722086524.jpg  \n",
      " extracting: train/images/18_20201028_569216_jpg.rf.1d04c7df9b21d039c9ad69ff8a77f4ed.jpg  \n",
      " extracting: train/images/18_20201028_569216_jpg.rf.4936b08fb4408b0cc25047fec5b5744a.jpg  \n",
      " extracting: train/images/18_20201028_569216_jpg.rf.62b25390297552c0c70fb13ed4205b36.jpg  \n",
      " extracting: train/images/18_20201028_569216_jpg.rf.6bc62b546d7126b3c8460efb667aafd9.jpg  \n",
      " extracting: train/images/18_20201028_569216_jpg.rf.bded1f01d455f685b98c2dd1858948cf.jpg  \n",
      " extracting: train/images/18_20201028_569216_jpg.rf.ce28934ff67b3b9abbe51bba7499c651.jpg  \n",
      " extracting: train/images/18_20201028_569216_jpg.rf.db9524e35de762f8363fd80e7c86174b.jpg  \n",
      " extracting: train/images/18_20201028_569218_jpg.rf.3afba7fb6823dc4ad5a388d332fb7002.jpg  \n",
      " extracting: train/images/18_20201028_569218_jpg.rf.712ca9e6d511400e99e3d4e827085f00.jpg  \n",
      " extracting: train/images/18_20201028_569218_jpg.rf.b531749dd4c983cb159b330c5845c0d8.jpg  \n",
      " extracting: train/images/18_20201028_569235_jpg.rf.86c992e0f3de89d8034c71a7633752a1.jpg  \n",
      " extracting: train/images/18_20201028_569235_jpg.rf.ac1a7be3e9388e9636fb30eb7c34acf0.jpg  \n",
      " extracting: train/images/18_20201028_569235_jpg.rf.c6942f3a32e2db48ccc584000c05d1da.jpg  \n",
      " extracting: train/images/18_20201028_569237_jpg.rf.1c261f0e78847674fe4495f92eaa8d44.jpg  \n",
      " extracting: train/images/18_20201028_569237_jpg.rf.90f11eeae75f98f23884b30d0ba27008.jpg  \n",
      " extracting: train/images/18_20201028_569237_jpg.rf.9ac921b3ff73d8114ab9dd489a94499a.jpg  \n",
      " extracting: train/images/18_20201028_569239_jpg.rf.5af11cb92d81aa0f62eafb1f4fc37eda.jpg  \n",
      " extracting: train/images/18_20201028_569239_jpg.rf.807ffa02830e5f40798ceab90ff3a11e.jpg  \n",
      " extracting: train/images/18_20201028_569242_jpg.rf.1971708c0065eaff61e01f91e7b43a53.jpg  \n",
      " extracting: train/images/18_20201028_569242_jpg.rf.cb3bad7a9b6d10b5173f11826758e8fd.jpg  \n",
      " extracting: train/images/18_20201028_569242_jpg.rf.cc18f0f7c233235cb1b99c0063306a9a.jpg  \n",
      " extracting: train/images/18_20201028_569242_jpg.rf.d04fd654d6ab2a16c5116a0267056151.jpg  \n",
      " extracting: train/images/18_20201028_569242_jpg.rf.f5c0d949587521e7cea351dc35750274.jpg  \n",
      " extracting: train/images/18_20201028_569399_jpg.rf.0b0df363fa93f6b96632378466d0c88a.jpg  \n",
      " extracting: train/images/18_20201028_569399_jpg.rf.4599c7bf2503e9b45743e18aad3f4660.jpg  \n",
      " extracting: train/images/18_20201028_569399_jpg.rf.751a28dc720e526f862278138c3b22ad.jpg  \n",
      " extracting: train/images/18_20201028_569399_jpg.rf.9bcffd9247b2eca5bea86b9855e911a9.jpg  \n",
      " extracting: train/images/18_20201028_569399_jpg.rf.ba55cb820e2486d81dc73f8525c9ebd0.jpg  \n",
      " extracting: train/images/18_20201028_569399_jpg.rf.f521d569b708e65864bd69b3ad7d044a.jpg  \n",
      " extracting: train/images/18_20201028_569520_jpg.rf.0a4b858b433034d4e26542349fe5caca.jpg  \n",
      " extracting: train/images/18_20201028_569520_jpg.rf.1fba122da4c2bbcfb74e2524470c1f79.jpg  \n",
      " extracting: train/images/18_20201028_569520_jpg.rf.84d45b533ccab6b140211d372d2bd871.jpg  \n",
      " extracting: train/images/18_20201028_569520_jpg.rf.c494987587b6d2bfa08a8d45a0c5d2f0.jpg  \n",
      " extracting: train/images/18_20201028_569520_jpg.rf.f78e8973f3b04db329430f03deeb34b1.jpg  \n",
      " extracting: train/images/18_20201028_569521_jpg.rf.0fff87476913e2e2f61d809e921fb62b.jpg  \n",
      " extracting: train/images/18_20201028_569521_jpg.rf.22a14aad618afa83905dbbd4ea822f07.jpg  \n",
      " extracting: train/images/18_20201028_569521_jpg.rf.71f1c6ebd64c252632fedd6d4fcf9c50.jpg  \n",
      " extracting: train/images/18_20201028_569521_jpg.rf.9ba059c31f9ec61bb778f5bc1d77e251.jpg  \n",
      " extracting: train/images/18_20201028_569521_jpg.rf.ead6a0543a36737064d93978cd93a4ec.jpg  \n",
      " extracting: train/images/18_20201028_569522_jpg.rf.2e7b7b5db91ca4344c3e5b2d5d758fdc.jpg  \n",
      " extracting: train/images/18_20201028_569522_jpg.rf.373e294263736bad69371f7250ce02cc.jpg  \n",
      " extracting: train/images/18_20201028_569522_jpg.rf.3cd230626b1442f74214f26bd708ec41.jpg  \n",
      " extracting: train/images/18_20201028_569522_jpg.rf.b2680d3df42241bd80fa9daf8e7ca069.jpg  \n",
      " extracting: train/images/18_20201028_569522_jpg.rf.d68546728864802ed812c44fe26ed21f.jpg  \n",
      " extracting: train/images/18_20201028_569599_jpg.rf.253291277afd72e7b55001e0fb5a875d.jpg  \n",
      " extracting: train/images/18_20201028_569599_jpg.rf.314a0392a2bf20cbfbc185d94910c917.jpg  \n",
      " extracting: train/images/18_20201028_569599_jpg.rf.345fb6bf913a8408ac9d6d7b6892f263.jpg  \n",
      " extracting: train/images/18_20201028_569599_jpg.rf.463e039fb572209822a2190d6dd33718.jpg  \n",
      " extracting: train/images/18_20201028_569599_jpg.rf.4f98ea68f95af24f136b9dd1399d5396.jpg  \n",
      " extracting: train/images/18_20201028_569599_jpg.rf.78cc2076feac2555c88a90829e92a216.jpg  \n",
      " extracting: train/images/18_20201028_569605_jpg.rf.187ed03676b9d798fa341650ae5a494b.jpg  \n",
      " extracting: train/images/18_20201028_569605_jpg.rf.27dc2094fb6f4f51f9cb08ebaa0cee06.jpg  \n",
      " extracting: train/images/18_20201028_569605_jpg.rf.c88aff07fa65de46d90b159c1315fa7e.jpg  \n",
      " extracting: train/images/18_20201028_569607_jpg.rf.30b0d2240688c0a013d775df53458db6.jpg  \n",
      " extracting: train/images/18_20201028_569607_jpg.rf.62e238be1b6d6b7151a12f229792b028.jpg  \n",
      " extracting: train/images/18_20201028_569608_jpg.rf.2807545ff8601ac64cf90d0edbb88e5c.jpg  \n",
      " extracting: train/images/18_20201028_569608_jpg.rf.86b32f7a2c9484d552e30a1192b0690c.jpg  \n",
      " extracting: train/images/18_20201028_569608_jpg.rf.9da22b03f1eed9acecb0395773c894b4.jpg  \n",
      " extracting: train/images/18_20201028_569608_jpg.rf.b3f68980eba7cd127d6f1a4b1bcfd418.jpg  \n",
      " extracting: train/images/18_20201028_569608_jpg.rf.d05f8fee7b169c9c8cddbe3185d18682.jpg  \n",
      " extracting: train/images/18_20201028_569608_jpg.rf.f3c5f70a579bb49441ca70410e4ee23f.jpg  \n",
      " extracting: train/images/18_20201028_569609_jpg.rf.1c0501d2ca7673be4c42d742ecd027ea.jpg  \n",
      " extracting: train/images/18_20201028_569609_jpg.rf.485af93490268e53efe7418d12671e34.jpg  \n",
      " extracting: train/images/18_20201028_569609_jpg.rf.a14a1b1fc689ea571c67d728a1c878ba.jpg  \n",
      " extracting: train/images/18_20201028_569611_jpg.rf.576955e9b970778da0c0ab3b2934e491.jpg  \n",
      " extracting: train/images/18_20201028_569611_jpg.rf.6667ae90061a5dec2e491bde0ad2cbc3.jpg  \n",
      " extracting: train/images/18_20201028_569611_jpg.rf.88d6fdb18a1c04b73151697356cd90ad.jpg  \n",
      " extracting: train/images/18_20201028_569620_jpg.rf.62e29e312d3eb389dc07a7b16c13ace5.jpg  \n",
      " extracting: train/images/18_20201028_569620_jpg.rf.b67d7f4bf52fb97cf989f791f016071c.jpg  \n",
      " extracting: train/images/18_20201028_569683_jpg.rf.2fb183efe95faaba40e429f17521fb6e.jpg  \n",
      " extracting: train/images/18_20201028_569683_jpg.rf.a0d5d6d2f25626f338af96aca2f7b6cd.jpg  \n",
      " extracting: train/images/18_20201028_569683_jpg.rf.ac46ba7a40415961d47b9a7a4c9e6497.jpg  \n",
      " extracting: train/images/18_20201118_1179131_jpg.rf.542252059b322afee6ff3fe11228c14f.jpg  \n",
      " extracting: train/images/18_20201118_1179131_jpg.rf.b8654cf5f8be193c6bf5de520bf02968.jpg  \n",
      " extracting: train/images/18_20201118_1179131_jpg.rf.f1184584e47c600834da33913773e254.jpg  \n",
      " extracting: train/images/18_20201118_1179132_jpg.rf.3b1fa780a4489344c32c1d45c2806171.jpg  \n",
      " extracting: train/images/18_20201118_1179132_jpg.rf.68f44a48df3c998227aae6c9b6c4a60d.jpg  \n",
      " extracting: train/images/18_20201118_1179132_jpg.rf.8b52ac8cf903436c474b606cb4e1e475.jpg  \n",
      " extracting: train/images/18_20201118_1179135_jpg.rf.381aa530ad94ef907ed4535a6b1edf95.jpg  \n",
      " extracting: train/images/18_20201118_1179135_jpg.rf.84b9e78d11ab7b8b55efb0e7c82bd1fc.jpg  \n",
      " extracting: train/images/18_20201118_1179135_jpg.rf.96b936274f4607ae25bcf266e22bd75e.jpg  \n",
      " extracting: train/images/18_20201118_1179138_jpg.rf.1ff4beb78771df471fd33db1c63cd1a0.jpg  \n",
      " extracting: train/images/18_20201118_1179138_jpg.rf.2332b32a793f4b544c7caf3481839cd5.jpg  \n",
      " extracting: train/images/18_20201118_1179138_jpg.rf.4468d6d0ba48ee899197f25ffafea030.jpg  \n",
      " extracting: train/images/18_20201118_1179140_jpg.rf.29df27a0afcc3862cf62845345cc1d24.jpg  \n",
      " extracting: train/images/18_20201118_1179140_jpg.rf.b43cf2aafc62be2474857f5ef7b631b7.jpg  \n",
      " extracting: train/images/18_20201118_1179146_jpg.rf.139a75a1e84e5d950c4e5b5bf97be424.jpg  \n",
      " extracting: train/images/18_20201118_1179146_jpg.rf.3ee10014f794aa306ec1803f6f6d1383.jpg  \n",
      " extracting: train/images/18_20201118_1179146_jpg.rf.5763b13f2750f9fa069e04d2077429a1.jpg  \n",
      " extracting: train/images/18_20201118_1179146_jpg.rf.9a4f0dbc72b4607a9d76914e721e017b.jpg  \n",
      " extracting: train/images/18_20201118_1179146_jpg.rf.cc8ee61e90ba0ab1626b8a59dd731134.jpg  \n",
      " extracting: train/images/18_20201118_1179146_jpg.rf.fdf249656c3c837b02ae5832e21adc09.jpg  \n",
      " extracting: train/images/18_20201118_1179153_jpg.rf.0d47ca16e89a9b6c3568f66216745a3c.jpg  \n",
      " extracting: train/images/18_20201118_1179153_jpg.rf.6b60926f55f02c194d1949d2d5bf61f9.jpg  \n",
      " extracting: train/images/18_20201118_1179153_jpg.rf.f7f56598973c7abae4f6c84fbb22da4f.jpg  \n",
      " extracting: train/images/18_20201118_1179154_jpg.rf.5b6e4657113cb88d63a8eeee6962ce79.jpg  \n",
      " extracting: train/images/18_20201118_1179154_jpg.rf.88d4e84d072af69674a5198f37b84157.jpg  \n",
      " extracting: train/images/18_20201118_1179154_jpg.rf.ecaa4ac09b61e3a943eae1cb0fd53f7a.jpg  \n",
      " extracting: train/images/18_20201118_1179158_jpg.rf.42b367edbca4331512335a8d5f12bfff.jpg  \n",
      " extracting: train/images/18_20201118_1179158_jpg.rf.44fe822158047d1241a96b28e96cce88.jpg  \n",
      " extracting: train/images/18_20201118_1179158_jpg.rf.4a5965e6710e553b1f820498c5a03cb8.jpg  \n",
      " extracting: train/images/18_20201118_1179158_jpg.rf.4bc6fee3ece6d3f73de554134023b3ac.jpg  \n",
      " extracting: train/images/18_20201118_1179158_jpg.rf.4dd5ea6e36348ca1c3ec7323d7d2ed2d.jpg  \n",
      " extracting: train/images/18_20201118_1179158_jpg.rf.55ec9a6b9deeea6167ca31f2cd74f261.jpg  \n",
      " extracting: train/images/18_20201118_1179160_jpg.rf.97f28259ccd4bbf700bba7991c846d13.jpg  \n",
      " extracting: train/images/18_20201118_1179160_jpg.rf.bc8b24baad77fafa61e27b6b75c202fa.jpg  \n",
      " extracting: train/images/18_20201118_1179160_jpg.rf.c72276ae57490ce529492afe7c662c03.jpg  \n",
      " extracting: train/images/18_20201118_1179161_jpg.rf.55a7cbd942da5aedead04d76c442029f.jpg  \n",
      " extracting: train/images/18_20201118_1179161_jpg.rf.5b297777df419226e0d63dfa5102f908.jpg  \n",
      " extracting: train/images/18_20201118_1179161_jpg.rf.8dc9135f5a5f170aacc5cfafb8595528.jpg  \n",
      " extracting: train/images/18_20201118_1179170_jpg.rf.01bcbf92f43b51b2db5c9aebcd4622e8.jpg  \n",
      " extracting: train/images/18_20201118_1179170_jpg.rf.5ef9d17a407c7192135300b3dd22a1f5.jpg  \n",
      " extracting: train/images/18_20201118_1179170_jpg.rf.7e8add2471e3351233ab5f9948fa6da5.jpg  \n",
      " extracting: train/images/18_20201119_1195843_jpg.rf.87cbcbc649bd2e73f1c174a8cb025e14.jpg  \n",
      " extracting: train/images/18_20201119_1195843_jpg.rf.a075c1de1ee90c554f1c23bd282e0829.jpg  \n",
      " extracting: train/images/18_20201119_1195843_jpg.rf.cc8b3ad3635cc835f22f93eac14af4b2.jpg  \n",
      " extracting: train/images/18_20201119_1195844_jpg.rf.a64e0e618e20b7b7ba3e04b3a4ff9e86.jpg  \n",
      " extracting: train/images/18_20201119_1195844_jpg.rf.b4d937cb4073e9401b6b9fd15ed97e84.jpg  \n",
      " extracting: train/images/18_20201119_1195844_jpg.rf.eafd430dbeaf454deea5dd0e658fdc07.jpg  \n",
      " extracting: train/images/18_20201119_1195845_jpg.rf.0428da6f5bb76b8dbadb394555ea1c75.jpg  \n",
      " extracting: train/images/18_20201119_1195845_jpg.rf.72f607564741aa4826c1b5a0e75ece7d.jpg  \n",
      " extracting: train/images/18_20201119_1195845_jpg.rf.82fc551696ad5b51aa29b0bd8ad65d2c.jpg  \n",
      " extracting: train/images/18_20201119_1195845_jpg.rf.bf658cf5e5f3ae92918d4f26f37d2ebb.jpg  \n",
      " extracting: train/images/18_20201119_1195845_jpg.rf.d63b5a48657bacdf168fd155828e481a.jpg  \n",
      " extracting: train/images/18_20201119_1195845_jpg.rf.f9cbb66d8e435537bfd826963c385aa1.jpg  \n",
      " extracting: train/images/18_20201119_1195847_jpg.rf.5d51503d86237e3e37c302077d862a84.jpg  \n",
      " extracting: train/images/18_20201119_1195847_jpg.rf.a6819d241a1118fb882d444be415efc3.jpg  \n",
      " extracting: train/images/18_20201119_1195847_jpg.rf.cc080c7adff3e87ac05ac93c5333eceb.jpg  \n",
      " extracting: train/images/18_20201119_1195850_jpg.rf.2834cd16c0f7b61a7f8ace2bfeb57625.jpg  \n",
      " extracting: train/images/18_20201119_1195850_jpg.rf.92b0df198cd901b8f4115d964eeb7a3c.jpg  \n",
      " extracting: train/images/18_20201119_1195850_jpg.rf.d08ddf926aeb21c24954339e12e93c44.jpg  \n",
      " extracting: train/images/18_20201119_1195853_jpg.rf.1c5752f348a4cdb56e60b54c522b6658.jpg  \n",
      " extracting: train/images/18_20201119_1195853_jpg.rf.25724583e6a5d05b02bdf472451c7487.jpg  \n",
      " extracting: train/images/18_20201119_1195853_jpg.rf.94e35937fd11371b6c326307aab3bdb2.jpg  \n",
      " extracting: train/images/18_20201119_1195854_jpg.rf.0bd57fa0d3919d94f48476f56b6e2bc7.jpg  \n",
      " extracting: train/images/18_20201119_1195854_jpg.rf.0d1965a9abc7ac8bcdb353c4a704b2ac.jpg  \n",
      " extracting: train/images/18_20201119_1195854_jpg.rf.cb05281575041f5b1c3d428a64b5b866.jpg  \n",
      " extracting: train/images/18_20201119_1195857_jpg.rf.8ee92b13f1cb2347a6e33ae9a6ff47c2.jpg  \n",
      " extracting: train/images/18_20201119_1195857_jpg.rf.db444373476b364f1e608eb9e9ea8f07.jpg  \n",
      " extracting: train/images/18_20201119_1195857_jpg.rf.ebb2560c814bae9e96786183c8b1bb41.jpg  \n",
      " extracting: train/images/18_20201119_1195858_jpg.rf.7816335135b3144b66105a40ffa694db.jpg  \n",
      " extracting: train/images/18_20201119_1195858_jpg.rf.929df1698479c38a5e912277ebde92a3.jpg  \n",
      " extracting: train/images/18_20201119_1195858_jpg.rf.b364fd8ad9db2e0658e3c4d43eef5377.jpg  \n",
      " extracting: train/images/18_20201119_1195860_jpg.rf.54a9e2fbf137ccc0efb121a800dfc423.jpg  \n",
      " extracting: train/images/18_20201119_1195860_jpg.rf.d9d95f08d543311a85e279efe7e0bd71.jpg  \n",
      " extracting: train/images/18_20201119_1195860_jpg.rf.ebc2a7109f8ebeebf0899c301dd0c959.jpg  \n",
      " extracting: train/images/18_20201119_1195861_jpg.rf.74dfbba6d53ba0134d903b2236519281.jpg  \n",
      " extracting: train/images/18_20201119_1195861_jpg.rf.8f13237c33ed0125bab008565e0f2f63.jpg  \n",
      " extracting: train/images/18_20201119_1195861_jpg.rf.f33015108ff37d014076360f2f6a860b.jpg  \n",
      " extracting: train/images/18_20201119_1195862_jpg.rf.04181cd0b00d9939b1ba9d7555c1afe2.jpg  \n",
      " extracting: train/images/18_20201119_1195862_jpg.rf.4da9e7098780b2e09d9cb85be16b416a.jpg  \n",
      " extracting: train/images/18_20201119_1195862_jpg.rf.cab418d8ebdb1cf9ecad8e965a4911eb.jpg  \n",
      " extracting: train/images/18_20201119_1195864_jpg.rf.2fc910cd1200609cca8b20dfd1689be5.jpg  \n",
      " extracting: train/images/18_20201119_1195864_jpg.rf.bd128084476e7bd019d078b965b646a9.jpg  \n",
      " extracting: train/images/18_20201119_1195864_jpg.rf.d3152970b30230f11af4778c2e5c2bd2.jpg  \n",
      " extracting: train/images/18_20201119_1195865_jpg.rf.d265ea4c0c64750b7054982e1f0659c8.jpg  \n",
      " extracting: train/images/18_20201119_1195865_jpg.rf.e2f35aea7156dc282fe76f324768cdc3.jpg  \n",
      " extracting: train/images/18_20201119_1195866_jpg.rf.28a8e07508cffe8e1abdef819db849c2.jpg  \n",
      " extracting: train/images/18_20201119_1195866_jpg.rf.3bf32b610f9d5d1f2f6a6b73c25dfd6e.jpg  \n",
      " extracting: train/images/18_20201119_1195866_jpg.rf.66720e5f3f07f57f42859a950330676e.jpg  \n",
      " extracting: train/images/18_20201119_1195866_jpg.rf.897be15cce7ac17ef717de3f581f2409.jpg  \n",
      " extracting: train/images/18_20201119_1195866_jpg.rf.b08caf23b900474769bcd2d6e66569eb.jpg  \n",
      " extracting: train/images/18_20201119_1195866_jpg.rf.bc1c18bfea9253937ddbfea8e7b91c53.jpg  \n",
      " extracting: train/images/18_20201119_1195867_jpg.rf.052bcf860318d0c45f81401fce203b14.jpg  \n",
      " extracting: train/images/18_20201119_1195867_jpg.rf.08450561d94ce32c413dafcff554c52c.jpg  \n",
      " extracting: train/images/18_20201119_1195867_jpg.rf.412bb50cad4d6c3bf86a9f637e66e4d0.jpg  \n",
      " extracting: train/images/18_20201119_1195867_jpg.rf.67e204f4852a2d675f1e6a3266e80481.jpg  \n",
      " extracting: train/images/18_20201119_1195867_jpg.rf.890ae016e1b074aa193bc1170777fb77.jpg  \n",
      " extracting: train/images/18_20201119_1195867_jpg.rf.90294b6d58dd2d81d6645d5b40c19ead.jpg  \n",
      " extracting: train/images/18_20201119_1195869_jpg.rf.1cf354ed02fdf0faac511f0a3a02c6b1.jpg  \n",
      " extracting: train/images/18_20201119_1195869_jpg.rf.94ce04d0182fe63e653f9cafbd10d39f.jpg  \n",
      " extracting: train/images/18_20201119_1195869_jpg.rf.a4901f85afff55c6c44788477496a70e.jpg  \n",
      " extracting: train/images/18_20201119_1195874_jpg.rf.1514ff05bd801ab210c51c207899e6c4.jpg  \n",
      " extracting: train/images/18_20201119_1195874_jpg.rf.946c312027f459d8d41dff720fd0a8d2.jpg  \n",
      " extracting: train/images/18_20201119_1195874_jpg.rf.9b0e8dcbd23ae940b4fd4906fc1855a9.jpg  \n",
      " extracting: train/images/18_20201119_1195877_jpg.rf.53c65b6dddfab71bb96774dc1b26b96f.jpg  \n",
      " extracting: train/images/18_20201119_1195877_jpg.rf.632e45a9187901004cc9a3523b6a9625.jpg  \n",
      " extracting: train/images/18_20201119_1195877_jpg.rf.7bc8d2083cf6cb1c883460c0e6fda35e.jpg  \n",
      " extracting: train/images/18_20201119_1195897_jpg.rf.1504fc3e068a1cba8928620a2c27087c.jpg  \n",
      " extracting: train/images/18_20201119_1195897_jpg.rf.bbb4997b0a013aab3862fc4122cd59ac.jpg  \n",
      " extracting: train/images/18_20201119_1195897_jpg.rf.d2f65fb9d99487da1fb00c843b8b6d9c.jpg  \n",
      " extracting: train/images/18_20201119_1195902_jpg.rf.4f01173bac313f532b4f324014e347cd.jpg  \n",
      " extracting: train/images/18_20201119_1195902_jpg.rf.c90da201f5316e4e0cc43f56a640b740.jpg  \n",
      " extracting: train/images/18_20201119_1195902_jpg.rf.c90ed53fa8a178db04f180efca3b99a8.jpg  \n",
      " extracting: train/images/18_20201119_1195910_jpg.rf.0cbfd84b64ff4d4f42cbf26e47dd923d.jpg  \n",
      " extracting: train/images/18_20201119_1195910_jpg.rf.1e3c621171f0f8a2e78392cd60116296.jpg  \n",
      " extracting: train/images/18_20201119_1195910_jpg.rf.6dcc224a2edb905b4f3496131e379a25.jpg  \n",
      " extracting: train/images/18_20201119_1195910_jpg.rf.824b49e3e91cdc9224936a75a74ef1e4.jpg  \n",
      " extracting: train/images/18_20201119_1195910_jpg.rf.82fb78b44f3f1e03daedc7e5e7af0f21.jpg  \n",
      " extracting: train/images/18_20201119_1195910_jpg.rf.fcb4ed54c85efa65d1202c255661549e.jpg  \n",
      " extracting: train/images/18_20201119_1195912_jpg.rf.13043e0b5e90c3e41c7961db3fca8e25.jpg  \n",
      " extracting: train/images/18_20201119_1195912_jpg.rf.af3e8ebca9976eedb5415a236966a751.jpg  \n",
      " extracting: train/images/18_20201119_1195912_jpg.rf.cd86ae2938ad76760e1868aeef4e4f41.jpg  \n",
      " extracting: train/images/18_20201119_1195914_jpg.rf.29760ea0c4ab286a773646dc52aa895a.jpg  \n",
      " extracting: train/images/18_20201119_1195914_jpg.rf.58f771098d2a0692770cc6071f489c1c.jpg  \n",
      " extracting: train/images/18_20201119_1195914_jpg.rf.e17726acf82b7193bbab780fdc58984c.jpg  \n",
      " extracting: train/images/18_20201119_1195915_jpg.rf.a0cb5db1b6c7ef74fb502c54654a7124.jpg  \n",
      " extracting: train/images/18_20201119_1195915_jpg.rf.d1b61917a0ad2d2d9c0e20e5f3a4a925.jpg  \n",
      " extracting: train/images/18_20201119_1195916_jpg.rf.010508bc25fe4bbf9762ca1b9ed634f0.jpg  \n",
      " extracting: train/images/18_20201119_1195916_jpg.rf.0fdf46d2920e8dcd805e72873607e683.jpg  \n",
      " extracting: train/images/18_20201119_1195916_jpg.rf.74bc359e963eae38f3c1e9103a22649f.jpg  \n",
      " extracting: train/images/18_20201119_1195916_jpg.rf.7d9aff2d557649886b4c135469a648fd.jpg  \n",
      " extracting: train/images/18_20201119_1195916_jpg.rf.81f585c0f9967ee1f02554a3fdfa8630.jpg  \n",
      " extracting: train/images/18_20201119_1195917_jpg.rf.86ee691004fbfb1a1fd8d312fa685a7a.jpg  \n",
      " extracting: train/images/18_20201119_1195917_jpg.rf.d7ec4ce5c6fe2720edef876feb6b0ec1.jpg  \n",
      " extracting: train/images/18_20201119_1195917_jpg.rf.da4e584f5dc63658926104ae3a04b83e.jpg  \n",
      " extracting: train/images/18_20201119_1195922_jpg.rf.349727710be088e657cf584632fe9174.jpg  \n",
      " extracting: train/images/18_20201119_1195922_jpg.rf.c37edd553003db6ccffa8e419c7a4b8d.jpg  \n",
      " extracting: train/images/18_20201119_1195922_jpg.rf.f5c0ba3cbb44b28c0b8e0a9705fef37e.jpg  \n",
      " extracting: train/images/18_20201119_1195924_jpg.rf.680e3e46973cbcaf4b8049402f1aee0f.jpg  \n",
      " extracting: train/images/18_20201119_1195924_jpg.rf.b0b465afe679c9d9d340a9512fe897e9.jpg  \n",
      " extracting: train/images/18_20201119_1195924_jpg.rf.c8651b1851ad46f36069798fa4a1bf1f.jpg  \n",
      " extracting: train/images/18_20201119_1195932_jpg.rf.70f6707bf30a213762c3a5c255e4c964.jpg  \n",
      " extracting: train/images/18_20201119_1195932_jpg.rf.b2f9596cfd2add5d05cf390cd77b21dd.jpg  \n",
      " extracting: train/images/18_20201119_1195932_jpg.rf.cdbabe087a00c236e544b10c49f13481.jpg  \n",
      " extracting: train/images/18_20201119_1195933_jpg.rf.48b6961cd7d6fda26e6b2e301f2d9d00.jpg  \n",
      " extracting: train/images/18_20201119_1195933_jpg.rf.a1a874588b989a37fff78b711007b6dc.jpg  \n",
      " extracting: train/images/18_20201119_1195933_jpg.rf.a6924a720f7aa3a46de22530f87f82ae.jpg  \n",
      " extracting: train/images/18_20201119_1195936_jpg.rf.7a88de97ba82eb2e57b42cf9c0921646.jpg  \n",
      " extracting: train/images/18_20201119_1195936_jpg.rf.a6e9042b5cfd516e0f1e91b902ff309f.jpg  \n",
      " extracting: train/images/18_20201120_1246086_jpg.rf.1d7f5e8017d0c7a0984da388cb0497a9.jpg  \n",
      " extracting: train/images/18_20201120_1246086_jpg.rf.5e5eb8c656c49062d9d75a68142a3625.jpg  \n",
      " extracting: train/images/18_20201120_1246086_jpg.rf.829914f2d55fa00aa3a74a60b42ee21b.jpg  \n",
      " extracting: train/images/18_20201120_1246088_jpg.rf.105572f45e5597536aeb96f2c8a5b709.jpg  \n",
      " extracting: train/images/18_20201120_1246088_jpg.rf.4a614aead18501c92441f3d13cc1e91b.jpg  \n",
      " extracting: train/images/18_20201120_1246088_jpg.rf.bcb317dd6f30f8bd0328021d20ae3615.jpg  \n",
      " extracting: train/images/18_20201120_1246092_jpg.rf.3512b3b3293397e89e57cdaf896f2826.jpg  \n",
      " extracting: train/images/18_20201120_1246092_jpg.rf.76390dfa76f558b1628424245b49ac4b.jpg  \n",
      " extracting: train/images/18_20201120_1246092_jpg.rf.ea90550b975e6b2ccaf0fef3e6527665.jpg  \n",
      " extracting: train/images/18_20201120_1246093_jpg.rf.2e15c8c259b0b63a418dc9c7626629d7.jpg  \n",
      " extracting: train/images/18_20201120_1246093_jpg.rf.4c7c4a75957960dc617c71490736a5bb.jpg  \n",
      " extracting: train/images/18_20201120_1246093_jpg.rf.c76b88c296ec62e31e0fd3c5eddc116b.jpg  \n",
      " extracting: train/images/18_20201120_1246093_jpg.rf.d4aecba09a3c9db9dd5364e2b55c1e76.jpg  \n",
      " extracting: train/images/18_20201120_1246093_jpg.rf.fb6f0d3234ea8c8962eed6a8700d3dc0.jpg  \n",
      " extracting: train/images/18_20201120_1246095_jpg.rf.2dbbd1ec5ab149bc9b43e624b1cae967.jpg  \n",
      " extracting: train/images/18_20201120_1246095_jpg.rf.52ab1868a8c554cb60d4dc31c4551fb5.jpg  \n",
      " extracting: train/images/18_20201120_1246095_jpg.rf.a34416e507012dfa96a0f8f62ec3b230.jpg  \n",
      " extracting: train/images/18_20201120_1246098_jpg.rf.06b1428eca8e334e8b4aee5fcfd1302a.jpg  \n",
      " extracting: train/images/18_20201120_1246098_jpg.rf.2302a6e822c244316097e91e483e7f95.jpg  \n",
      " extracting: train/images/18_20201120_1246098_jpg.rf.3a901dbf66f146cd96dff1a0b341cdee.jpg  \n",
      " extracting: train/images/18_20201120_1246098_jpg.rf.4973e611822f7c2c60d8d160fb0e7dd0.jpg  \n",
      " extracting: train/images/18_20201120_1246098_jpg.rf.826e970a41fc3dcc21b83b5c69ec47bf.jpg  \n",
      " extracting: train/images/18_20201120_1246098_jpg.rf.aa0fcc61fbf34ca18c32939b311e2b24.jpg  \n",
      " extracting: train/images/18_20201120_1246471_jpg.rf.2802a9225e28b5bb55ea2c8bc429ea41.jpg  \n",
      " extracting: train/images/18_20201120_1246471_jpg.rf.55abe3e6e77f7813e648c4f0a80dfec8.jpg  \n",
      " extracting: train/images/18_20201120_1246471_jpg.rf.b352f76b00c67034e476081f06568e1f.jpg  \n",
      " extracting: train/images/18_20201120_1246498_jpg.rf.3779a65516905d0edf167f883d169f3a.jpg  \n",
      " extracting: train/images/18_20201120_1246498_jpg.rf.6806c68fcb4b8dc97a7965a65cd9f7d5.jpg  \n",
      " extracting: train/images/18_20201120_1246498_jpg.rf.d170e0877838aa6e0f78713a1396cf72.jpg  \n",
      " extracting: train/images/18_20201120_1246513_jpg.rf.1217fe8ed60591d47debc433df961df4.jpg  \n",
      " extracting: train/images/18_20201120_1246513_jpg.rf.48e30e43b31593fa57b23279dd71d36b.jpg  \n",
      " extracting: train/images/18_20201120_1246513_jpg.rf.4fed74775db0862514998183a64540da.jpg  \n",
      " extracting: train/images/18_20201120_1246513_jpg.rf.dce44c1924f819c72a5df98fa6d4b21c.jpg  \n",
      " extracting: train/images/18_20201120_1246513_jpg.rf.dda37dede55930b2c5b83dba89a52cb7.jpg  \n",
      " extracting: train/images/18_20201120_1246513_jpg.rf.e4cf4195625e0ef0a61e3a0d3c32a5d8.jpg  \n",
      " extracting: train/images/18_20201120_1246514_jpg.rf.226e5973819871f82421607f3e965adc.jpg  \n",
      " extracting: train/images/18_20201120_1246514_jpg.rf.b26ceb8bddfe535db50a0c559ea5732c.jpg  \n",
      " extracting: train/images/18_20201120_1246514_jpg.rf.c8ce47cb78d8e0a806c9bdcfef2bbdfa.jpg  \n",
      " extracting: train/images/20100816earlyblight_jpg.rf.1caad21e7acf586e36a45ec26561bc37.jpg  \n",
      " extracting: train/images/20100816earlyblight_jpg.rf.39bda0058f01eb9c05f1027f37c7e573.jpg  \n",
      " extracting: train/images/20100816earlyblight_jpg.rf.7e3a99d409aa2ccd2686ed30a30645c1.jpg  \n",
      " extracting: train/images/5086-early_jpg.rf.9caaeeb7bfd72e5afdef35b00f7d9d7d.jpg  \n",
      " extracting: train/images/5086-early_jpg.rf.ccfc9a51c86cde319ece8c75d15ddca7.jpg  \n",
      " extracting: train/images/5086-early_jpg.rf.db1c2dbf8665311160bcacc3ee538d8a.jpg  \n",
      " extracting: train/images/BCH-20medium-20thumbnail-20for-20upload-20-2836-29_jpg.rf.5bb7fcca4882f7228ee1fd45fb604426.jpg  \n",
      " extracting: train/images/BCH-20medium-20thumbnail-20for-20upload-20-2836-29_jpg.rf.82fcf4999c91c82fd905024ca86e0e9a.jpg  \n",
      " extracting: train/images/BCH-20medium-20thumbnail-20for-20upload-20-2836-29_jpg.rf.cdf83cea35a041f9532ecf32237d12a3.jpg  \n",
      " extracting: train/images/Early-blight-660x440_jpg.rf.72ca0435e64f87e6ee8f217540f370da.jpg  \n",
      " extracting: train/images/Early-blight-660x440_jpg.rf.89964256f088fbc85edd1ef3faf78387.jpg  \n",
      " extracting: train/images/Early-blight-660x440_jpg.rf.b15187bb4f5556dfc58be11e6b88d5bb.jpg  \n",
      " extracting: train/images/Early_Blight_of_Tomato1687_jpg.rf.1a3bcb708d5c48d66be739ee8739bdd0.jpg  \n",
      " extracting: train/images/Early_Blight_of_Tomato1687_jpg.rf.af44988c75df3446934b09806d94f934.jpg  \n",
      " extracting: train/images/Early_blight_1-jpg-1376579808_jpg.rf.1c67e144c03fe8763374c1d0aa880be1.jpg  \n",
      " extracting: train/images/Early_blight_1-jpg-1376579808_jpg.rf.38b9bc5cdc6fbfb49ec439b35cccf7b6.jpg  \n",
      " extracting: train/images/Early_blight_on_tomato_leaves_7871930010-Fairfax_jpg.rf.36bf2e33c0b4fb3dd21f2ea8d5201197.jpg  \n",
      " extracting: train/images/Early_blight_on_tomato_leaves_7871930010-Fairfax_jpg.rf.3bec9af73db5e8332f75c208e6ee4330.jpg  \n",
      " extracting: train/images/Early_blight_on_tomato_leaves_7871930010-Fairfax_jpg.rf.a65c02b42afb914bba9c890cf9a3d324.jpg  \n",
      " extracting: train/images/Flower-100-_jpg.rf.4460e49c285d06661fac00f7a15ea2fa.jpg  \n",
      " extracting: train/images/Flower-100-_jpg.rf.4ae7fc067381e40c636e8acec2e02edc.jpg  \n",
      " extracting: train/images/Flower-100-_jpg.rf.ffb237a8979cd7fe7400a67beded5c0a.jpg  \n",
      " extracting: train/images/Flower-102-_jpg.rf.1a1345c2616cb11a47ec9e893cd7293a.jpg  \n",
      " extracting: train/images/Flower-102-_jpg.rf.906fae431a72303402bb918377dda3c9.jpg  \n",
      " extracting: train/images/Flower-102-_jpg.rf.a4f7c3748adde00a8e5b0872e887512c.jpg  \n",
      " extracting: train/images/Flower-109-_jpg.rf.125ae9a5ce2b6e5a66a9080160176224.jpg  \n",
      " extracting: train/images/Flower-109-_jpg.rf.7562892defda525d2f87c03998ddf611.jpg  \n",
      " extracting: train/images/Flower-109-_jpg.rf.9004d799ef3521aec39b76f43910ee09.jpg  \n",
      " extracting: train/images/Flower-111-_jpg.rf.754f66c285b702678fadece6d23f115b.jpg  \n",
      " extracting: train/images/Flower-111-_jpg.rf.908bbac83ae57422f69b3337465f1769.jpg  \n",
      " extracting: train/images/Flower-111-_jpg.rf.b62b154ba382db95bba3ee2be62fa486.jpg  \n",
      " extracting: train/images/Flower-16-_jpg.rf.51cb17df9d44e1c7bc05cc9c41cf3729.jpg  \n",
      " extracting: train/images/Flower-16-_jpg.rf.7cd480ea675828c1e8266cb07295c246.jpg  \n",
      " extracting: train/images/Flower-16-_jpg.rf.df545cb265c6d5615f529f5d335ef065.jpg  \n",
      " extracting: train/images/IMG_5715_png.rf.2220783b5d7bafa3f7f32ef78dfb9a0b.jpg  \n",
      " extracting: train/images/IMG_5715_png.rf.6ec14fc259d0255f5ea2e8b26a2bb526.jpg  \n",
      " extracting: train/images/IMG_5720_png.rf.21c1d4344ac3c7c68fb07febe18642cd.jpg  \n",
      " extracting: train/images/IMG_5720_png.rf.8ea3306f64dce5900615fa47c7cc196a.jpg  \n",
      " extracting: train/images/IMG_5720_png.rf.a50b136d06c0752372998a9a514dd2ef.jpg  \n",
      " extracting: train/images/IMG_5721_png.rf.1a8a866eb322a1db446c4b9eccea8c3e.jpg  \n",
      " extracting: train/images/IMG_5721_png.rf.b05b09009261825965a2e780f06879a3.jpg  \n",
      " extracting: train/images/IMG_5721_png.rf.fc87a79a46086510685a22839c7792f8.jpg  \n",
      " extracting: train/images/IMG_5722_png.rf.9fabbcc7a43f75bfb23b9744ce09a219.jpg  \n",
      " extracting: train/images/IMG_5722_png.rf.cfcd1d00d0bdbd145d406e445fc5e435.jpg  \n",
      " extracting: train/images/IMG_5722_png.rf.ffe998590a08563bea5067d00dddcfc8.jpg  \n",
      " extracting: train/images/IMG_5723_png.rf.06b676d97523e6c98b3c7b6787b6341a.jpg  \n",
      " extracting: train/images/IMG_5723_png.rf.ad577ae6086c6636b6e8ce1062484857.jpg  \n",
      " extracting: train/images/IMG_5726_png.rf.1c08a6e5fb23c38415d6710052c56ad3.jpg  \n",
      " extracting: train/images/IMG_5726_png.rf.880b326638d8fd0a06f78430998e1e6e.jpg  \n",
      " extracting: train/images/IMG_5726_png.rf.fb0b9672ce406f43679ff5e3c0540d76.jpg  \n",
      " extracting: train/images/IMG_5727_png.rf.048d1152771c11fcbc8e54d49b447b55.jpg  \n",
      " extracting: train/images/IMG_5727_png.rf.a06b3def1a715da40bcaab12b43bb436.jpg  \n",
      " extracting: train/images/IMG_5727_png.rf.d5cf50695573e9b922cb666ecf31325b.jpg  \n",
      " extracting: train/images/IMG_5728_png.rf.0b12ba36157e66a56b1e9056dfdf4187.jpg  \n",
      " extracting: train/images/IMG_5728_png.rf.bf60505fbb4608d39ed8e2941d2653f9.jpg  \n",
      " extracting: train/images/IMG_5728_png.rf.dd3d962b9cc4f3683e4bafcb9b71d721.jpg  \n",
      " extracting: train/images/IMG_5730_png.rf.55cafa6d1f40a1cffc0d40af6e1c5f3d.jpg  \n",
      " extracting: train/images/IMG_5730_png.rf.d07e8c195cdb2446f5c039bfb1362799.jpg  \n",
      " extracting: train/images/IMG_5730_png.rf.eb05e226450c02d5d452b95a26160277.jpg  \n",
      " extracting: train/images/IMG_5734_png.rf.0c2ddb310bb6c7695c9a171f836206f7.jpg  \n",
      " extracting: train/images/IMG_5734_png.rf.552db88363f26ab4a0879d700d7983a9.jpg  \n",
      " extracting: train/images/IMG_5734_png.rf.77ecc9a7430a0d3719ab12df64340e6d.jpg  \n",
      " extracting: train/images/IMG_5737_png.rf.0eae2ede8a11d1c0282bae24657656b8.jpg  \n",
      " extracting: train/images/IMG_5737_png.rf.8ab321f8d1f6e4aa31a680efab1a804b.jpg  \n",
      " extracting: train/images/IMG_5737_png.rf.8b6d7bd8f81af8b061ef689c139bac1c.jpg  \n",
      " extracting: train/images/IMG_5740_png.rf.8a507bdd8d66eef7cdbffa3e73b435fb.jpg  \n",
      " extracting: train/images/IMG_5740_png.rf.8d8ec912fdac2c1e382b08c6831ac5e7.jpg  \n",
      " extracting: train/images/IMG_5740_png.rf.fccb4d298ed0fc9dea2324d50b7f1df0.jpg  \n",
      " extracting: train/images/IMG_5742_png.rf.07b5faa610d044429820c9b490655136.jpg  \n",
      " extracting: train/images/IMG_5742_png.rf.4ad5ddc2114825f01204618ec01ab74d.jpg  \n",
      " extracting: train/images/IMG_5742_png.rf.b62e6c657cd1f82586f950c6bacbb02e.jpg  \n",
      " extracting: train/images/IMG_5770_png.rf.8f72caa343a2e2ce407fc0a4ff11736f.jpg  \n",
      " extracting: train/images/IMG_5770_png.rf.a14d079ddb092e42e6168a5df81da3cf.jpg  \n",
      " extracting: train/images/IMG_5828_png.rf.7c8958bc157a071e3229ea8919307cfd.jpg  \n",
      " extracting: train/images/IMG_5828_png.rf.9abe7d4ceee043130e748c5788e0f7bb.jpg  \n",
      " extracting: train/images/IMG_5828_png.rf.f44040ae25935c082271afa16f188930.jpg  \n",
      " extracting: train/images/IMG_8510_jpg.rf.3e1b329ad2a8af9fe434ba60509cd753.jpg  \n",
      " extracting: train/images/IMG_8510_jpg.rf.da6e80a045f9230225a1cf4ec714de9c.jpg  \n",
      " extracting: train/images/IMG_8510_jpg.rf.fd43858116608497f2fe88d1988f8541.jpg  \n",
      " extracting: train/images/IMG_8513_jpg.rf.0072b2904816de34962c9d854396e44a.jpg  \n",
      " extracting: train/images/IMG_8513_jpg.rf.77ccbb3b62be1dc114ec5b575d407ab4.jpg  \n",
      " extracting: train/images/IMG_8513_jpg.rf.e2cfec7449f1a284aa4fd09041175fde.jpg  \n",
      " extracting: train/images/IMG_8514_jpg.rf.53b4dd14ae92314720adbbc03fef1004.jpg  \n",
      " extracting: train/images/IMG_8514_jpg.rf.776eb6a066a7779d6a009df28ea6bd85.jpg  \n",
      " extracting: train/images/IMG_8514_jpg.rf.777f8be704280dfb8c38713aee932a65.jpg  \n",
      " extracting: train/images/IMG_8516_jpg.rf.95eb3e7dda95b2db12af8be7257a306d.jpg  \n",
      " extracting: train/images/IMG_8516_jpg.rf.af6b45fb818dadc786785acd62604eb4.jpg  \n",
      " extracting: train/images/IMG_8520_jpg.rf.7c72cab8bbc3a654f0c566dd3ba7c6a8.jpg  \n",
      " extracting: train/images/IMG_8520_jpg.rf.a49f3058faec6d6869eabe94d85a70a6.jpg  \n",
      " extracting: train/images/IMG_8535_jpg.rf.6cd121ff7c811fafacbaa7191c4558ae.jpg  \n",
      " extracting: train/images/IMG_8535_jpg.rf.6f6cfabbd72ffce6d730208f45736c8e.jpg  \n",
      " extracting: train/images/IMG_8535_jpg.rf.d7f4ed435e25f1d0b3be86ba554faa1a.jpg  \n",
      " extracting: train/images/IMG_8562_jpg.rf.0ec13313141804b93b13e4feff25b417.jpg  \n",
      " extracting: train/images/IMG_8562_jpg.rf.7fd2f1261af08750f857a2d20978b97a.jpg  \n",
      " extracting: train/images/IMG_8562_jpg.rf.8d4469a8c6c7168f00fc20346b58f998.jpg  \n",
      " extracting: train/images/IMG_8563_jpg.rf.1c1f4fa446cf0b4ce12e769f12e058c2.jpg  \n",
      " extracting: train/images/IMG_8563_jpg.rf.75bde9024dbd7797bfbbfe34fef8916e.jpg  \n",
      " extracting: train/images/IMG_8563_jpg.rf.7d899493adea68c34a021478ce4c9277.jpg  \n",
      " extracting: train/images/IMG_8565_jpg.rf.43d5eee98e3c3614e81fde202eda3422.jpg  \n",
      " extracting: train/images/IMG_8565_jpg.rf.778dfa4b1ae72c2bc014848b19c077b4.jpg  \n",
      " extracting: train/images/IMG_8587_jpg.rf.76f6f5f5ab21dd0d2759906f14691bca.jpg  \n",
      " extracting: train/images/IMG_8587_jpg.rf.802e7122d55d0ba6640fedf87ff1f6c0.jpg  \n",
      " extracting: train/images/IMG_8608_jpg.rf.8adfa763f84cd5d381ddb22e2f70e630.jpg  \n",
      " extracting: train/images/IMG_8608_jpg.rf.cd8a7c2dcf74f5b0cca351d0074bf361.jpg  \n",
      " extracting: train/images/IMG_8608_jpg.rf.f3eae2d2dad2a212a2393b5e8080fba8.jpg  \n",
      " extracting: train/images/Original_e-blight-JPG-rend-hgtvcom-966-725-jpeg_jpg.rf.2db3c3bdc8976947ff14fbe94d22eedf.jpg  \n",
      " extracting: train/images/Original_e-blight-JPG-rend-hgtvcom-966-725-jpeg_jpg.rf.5b8a3349269b71d057c942b2f737545f.jpg  \n",
      " extracting: train/images/Original_e-blight-JPG-rend-hgtvcom-966-725-jpeg_jpg.rf.8e02c5987b10304c6948168abe22941e.jpg  \n",
      " extracting: train/images/Pest2369_jpg.rf.3c045468c578bd9284bfd53328f3688e.jpg  \n",
      " extracting: train/images/Pest2369_jpg.rf.655001d5f58a830c7bdc58ccebaa0c30.jpg  \n",
      " extracting: train/images/Pest2369_jpg.rf.aa9ca16ec30ef9355215b7f369f4589e.jpg  \n",
      " extracting: train/images/Tomato-Early-Blight-Leaves-Cornell-University_jpg.rf.a6c0518d94ac39d7c5f4f0c62eae8be0.jpg  \n",
      " extracting: train/images/Tomato-Early-Blight-Leaves-Cornell-University_jpg.rf.d8af627af0a3475c4a5a2da838ad8f92.jpg  \n",
      " extracting: train/images/Tomato-Early-Blight-Leaves-Cornell-University_jpg.rf.ebf3331a86706fa0002e04b3c29d5d50.jpg  \n",
      " extracting: train/images/Tomato-Early-Blight-e1513806873934_jpg.rf.3f821122e9ab5b7e1e5860a20d536521.jpg  \n",
      " extracting: train/images/Tomato-Early-Blight-e1513806873934_jpg.rf.7ed85f2997302ca20f128d611991d759.jpg  \n",
      " extracting: train/images/Tomato-Early-Blight-e1513806873934_jpg.rf.9aaf42529f080b73bea4cc8ab10b9ee9.jpg  \n",
      " extracting: train/images/Tomato-blight-large_jpg.rf.292aee27ef534924bc677a210de8ecea.jpg  \n",
      " extracting: train/images/Tomato-blight-large_jpg.rf.9083f8a57a69c374d60503bdd065e643.jpg  \n",
      " extracting: train/images/Tomato-blight-large_jpg.rf.d293e73b92520d9b12778623dbadb210.jpg  \n",
      " extracting: train/images/Tomato-diseases-prevention-treatment-Early-blight-_jpg.rf.48bd8870f04725b7edf15cd4901f1173.jpg  \n",
      " extracting: train/images/Tomato-diseases-prevention-treatment-Early-blight-_jpg.rf.631165d24b298a996e667bfa8a725c5e.jpg  \n",
      " extracting: train/images/Tomato-diseases-prevention-treatment-Early-blight-_jpg.rf.b8f2d2bdb3efd6bf563353f5d0928cfa.jpg  \n",
      " extracting: train/images/Tomato_plant_10_jpeg.rf.1fc233e0d7d755fba5de95e21792b84d.jpg  \n",
      " extracting: train/images/Tomato_plant_10_jpeg.rf.ea47a13c91cb15aa56ee1c58fc12517c.jpg  \n",
      " extracting: train/images/Tomato_plant_10_jpeg.rf.f68d848163618763dd343231b4ae4439.jpg  \n",
      " extracting: train/images/Tomato_plant_11_jpeg.rf.4909f770d292c3f3bc6577253ad63002.jpg  \n",
      " extracting: train/images/Tomato_plant_11_jpeg.rf.c90bd5beff6632aa152679ad76c377a2.jpg  \n",
      " extracting: train/images/Tomato_plant_11_jpeg.rf.ec835f14ab751e4326489eef1f6dbb40.jpg  \n",
      " extracting: train/images/Tomato_plant_12_jpeg.rf.374d86b7c470e321f01d8f4b17bf37d0.jpg  \n",
      " extracting: train/images/Tomato_plant_12_jpeg.rf.bbc9417f1211b08288a726104bc73aa4.jpg  \n",
      " extracting: train/images/Tomato_plant_12_jpeg.rf.cdfa9bb52654ac261bed725bf886bbaa.jpg  \n",
      " extracting: train/images/Tomato_plant_13_jpeg.rf.3a6d037b1031412dcb5e090956a71a10.jpg  \n",
      " extracting: train/images/Tomato_plant_13_jpeg.rf.fe9bcb60c077540c5b1a07a33d0d8d59.jpg  \n",
      " extracting: train/images/Tomato_plant_14_jpeg.rf.20c372b32066f6247a2eb757061b1dba.jpg  \n",
      " extracting: train/images/Tomato_plant_14_jpeg.rf.32bbd368c30e40ba065a7e8d92ee6f2c.jpg  \n",
      " extracting: train/images/Tomato_plant_14_jpeg.rf.846a925a4de387aa81e3d7142c4abd3e.jpg  \n",
      " extracting: train/images/Tomato_plant_15_jpeg.rf.4df4b85359dbc7b09df23d337ae6372c.jpg  \n",
      " extracting: train/images/Tomato_plant_15_jpeg.rf.6fe3fb2e01e9153d6f5f163c0beae18d.jpg  \n",
      " extracting: train/images/Tomato_plant_15_jpeg.rf.b78bdb88628dc676749ef9cea97882d8.jpg  \n",
      " extracting: train/images/Tomato_plant_5_jpeg.rf.29a5f21c112bd23ab7a234a943c77c53.jpg  \n",
      " extracting: train/images/Tomato_plant_5_jpeg.rf.4667a02a76c0978c5620d5b5dd1a1d66.jpg  \n",
      " extracting: train/images/Tomato_plant_5_jpeg.rf.6bd24470e337754d2198c9c076c6b782.jpg  \n",
      " extracting: train/images/Tomato_plant_6_jpeg.rf.77dc803bbaa8d5cc009f1beb1c7a0a45.jpg  \n",
      " extracting: train/images/Tomato_plant_6_jpeg.rf.800ee6609d66ccd36350e818cbcad4e7.jpg  \n",
      " extracting: train/images/Tomato_plant_6_jpeg.rf.fecb93785aab2dacc049f6f8aed347cb.jpg  \n",
      " extracting: train/images/Tomato_plant_8_jpeg.rf.21b58899acc86347bd217ed337356f7c.jpg  \n",
      " extracting: train/images/Tomato_plant_8_jpeg.rf.e429c1ebf5836b74685c974aff0626d9.jpg  \n",
      " extracting: train/images/Tomato_plant_8_jpeg.rf.fe7ac61ab5765d064cb13e3941c66f71.jpg  \n",
      " extracting: train/images/Tomato_plant_9_jpeg.rf.975f77d3ecea99ab684a9eca3e77b303.jpg  \n",
      " extracting: train/images/Tomato_plant_9_jpeg.rf.bff6ae4407637bb279aa200781918ff4.jpg  \n",
      " extracting: train/images/Tomato_plant_9_jpeg.rf.dd2142a891d732d39669a4247342ee24.jpg  \n",
      " extracting: train/images/V006_79_0_00_07_03_12_0_c02_20201013_0015_S01_1_JPG_jpg.rf.33accf28a85816febbefb7220cacf238.jpg  \n",
      " extracting: train/images/V006_79_0_00_07_03_12_0_c02_20201013_0015_S01_1_JPG_jpg.rf.492a4929d991e5bf32a11357e814263a.jpg  \n",
      " extracting: train/images/V006_79_0_00_07_03_12_0_c02_20201013_0015_S01_1_JPG_jpg.rf.51ad560d86850a227a940085ee76b230.jpg  \n",
      " extracting: train/images/V006_79_0_00_07_03_12_0_c02_20201013_0015_S01_1_JPG_jpg.rf.83b864babaaa36fdda350abbc6cace87.jpg  \n",
      " extracting: train/images/V006_79_0_00_07_03_12_0_c02_20201013_0015_S01_1_JPG_jpg.rf.bc0f50a22c5da710f9fa8c09992454d2.jpg  \n",
      " extracting: train/images/V006_79_0_00_07_03_12_0_c02_20201013_0015_S01_1_JPG_jpg.rf.d77ac8ecbc02aa3b74eebd47e6d009ef.jpg  \n",
      " extracting: train/images/V006_79_0_00_07_03_12_0_c02_20201013_0016_S01_1_JPG_jpg.rf.328fb1aec4987a2598180a602786c97e.jpg  \n",
      " extracting: train/images/V006_79_0_00_07_03_12_0_c02_20201013_0016_S01_1_JPG_jpg.rf.84960972fca72a75a2ea572bf52724aa.jpg  \n",
      " extracting: train/images/V006_79_0_00_07_03_12_0_c02_20201013_0017_S01_1_JPG_jpg.rf.051283aa91eee4a4688118d10e2a139c.jpg  \n",
      " extracting: train/images/V006_79_0_00_07_03_12_0_c02_20201013_0017_S01_1_JPG_jpg.rf.af0150dbcca6933843f175f76858fd2a.jpg  \n",
      " extracting: train/images/V006_79_0_00_07_03_12_0_c02_20201013_0017_S01_1_JPG_jpg.rf.d4a69096c5d9400ba602fd31c8a01631.jpg  \n",
      " extracting: train/images/V006_79_0_00_07_03_12_0_c02_20201013_0029_S01_1_JPG_jpg.rf.2e4221c3352cff957a2d3800b788b125.jpg  \n",
      " extracting: train/images/V006_79_0_00_07_03_12_0_c02_20201013_0029_S01_1_JPG_jpg.rf.451bc1449e142d633f160d58b6be1cb7.jpg  \n",
      " extracting: train/images/V006_79_0_00_07_03_12_0_c02_20201013_0029_S01_1_JPG_jpg.rf.d577e3d0a19145b5bdf45fd182a21209.jpg  \n",
      " extracting: train/images/V006_79_0_00_07_03_12_0_c02_20201013_0029_S01_1_JPG_jpg.rf.dff31d56bffdab020429bd77fa013f7d.jpg  \n",
      " extracting: train/images/V006_79_0_00_07_03_12_0_c02_20201013_0029_S01_1_JPG_jpg.rf.ea4fac43d653a89b73b772ecec5ac22f.jpg  \n",
      " extracting: train/images/V006_79_0_00_07_03_12_0_c02_20201013_0029_S01_1_JPG_jpg.rf.fd0aa649a85da6d5b9f8711b9b15b67f.jpg  \n",
      " extracting: train/images/V006_79_0_00_07_03_12_0_c02_20201013_0032_S01_1_JPG_jpg.rf.1e0342efa0bd20d188666a18ec1eb1a1.jpg  \n",
      " extracting: train/images/V006_79_0_00_07_03_12_0_c02_20201013_0032_S01_1_JPG_jpg.rf.39e03a8d6e84ff509dde33869b918454.jpg  \n",
      " extracting: train/images/V006_79_0_00_07_03_12_0_c02_20201013_0032_S01_1_JPG_jpg.rf.7031b07cfe69cc28ca372120cf017aba.jpg  \n",
      " extracting: train/images/V006_79_0_00_07_03_12_0_c02_20201013_0032_S01_1_JPG_jpg.rf.778dddda150a2389bf6595a105b2959e.jpg  \n",
      " extracting: train/images/V006_79_0_00_07_03_12_0_c02_20201013_0032_S01_1_JPG_jpg.rf.c3f048b3e32b83e7314b6a247820c123.jpg  \n",
      " extracting: train/images/V006_79_0_00_07_03_12_0_c02_20201013_0032_S01_1_JPG_jpg.rf.e630121f2b37da9c12d88b7959870015.jpg  \n",
      " extracting: train/images/V006_79_0_00_07_03_12_0_c02_20201013_0034_S01_1_JPG_jpg.rf.63ba62dd7f634975765bc01790d22d61.jpg  \n",
      " extracting: train/images/V006_79_0_00_07_03_12_0_c02_20201013_0034_S01_1_JPG_jpg.rf.842483e63da409a6e00483f869e10904.jpg  \n",
      " extracting: train/images/V006_79_0_00_07_03_12_0_c02_20201013_0034_S01_1_JPG_jpg.rf.c136b2bb0915b930425cf0121cb1085e.jpg  \n",
      " extracting: train/images/V006_79_0_00_07_03_12_0_c02_20201013_0064_S01_1_JPG_jpg.rf.bd756cc19e3e571e61a82757722f598a.jpg  \n",
      " extracting: train/images/V006_79_0_00_07_03_12_0_c02_20201013_0064_S01_1_JPG_jpg.rf.e6935604df7b927352e6f6706866c91c.jpg  \n",
      " extracting: train/images/V006_79_0_00_07_03_12_0_c02_20201013_0068_S01_1_JPG_jpg.rf.6707161e1ea6186f785b6f734ba7dcc1.jpg  \n",
      " extracting: train/images/V006_79_0_00_07_03_12_0_c02_20201013_0068_S01_1_JPG_jpg.rf.7daa434c799f2ee87634cbe88e3024c4.jpg  \n",
      " extracting: train/images/V006_79_0_00_07_03_12_0_c02_20201013_0068_S01_1_JPG_jpg.rf.b2849973813f6c190d15a2da52246caf.jpg  \n",
      " extracting: train/images/V006_79_0_00_07_03_12_0_c12_20201028_0017_S01_1_JPG_jpg.rf.0c5d028fca0167fd22a79e5712c98eda.jpg  \n",
      " extracting: train/images/V006_79_0_00_07_03_12_0_c12_20201028_0017_S01_1_JPG_jpg.rf.113b44b09e1bf963e92db8d6aa3e615a.jpg  \n",
      " extracting: train/images/V006_79_0_00_07_03_12_0_c12_20201028_0017_S01_1_JPG_jpg.rf.2aad743d864c9a46f9d1c95eeb8282d4.jpg  \n",
      " extracting: train/images/V006_79_0_00_07_03_12_0_c12_20201028_0017_S01_1_JPG_jpg.rf.6e78aabe3559b40b822191368067ff40.jpg  \n",
      " extracting: train/images/V006_79_0_00_07_03_12_0_c12_20201028_0017_S01_1_JPG_jpg.rf.707ec492d656940d9b2601ba13945cb7.jpg  \n",
      " extracting: train/images/V006_79_0_00_07_03_12_0_c12_20201028_0017_S01_1_JPG_jpg.rf.c8f042c4aa12a647b6b96d1a44b63973.jpg  \n",
      " extracting: train/images/V006_79_0_00_07_03_12_0_c12_20201028_0031_S01_1_JPG_jpg.rf.61141bc4bb1ea9506f5e4ee5947ab25a.jpg  \n",
      " extracting: train/images/V006_79_0_00_07_03_12_0_c12_20201028_0031_S01_1_JPG_jpg.rf.7ec87d4b6ba2b11d927e90a99c6af112.jpg  \n",
      " extracting: train/images/V006_79_0_00_07_03_12_0_c12_20201028_0031_S01_1_JPG_jpg.rf.9bece0823324e3f6e9bd5f2878bbbafc.jpg  \n",
      " extracting: train/images/V006_79_0_00_07_03_12_0_c12_20201028_0031_S01_1_JPG_jpg.rf.ad47a4eab8e27bbd01c6bd631c9ee521.jpg  \n",
      " extracting: train/images/V006_79_0_00_07_03_12_0_c12_20201028_0031_S01_1_JPG_jpg.rf.bb2d862cec03736f477dcd9eae5f6abb.jpg  \n",
      " extracting: train/images/V006_79_0_00_07_03_12_0_c12_20201028_0031_S01_1_JPG_jpg.rf.ce86153dfaeeb768da1aba54fde4f193.jpg  \n",
      " extracting: train/images/V006_79_0_00_07_03_12_0_c12_20201028_0035_S01_1_JPG_jpg.rf.1a79354e729ebfc389c9f8b1b331c14a.jpg  \n",
      " extracting: train/images/V006_79_0_00_07_03_12_0_c12_20201028_0035_S01_1_JPG_jpg.rf.2b64ca3ed30a23d3fe137cbd3a2c0c43.jpg  \n",
      " extracting: train/images/V006_79_0_00_07_03_12_0_c12_20201028_0035_S01_1_JPG_jpg.rf.4edb1bfbfc8817f4b2e3c0e7e792b4ec.jpg  \n",
      " extracting: train/images/V006_79_0_00_07_03_12_0_c12_20201028_0035_S01_1_JPG_jpg.rf.5ad140f4f330b2b26ca8abb789afeb75.jpg  \n",
      " extracting: train/images/V006_79_0_00_07_03_12_0_c12_20201028_0035_S01_1_JPG_jpg.rf.bb8a05eae2d5c2060238b8c807300e7d.jpg  \n",
      " extracting: train/images/V006_79_0_00_07_03_12_0_c12_20201028_0035_S01_1_JPG_jpg.rf.bf84c2ac6b50ab1a2a37ec318dead830.jpg  \n",
      " extracting: train/images/V006_79_0_00_07_03_12_0_c13_20201023_0017_S01_1_jpg.rf.2054e7f7d329cf5ee5ce4f1c4c6f803d.jpg  \n",
      " extracting: train/images/V006_79_0_00_07_03_12_0_c13_20201023_0017_S01_1_jpg.rf.30eba715af760ce8311c837fbdbc9a48.jpg  \n",
      " extracting: train/images/V006_79_0_00_07_03_12_0_c13_20201023_0017_S01_1_jpg.rf.35d512e434aa7d9e0ce4ad50bcc9cb97.jpg  \n",
      " extracting: train/images/V006_79_0_00_07_03_12_0_c13_20201023_0017_S01_1_jpg.rf.4733af8a077a513579e5a7fc47577258.jpg  \n",
      " extracting: train/images/V006_79_0_00_07_03_12_0_c13_20201023_0017_S01_1_jpg.rf.47eb5779d89e1aaff3e1653bf3b806a5.jpg  \n",
      " extracting: train/images/V006_79_0_00_07_03_12_0_c13_20201023_0017_S01_1_jpg.rf.a0862c4f91d46956696589483ccc58a1.jpg  \n",
      " extracting: train/images/V006_79_0_00_07_03_12_0_c13_20201023_0017_S01_1_jpg.rf.b47d90f1035cdcb60b6d8153e89351fd.jpg  \n",
      " extracting: train/images/V006_79_0_00_07_03_12_0_c13_20201023_0017_S01_1_jpg.rf.bf7ecc6aa369b421094858e77589a329.jpg  \n",
      " extracting: train/images/V006_79_0_00_07_03_12_0_c13_20201023_0017_S01_1_jpg.rf.ca14965ccde26298e2892cadbbc12501.jpg  \n",
      " extracting: train/images/V006_79_0_00_07_03_12_0_c13_20201023_0020_S01_1_jpg.rf.0f5f865918d1bab5d195f645c3b9d90e.jpg  \n",
      " extracting: train/images/V006_79_0_00_07_03_12_0_c13_20201023_0020_S01_1_jpg.rf.146cbf9d4891c9d0d80d5cf3a2227e39.jpg  \n",
      " extracting: train/images/V006_79_0_00_07_03_12_0_c13_20201023_0020_S01_1_jpg.rf.9bf198d6dab6de8315b1883fd947576e.jpg  \n",
      " extracting: train/images/V006_79_0_00_07_03_12_0_c13_20201023_0020_S01_1_jpg.rf.9c3fb3fc6f1ca7f835e5546658c248a6.jpg  \n",
      " extracting: train/images/V006_79_0_00_07_03_12_0_c13_20201023_0020_S01_1_jpg.rf.b7e61f923f360a25b1a21b49259d881b.jpg  \n",
      " extracting: train/images/V006_79_0_00_07_03_12_0_c13_20201023_0020_S01_1_jpg.rf.dbb14d9c5358e0bbb61c0bcdd12019da.jpg  \n",
      " extracting: train/images/V006_79_0_00_07_03_12_0_c13_20201023_0027_S01_1_jpg.rf.08284b5f69523bf7c7c59b6997112e96.jpg  \n",
      " extracting: train/images/V006_79_0_00_07_03_12_0_c13_20201023_0027_S01_1_jpg.rf.0beb57a0d6e20fe1a73f7275b0e562bf.jpg  \n",
      " extracting: train/images/V006_79_0_00_07_03_12_0_c13_20201023_0027_S01_1_jpg.rf.3ca460f6a6c2d625d4ed14d3845bac25.jpg  \n",
      " extracting: train/images/V006_79_0_00_07_03_12_0_c13_20201023_0027_S01_1_jpg.rf.4cda6581c27130b532344a03527f04e8.jpg  \n",
      " extracting: train/images/V006_79_0_00_07_03_12_0_c13_20201023_0027_S01_1_jpg.rf.b84e5472738d0536da3e4e87806866eb.jpg  \n",
      " extracting: train/images/V006_79_0_00_07_03_12_0_c13_20201023_0027_S01_1_jpg.rf.c0431651a5c33f9866d98b59fcaeb44f.jpg  \n",
      " extracting: train/images/V006_79_0_00_07_03_12_0_c13_20201023_0027_S01_1_jpg.rf.c7172645b2f509c5d5f50d415f035d1c.jpg  \n",
      " extracting: train/images/V006_79_0_00_07_03_12_0_c13_20201023_0027_S01_1_jpg.rf.d1780db34120b72a9157f5793fae5586.jpg  \n",
      " extracting: train/images/V006_79_0_00_07_03_12_0_c13_20201023_0027_S01_1_jpg.rf.d83791eb8ddb29aafd64af8ee4447a89.jpg  \n",
      " extracting: train/images/V006_79_0_00_07_03_12_0_c13_20201023_0029_S01_1_jpg.rf.067f85a3fdd59e7b0ba216081f0d9499.jpg  \n",
      " extracting: train/images/V006_79_0_00_07_03_12_0_c13_20201023_0029_S01_1_jpg.rf.cf9b2b4f96f11cfdaaf1f76d5bde5fb8.jpg  \n",
      " extracting: train/images/V006_79_0_00_07_03_12_0_c13_20201023_0029_S01_1_jpg.rf.d2a749944ec3d1139fa328a2fd618600.jpg  \n",
      " extracting: train/images/V006_79_0_00_07_03_12_0_c13_20201023_0033_S01_1_jpg.rf.399aba630b345f20cb9e8089d6aa7ea4.jpg  \n",
      " extracting: train/images/V006_79_0_00_07_03_12_0_c13_20201023_0033_S01_1_jpg.rf.9d00bc557d041bdbf9c469bb9c950c21.jpg  \n",
      " extracting: train/images/V006_79_0_00_07_03_12_0_c13_20201023_0033_S01_1_jpg.rf.f45bb1b473cdff20f328da14ef5a478c.jpg  \n",
      " extracting: train/images/V006_79_0_00_07_03_12_0_c14_20201103_0006_S01_1_jpg.rf.08884073ff5367505f6ba04ef2c023f8.jpg  \n",
      " extracting: train/images/V006_79_0_00_07_03_12_0_c14_20201103_0006_S01_1_jpg.rf.140cab1b129289d9c3b602778e2a73ed.jpg  \n",
      " extracting: train/images/V006_79_0_00_07_03_12_0_c14_20201103_0006_S01_1_jpg.rf.32b02d84b8c2b9703a761d1e3f645ad1.jpg  \n",
      " extracting: train/images/V006_79_0_00_07_03_12_0_c14_20201103_0006_S01_1_jpg.rf.35056717010a372e91b98c8bed0adb0d.jpg  \n",
      " extracting: train/images/V006_79_0_00_07_03_12_0_c14_20201103_0006_S01_1_jpg.rf.7445f8fafd31615b1bbed9492ce333da.jpg  \n",
      " extracting: train/images/V006_79_0_00_07_03_12_0_c14_20201103_0006_S01_1_jpg.rf.b8f627fda50554758bf567d565ce730d.jpg  \n",
      " extracting: train/images/V006_79_0_00_07_03_12_0_c14_20201104_0002_S01_1_JPG_jpg.rf.05218be9b1bcc63d4050e3e9d7799bd9.jpg  \n",
      " extracting: train/images/V006_79_0_00_07_03_12_0_c14_20201104_0002_S01_1_JPG_jpg.rf.07e86fb46fcf1b13e879c42beaf1bddb.jpg  \n",
      " extracting: train/images/V006_79_0_00_07_03_12_0_c14_20201104_0002_S01_1_JPG_jpg.rf.83a37cafa6a62790627377e9f86e4ddf.jpg  \n",
      " extracting: train/images/V006_79_0_00_07_03_12_0_c14_20201109_0009_S01_1_jpg.rf.164343f4bae149e684e947949d52a718.jpg  \n",
      " extracting: train/images/V006_79_0_00_07_03_12_0_c14_20201109_0009_S01_1_jpg.rf.19bf2df22a3d483963514e35f823f3c1.jpg  \n",
      " extracting: train/images/V006_79_0_00_07_03_12_0_c14_20201109_0009_S01_1_jpg.rf.24f912f65dc37567f99b859360f03a01.jpg  \n",
      " extracting: train/images/V006_79_0_00_07_03_12_0_c14_20201109_0009_S01_1_jpg.rf.39bbd7feea62c181174f9edde065e46e.jpg  \n",
      " extracting: train/images/V006_79_0_00_07_03_12_0_c14_20201109_0009_S01_1_jpg.rf.67cf03147881d60b8c670546e48bb8b1.jpg  \n",
      " extracting: train/images/V006_79_0_00_07_03_12_0_c14_20201109_0009_S01_1_jpg.rf.692ccf55ea8801b8c06d58be5df429e4.jpg  \n",
      " extracting: train/images/V006_79_0_00_07_03_12_0_c14_20201111_0000_S01_1_jpg.rf.3196d42d22253511767001311576a5b7.jpg  \n",
      " extracting: train/images/V006_79_0_00_07_03_12_0_c14_20201111_0000_S01_1_jpg.rf.56cadf2ac6f225aed7b084ed7abf8603.jpg  \n",
      " extracting: train/images/V006_79_0_00_07_03_12_0_c14_20201111_0000_S01_1_jpg.rf.5fac1056288359809916886a2a27e749.jpg  \n",
      " extracting: train/images/V006_79_0_00_07_03_12_0_c14_20201111_0000_S01_1_jpg.rf.76e2f1471b3c770f77a1889f77cd9b15.jpg  \n",
      " extracting: train/images/V006_79_0_00_07_03_12_0_c14_20201111_0000_S01_1_jpg.rf.a46933330de362822805ada9048cb910.jpg  \n",
      " extracting: train/images/V006_79_0_00_07_03_12_0_c14_20201111_0000_S01_1_jpg.rf.c1a641b91db802e7535389a27dadbcf0.jpg  \n",
      " extracting: train/images/V006_79_0_00_07_03_12_0_c14_20201113_0002_S01_1_jpg.rf.2106a8050ab6e68b7ee6f7a196d1d8ee.jpg  \n",
      " extracting: train/images/V006_79_0_00_07_03_12_0_c14_20201113_0002_S01_1_jpg.rf.235453fc5d5c331d3c9d72f5f83ae098.jpg  \n",
      " extracting: train/images/V006_79_0_00_07_03_12_0_c14_20201113_0002_S01_1_jpg.rf.24575247a9491fcddd7acf81e5c2afb4.jpg  \n",
      " extracting: train/images/V006_79_0_00_07_03_12_0_c14_20201113_0002_S01_1_jpg.rf.883f060be5aebe3a3bb3d0df0d95fc36.jpg  \n",
      " extracting: train/images/V006_79_0_00_07_03_12_0_c14_20201113_0002_S01_1_jpg.rf.a9bae76603541739a60d99d317c1a243.jpg  \n",
      " extracting: train/images/V006_79_0_00_07_03_12_0_c14_20201116_0003_S01_1_jpg.rf.1fc54b49d5c301034a4126fd8c24c246.jpg  \n",
      " extracting: train/images/V006_79_0_00_07_03_12_0_c14_20201116_0003_S01_1_jpg.rf.2285d686b9ccdc455f97fe55779be46b.jpg  \n",
      " extracting: train/images/V006_79_0_00_07_03_12_0_c14_20201116_0003_S01_1_jpg.rf.55e5aad200fcf8a89cee539c4d467e02.jpg  \n",
      " extracting: train/images/V006_79_0_00_07_03_12_0_c14_20201116_0003_S01_1_jpg.rf.644678bbfe7fe95889f873a64ee4b633.jpg  \n",
      " extracting: train/images/V006_79_0_00_07_03_12_0_c14_20201116_0003_S01_1_jpg.rf.c4a08159e2d80b02479fb1bff9026723.jpg  \n",
      " extracting: train/images/V006_79_0_00_07_03_12_0_c14_20201116_0003_S01_1_jpg.rf.c7f2ea07733df116e8d54d4568f69c84.jpg  \n",
      " extracting: train/images/V006_79_0_00_07_03_12_0_c15_20201116_0003_S01_1_jpg.rf.04427c27c07add6e53efc5b2cfc64544.jpg  \n",
      " extracting: train/images/V006_79_0_00_07_03_12_0_c15_20201116_0003_S01_1_jpg.rf.048c82a87b748007195c6a92675d5584.jpg  \n",
      " extracting: train/images/V006_79_0_00_07_03_12_0_c15_20201116_0003_S01_1_jpg.rf.264aefc2c00a7407346303342e57b69e.jpg  \n",
      " extracting: train/images/V006_79_0_00_07_03_12_0_c15_20201116_0003_S01_1_jpg.rf.e198a543c9b035c818bb33b8ca85889f.jpg  \n",
      " extracting: train/images/V006_79_0_00_07_03_12_0_c15_20201116_0003_S01_1_jpg.rf.fd356cb7c759b687236cde18ae71ae7d.jpg  \n",
      " extracting: train/images/V006_79_0_00_07_03_12_0_c16_20201103_0000_S01_1_JPG_jpg.rf.3bba3bcff7dc7e529ea2c1920ae4c1c9.jpg  \n",
      " extracting: train/images/V006_79_0_00_07_03_12_0_c16_20201103_0000_S01_1_JPG_jpg.rf.460dad1f1564d298f348299a65c1c89b.jpg  \n",
      " extracting: train/images/V006_79_0_00_07_03_12_0_c16_20201111_0009_S01_1_JPG_jpg.rf.2f168fd3107aa5ca9ed33e6d9a0bad98.jpg  \n",
      " extracting: train/images/V006_79_0_00_07_03_12_0_c16_20201111_0009_S01_1_JPG_jpg.rf.422e69fda3e704d34147fac44340e78c.jpg  \n",
      " extracting: train/images/V006_79_0_00_07_03_12_0_c16_20201111_0009_S01_1_JPG_jpg.rf.8eca887fadfa23e39131825338706b72.jpg  \n",
      " extracting: train/images/V006_79_0_00_07_03_12_0_c17_20201104_0012_S01_1_jpg.rf.43d5e06a5cf747c7f1642cbe1020a45d.jpg  \n",
      " extracting: train/images/V006_79_0_00_07_03_12_0_c17_20201104_0012_S01_1_jpg.rf.90c6829fc627304dabd463f930798a57.jpg  \n",
      " extracting: train/images/V006_79_0_00_07_03_12_0_c17_20201104_0012_S01_1_jpg.rf.f9e18cc76b47c47bd80763ffee8bec72.jpg  \n",
      " extracting: train/images/V006_79_0_00_07_03_12_0_c17_20201113_0005_S01_1_jpg.rf.3be20a697beff1db3f1023e88a330334.jpg  \n",
      " extracting: train/images/V006_79_0_00_07_03_12_0_c17_20201113_0005_S01_1_jpg.rf.709be6937584d91c9cf6ebc8555292b5.jpg  \n",
      " extracting: train/images/V006_79_1_15_07_03_12_1_2656z_20201104_19_jpg.rf.1aaf22b097f30ab9a2ef8711181d16d1.jpg  \n",
      " extracting: train/images/V006_79_1_15_07_03_12_1_2656z_20201104_19_jpg.rf.775bd894b339dec5faa809de180ee870.jpg  \n",
      " extracting: train/images/V006_79_1_15_07_03_12_1_2656z_20201104_19_jpg.rf.812b8fce738707794748a65b494871cf.jpg  \n",
      " extracting: train/images/V006_79_1_15_07_03_12_1_2656z_20201104_19_jpg.rf.911b1f86f9159bb3debb5ff4c22c9afd.jpg  \n",
      " extracting: train/images/V006_79_1_15_07_03_12_1_2656z_20201104_19_jpg.rf.c935503a1d93b839d193522a5b26a575.jpg  \n",
      " extracting: train/images/V006_79_1_15_07_03_12_1_2656z_20201104_19_jpg.rf.fa287c0bc574ad32a00538551d984296.jpg  \n",
      " extracting: train/images/V006_79_1_15_07_03_12_1_2656z_20201106_3_jpg.rf.1c623fc8545f1ab06ba097d4af419bf1.jpg  \n",
      " extracting: train/images/V006_79_1_15_07_03_12_1_2656z_20201106_3_jpg.rf.7374c92ab63c7cda59e569cd855533d8.jpg  \n",
      " extracting: train/images/V006_79_1_15_07_03_12_1_2656z_20201106_3_jpg.rf.8002d2a2aeb8ae8afd02ac03b33f794e.jpg  \n",
      " extracting: train/images/V006_79_1_15_07_03_12_1_2656z_20201106_3_jpg.rf.a2a748a14177a6ee2237266e45658db1.jpg  \n",
      " extracting: train/images/V006_79_1_15_07_03_12_1_2656z_20201106_3_jpg.rf.c9badaafacc0fe6f572672c2b2ffcdbc.jpg  \n",
      " extracting: train/images/V006_79_1_15_07_03_12_1_2656z_20201106_3_jpg.rf.cb6f07e7c2b6b29ebd0fd47f9b18df92.jpg  \n",
      " extracting: train/images/V006_79_1_15_07_03_12_1_2656z_20201106_3_jpg.rf.d8c0c4369183cf2e3d51eed8fecaf280.jpg  \n",
      " extracting: train/images/V006_79_1_15_07_03_12_1_2656z_20201106_3_jpg.rf.dbd41b6785fe4b00ab1fee896d4e4aa3.jpg  \n",
      " extracting: train/images/V006_79_1_15_07_03_12_1_2656z_20201106_3_jpg.rf.fc95faf76b0c97b4f7e010da6473329c.jpg  \n",
      " extracting: train/images/V006_79_1_15_07_03_12_1_5322z_20201110_85_jpg.rf.342b4e357456644b020f5e4aa0b3ee31.jpg  \n",
      " extracting: train/images/V006_79_1_15_07_03_12_1_5322z_20201110_85_jpg.rf.5690db363cd74a84d174a27a2ad2832b.jpg  \n",
      " extracting: train/images/V006_79_1_15_07_03_12_1_5322z_20201110_85_jpg.rf.f726574bb3aab69c5bc5d642b495a76f.jpg  \n",
      " extracting: train/images/V006_79_1_15_07_03_12_1_5322z_20201111_114_jpg.rf.45cd8ba8ff586da62ca81573c0c91f6b.jpg  \n",
      " extracting: train/images/V006_79_1_15_07_03_12_1_5322z_20201111_114_jpg.rf.4a24fb80c11a34d020b2f2437164a5a5.jpg  \n",
      " extracting: train/images/V006_79_1_15_07_03_12_1_5322z_20201111_114_jpg.rf.ad4f90d66bd0c7ea153d0a306ba668fd.jpg  \n",
      " extracting: train/images/V006_79_1_15_07_03_12_1_5322z_20201111_114_jpg.rf.b4be12b9a6a574b1db16510e2d3322f8.jpg  \n",
      " extracting: train/images/V006_79_1_15_07_03_12_1_5322z_20201111_114_jpg.rf.eb90069624752719f87f8db55bb507df.jpg  \n",
      " extracting: train/images/V006_79_1_15_07_03_12_1_5322z_20201111_114_jpg.rf.f04548f9467765d1a0ca59652e23670d.jpg  \n",
      " extracting: train/images/V006_79_1_15_07_03_12_1_5322z_20201111_88_jpg.rf.188d4245007d688cc0709b09ace4ad73.jpg  \n",
      " extracting: train/images/V006_79_1_15_07_03_12_1_5322z_20201111_88_jpg.rf.356e7135a3e2e1e0924e9fa373ad8dd1.jpg  \n",
      " extracting: train/images/V006_79_1_15_07_03_12_1_5322z_20201111_88_jpg.rf.462624517b9c566323d578c803506dfc.jpg  \n",
      " extracting: train/images/V006_79_1_15_07_03_12_1_5322z_20201111_88_jpg.rf.897d1cfd55419f6115ecb7e49702ea24.jpg  \n",
      " extracting: train/images/V006_79_1_15_07_03_12_1_5322z_20201111_88_jpg.rf.ba53e413a56dcbd19642aa0ecaec7e43.jpg  \n",
      " extracting: train/images/V006_79_1_15_07_03_12_1_5322z_20201111_88_jpg.rf.fb79162bccacb86a139c013cd73fa492.jpg  \n",
      " extracting: train/images/V006_79_1_15_07_03_12_1_5322z_20201111_96_jpg.rf.9cb4de4f9f71f3b2e26dbbbcf88380b9.jpg  \n",
      " extracting: train/images/V006_79_1_15_07_03_12_1_5322z_20201111_96_jpg.rf.d8746e3a1fe236c28543ca468c8e2f7f.jpg  \n",
      " extracting: train/images/V006_79_1_15_07_03_12_1_5322z_20201111_96_jpg.rf.dc71475e65eb6fea81b71472da9c8c83.jpg  \n",
      " extracting: train/images/V006_79_1_15_07_03_12_1_5322z_20201118_101_jpg.rf.1957c328cc5908cdc59c8b5cb27c42c8.jpg  \n",
      " extracting: train/images/V006_79_1_15_07_03_12_1_5322z_20201118_101_jpg.rf.2ce060155c001b193453042854237e1e.jpg  \n",
      " extracting: train/images/V006_79_1_15_07_03_12_1_5322z_20201118_101_jpg.rf.e6aa937899e884a25e467c5d53380813.jpg  \n",
      " extracting: train/images/V006_79_1_15_07_03_12_1_5322z_20201119_120_jpg.rf.5a33b6e11c5b81b3c66d040a5a171e18.jpg  \n",
      " extracting: train/images/V006_79_1_15_07_03_12_1_5322z_20201119_120_jpg.rf.8128ec1f025a0d7b06c22bd0dc57cf2d.jpg  \n",
      " extracting: train/images/V006_79_1_15_07_03_12_1_5322z_20201119_120_jpg.rf.9970d9cf7269178722f8f6d6ab257745.jpg  \n",
      " extracting: train/images/V006_79_1_15_07_03_12_1_5322z_20201119_120_jpg.rf.a52ea6dafa892fd1c7928fdb110e2da9.jpg  \n",
      " extracting: train/images/V006_79_1_15_07_03_12_1_5322z_20201119_120_jpg.rf.ace5d37103c43d3a959f60a6b67cd29b.jpg  \n",
      " extracting: train/images/V006_79_1_15_07_03_12_1_5322z_20201119_120_jpg.rf.b7d5b4f2101ebd66b20679838eb93757.jpg  \n",
      " extracting: train/images/V006_79_1_15_07_03_12_1_5322z_20201124_105_jpg.rf.55d160c36800624cfe6202b3a6c63114.jpg  \n",
      " extracting: train/images/V006_79_1_15_07_03_12_1_5322z_20201124_105_jpg.rf.84153dd911ed6687cdeef41d86596dce.jpg  \n",
      " extracting: train/images/V006_79_1_15_07_03_12_1_5322z_20201124_105_jpg.rf.8adcf43fc1ebc6f9a383fe06d5177103.jpg  \n",
      " extracting: train/images/V006_79_1_15_07_03_12_1_5322z_20201124_105_jpg.rf.c49161faffeb348c3169106e907ad115.jpg  \n",
      " extracting: train/images/V006_79_1_15_07_03_12_1_5322z_20201124_105_jpg.rf.d86f676e88f9647e651f6125d259cd45.jpg  \n",
      " extracting: train/images/V006_79_1_15_07_03_12_1_5322z_20201124_105_jpg.rf.f3c2ad797a03c6122b86b585d4d68f56.jpg  \n",
      " extracting: train/images/V006_79_1_15_07_03_12_1_5322z_20201126_107_jpg.rf.30ce16e72c2837975705275a99a4db3e.jpg  \n",
      " extracting: train/images/V006_79_1_15_07_03_12_1_5322z_20201126_107_jpg.rf.703e23d87b708e00069eac94e7b1f38e.jpg  \n",
      " extracting: train/images/V006_79_1_15_07_03_12_1_5322z_20201126_107_jpg.rf.7924620081d5064e7033fd97bf5bee16.jpg  \n",
      " extracting: train/images/V006_79_1_15_07_03_12_1_5322z_20201126_107_jpg.rf.b87e92657dbf5b74750c72dcc073d579.jpg  \n",
      " extracting: train/images/V006_79_1_15_07_03_12_1_5322z_20201126_107_jpg.rf.d0b8f4fa0f1f9c6c8968b085ea324e83.jpg  \n",
      " extracting: train/images/V006_79_1_15_07_03_12_1_8540w_20201123_50_jpg.rf.0af7142e9baf00a9a35f9aef04e4606e.jpg  \n",
      " extracting: train/images/V006_79_1_15_07_03_12_1_8540w_20201123_50_jpg.rf.92a90e373b4cdcbcabd7d65de3e70c4e.jpg  \n",
      " extracting: train/images/V006_79_1_15_07_03_12_1_8540w_20201123_50_jpg.rf.cd451205646d0ea80a35c0e2b2561521.jpg  \n",
      " extracting: train/images/V006_79_1_15_07_03_12_1_8540w_20201124_51_jpg.rf.1d2694610b80fe638d29df892ee72d51.jpg  \n",
      " extracting: train/images/V006_79_1_15_07_03_12_1_8540w_20201124_51_jpg.rf.27489dbb4757263a1aa94df16cf29a18.jpg  \n",
      " extracting: train/images/V006_79_1_15_07_03_12_1_8540w_20201124_51_jpg.rf.28c205bc6e19d4cf705adb52f6dd876b.jpg  \n",
      " extracting: train/images/V006_79_1_15_07_03_12_1_8540w_20201124_51_jpg.rf.5ebceaa29ecc3d9605c7c25d614996ad.jpg  \n",
      " extracting: train/images/V006_79_1_15_07_03_12_1_8540w_20201124_51_jpg.rf.6780869c1e8defbe5ea30cbdd91cb815.jpg  \n",
      " extracting: train/images/V006_79_1_15_07_03_12_1_8540w_20201124_51_jpg.rf.8a4baaf0c28146f97bbcb561f4a9c8d7.jpg  \n",
      " extracting: train/images/V006_79_1_15_07_03_12_1_8540w_20201124_51_jpg.rf.99d7247c56fde72d945692d42c6228bc.jpg  \n",
      " extracting: train/images/V006_79_1_15_07_03_12_1_8540w_20201124_51_jpg.rf.c378c631a1416564c9c01a615525663f.jpg  \n",
      " extracting: train/images/V006_79_1_15_07_03_12_1_8540w_20201124_51_jpg.rf.f2214beeed7bdfa6ff90edf5296176c5.jpg  \n",
      " extracting: train/images/V006_79_1_15_07_03_12_1_8540w_20201125_106_jpg.rf.15de15356c10b228825cfd63155f5bf3.jpg  \n",
      " extracting: train/images/V006_79_1_15_07_03_12_1_8540w_20201125_106_jpg.rf.3798321c07426aee60219741173f4c31.jpg  \n",
      " extracting: train/images/V006_79_1_15_07_03_12_1_8540w_20201126_35_jpg.rf.285aae334529c01e8b0f5e77ce58505a.jpg  \n",
      " extracting: train/images/V006_79_1_15_07_03_12_1_8540w_20201126_35_jpg.rf.9e2c8b9e70b26d67d4e510f5a8059f71.jpg  \n",
      " extracting: train/images/V006_79_1_15_07_03_12_1_8540w_20201126_35_jpg.rf.ae84c050d8e70c8012d43a274275e5bd.jpg  \n",
      " extracting: train/images/V006_79_1_15_07_03_12_1_8540w_20201126_35_jpg.rf.c763b6d4e9536ed5cf4bbcc7fd711a76.jpg  \n",
      " extracting: train/images/V006_79_1_15_07_03_12_1_8540w_20201126_35_jpg.rf.f457feacb6c1081858947f1ea66fbc64.jpg  \n",
      " extracting: train/images/V006_79_1_15_07_03_12_2_3248bb_20201104_1_jpg.rf.430d8c78eb932bead0191871fc01460d.jpg  \n",
      " extracting: train/images/V006_79_1_15_07_03_12_2_3248bb_20201104_1_jpg.rf.4dd44d3fa2b30a1830e8cc3ab2ba62f1.jpg  \n",
      " extracting: train/images/V006_79_1_15_07_03_12_2_3248bb_20201104_1_jpg.rf.4e6dae861e67b72be9d8c9d4d64de686.jpg  \n",
      " extracting: train/images/V006_79_1_15_07_03_12_2_3248bb_20201104_1_jpg.rf.8c19500a05c78804e7500f4dcbe6db2c.jpg  \n",
      " extracting: train/images/V006_79_1_15_07_03_12_2_3248bb_20201104_1_jpg.rf.a8a51ef2c40438fe76de7af49359c061.jpg  \n",
      " extracting: train/images/V006_79_1_15_07_03_12_2_3248bb_20201104_1_jpg.rf.bc3a0444217081a0f1ed51a4cb1ddb1b.jpg  \n",
      " extracting: train/images/V006_79_1_15_07_03_12_2_3248bb_20201104_1_jpg.rf.cec5bf0ad35be3ae1da7bad2bad6b40d.jpg  \n",
      " extracting: train/images/V006_79_1_15_07_03_12_2_3248bb_20201104_1_jpg.rf.d51494968294860f2fa015b4462df7b6.jpg  \n",
      " extracting: train/images/V006_79_1_15_07_03_12_2_3248bb_20201104_1_jpg.rf.ffdd30d75b2824da8e82993a54ab735e.jpg  \n",
      " extracting: train/images/V006_79_1_15_07_03_12_2_5322z_20201104_13_jpg.rf.0867a3cfed44b05bdf32014f10104929.jpg  \n",
      " extracting: train/images/V006_79_1_15_07_03_12_2_5322z_20201104_13_jpg.rf.15ec30d30fb5abed39611ce6b0c36ad2.jpg  \n",
      " extracting: train/images/V006_79_1_15_07_03_12_2_5322z_20201104_13_jpg.rf.24bd61f764f4ed0e9ecb0fef3787a9aa.jpg  \n",
      " extracting: train/images/V006_79_1_15_07_03_12_2_5322z_20201104_13_jpg.rf.3284dbbb90a96ba7738df90483808076.jpg  \n",
      " extracting: train/images/V006_79_1_15_07_03_12_2_5322z_20201104_13_jpg.rf.6ef74b591f0219d7a1254786cebfceb0.jpg  \n",
      " extracting: train/images/V006_79_1_15_07_03_12_2_5322z_20201104_13_jpg.rf.a382ad86832ab47bc2e4c724b1bf8c22.jpg  \n",
      " extracting: train/images/V006_79_1_15_07_03_12_2_5322z_20201104_19_jpg.rf.3682e8a9b12029c986ee38317a5fb82e.jpg  \n",
      " extracting: train/images/V006_79_1_15_07_03_12_2_5322z_20201104_19_jpg.rf.71070dd1ecc7cd56638ca8f673861bab.jpg  \n",
      " extracting: train/images/V006_79_1_15_07_03_12_2_5322z_20201104_55_jpg.rf.1342520a0321bd516659cb20888a6ed0.jpg  \n",
      " extracting: train/images/V006_79_1_15_07_03_12_2_5322z_20201104_55_jpg.rf.e2521fe0478199978bbcfbf11133802b.jpg  \n",
      " extracting: train/images/V006_79_1_15_07_03_12_2_5322z_20201105_14_jpg.rf.6898a97e674eb6838c06bde09ca6049f.jpg  \n",
      " extracting: train/images/V006_79_1_15_07_03_12_2_5322z_20201105_14_jpg.rf.6fad954e6e3d52ba7bcacde8cdb0dd8b.jpg  \n",
      " extracting: train/images/V006_79_1_15_07_03_12_2_5322z_20201105_14_jpg.rf.aac977bf88f6d3df5438bd4f9178a6e3.jpg  \n",
      " extracting: train/images/V006_79_1_15_07_03_12_2_5322z_20201105_75_jpg.rf.4cefa66458998496dc5814b930e225d7.jpg  \n",
      " extracting: train/images/V006_79_1_15_07_03_12_2_5322z_20201105_75_jpg.rf.cb5da9ebf0a24a689a31b8c3e5c42aaa.jpg  \n",
      " extracting: train/images/V006_79_1_15_07_03_12_2_8540w_20201104_135_jpg.rf.291e02bc4bb4e72f1833bc22d8eb1f12.jpg  \n",
      " extracting: train/images/V006_79_1_15_07_03_12_2_8540w_20201104_135_jpg.rf.61b8be15aa19c86eef37607d6cc81601.jpg  \n",
      " extracting: train/images/V006_79_1_15_07_03_12_2_8540w_20201104_135_jpg.rf.77f9ae5c6ff34892f8b60f7f1fd55c4b.jpg  \n",
      " extracting: train/images/V006_79_1_15_07_03_12_2_8540w_20201104_135_jpg.rf.8aaa2bf3be979c078e7775ac33975208.jpg  \n",
      " extracting: train/images/V006_79_1_15_07_03_12_2_8540w_20201104_135_jpg.rf.e3aab038e158d2dfcd7f5f058fa70c80.jpg  \n",
      " extracting: train/images/V006_79_1_15_07_03_12_2_8540w_20201104_136_jpg.rf.01668c51bf6098edc628ab065748427d.jpg  \n",
      " extracting: train/images/V006_79_1_15_07_03_12_2_8540w_20201104_136_jpg.rf.35b567b9554a11361be76e103a78be5f.jpg  \n",
      " extracting: train/images/V006_79_1_15_07_03_12_2_8540w_20201104_136_jpg.rf.60cf95a7613bd2695df23a1862b29109.jpg  \n",
      " extracting: train/images/V006_79_1_15_07_03_12_2_8540w_20201104_136_jpg.rf.8584d47699c0aa3f8232cc6998efb951.jpg  \n",
      " extracting: train/images/V006_79_1_15_07_03_12_2_8540w_20201104_136_jpg.rf.a3b53ea16abe54d586359a121f0c247d.jpg  \n",
      " extracting: train/images/V006_79_1_15_07_03_12_2_8540w_20201104_136_jpg.rf.bf93d7a67c9bb9d942f070e5ab07e0be.jpg  \n",
      " extracting: train/images/V006_79_1_15_07_03_12_2_8540w_20201104_136_jpg.rf.c7bc8a254d4f2317a1e0e1bc33c38f56.jpg  \n",
      " extracting: train/images/V006_79_1_15_07_03_12_2_8540w_20201104_136_jpg.rf.e21a2f62e7249d837f15a06c03d34186.jpg  \n",
      " extracting: train/images/V006_79_1_15_07_03_12_2_8540w_20201104_136_jpg.rf.fcb749499033fb5968d781126ac95bf8.jpg  \n",
      " extracting: train/images/V006_79_1_15_07_03_12_2_8540w_20201104_13_jpg.rf.009cc7b0f8843604198821f99cddcecd.jpg  \n",
      " extracting: train/images/V006_79_1_15_07_03_12_2_8540w_20201104_13_jpg.rf.3c63a4cd1d9aaac14644c0f718b5f483.jpg  \n",
      " extracting: train/images/V006_79_1_15_07_03_12_2_8540w_20201104_13_jpg.rf.68cabaad670d7ec86b50fefeaf446ff6.jpg  \n",
      " extracting: train/images/V006_79_1_15_07_03_12_2_8540w_20201104_13_jpg.rf.804f75d6586076eb7295930df5e55e90.jpg  \n",
      " extracting: train/images/V006_79_1_15_07_03_12_2_8540w_20201104_13_jpg.rf.ffef0f368d026b73693da6390d485d68.jpg  \n",
      " extracting: train/images/V006_79_1_15_07_03_12_2_8540w_20201104_145_jpg.rf.06fbf09447f9e100031db1366354ee56.jpg  \n",
      " extracting: train/images/V006_79_1_15_07_03_12_2_8540w_20201104_145_jpg.rf.44d8c3d55162866cb97b5ba430ba0919.jpg  \n",
      " extracting: train/images/V006_79_1_15_07_03_12_2_8540w_20201104_145_jpg.rf.78996c05474fd1a2fa8f41be1d87a154.jpg  \n",
      " extracting: train/images/V006_79_1_15_07_03_12_2_8540w_20201104_145_jpg.rf.9a3639e68164b41da4c9214fcdb8c3d5.jpg  \n",
      " extracting: train/images/V006_79_1_15_07_03_12_2_8540w_20201104_145_jpg.rf.a45b18c539cee7a207a9aa3d158ea862.jpg  \n",
      " extracting: train/images/V006_79_1_15_07_03_12_2_8540w_20201104_145_jpg.rf.ab97484e53829191a77f344e6735ba1e.jpg  \n",
      " extracting: train/images/V006_79_1_15_07_03_12_2_8540w_20201104_145_jpg.rf.b324301b099b81b31ab8b456c5f67bbe.jpg  \n",
      " extracting: train/images/V006_79_1_15_07_03_12_2_8540w_20201104_145_jpg.rf.d70f302a3942aa035960e097a97cfeca.jpg  \n",
      " extracting: train/images/V006_79_1_15_07_03_12_2_8540w_20201104_145_jpg.rf.e22737005562a33f1a3cdcd5309dd517.jpg  \n",
      " extracting: train/images/V006_79_1_15_07_03_12_2_8540w_20201104_163_jpg.rf.3577ce86b554adbc5aa7435389369060.jpg  \n",
      " extracting: train/images/V006_79_1_15_07_03_12_2_8540w_20201104_163_jpg.rf.a659035fc1b35467d921690303800f0e.jpg  \n",
      " extracting: train/images/V006_79_1_15_07_03_12_2_8540w_20201104_163_jpg.rf.a9b1c9d2e4e08e25ff82a2d909303625.jpg  \n",
      " extracting: train/images/V006_79_1_15_07_03_12_2_8540w_20201104_181_jpg.rf.14675f9b85324b1ba1b9afca66b6cd62.jpg  \n",
      " extracting: train/images/V006_79_1_15_07_03_12_2_8540w_20201104_181_jpg.rf.1c07234d86f0c19f15b8cbdf68af3d2b.jpg  \n",
      " extracting: train/images/V006_79_1_15_07_03_12_2_8540w_20201104_181_jpg.rf.1d0fceabf87e734c5d844d1c0d55b5f9.jpg  \n",
      " extracting: train/images/V006_79_1_15_07_03_12_2_8540w_20201104_181_jpg.rf.22472cc39851896ad0238915dda53678.jpg  \n",
      " extracting: train/images/V006_79_1_15_07_03_12_2_8540w_20201104_181_jpg.rf.31852e65ac9ccef89daee54a6cd5a45b.jpg  \n",
      " extracting: train/images/V006_79_1_15_07_03_12_2_8540w_20201104_181_jpg.rf.73facb1f5dd20d9da940be6db11e3cc5.jpg  \n",
      " extracting: train/images/V006_79_1_15_07_03_12_2_8540w_20201104_181_jpg.rf.81c1aa72736983fe2630636e9511385a.jpg  \n",
      " extracting: train/images/V006_79_1_15_07_03_12_2_8540w_20201104_181_jpg.rf.f5ca2d94dc9288158b470ef7a1ce4700.jpg  \n",
      " extracting: train/images/V006_79_1_15_07_03_12_2_8540w_20201104_19_jpg.rf.2859565a442c7e3f1b4d1c3eb5b4708d.jpg  \n",
      " extracting: train/images/V006_79_1_15_07_03_12_2_8540w_20201104_19_jpg.rf.a1a1554a1edb51f751b089ff1a573a07.jpg  \n",
      " extracting: train/images/V006_79_1_15_07_03_12_2_8540w_20201104_19_jpg.rf.b821da2a1d1ca741e2c4b028f3c49e9e.jpg  \n",
      " extracting: train/images/V006_79_1_15_07_03_12_2_8540w_20201104_19_jpg.rf.c1f9a3a680f484b6998f43bb5a359389.jpg  \n",
      " extracting: train/images/V006_79_1_15_07_03_12_2_8540w_20201104_19_jpg.rf.cdd41e606bc6044f5537dca495848cfa.jpg  \n",
      " extracting: train/images/V006_79_1_15_07_03_12_2_8540w_20201104_19_jpg.rf.f8fbb68b2ebb90f05027c1afab92724d.jpg  \n",
      " extracting: train/images/V006_79_1_15_07_03_12_2_8540w_20201104_27_jpg.rf.3573f4799f1070d9788bed336dae9663.jpg  \n",
      " extracting: train/images/V006_79_1_15_07_03_12_2_8540w_20201104_27_jpg.rf.be699021b9870796ccc0a35eee2687af.jpg  \n",
      " extracting: train/images/V006_79_1_15_07_03_12_2_8540w_20201104_27_jpg.rf.f5c3bc618d42b648131122d032d8d285.jpg  \n",
      " extracting: train/images/V006_79_1_15_07_03_12_2_8540w_20201105_128_jpg.rf.1ae8f6d8f82c2a5f12b4051cc2100406.jpg  \n",
      " extracting: train/images/V006_79_1_15_07_03_12_2_8540w_20201105_128_jpg.rf.495d81b035e790b06fa6754dec677f48.jpg  \n",
      " extracting: train/images/V006_79_1_15_07_03_12_2_8540w_20201105_128_jpg.rf.83981563575218f72f51e8e581c775cf.jpg  \n",
      " extracting: train/images/V006_79_1_15_07_03_12_2_8540w_20201105_128_jpg.rf.94ea1fbb62e871e56bc084f70a4c5654.jpg  \n",
      " extracting: train/images/V006_79_1_15_07_03_12_2_8540w_20201105_128_jpg.rf.971cfc9492c8d28a0ce1f98fe6833517.jpg  \n",
      " extracting: train/images/V006_79_1_15_07_03_12_2_8540w_20201105_128_jpg.rf.9ae14c2634761a4d70b09a2e897c6eae.jpg  \n",
      " extracting: train/images/V006_79_1_15_07_03_12_2_8540w_20201105_128_jpg.rf.a5ddf9b9d156734d7612b17e9a332747.jpg  \n",
      " extracting: train/images/V006_79_1_15_07_03_12_2_8540w_20201105_128_jpg.rf.c9a074f023f9d2be354791c660044ca8.jpg  \n",
      " extracting: train/images/V006_79_1_15_07_03_12_2_8540w_20201105_128_jpg.rf.e159030ef015cb1af2b6dc38c038bddb.jpg  \n",
      " extracting: train/images/V006_79_1_15_07_03_12_2_8540w_20201105_138_jpg.rf.1cf388f8643e3d79db4569cbcf0a5927.jpg  \n",
      " extracting: train/images/V006_79_1_15_07_03_12_2_8540w_20201105_138_jpg.rf.213822deeb9e09820121e429a42fed03.jpg  \n",
      " extracting: train/images/V006_79_1_15_07_03_12_2_8540w_20201105_138_jpg.rf.c3245a14804ec038e2f1da23fd531d1b.jpg  \n",
      " extracting: train/images/V006_79_1_15_07_03_12_2_8540w_20201105_146_jpg.rf.0908180e1d2f9d387bc0bc4c670ae68e.jpg  \n",
      " extracting: train/images/V006_79_1_15_07_03_12_2_8540w_20201105_146_jpg.rf.4820f067b9ccc1bc37bc0522636b74c8.jpg  \n",
      " extracting: train/images/V006_79_1_15_07_03_12_2_8540w_20201105_146_jpg.rf.8101c529270b0c52a5cd415fa6b638f3.jpg  \n",
      " extracting: train/images/V006_79_1_15_07_03_12_2_8540w_20201105_146_jpg.rf.82db9580abaa7a4e30283dfe96c6f0de.jpg  \n",
      " extracting: train/images/V006_79_1_15_07_03_12_2_8540w_20201105_146_jpg.rf.a7b31f58aba18df29404754fd0172050.jpg  \n",
      " extracting: train/images/V006_79_1_15_07_03_12_2_8540w_20201105_146_jpg.rf.b0eb3d63fff33c1d15a0e7ad2fbecc6f.jpg  \n",
      " extracting: train/images/V006_79_1_15_07_03_12_2_8540w_20201105_14_jpg.rf.1aa5a515279983380dcc800dd313f7ae.jpg  \n",
      " extracting: train/images/V006_79_1_15_07_03_12_2_8540w_20201105_14_jpg.rf.67c65af8a99132013982d7c3a0ee85f1.jpg  \n",
      " extracting: train/images/V006_79_1_15_07_03_12_2_8540w_20201105_14_jpg.rf.94f25addb1ab4c1f0ea1c183f592b433.jpg  \n",
      " extracting: train/images/V006_79_1_15_07_03_12_2_8540w_20201105_14_jpg.rf.9d15102bba2a90128c2e46fc02d092bd.jpg  \n",
      " extracting: train/images/V006_79_1_15_07_03_12_2_8540w_20201105_14_jpg.rf.9f06311654830c18d4d91a339be1acea.jpg  \n",
      " extracting: train/images/V006_79_1_15_07_03_12_2_8540w_20201105_14_jpg.rf.fe65973d6d97013f0c0016a8a1a16515.jpg  \n",
      " extracting: train/images/V006_79_1_15_07_03_12_2_8540w_20201105_182_jpg.rf.3c00616bbf659b0fbc3db81bc48d553f.jpg  \n",
      " extracting: train/images/V006_79_1_15_07_03_12_2_8540w_20201105_182_jpg.rf.56c9f92334a752d5b4a1f56d53baef05.jpg  \n",
      " extracting: train/images/V006_79_1_15_07_03_12_2_8540w_20201105_182_jpg.rf.6eab5b8b540189e146f4fdb5e61c64f2.jpg  \n",
      " extracting: train/images/V006_79_1_15_07_03_12_2_8540w_20201105_182_jpg.rf.6f00d379958473a058a87b9636c697b2.jpg  \n",
      " extracting: train/images/V006_79_1_15_07_03_12_2_8540w_20201105_182_jpg.rf.7a13667f4bfc271aea1898f8b6bac834.jpg  \n",
      " extracting: train/images/V006_79_1_15_07_03_12_2_8540w_20201105_182_jpg.rf.ac26593a2f9344f4caf538ada6a0cac5.jpg  \n",
      " extracting: train/images/V006_79_1_15_07_03_12_2_8540w_20201105_182_jpg.rf.c382fb7c4b11ab4717c3981723611b57.jpg  \n",
      " extracting: train/images/V006_79_1_15_07_03_12_2_8540w_20201105_182_jpg.rf.f6b9c05cfb00d5acf23b00df951c3494.jpg  \n",
      " extracting: train/images/V006_79_1_15_07_03_12_2_8540w_20201105_200_jpg.rf.3d03e50afdd0b99f65daa1c03fb67d71.jpg  \n",
      " extracting: train/images/V006_79_1_15_07_03_12_2_8540w_20201105_200_jpg.rf.75cbe3b42441f0cb92197b04e26ae965.jpg  \n",
      " extracting: train/images/V006_79_1_15_07_03_12_2_8540w_20201105_200_jpg.rf.8445acc2c8feee4e92d719eb93756ed3.jpg  \n",
      " extracting: train/images/V006_79_1_15_07_03_12_2_8540w_20201105_200_jpg.rf.8ad9a01af5aee4a254b69efeec428430.jpg  \n",
      " extracting: train/images/V006_79_1_15_07_03_12_2_8540w_20201105_200_jpg.rf.c61468ab4f054e886641c8b99fec099b.jpg  \n",
      " extracting: train/images/V006_79_1_15_07_03_12_2_8540w_20201105_200_jpg.rf.e70856f0a1b0fd1040f064a692d42401.jpg  \n",
      " extracting: train/images/V006_79_1_15_07_03_12_2_8540w_20201105_28_jpg.rf.0b30e5dce06c12ee877f35d16433a995.jpg  \n",
      " extracting: train/images/V006_79_1_15_07_03_12_2_8540w_20201105_28_jpg.rf.2b410ab96ecbfaf4f384479c12ce94b8.jpg  \n",
      " extracting: train/images/V006_79_1_15_07_03_12_2_8540w_20201105_28_jpg.rf.3b588ee4adee5bcea9d69688fd82f2bc.jpg  \n",
      " extracting: train/images/V006_79_1_15_07_03_12_2_8540w_20201105_28_jpg.rf.4afa1bf39744f2c386de38cd7b80a338.jpg  \n",
      " extracting: train/images/V006_79_1_15_07_03_12_2_8540w_20201105_28_jpg.rf.99c47d11874c2917f58510537285e541.jpg  \n",
      " extracting: train/images/V006_79_1_15_07_03_12_2_8540w_20201105_28_jpg.rf.fe852f7927b73b4ed20fb090b194da47.jpg  \n",
      " extracting: train/images/V006_79_1_15_07_03_12_2_8540w_20201105_2_jpg.rf.259fb0c7599a1719f1c7de6462eaf346.jpg  \n",
      " extracting: train/images/V006_79_1_15_07_03_12_2_8540w_20201105_2_jpg.rf.383b556750805247d2c359969257ab55.jpg  \n",
      " extracting: train/images/V006_79_1_15_07_03_12_2_8540w_20201105_2_jpg.rf.5c96418384835bd101cce9b2b9f2c010.jpg  \n",
      " extracting: train/images/V006_79_1_15_07_03_12_2_8540w_20201105_2_jpg.rf.b9084ef192194dc77fd8e9bf3e968b66.jpg  \n",
      " extracting: train/images/V006_79_1_15_07_03_12_2_8540w_20201105_2_jpg.rf.c4c3654eef0933f5163067a27c455f78.jpg  \n",
      " extracting: train/images/V006_79_1_15_07_03_12_2_8540w_20201105_6_jpg.rf.79f3a61b456071df411fa39dbb5e2d96.jpg  \n",
      " extracting: train/images/V006_79_1_15_07_03_12_2_8540w_20201105_6_jpg.rf.afb602de5667927bedcb4cee95dc2338.jpg  \n",
      " extracting: train/images/V006_79_1_15_07_03_12_2_8540w_20201105_6_jpg.rf.d7daf722ef612aa80171dc08d831603f.jpg  \n",
      " extracting: train/images/V006_79_1_15_07_03_12_2_8540w_20201105_6_jpg.rf.dbf938e2eb37f41781f99f3059ebb1ae.jpg  \n",
      " extracting: train/images/V006_79_1_15_07_03_12_2_8540w_20201105_6_jpg.rf.f37fa891bd55b897f0a01d2fa25124d1.jpg  \n",
      " extracting: train/images/V006_79_1_15_07_03_12_2_8540w_20201105_92_jpg.rf.1e1ec42c852787ffd5c978dd390b1614.jpg  \n",
      " extracting: train/images/V006_79_1_15_07_03_12_2_8540w_20201105_92_jpg.rf.2699a6c7b4a9cdb4874b8c2bc50e3c5a.jpg  \n",
      " extracting: train/images/V006_79_1_15_07_03_12_2_8540w_20201105_92_jpg.rf.7a13a64bbbf0b1371fff70274e7da0f6.jpg  \n",
      " extracting: train/images/V006_79_1_15_07_03_12_2_8540w_20201106_11_jpg.rf.35a73d579ada97b9b362c6fb63bb5b95.jpg  \n",
      " extracting: train/images/V006_79_1_15_07_03_12_2_8540w_20201106_11_jpg.rf.3c3e258cd183a7d9bde02507fc7d68d7.jpg  \n",
      " extracting: train/images/V006_79_1_15_07_03_12_2_8540w_20201106_11_jpg.rf.4f3843d2404ab81c78125529344febe7.jpg  \n",
      " extracting: train/images/V006_79_1_15_07_03_12_2_8540w_20201106_11_jpg.rf.8c316be4c17473b2c7765460d972e626.jpg  \n",
      " extracting: train/images/V006_79_1_15_07_03_12_2_8540w_20201106_11_jpg.rf.a2e6fd0d93b707a1ae6b7ca15b473678.jpg  \n",
      " extracting: train/images/V006_79_1_15_07_03_12_2_8540w_20201106_11_jpg.rf.a9cabd06667352e2d55b677a4dc4c032.jpg  \n",
      " extracting: train/images/V006_79_1_15_07_03_12_2_8540w_20201106_11_jpg.rf.e2343f1f8907084128cf86cc9eca9192.jpg  \n",
      " extracting: train/images/V006_79_1_15_07_03_12_2_8540w_20201106_11_jpg.rf.ff052740afbd58095656837242f2eb10.jpg  \n",
      " extracting: train/images/V006_79_1_15_07_03_12_2_8540w_20201106_129_jpg.rf.a1e3a75c36e8fe46281ecc0841aa0b1e.jpg  \n",
      " extracting: train/images/V006_79_1_15_07_03_12_2_8540w_20201106_129_jpg.rf.ad873761900d99d78de4ac7093d2a3a8.jpg  \n",
      " extracting: train/images/V006_79_1_15_07_03_12_2_8540w_20201106_183_jpg.rf.9b57083d0587bc92726e388a98f1f4e1.jpg  \n",
      " extracting: train/images/V006_79_1_15_07_03_12_2_8540w_20201106_183_jpg.rf.c3e63c8eebb2f50e8998f382ab5a9778.jpg  \n",
      " extracting: train/images/V006_79_1_15_07_03_12_2_8540w_20201106_183_jpg.rf.cede253bb557826fda19480f7f8a07e5.jpg  \n",
      " extracting: train/images/V006_79_1_15_07_03_12_2_8540w_20201106_21_jpg.rf.131c269a08df19780380740a9c017ef8.jpg  \n",
      " extracting: train/images/V006_79_1_15_07_03_12_2_8540w_20201106_21_jpg.rf.644c446c252e45d91245175d22417979.jpg  \n",
      " extracting: train/images/V006_79_1_15_07_03_12_2_8540w_20201106_21_jpg.rf.a16939bb22cb9fda0ff1071ef0af1916.jpg  \n",
      " extracting: train/images/V006_79_1_15_07_03_12_2_8540w_20201106_21_jpg.rf.e5f9d92d5837a4175df04619b95e01ea.jpg  \n",
      " extracting: train/images/V006_79_1_15_07_03_12_2_8540w_20201106_21_jpg.rf.fdda5a22f48df758b5a4ca6c09dbd85a.jpg  \n",
      " extracting: train/images/V006_79_1_15_07_03_12_2_8540w_20201106_29_jpg.rf.49dcaf02048c23cbb10711c33379f6fb.jpg  \n",
      " extracting: train/images/V006_79_1_15_07_03_12_2_8540w_20201106_29_jpg.rf.da8f3fec9231986e566e538092c8b5fa.jpg  \n",
      " extracting: train/images/V006_79_1_15_07_03_12_2_8540w_20201106_29_jpg.rf.e497c2fd6f7b8aaee266bd682e8a487d.jpg  \n",
      " extracting: train/images/V006_79_1_15_07_03_12_2_8540w_20201109_12_jpg.rf.1a4fc92ca706f9ba021dc1096ce2c4b3.jpg  \n",
      " extracting: train/images/V006_79_1_15_07_03_12_2_8540w_20201109_12_jpg.rf.541b2f8787d1dfd233290030aae818ba.jpg  \n",
      " extracting: train/images/V006_79_1_15_07_03_12_2_8540w_20201109_12_jpg.rf.67f6dd64f3d31946242fd6c5ca7a57df.jpg  \n",
      " extracting: train/images/V006_79_1_15_07_03_12_2_8540w_20201109_12_jpg.rf.70b7c7ed20c792fa4edfd730aeca25fb.jpg  \n",
      " extracting: train/images/V006_79_1_15_07_03_12_2_8540w_20201109_12_jpg.rf.a9f37a6c1381d4a14803035eaba45714.jpg  \n",
      " extracting: train/images/V006_79_1_15_07_03_12_2_8540w_20201109_12_jpg.rf.c1c7fc2ebf7e4d254b34941425d8f3f2.jpg  \n",
      " extracting: train/images/V006_79_1_15_07_03_12_2_8540w_20201109_12_jpg.rf.ca0b469c97bf5fa3dc6fb0f03332ecd0.jpg  \n",
      " extracting: train/images/V006_79_1_15_07_03_12_2_8540w_20201109_12_jpg.rf.e661976025890431f2f234e436f71f4f.jpg  \n",
      " extracting: train/images/V006_79_1_15_07_03_12_2_8540w_20201109_12_jpg.rf.fac975d360196fbaccea9e90ac2dd2ac.jpg  \n",
      " extracting: train/images/V006_79_1_15_07_03_12_2_8540w_20201109_142_jpg.rf.72b71b33fd57634ee34bd6d656d24df2.jpg  \n",
      " extracting: train/images/V006_79_1_15_07_03_12_2_8540w_20201109_142_jpg.rf.c7837c67831f787b49f650f596046289.jpg  \n",
      " extracting: train/images/V006_79_1_15_07_03_12_2_8540w_20201109_148_jpg.rf.1d2e4af3f318e452b078cb280bda25a2.jpg  \n",
      " extracting: train/images/V006_79_1_15_07_03_12_2_8540w_20201109_148_jpg.rf.c10755115a153bb77166d1f487296c1f.jpg  \n",
      " extracting: train/images/V006_79_1_15_07_03_12_2_8540w_20201109_148_jpg.rf.e33750ffdffef06f13b25d5c8387b3a0.jpg  \n",
      " extracting: train/images/V006_79_1_15_07_03_12_2_8540w_20201109_184_jpg.rf.4ccb3c875b779f16cfd0e18ed427df7c.jpg  \n",
      " extracting: train/images/V006_79_1_15_07_03_12_2_8540w_20201109_184_jpg.rf.51a7052dcd10aabe55d1f2865a26cb65.jpg  \n",
      " extracting: train/images/V006_79_1_15_07_03_12_2_8540w_20201109_184_jpg.rf.b37823513630d9b1329b425ae3b84302.jpg  \n",
      " extracting: train/images/V006_79_1_15_07_03_12_2_8540w_20201109_184_jpg.rf.b66fa38ec371f8fb8ba95d9555913bcd.jpg  \n",
      " extracting: train/images/V006_79_1_15_07_03_12_2_8540w_20201109_184_jpg.rf.c683e49d7c16706a819363fa78f495cb.jpg  \n",
      " extracting: train/images/V006_79_1_15_07_03_12_2_8540w_20201109_184_jpg.rf.fe705acf6678064c5f0551deb9267614.jpg  \n",
      " extracting: train/images/V006_79_1_15_07_03_12_2_8540w_20201109_22_jpg.rf.2c9519340a5a2eeaa1c2a6f5505b1a72.jpg  \n",
      " extracting: train/images/V006_79_1_15_07_03_12_2_8540w_20201109_22_jpg.rf.375a188122d9e58618a8810ff270db05.jpg  \n",
      " extracting: train/images/V006_79_1_15_07_03_12_2_8540w_20201109_22_jpg.rf.68c969a453f4822c3597c446b249a10a.jpg  \n",
      " extracting: train/images/V006_79_1_15_07_03_12_2_8540w_20201109_22_jpg.rf.d537d6d8358bed63f72ef577959138e5.jpg  \n",
      " extracting: train/images/V006_79_1_15_07_03_12_2_8540w_20201109_22_jpg.rf.d5c1a9d546f5152e83b176aa6908d834.jpg  \n",
      " extracting: train/images/V006_79_1_15_07_03_12_2_8540w_20201109_30_jpg.rf.0ebe09e02460f91089d78a0a2d702b0f.jpg  \n",
      " extracting: train/images/V006_79_1_15_07_03_12_2_8540w_20201109_30_jpg.rf.1f539b40cd30271be0c3b76d493158cd.jpg  \n",
      " extracting: train/images/V006_79_1_15_07_03_12_2_8540w_20201109_30_jpg.rf.64649f5644ea84216a2c1c21b9ae42b6.jpg  \n",
      " extracting: train/images/V006_79_1_15_07_03_12_2_8540w_20201109_30_jpg.rf.7de7b33039057556a94b7539e3fd79ac.jpg  \n",
      " extracting: train/images/V006_79_1_15_07_03_12_2_8540w_20201109_30_jpg.rf.8a8fd27ea7ac7f4ad7823490dee09fb4.jpg  \n",
      " extracting: train/images/V006_79_1_15_07_03_12_2_8540w_20201109_30_jpg.rf.abbd17457822d4349ed8105baae390f8.jpg  \n",
      " extracting: train/images/V006_79_1_15_07_03_12_2_8540w_20201109_30_jpg.rf.ac420720d0d71c61c03a16e36e2bed43.jpg  \n",
      " extracting: train/images/V006_79_1_15_07_03_12_2_8540w_20201109_30_jpg.rf.b80e536388befb7bc78f7a22c924a014.jpg  \n",
      " extracting: train/images/V006_79_1_15_07_03_12_2_8540w_20201109_30_jpg.rf.bb14f9c126c69a40ee47ce90456b26a2.jpg  \n",
      " extracting: train/images/V006_79_1_15_07_03_12_2_8540w_20201109_8_jpg.rf.21118d1235cac6f329d3f0d95c548b37.jpg  \n",
      " extracting: train/images/V006_79_1_15_07_03_12_2_8540w_20201109_8_jpg.rf.2dc57b2944e99543c26f2a84fe260d45.jpg  \n",
      " extracting: train/images/V006_79_1_15_07_03_12_2_8540w_20201109_8_jpg.rf.348866e4358183a9cd4b55b1b213aaf0.jpg  \n",
      " extracting: train/images/V006_79_1_15_07_03_12_2_8540w_20201109_8_jpg.rf.96165cfd5a1e56743202168537e9ee63.jpg  \n",
      " extracting: train/images/V006_79_1_15_07_03_12_2_8540w_20201109_8_jpg.rf.ef3c21d56b51c5b65eefa9b04392e922.jpg  \n",
      " extracting: train/images/V006_79_1_15_07_03_12_2_8540w_20201109_8_jpg.rf.fbf12d47c652de7c2a5863855154ce01.jpg  \n",
      " extracting: train/images/V006_79_1_15_07_03_12_2_8540w_20201110_149_jpg.rf.1790af0ce5c4951a3397fc585e5336e0.jpg  \n",
      " extracting: train/images/V006_79_1_15_07_03_12_2_8540w_20201110_149_jpg.rf.3802a03d5c53de236fbac3bbaeb098bd.jpg  \n",
      " extracting: train/images/V006_79_1_15_07_03_12_2_8540w_20201110_149_jpg.rf.f88411accd3bc9461c07e8c40edf54c8.jpg  \n",
      " extracting: train/images/V006_79_1_15_07_03_12_2_8540w_20201110_152_jpg.rf.54ff25894ab887e83fd97161009ed6ee.jpg  \n",
      " extracting: train/images/V006_79_1_15_07_03_12_2_8540w_20201110_152_jpg.rf.6660cffe2ee85ca3ddaa7fe817a1b11f.jpg  \n",
      " extracting: train/images/V006_79_1_15_07_03_12_2_8540w_20201110_152_jpg.rf.ea5bd1991b696c96245e3b002e176c03.jpg  \n",
      " extracting: train/images/V006_79_1_15_07_03_12_2_8540w_20201110_59_jpg.rf.049a5e1658b02dc491f64bfe9b0a6c4d.jpg  \n",
      " extracting: train/images/V006_79_1_15_07_03_12_2_8540w_20201110_59_jpg.rf.52df8422f150401ca496c6ec629d466f.jpg  \n",
      " extracting: train/images/V006_79_1_15_07_03_12_2_8540w_20201110_59_jpg.rf.c5bdc9c640a00cba7a13a41afd775ace.jpg  \n",
      " extracting: train/images/V006_79_1_15_07_03_12_2_8540w_20201110_59_jpg.rf.c6149e63dd2d68eb8ee5ea944e9e8b1d.jpg  \n",
      " extracting: train/images/V006_79_1_15_07_03_12_2_8540w_20201110_59_jpg.rf.e591539e1530b5a458fe7ddb75aaa02c.jpg  \n",
      " extracting: train/images/V006_79_1_15_07_03_12_2_8540w_20201110_59_jpg.rf.ebe22c67f176552ef92a6684a04e33b6.jpg  \n",
      " extracting: train/images/V006_79_1_15_07_03_12_2_8540w_20201111_168_jpg.rf.5bb45fae06fe794208ac1bfc58a5e025.jpg  \n",
      " extracting: train/images/V006_79_1_15_07_03_12_2_8540w_20201111_168_jpg.rf.8dada4bf868812b878571725db43c788.jpg  \n",
      " extracting: train/images/V006_79_1_15_07_03_12_2_8540w_20201111_168_jpg.rf.99c95d596b1a82e31d04c5923126a372.jpg  \n",
      " extracting: train/images/V006_79_1_15_07_03_12_2_8540w_20201111_78_jpg.rf.4774633da8bf1ded59f68c0ab4979e15.jpg  \n",
      " extracting: train/images/V006_79_1_15_07_03_12_2_8540w_20201111_78_jpg.rf.6342c496b67502d0d9b0d4cab3c0ced1.jpg  \n",
      " extracting: train/images/V006_79_1_15_07_03_12_2_8540w_20201111_78_jpg.rf.9874f8741f90c4c1681f83f9d09f9b3a.jpg  \n",
      " extracting: train/images/V006_79_1_15_07_03_12_2_8540w_20201111_78_jpg.rf.a29d7e6dce0e33443bec23033bb28a22.jpg  \n",
      " extracting: train/images/V006_79_1_15_07_03_12_2_8540w_20201111_78_jpg.rf.b57ad8e7834c6cc81e9ea6cc916867a7.jpg  \n",
      " extracting: train/images/V006_79_1_15_07_03_12_2_8540w_20201111_78_jpg.rf.f385cad4c273da222b3833bf609d8b8f.jpg  \n",
      " extracting: train/images/V006_79_1_15_07_03_12_2_8540w_20201112_61_jpg.rf.a0745642da92558a20e663720592c339.jpg  \n",
      " extracting: train/images/V006_79_1_15_07_03_12_2_8540w_20201112_61_jpg.rf.be6ce9caa99569c2809fb76504e5d05c.jpg  \n",
      " extracting: train/images/V006_79_1_15_07_03_12_2_8540w_20201112_61_jpg.rf.e9457fefa811f5b7aa557abf5e771253.jpg  \n",
      " extracting: train/images/V006_79_1_15_07_03_12_2_8540w_20201113_188_jpg.rf.01f4871bd322001875b56e5b3666a86a.jpg  \n",
      " extracting: train/images/V006_79_1_15_07_03_12_2_8540w_20201113_188_jpg.rf.33ff4f3bc63b38e943e935c3c1cd24d0.jpg  \n",
      " extracting: train/images/V006_79_1_15_07_03_12_2_8540w_20201113_188_jpg.rf.d99db6c475e27b398999f86800c6c2dc.jpg  \n",
      " extracting: train/images/V006_79_1_15_07_03_12_2_8540w_20201116_189_jpg.rf.19c76f68efb02b127b4ad5f936351dc8.jpg  \n",
      " extracting: train/images/V006_79_1_15_07_03_12_2_8540w_20201116_189_jpg.rf.7745a9401cf86e0f4da2307c7c34dd10.jpg  \n",
      " extracting: train/images/V006_79_1_15_07_03_12_2_8540w_20201116_189_jpg.rf.d36ab7daf005fa652297700b0553541c.jpg  \n",
      " extracting: train/images/V006_79_1_15_07_03_12_2_8540w_20201116_207_jpg.rf.3cea5459b5a15a77d8fff761a1ee6c09.jpg  \n",
      " extracting: train/images/V006_79_1_15_07_03_12_2_8540w_20201116_207_jpg.rf.50b3ce7bb9dc7c3520a93873443bd99a.jpg  \n",
      " extracting: train/images/V006_79_1_15_07_03_12_2_8540w_20201116_207_jpg.rf.710a24abe12d7682cf50273019482fe3.jpg  \n",
      " extracting: train/images/V006_79_1_15_07_03_12_2_8540w_20201116_207_jpg.rf.80fc26539d6ef69728a3b1cf0c809d42.jpg  \n",
      " extracting: train/images/V006_79_1_15_07_03_12_2_8540w_20201116_207_jpg.rf.d613d98acec1be3773f503a22c7ecc10.jpg  \n",
      " extracting: train/images/V006_79_1_15_07_03_12_2_8540w_20201116_45_jpg.rf.2318a30f98ad6940774da8d5cb66b600.jpg  \n",
      " extracting: train/images/V006_79_1_15_07_03_12_2_8540w_20201116_45_jpg.rf.909c4369257c4a8c718922206caf4bd7.jpg  \n",
      " extracting: train/images/V006_79_1_15_07_03_12_2_8540w_20201116_45_jpg.rf.d23c7475f97c4d24ef0bcaf412d11542.jpg  \n",
      " extracting: train/images/V006_79_1_15_07_03_12_2_8540w_20201116_99_jpg.rf.a1a333d6329583cfafede025ef108dbe.jpg  \n",
      " extracting: train/images/V006_79_1_15_07_03_12_2_8540w_20201116_99_jpg.rf.f0eb63a638396da3ac27c7689fe2bc69.jpg  \n",
      " extracting: train/images/V006_79_1_15_07_03_12_2_8540w_20201116_99_jpg.rf.f5b270dd43078ca4163826bb59257533.jpg  \n",
      " extracting: train/images/V006_79_1_15_07_03_12_2_8540w_20201117_172_jpg.rf.14adaeb4f4feb415e9b11f3a6429a673.jpg  \n",
      " extracting: train/images/V006_79_1_15_07_03_12_2_8540w_20201117_172_jpg.rf.303049f9bbe10d946ef2d53a258e105b.jpg  \n",
      " extracting: train/images/V006_79_1_15_07_03_12_2_8540w_20201117_172_jpg.rf.af66053d5528a728a99dfd0c346e35ea.jpg  \n",
      " extracting: train/images/V006_79_1_15_07_03_12_2_8540w_20201118_65_jpg.rf.b99c1f242cfa690dcbaa55363506d479.jpg  \n",
      " extracting: train/images/V006_79_1_15_07_03_12_2_8540w_20201118_65_jpg.rf.f1727e0987398e9bfbef3cbcccdaace2.jpg  \n",
      " extracting: train/images/V006_79_1_15_07_03_12_2_8540w_20201118_65_jpg.rf.fb6f6476f526f165acfad0fca495cd2a.jpg  \n",
      " extracting: train/images/V006_79_1_15_07_03_12_2_8540w_20201118_83_jpg.rf.0053e81a183533c956009ad30a2bb4d6.jpg  \n",
      " extracting: train/images/V006_79_1_15_07_03_12_2_8540w_20201118_83_jpg.rf.1d0a26159b7b660d4b410892f0dad019.jpg  \n",
      " extracting: train/images/V006_79_1_15_07_03_12_2_8540w_20201118_83_jpg.rf.289d2ae25f47d6230025b04e89cb87fe.jpg  \n",
      " extracting: train/images/V006_79_1_15_07_03_12_2_8540w_20201118_83_jpg.rf.4329390d6f818d3941edd671695fb292.jpg  \n",
      " extracting: train/images/V006_79_1_15_07_03_12_2_8540w_20201118_83_jpg.rf.7d0086c714c5b30d1d3308a5c57f3280.jpg  \n",
      " extracting: train/images/V006_79_1_15_07_03_12_2_8540w_20201118_83_jpg.rf.c57a9c5d84e2768000c4d2c7c64b11bd.jpg  \n",
      " extracting: train/images/V006_79_1_15_07_03_12_2_8540w_20201119_120_jpg.rf.0ad3ff75239242dbfe77c29c4824d670.jpg  \n",
      " extracting: train/images/V006_79_1_15_07_03_12_2_8540w_20201119_120_jpg.rf.182ec7c477cc862a8a3810703026a0e4.jpg  \n",
      " extracting: train/images/V006_79_1_15_07_03_12_2_8540w_20201119_120_jpg.rf.417e7e9ebd8a24654962f3d36fae43f7.jpg  \n",
      " extracting: train/images/V006_79_1_15_07_03_12_2_8540w_20201119_48_jpg.rf.2bb68d0d4bcd6ac9c91a638299360b66.jpg  \n",
      " extracting: train/images/V006_79_1_15_07_03_12_2_8540w_20201119_48_jpg.rf.3a823d0ba7bbd95853c8b37e67d39791.jpg  \n",
      " extracting: train/images/V006_79_1_15_07_03_12_2_8540w_20201119_48_jpg.rf.8c2693a730242478d1bfbd33d61dc0f9.jpg  \n",
      " extracting: train/images/V006_79_1_15_07_03_12_2_8540w_20201119_48_jpg.rf.d0973e0e803f244e2b3edef4ce964772.jpg  \n",
      " extracting: train/images/V006_79_1_15_07_03_12_2_8540w_20201119_48_jpg.rf.ed8bb6083688e6b0ef25f08db1537bab.jpg  \n",
      " extracting: train/images/V006_79_1_15_07_03_12_2_8540w_20201120_103_jpg.rf.144bbeeb7a753477a2044d88740a5c50.jpg  \n",
      " extracting: train/images/V006_79_1_15_07_03_12_2_8540w_20201120_103_jpg.rf.80b7d012bcf3161a4ead945b079588b1.jpg  \n",
      " extracting: train/images/V006_79_1_15_07_03_12_2_8540w_20201120_103_jpg.rf.8af1fa1457f4f9d52ff881dc3bb33ec3.jpg  \n",
      " extracting: train/images/V006_79_1_15_07_03_12_2_8540w_20201123_177_jpg.rf.68ab0c566fb677a44d1aa6d9b4c65b0c.jpg  \n",
      " extracting: train/images/V006_79_1_15_07_03_12_2_8540w_20201123_177_jpg.rf.70f91bd9cb6a88126ddcf0f86ad291a8.jpg  \n",
      " extracting: train/images/V006_79_1_15_07_03_12_2_8540w_20201123_177_jpg.rf.f7aef1a82b1421462ebd82463d9d989e.jpg  \n",
      " extracting: train/images/blog_early_blight_628_jpg.rf.0be927b7ab3e9cccdb6721a5fdc30042.jpg  \n",
      " extracting: train/images/blog_early_blight_628_jpg.rf.55f121287272a710d44846b3fece25c1.jpg  \n",
      " extracting: train/images/blog_early_blight_628_jpg.rf.aa87d502f460d884f9d969602eb06271.jpg  \n",
      " extracting: train/images/blog_early_blight_628_jpg.rf.bf78b7fbd33583b4e3620f776250da24.jpg  \n",
      " extracting: train/images/blog_early_blight_628_jpg.rf.e781cdcc72257db6f1f49b60261e7965.jpg  \n",
      " extracting: train/images/blog_early_blight_628_jpg.rf.eef13f797f0487aad91a3d7b0d0c6eeb.jpg  \n",
      " extracting: train/images/early-20blight-tom__jpg.rf.49d08ac50f7cd3699613c4c0a8ac112e.jpg  \n",
      " extracting: train/images/early-20blight-tom__jpg.rf.4ceb3610185b5ea0a4a99bdb7c415a56.jpg  \n",
      " extracting: train/images/early-20blight-tom__jpg.rf.702a970ba62d4f94690a8d4ef1a94277.jpg  \n",
      " extracting: train/images/early-blight-of-tomato-tomato-1_jpg.rf.4e4f0650b0ba4f2bec45b2ed27414823.jpg  \n",
      " extracting: train/images/early-blight-of-tomato-tomato-1_jpg.rf.8f917cbc664d711e6ba5ec12ade87fe5.jpg  \n",
      " extracting: train/images/early-blight-of-tomato-tomato-1_jpg.rf.a8bfb580d001f5d7c842079ba888ea8d.jpg  \n",
      " extracting: train/images/seedling-166-_jpg.rf.1e77db8a401b7371133de3cbd3bac87d.jpg  \n",
      " extracting: train/images/seedling-166-_jpg.rf.40ff5317567a8b32bbff526b40ef531a.jpg  \n",
      " extracting: train/images/seedling-166-_jpg.rf.eda7078e04f77698250d46648bd63c3b.jpg  \n",
      " extracting: train/images/seedling-167-_jpg.rf.510d12d31f6dfe475adf7fae2fda4003.jpg  \n",
      " extracting: train/images/seedling-167-_jpg.rf.8c7d60d5ac18b09cb333184aa9cdc4e0.jpg  \n",
      " extracting: train/images/seedling-169-_jpg.rf.66204b18cd62c2c0b4f2f64b3c2ad80a.jpg  \n",
      " extracting: train/images/seedling-169-_jpg.rf.752df56529d5771423fd07dd9fa85327.jpg  \n",
      " extracting: train/images/seedling-169-_jpg.rf.c9854edbddbee1adac8abef78fef09d1.jpg  \n",
      " extracting: train/images/seedling-186-_jpg.rf.454ba21b11fa3d092d6384e9a2e12912.jpg  \n",
      " extracting: train/images/seedling-186-_jpg.rf.49f34b060565661b2a09ced39aba3ae2.jpg  \n",
      " extracting: train/images/seedling-189-_jpg.rf.5988f873c23ee1fa0d88b4f424447f43.jpg  \n",
      " extracting: train/images/seedling-189-_jpg.rf.dc669a87d78901a9bede9080a984801a.jpg  \n",
      " extracting: train/images/seedling-189-_jpg.rf.e0571b392697f6b73c9b3b4948d4903d.jpg  \n",
      " extracting: train/images/seedling-190-_jpg.rf.1ed393c60fd2dd338fdbd41d9e7b4601.jpg  \n",
      " extracting: train/images/seedling-190-_jpg.rf.7aff36c1661dd491be784488bba65834.jpg  \n",
      " extracting: train/images/seedling-190-_jpg.rf.80d7b85ccaf3bb3cfe9056fd135f55f9.jpg  \n",
      " extracting: train/images/seedling-192-_jpg.rf.09a97a3b8e32c1e047cd8a4ece8bc20b.jpg  \n",
      " extracting: train/images/seedling-192-_jpg.rf.af85d725d00f65804b3698c7bc8ad368.jpg  \n",
      " extracting: train/images/seedling-192-_jpg.rf.cc12593f4deea7ae02064d3b0ae41737.jpg  \n",
      " extracting: train/images/seedling-194-_jpg.rf.5d2f73c5d94599546cc00c4e8f895f1b.jpg  \n",
      " extracting: train/images/seedling-194-_jpg.rf.e17a14d0f24d9c96487025d3eac23e1d.jpg  \n",
      " extracting: train/images/seedling-194-_jpg.rf.f0426c9700da6e80411c26f68c948c3a.jpg  \n",
      " extracting: train/images/seedling-202-_jpg.rf.0c7a1d4b45e964bd9446c4a9dbd9b3b3.jpg  \n",
      " extracting: train/images/seedling-202-_jpg.rf.59cf4132961e7cfcbc1ea6f02294e1e0.jpg  \n",
      " extracting: train/images/seedling-202-_jpg.rf.96b7d5b4fc2b1d9ce6132d7ce0289b17.jpg  \n",
      " extracting: train/images/seedling-203-_jpg.rf.3f3384b16fe5d719f3999acb09c66a56.jpg  \n",
      " extracting: train/images/seedling-203-_jpg.rf.446085e03acd2606bf0a56475d336049.jpg  \n",
      " extracting: train/images/seedling-74-_jpg.rf.16a2a3cf51f267d17ff6269fc1c15ec4.jpg  \n",
      " extracting: train/images/seedling-74-_jpg.rf.533fd94efe2efbd040370149fac3a0e2.jpg  \n",
      " extracting: train/images/seedling-74-_jpg.rf.99cf0a30de268746accda569dbcae125.jpg  \n",
      " extracting: train/images/seedling-86-_jpg.rf.1131191af6d8071a6ce3dfe1c6845e58.jpg  \n",
      " extracting: train/images/seedling-86-_jpg.rf.8bcff2f9dc6a43efaa166663be534f2e.jpg  \n",
      " extracting: train/images/seedling-90-_jpg.rf.6f1ff38e89850f6dcdd018b4d5aeb1e4.jpg  \n",
      " extracting: train/images/seedling-90-_jpg.rf.a0e1120f7641a4870912978e2b335cde.jpg  \n",
      " extracting: train/images/seedling-90-_jpg.rf.e3b26d56565aec02b24fe5bb09ebe327.jpg  \n",
      " extracting: train/images/seedling-91-_jpg.rf.0261fde6b348375b1609d3c03fa89ed6.jpg  \n",
      " extracting: train/images/seedling-91-_jpg.rf.09cfa2e1232d6673c8a17feaf4542536.jpg  \n",
      " extracting: train/images/seedling-91-_jpg.rf.c8fe13609a5001516f9d4cdbce24387d.jpg  \n",
      " extracting: train/images/seedling-94-_jpg.rf.5943540325d312b5c6f18e3fad31bf79.jpg  \n",
      " extracting: train/images/seedling-94-_jpg.rf.8c8795ca9104474271fa844f55830afa.jpg  \n",
      " extracting: train/images/seedling-94-_jpg.rf.fdc4c69dc13b8344b6fb9a7a5720bae8.jpg  \n",
      " extracting: train/images/tomato-early-blight-1_jpg.rf.3f5b74a73013328eac4c82ea10d7e6fd.jpg  \n",
      " extracting: train/images/tomato-early-blight-1_jpg.rf.45dac62e4eb3751f1c282d3f58545e44.jpg  \n",
      " extracting: train/images/tomato-early-blight-1_jpg.rf.fd215dc6ddbdbe042258f78467d2e763.jpg  \n",
      " extracting: train/images/tomato-early-blightH_jpg.rf.195570d82f46d5793ce01426ed5d85d5.jpg  \n",
      " extracting: train/images/tomato-early-blightH_jpg.rf.6acfb4d1fe29dfa2279ba8640e30dfd7.jpg  \n",
      " extracting: train/images/tomato-early-blightH_jpg.rf.939afca4090108fe92f521ae10a7977b.jpg  \n",
      " extracting: train/images/tomato_D2b-Early-blight-RPitblado_zoom_jpg.rf.1a09318ea4dd1bc0a9e1151eae0b8630.jpg  \n",
      " extracting: train/images/tomato_D2b-Early-blight-RPitblado_zoom_jpg.rf.55d69045f3b0382c98c1684511e4a803.jpg  \n",
      " extracting: train/images/tomato_D2b-Early-blight-RPitblado_zoom_jpg.rf.a5e09200e56f5f904705b178349c9ea5.jpg  \n",
      " extracting: train/images/tomatoes-40-_jpg.rf.3c86d099be08ce87a26b80c29f1f9720.jpg  \n",
      " extracting: train/images/tomatoes-40-_jpg.rf.888848ef327da10ce6ab404319deba7f.jpg  \n",
      " extracting: train/images/tomatoes-40-_jpg.rf.ce25637091ea34c4dd820a383600efd5.jpg  \n",
      " extracting: train/images/tomatoes-43-_jpg.rf.47af85eb91063a8560c8eb8f1ff91b3a.jpg  \n",
      " extracting: train/images/tomatoes-43-_jpg.rf.6074498c1b47a4a31df0eaaaa9a6cf07.jpg  \n",
      " extracting: train/images/tomatoes-43-_jpg.rf.d5667f66a47cfc0d04db8c5f0a0f2df3.jpg  \n",
      " extracting: train/images/tomatoes-52-_jpg.rf.652e5e05dbc180ae1fd176524a71c292.jpg  \n",
      " extracting: train/images/tomatoes-52-_jpg.rf.d1fe080cfc21586fd7d8c6b0bd5de85c.jpg  \n",
      " extracting: train/images/tomatoes-52-_jpg.rf.d5fde0a37eea0668bb4854dc27ea054c.jpg  \n",
      " extracting: train/images/tomatoes-56-_jpg.rf.4c59108dcf03c52e22c13c4e98ac9da6.jpg  \n",
      " extracting: train/images/tomatoes-56-_jpg.rf.c8d131fd1697c6e0e089aed0095750cf.jpg  \n",
      " extracting: train/images/tomatoes-56-_jpg.rf.f76227f918a5de23bfebc3828d02f1ab.jpg  \n",
      " extracting: train/images/tomatoes-70-_jpg.rf.10b07587219d254aa89b416cc3bbb1a6.jpg  \n",
      " extracting: train/images/tomatoes-70-_jpg.rf.6801cf1ac21efaaca45f5e911e723663.jpg  \n",
      " extracting: train/images/tomatoes-70-_jpg.rf.9d2d6c6ddab77cdbc2d87eb5c218d016.jpg  \n",
      " extracting: train/images/tomatoes-77-_jpg.rf.70c5849dc844572f38982e4c261b67e8.jpg  \n",
      " extracting: train/images/tomatoes-77-_jpg.rf.7cb419466523ca11f75a113de2a05b20.jpg  \n",
      " extracting: train/images/tomatoes-77-_jpg.rf.e2a8b11bc96398bad811fe47323021b6.jpg  \n",
      " extracting: train/images/tomatoes-86-_jpg.rf.2dafccab9b1bc9bf080d914189778ba7.jpg  \n",
      " extracting: train/images/tomatoes-86-_jpg.rf.3c93cb94b993cd931bd45394b000bd1d.jpg  \n",
      "   creating: train/labels/\n",
      " extracting: train/labels/100983448_jpg.rf.4a5f67b439ff0aaa21893e1327bf3ba6.txt  \n",
      " extracting: train/labels/100983448_jpg.rf.c9ac1cc0ec8ac57119848f4eefb7733c.txt  \n",
      " extracting: train/labels/100983448_jpg.rf.fb65879b1614802b25b0048b78afbc6c.txt  \n",
      " extracting: train/labels/18_20201027_553175_jpg.rf.70598980a953c986767a461394b3e47f.txt  \n",
      " extracting: train/labels/18_20201027_553175_jpg.rf.735ca2831a50afcea7df0405388abaa3.txt  \n",
      " extracting: train/labels/18_20201027_553175_jpg.rf.77ba077dae26003edae53223dcff8b20.txt  \n",
      " extracting: train/labels/18_20201027_553175_jpg.rf.77e0e3f631b45ba533200903f4d800df.txt  \n",
      " extracting: train/labels/18_20201027_553175_jpg.rf.8762b2b831ed82e8c8b9d7f11aa970bc.txt  \n",
      " extracting: train/labels/18_20201027_553175_jpg.rf.db5692f1d298765a8f8a7e4017f08ef1.txt  \n",
      " extracting: train/labels/18_20201027_553325_jpg.rf.03e17128f6cd5deb347b88a8644b3121.txt  \n",
      " extracting: train/labels/18_20201027_553325_jpg.rf.1162de19a4c852a1e20a55945e523325.txt  \n",
      " extracting: train/labels/18_20201027_553325_jpg.rf.4719df1ace88657d54776eadf81f581a.txt  \n",
      " extracting: train/labels/18_20201027_553325_jpg.rf.7ddd9fbe89178285fcb4a527cafeae3e.txt  \n",
      " extracting: train/labels/18_20201027_553325_jpg.rf.a312e8302b06bf2c28150de52eaa5678.txt  \n",
      " extracting: train/labels/18_20201027_553325_jpg.rf.ceb66f0969a2ae4d26107a19f160e9ae.txt  \n",
      " extracting: train/labels/18_20201027_553327_jpg.rf.7945702c7845e4e4e88701755ec4cd1e.txt  \n",
      " extracting: train/labels/18_20201027_553327_jpg.rf.b0b90696a9ecea1ddf5f6c8a4ff329f4.txt  \n",
      " extracting: train/labels/18_20201027_553327_jpg.rf.c39ecc226005468a67ee5c0af302ce7b.txt  \n",
      " extracting: train/labels/18_20201027_553327_jpg.rf.d0884266b27bc496af3b78d7e08eada6.txt  \n",
      " extracting: train/labels/18_20201027_553327_jpg.rf.d0f8372cffac91dabaf38a976b81176d.txt  \n",
      " extracting: train/labels/18_20201027_553327_jpg.rf.fcd722684afacbd6424324686a716c50.txt  \n",
      " extracting: train/labels/18_20201028_556175_jpg.rf.4ece00f01fb808428357d463a1b3677f.txt  \n",
      " extracting: train/labels/18_20201028_556175_jpg.rf.5db695b6aed8a6d2a617066e86295358.txt  \n",
      " extracting: train/labels/18_20201028_556175_jpg.rf.6e36049f16576b25bcf0308637135c76.txt  \n",
      " extracting: train/labels/18_20201028_556233_jpg.rf.0c983ccf79e04fd6442759e247d34382.txt  \n",
      " extracting: train/labels/18_20201028_556233_jpg.rf.34549c3b0ecd959e5816f9852fe77f2d.txt  \n",
      " extracting: train/labels/18_20201028_556233_jpg.rf.3497c8346ad07400125548eba1977602.txt  \n",
      " extracting: train/labels/18_20201028_556233_jpg.rf.875932b3ebe9196ebe86782189a6f01e.txt  \n",
      " extracting: train/labels/18_20201028_556233_jpg.rf.bba6fe7e77ee36b8a2c226f9b2d55f57.txt  \n",
      " extracting: train/labels/18_20201028_556233_jpg.rf.c4b18aec5371b255ac926e136e828bb4.txt  \n",
      " extracting: train/labels/18_20201028_556233_jpg.rf.de93ac0d0894ec8403b5a1e49729567d.txt  \n",
      " extracting: train/labels/18_20201028_556405_jpg.rf.068c11dcdf6828ab25f74e42905793f5.txt  \n",
      " extracting: train/labels/18_20201028_556405_jpg.rf.2c4b99ead53a207e65da8160bcd01c2c.txt  \n",
      " extracting: train/labels/18_20201028_556405_jpg.rf.54cd7df9d95bd1da71ab24f785cb64be.txt  \n",
      " extracting: train/labels/18_20201028_556405_jpg.rf.9688840ee3743e27eb9b04b79ac4a52a.txt  \n",
      " extracting: train/labels/18_20201028_556405_jpg.rf.a217de4edb2ad7afb78e5ea4c502a88c.txt  \n",
      " extracting: train/labels/18_20201028_556405_jpg.rf.d9bf41bdc55f023a714367b29acf1f51.txt  \n",
      " extracting: train/labels/18_20201028_556408_jpg.rf.39b60f2ade8f917d61b9287de47a6db5.txt  \n",
      " extracting: train/labels/18_20201028_556408_jpg.rf.484ff7a57595db26357244e28c63f861.txt  \n",
      " extracting: train/labels/18_20201028_556408_jpg.rf.803cd60918bd33506d875205494cd330.txt  \n",
      " extracting: train/labels/18_20201028_556408_jpg.rf.915ddc9f6a3c766a4b1f1d88ccfd58b4.txt  \n",
      " extracting: train/labels/18_20201028_556408_jpg.rf.a6931fa32070d9734adc198d506a56b6.txt  \n",
      " extracting: train/labels/18_20201028_556408_jpg.rf.c0c2991df8a6ed5fc5a927002fd9e7de.txt  \n",
      " extracting: train/labels/18_20201028_557118_jpg.rf.06ab0ec0096fb49e2c6161599ce301bf.txt  \n",
      " extracting: train/labels/18_20201028_557118_jpg.rf.2206306077e842f694064e32dd6df6c7.txt  \n",
      " extracting: train/labels/18_20201028_557118_jpg.rf.9e17f390714e8c0f2d7ba0f815df985d.txt  \n",
      " extracting: train/labels/18_20201028_557118_jpg.rf.bd2228fdafda9cf7d08713f23f0e2fa4.txt  \n",
      " extracting: train/labels/18_20201028_557118_jpg.rf.dc0f8ab7284124878a16ef445e1f8ac7.txt  \n",
      " extracting: train/labels/18_20201028_557121_jpg.rf.3076af9c04fed14d6f42915c105a876d.txt  \n",
      " extracting: train/labels/18_20201028_557121_jpg.rf.468fe2574a44dbff34ac56d568a22b88.txt  \n",
      " extracting: train/labels/18_20201028_557121_jpg.rf.783384df012e93d29c7005f0727ca5ee.txt  \n",
      " extracting: train/labels/18_20201028_557121_jpg.rf.9b097dc2fc5a47629fcabc01a17eb2f3.txt  \n",
      " extracting: train/labels/18_20201028_557141_jpg.rf.11e624ebea23d48923d4512583d94c84.txt  \n",
      " extracting: train/labels/18_20201028_557141_jpg.rf.de300839bfa1e8a563988f3c7973ce8b.txt  \n",
      " extracting: train/labels/18_20201028_557141_jpg.rf.f02aed48f5175b675ad226dad7c7c6e4.txt  \n",
      " extracting: train/labels/18_20201028_557143_jpg.rf.10a18baab10376be8010ff64b82b24ee.txt  \n",
      " extracting: train/labels/18_20201028_557143_jpg.rf.1cfe552d04dd33aae2eed73e6c82fa2b.txt  \n",
      " extracting: train/labels/18_20201028_557143_jpg.rf.ba80891502d7126085bc7f58ccb54623.txt  \n",
      " extracting: train/labels/18_20201028_557143_jpg.rf.da4541a1f9283ffdf9af88566c8ae7bf.txt  \n",
      " extracting: train/labels/18_20201028_557143_jpg.rf.f11af08ab3bad8f5ba07c8d2f650e73d.txt  \n",
      " extracting: train/labels/18_20201028_557144_jpg.rf.460046c68d1e7394cee88bdc3d2ebdbd.txt  \n",
      " extracting: train/labels/18_20201028_557144_jpg.rf.7dcfd9e2cda93a4c8f06dd4f10c3bc8c.txt  \n",
      " extracting: train/labels/18_20201028_557144_jpg.rf.8c5f7710335e6cdbb20de118dd49674f.txt  \n",
      " extracting: train/labels/18_20201028_557144_jpg.rf.8d35d6196b57bb431a0542fa4746e902.txt  \n",
      " extracting: train/labels/18_20201028_557144_jpg.rf.a7581d8d52ad6fe0ad0d8953c282dfce.txt  \n",
      " extracting: train/labels/18_20201028_557144_jpg.rf.d2182af0a975a06c230671cc6f09d491.txt  \n",
      " extracting: train/labels/18_20201028_557145_jpg.rf.5e7d7119bab9f59449d927984073fe5e.txt  \n",
      " extracting: train/labels/18_20201028_557145_jpg.rf.611572b42084d230c570a1361fd252b6.txt  \n",
      " extracting: train/labels/18_20201028_557145_jpg.rf.fb4ddb629d4e30a5d363cdbf3f4ac15c.txt  \n",
      " extracting: train/labels/18_20201028_557150_jpg.rf.0ee040a1b6251641430ad5fa09704a60.txt  \n",
      " extracting: train/labels/18_20201028_557150_jpg.rf.2cb2e14a81189cab453339d1cf76d9ad.txt  \n",
      " extracting: train/labels/18_20201028_557150_jpg.rf.6f4927350c5981853fc8cb5a05420d57.txt  \n",
      " extracting: train/labels/18_20201028_557151_jpg.rf.1da8c073405295fef0be43c5c81d0017.txt  \n",
      " extracting: train/labels/18_20201028_557151_jpg.rf.2753e30ffaaa12088b0fb5faf4a1724b.txt  \n",
      " extracting: train/labels/18_20201028_557151_jpg.rf.45e0a568a38a26df739fe9f2dca45eea.txt  \n",
      " extracting: train/labels/18_20201028_557151_jpg.rf.4b5f06b1331acc5f7f984a4812f3e4a7.txt  \n",
      " extracting: train/labels/18_20201028_557151_jpg.rf.9465d9b00075f05796ebbfee03d04f1a.txt  \n",
      " extracting: train/labels/18_20201028_557151_jpg.rf.fdefb19c1de3ef7a9d77f7d62b0c3c88.txt  \n",
      " extracting: train/labels/18_20201028_557153_jpg.rf.26bfed66e5ce70e8229b855f3e96e705.txt  \n",
      " extracting: train/labels/18_20201028_557153_jpg.rf.2ae60d3f90140e31c6e385b4d9f8479c.txt  \n",
      " extracting: train/labels/18_20201028_557153_jpg.rf.6d6a3096e13f825bbe4dd3f517ad29fc.txt  \n",
      " extracting: train/labels/18_20201028_557153_jpg.rf.7a2dc6ffc5d2e8d79f5f2bdf418f34f7.txt  \n",
      " extracting: train/labels/18_20201028_557153_jpg.rf.b240fb85656bf9f8879836d11c3dc687.txt  \n",
      " extracting: train/labels/18_20201028_557153_jpg.rf.e6fe08c29f467d65fbede4691334a778.txt  \n",
      " extracting: train/labels/18_20201028_557154_jpg.rf.082b4895b2bc1a2d084d70b41fd5780e.txt  \n",
      " extracting: train/labels/18_20201028_557154_jpg.rf.2049efa2a195be96f665e74a73c318a7.txt  \n",
      " extracting: train/labels/18_20201028_557154_jpg.rf.2ef7b1fbaf241a162ddbd0a8dc368016.txt  \n",
      " extracting: train/labels/18_20201028_557166_jpg.rf.078565b69e08d946781174040b8b31b0.txt  \n",
      " extracting: train/labels/18_20201028_557166_jpg.rf.35c2817b16399ad312f80b4afc487ee5.txt  \n",
      " extracting: train/labels/18_20201028_557166_jpg.rf.b42524a5db77d00a0a5ad8ef904bda3f.txt  \n",
      " extracting: train/labels/18_20201028_557166_jpg.rf.d2a3e1f52114d2016f96bb717a6c6a7a.txt  \n",
      " extracting: train/labels/18_20201028_557166_jpg.rf.e212b66adb5a82b3e57b83b2dc85c20b.txt  \n",
      " extracting: train/labels/18_20201028_557166_jpg.rf.fc267ed4d509b81faa38d4610d0c985d.txt  \n",
      " extracting: train/labels/18_20201028_557167_jpg.rf.06aecab281f74383bb45dadb65299799.txt  \n",
      " extracting: train/labels/18_20201028_557167_jpg.rf.50a285e5fb9d2ed8ff5e311cf4a9a178.txt  \n",
      " extracting: train/labels/18_20201028_557167_jpg.rf.b315b504b0da81ad44471bdc2a347591.txt  \n",
      " extracting: train/labels/18_20201028_557168_jpg.rf.1a06e0c699c7bdf7ecf5af8a3ef3ea05.txt  \n",
      " extracting: train/labels/18_20201028_557168_jpg.rf.36d532c043cb6e1231937c71c1a30e67.txt  \n",
      " extracting: train/labels/18_20201028_557168_jpg.rf.7aaa0e56fe807f84725e646f68ed02e3.txt  \n",
      " extracting: train/labels/18_20201028_557169_jpg.rf.195df791be1649557d1b177dc1e2912d.txt  \n",
      " extracting: train/labels/18_20201028_557169_jpg.rf.51003670e32a287b5d03a648db60394b.txt  \n",
      " extracting: train/labels/18_20201028_557169_jpg.rf.60c7251e46db4d17523e73096920e45d.txt  \n",
      " extracting: train/labels/18_20201028_557169_jpg.rf.aab25076cff4b37eb910f675e76827b5.txt  \n",
      " extracting: train/labels/18_20201028_557169_jpg.rf.adc4a24493371063571506ccad708891.txt  \n",
      " extracting: train/labels/18_20201028_557169_jpg.rf.eecc11646a32e106305b7faf167858cd.txt  \n",
      " extracting: train/labels/18_20201028_569176_jpg.rf.0935382930e583327c4c87d61c0c7a7a.txt  \n",
      " extracting: train/labels/18_20201028_569176_jpg.rf.5f3d67cc407ea2a0fbda24aad24e4db0.txt  \n",
      " extracting: train/labels/18_20201028_569176_jpg.rf.addb4a4426c3f1d7905564235d265aae.txt  \n",
      " extracting: train/labels/18_20201028_569176_jpg.rf.f0b9a65d917ec4a999fff612aa820a56.txt  \n",
      " extracting: train/labels/18_20201028_569176_jpg.rf.f4ff6cb66d23141fe24a518cf51b274e.txt  \n",
      " extracting: train/labels/18_20201028_569180_jpg.rf.5d0959f3eb9bb0147c3aa4745898b0db.txt  \n",
      " extracting: train/labels/18_20201028_569180_jpg.rf.e169010f863ca53afc4e38b1bcd0678a.txt  \n",
      " extracting: train/labels/18_20201028_569180_jpg.rf.ebdec36cbf22a254790f5dfeca28f7d6.txt  \n",
      " extracting: train/labels/18_20201028_569214_jpg.rf.112f4616af4d104c7a81ff4a85abf14e.txt  \n",
      " extracting: train/labels/18_20201028_569214_jpg.rf.3276b62e64603a32e2aa7418d1300da6.txt  \n",
      " extracting: train/labels/18_20201028_569214_jpg.rf.5aa9aa8ade0d254440eb99d14780121d.txt  \n",
      " extracting: train/labels/18_20201028_569214_jpg.rf.5abe326ed35c1ca5152e1992b101232c.txt  \n",
      " extracting: train/labels/18_20201028_569214_jpg.rf.881635f36c185f0ae82fcb69192d7386.txt  \n",
      " extracting: train/labels/18_20201028_569214_jpg.rf.ee0b45dcc18f3b3ad1c0c055f3180dbd.txt  \n",
      " extracting: train/labels/18_20201028_569215_jpg.rf.17111fc872c864e8b8f3f2a004044857.txt  \n",
      " extracting: train/labels/18_20201028_569215_jpg.rf.21ac1d8ba83511ec08450484453813fa.txt  \n",
      " extracting: train/labels/18_20201028_569215_jpg.rf.6e9b4dd24cbcee19097cebd722086524.txt  \n",
      " extracting: train/labels/18_20201028_569216_jpg.rf.1d04c7df9b21d039c9ad69ff8a77f4ed.txt  \n",
      " extracting: train/labels/18_20201028_569216_jpg.rf.4936b08fb4408b0cc25047fec5b5744a.txt  \n",
      " extracting: train/labels/18_20201028_569216_jpg.rf.62b25390297552c0c70fb13ed4205b36.txt  \n",
      " extracting: train/labels/18_20201028_569216_jpg.rf.6bc62b546d7126b3c8460efb667aafd9.txt  \n",
      " extracting: train/labels/18_20201028_569216_jpg.rf.bded1f01d455f685b98c2dd1858948cf.txt  \n",
      " extracting: train/labels/18_20201028_569216_jpg.rf.ce28934ff67b3b9abbe51bba7499c651.txt  \n",
      " extracting: train/labels/18_20201028_569216_jpg.rf.db9524e35de762f8363fd80e7c86174b.txt  \n",
      " extracting: train/labels/18_20201028_569218_jpg.rf.3afba7fb6823dc4ad5a388d332fb7002.txt  \n",
      " extracting: train/labels/18_20201028_569218_jpg.rf.712ca9e6d511400e99e3d4e827085f00.txt  \n",
      " extracting: train/labels/18_20201028_569218_jpg.rf.b531749dd4c983cb159b330c5845c0d8.txt  \n",
      " extracting: train/labels/18_20201028_569235_jpg.rf.86c992e0f3de89d8034c71a7633752a1.txt  \n",
      " extracting: train/labels/18_20201028_569235_jpg.rf.ac1a7be3e9388e9636fb30eb7c34acf0.txt  \n",
      " extracting: train/labels/18_20201028_569235_jpg.rf.c6942f3a32e2db48ccc584000c05d1da.txt  \n",
      " extracting: train/labels/18_20201028_569237_jpg.rf.1c261f0e78847674fe4495f92eaa8d44.txt  \n",
      " extracting: train/labels/18_20201028_569237_jpg.rf.90f11eeae75f98f23884b30d0ba27008.txt  \n",
      " extracting: train/labels/18_20201028_569237_jpg.rf.9ac921b3ff73d8114ab9dd489a94499a.txt  \n",
      " extracting: train/labels/18_20201028_569239_jpg.rf.5af11cb92d81aa0f62eafb1f4fc37eda.txt  \n",
      " extracting: train/labels/18_20201028_569239_jpg.rf.807ffa02830e5f40798ceab90ff3a11e.txt  \n",
      " extracting: train/labels/18_20201028_569242_jpg.rf.1971708c0065eaff61e01f91e7b43a53.txt  \n",
      " extracting: train/labels/18_20201028_569242_jpg.rf.cb3bad7a9b6d10b5173f11826758e8fd.txt  \n",
      " extracting: train/labels/18_20201028_569242_jpg.rf.cc18f0f7c233235cb1b99c0063306a9a.txt  \n",
      " extracting: train/labels/18_20201028_569242_jpg.rf.d04fd654d6ab2a16c5116a0267056151.txt  \n",
      " extracting: train/labels/18_20201028_569242_jpg.rf.f5c0d949587521e7cea351dc35750274.txt  \n",
      " extracting: train/labels/18_20201028_569399_jpg.rf.0b0df363fa93f6b96632378466d0c88a.txt  \n",
      " extracting: train/labels/18_20201028_569399_jpg.rf.4599c7bf2503e9b45743e18aad3f4660.txt  \n",
      " extracting: train/labels/18_20201028_569399_jpg.rf.751a28dc720e526f862278138c3b22ad.txt  \n",
      " extracting: train/labels/18_20201028_569399_jpg.rf.9bcffd9247b2eca5bea86b9855e911a9.txt  \n",
      " extracting: train/labels/18_20201028_569399_jpg.rf.ba55cb820e2486d81dc73f8525c9ebd0.txt  \n",
      " extracting: train/labels/18_20201028_569399_jpg.rf.f521d569b708e65864bd69b3ad7d044a.txt  \n",
      " extracting: train/labels/18_20201028_569520_jpg.rf.0a4b858b433034d4e26542349fe5caca.txt  \n",
      " extracting: train/labels/18_20201028_569520_jpg.rf.1fba122da4c2bbcfb74e2524470c1f79.txt  \n",
      " extracting: train/labels/18_20201028_569520_jpg.rf.84d45b533ccab6b140211d372d2bd871.txt  \n",
      " extracting: train/labels/18_20201028_569520_jpg.rf.c494987587b6d2bfa08a8d45a0c5d2f0.txt  \n",
      " extracting: train/labels/18_20201028_569520_jpg.rf.f78e8973f3b04db329430f03deeb34b1.txt  \n",
      " extracting: train/labels/18_20201028_569521_jpg.rf.0fff87476913e2e2f61d809e921fb62b.txt  \n",
      " extracting: train/labels/18_20201028_569521_jpg.rf.22a14aad618afa83905dbbd4ea822f07.txt  \n",
      " extracting: train/labels/18_20201028_569521_jpg.rf.71f1c6ebd64c252632fedd6d4fcf9c50.txt  \n",
      " extracting: train/labels/18_20201028_569521_jpg.rf.9ba059c31f9ec61bb778f5bc1d77e251.txt  \n",
      " extracting: train/labels/18_20201028_569521_jpg.rf.ead6a0543a36737064d93978cd93a4ec.txt  \n",
      " extracting: train/labels/18_20201028_569522_jpg.rf.2e7b7b5db91ca4344c3e5b2d5d758fdc.txt  \n",
      " extracting: train/labels/18_20201028_569522_jpg.rf.373e294263736bad69371f7250ce02cc.txt  \n",
      " extracting: train/labels/18_20201028_569522_jpg.rf.3cd230626b1442f74214f26bd708ec41.txt  \n",
      " extracting: train/labels/18_20201028_569522_jpg.rf.b2680d3df42241bd80fa9daf8e7ca069.txt  \n",
      " extracting: train/labels/18_20201028_569522_jpg.rf.d68546728864802ed812c44fe26ed21f.txt  \n",
      " extracting: train/labels/18_20201028_569599_jpg.rf.253291277afd72e7b55001e0fb5a875d.txt  \n",
      " extracting: train/labels/18_20201028_569599_jpg.rf.314a0392a2bf20cbfbc185d94910c917.txt  \n",
      " extracting: train/labels/18_20201028_569599_jpg.rf.345fb6bf913a8408ac9d6d7b6892f263.txt  \n",
      " extracting: train/labels/18_20201028_569599_jpg.rf.463e039fb572209822a2190d6dd33718.txt  \n",
      " extracting: train/labels/18_20201028_569599_jpg.rf.4f98ea68f95af24f136b9dd1399d5396.txt  \n",
      " extracting: train/labels/18_20201028_569599_jpg.rf.78cc2076feac2555c88a90829e92a216.txt  \n",
      " extracting: train/labels/18_20201028_569605_jpg.rf.187ed03676b9d798fa341650ae5a494b.txt  \n",
      " extracting: train/labels/18_20201028_569605_jpg.rf.27dc2094fb6f4f51f9cb08ebaa0cee06.txt  \n",
      " extracting: train/labels/18_20201028_569605_jpg.rf.c88aff07fa65de46d90b159c1315fa7e.txt  \n",
      " extracting: train/labels/18_20201028_569607_jpg.rf.30b0d2240688c0a013d775df53458db6.txt  \n",
      " extracting: train/labels/18_20201028_569607_jpg.rf.62e238be1b6d6b7151a12f229792b028.txt  \n",
      " extracting: train/labels/18_20201028_569608_jpg.rf.2807545ff8601ac64cf90d0edbb88e5c.txt  \n",
      " extracting: train/labels/18_20201028_569608_jpg.rf.86b32f7a2c9484d552e30a1192b0690c.txt  \n",
      " extracting: train/labels/18_20201028_569608_jpg.rf.9da22b03f1eed9acecb0395773c894b4.txt  \n",
      " extracting: train/labels/18_20201028_569608_jpg.rf.b3f68980eba7cd127d6f1a4b1bcfd418.txt  \n",
      " extracting: train/labels/18_20201028_569608_jpg.rf.d05f8fee7b169c9c8cddbe3185d18682.txt  \n",
      " extracting: train/labels/18_20201028_569608_jpg.rf.f3c5f70a579bb49441ca70410e4ee23f.txt  \n",
      " extracting: train/labels/18_20201028_569609_jpg.rf.1c0501d2ca7673be4c42d742ecd027ea.txt  \n",
      " extracting: train/labels/18_20201028_569609_jpg.rf.485af93490268e53efe7418d12671e34.txt  \n",
      " extracting: train/labels/18_20201028_569609_jpg.rf.a14a1b1fc689ea571c67d728a1c878ba.txt  \n",
      " extracting: train/labels/18_20201028_569611_jpg.rf.576955e9b970778da0c0ab3b2934e491.txt  \n",
      " extracting: train/labels/18_20201028_569611_jpg.rf.6667ae90061a5dec2e491bde0ad2cbc3.txt  \n",
      " extracting: train/labels/18_20201028_569611_jpg.rf.88d6fdb18a1c04b73151697356cd90ad.txt  \n",
      " extracting: train/labels/18_20201028_569620_jpg.rf.62e29e312d3eb389dc07a7b16c13ace5.txt  \n",
      " extracting: train/labels/18_20201028_569620_jpg.rf.b67d7f4bf52fb97cf989f791f016071c.txt  \n",
      " extracting: train/labels/18_20201028_569683_jpg.rf.2fb183efe95faaba40e429f17521fb6e.txt  \n",
      " extracting: train/labels/18_20201028_569683_jpg.rf.a0d5d6d2f25626f338af96aca2f7b6cd.txt  \n",
      " extracting: train/labels/18_20201028_569683_jpg.rf.ac46ba7a40415961d47b9a7a4c9e6497.txt  \n",
      " extracting: train/labels/18_20201118_1179131_jpg.rf.542252059b322afee6ff3fe11228c14f.txt  \n",
      " extracting: train/labels/18_20201118_1179131_jpg.rf.b8654cf5f8be193c6bf5de520bf02968.txt  \n",
      " extracting: train/labels/18_20201118_1179131_jpg.rf.f1184584e47c600834da33913773e254.txt  \n",
      " extracting: train/labels/18_20201118_1179132_jpg.rf.3b1fa780a4489344c32c1d45c2806171.txt  \n",
      " extracting: train/labels/18_20201118_1179132_jpg.rf.68f44a48df3c998227aae6c9b6c4a60d.txt  \n",
      " extracting: train/labels/18_20201118_1179132_jpg.rf.8b52ac8cf903436c474b606cb4e1e475.txt  \n",
      " extracting: train/labels/18_20201118_1179135_jpg.rf.381aa530ad94ef907ed4535a6b1edf95.txt  \n",
      " extracting: train/labels/18_20201118_1179135_jpg.rf.84b9e78d11ab7b8b55efb0e7c82bd1fc.txt  \n",
      " extracting: train/labels/18_20201118_1179135_jpg.rf.96b936274f4607ae25bcf266e22bd75e.txt  \n",
      " extracting: train/labels/18_20201118_1179138_jpg.rf.1ff4beb78771df471fd33db1c63cd1a0.txt  \n",
      " extracting: train/labels/18_20201118_1179138_jpg.rf.2332b32a793f4b544c7caf3481839cd5.txt  \n",
      " extracting: train/labels/18_20201118_1179138_jpg.rf.4468d6d0ba48ee899197f25ffafea030.txt  \n",
      " extracting: train/labels/18_20201118_1179140_jpg.rf.29df27a0afcc3862cf62845345cc1d24.txt  \n",
      " extracting: train/labels/18_20201118_1179140_jpg.rf.b43cf2aafc62be2474857f5ef7b631b7.txt  \n",
      " extracting: train/labels/18_20201118_1179146_jpg.rf.139a75a1e84e5d950c4e5b5bf97be424.txt  \n",
      " extracting: train/labels/18_20201118_1179146_jpg.rf.3ee10014f794aa306ec1803f6f6d1383.txt  \n",
      " extracting: train/labels/18_20201118_1179146_jpg.rf.5763b13f2750f9fa069e04d2077429a1.txt  \n",
      " extracting: train/labels/18_20201118_1179146_jpg.rf.9a4f0dbc72b4607a9d76914e721e017b.txt  \n",
      " extracting: train/labels/18_20201118_1179146_jpg.rf.cc8ee61e90ba0ab1626b8a59dd731134.txt  \n",
      " extracting: train/labels/18_20201118_1179146_jpg.rf.fdf249656c3c837b02ae5832e21adc09.txt  \n",
      " extracting: train/labels/18_20201118_1179153_jpg.rf.0d47ca16e89a9b6c3568f66216745a3c.txt  \n",
      " extracting: train/labels/18_20201118_1179153_jpg.rf.6b60926f55f02c194d1949d2d5bf61f9.txt  \n",
      " extracting: train/labels/18_20201118_1179153_jpg.rf.f7f56598973c7abae4f6c84fbb22da4f.txt  \n",
      " extracting: train/labels/18_20201118_1179154_jpg.rf.5b6e4657113cb88d63a8eeee6962ce79.txt  \n",
      " extracting: train/labels/18_20201118_1179154_jpg.rf.88d4e84d072af69674a5198f37b84157.txt  \n",
      " extracting: train/labels/18_20201118_1179154_jpg.rf.ecaa4ac09b61e3a943eae1cb0fd53f7a.txt  \n",
      " extracting: train/labels/18_20201118_1179158_jpg.rf.42b367edbca4331512335a8d5f12bfff.txt  \n",
      " extracting: train/labels/18_20201118_1179158_jpg.rf.44fe822158047d1241a96b28e96cce88.txt  \n",
      " extracting: train/labels/18_20201118_1179158_jpg.rf.4a5965e6710e553b1f820498c5a03cb8.txt  \n",
      " extracting: train/labels/18_20201118_1179158_jpg.rf.4bc6fee3ece6d3f73de554134023b3ac.txt  \n",
      " extracting: train/labels/18_20201118_1179158_jpg.rf.4dd5ea6e36348ca1c3ec7323d7d2ed2d.txt  \n",
      " extracting: train/labels/18_20201118_1179158_jpg.rf.55ec9a6b9deeea6167ca31f2cd74f261.txt  \n",
      " extracting: train/labels/18_20201118_1179160_jpg.rf.97f28259ccd4bbf700bba7991c846d13.txt  \n",
      " extracting: train/labels/18_20201118_1179160_jpg.rf.bc8b24baad77fafa61e27b6b75c202fa.txt  \n",
      " extracting: train/labels/18_20201118_1179160_jpg.rf.c72276ae57490ce529492afe7c662c03.txt  \n",
      " extracting: train/labels/18_20201118_1179161_jpg.rf.55a7cbd942da5aedead04d76c442029f.txt  \n",
      " extracting: train/labels/18_20201118_1179161_jpg.rf.5b297777df419226e0d63dfa5102f908.txt  \n",
      " extracting: train/labels/18_20201118_1179161_jpg.rf.8dc9135f5a5f170aacc5cfafb8595528.txt  \n",
      " extracting: train/labels/18_20201118_1179170_jpg.rf.01bcbf92f43b51b2db5c9aebcd4622e8.txt  \n",
      " extracting: train/labels/18_20201118_1179170_jpg.rf.5ef9d17a407c7192135300b3dd22a1f5.txt  \n",
      " extracting: train/labels/18_20201118_1179170_jpg.rf.7e8add2471e3351233ab5f9948fa6da5.txt  \n",
      " extracting: train/labels/18_20201119_1195843_jpg.rf.87cbcbc649bd2e73f1c174a8cb025e14.txt  \n",
      " extracting: train/labels/18_20201119_1195843_jpg.rf.a075c1de1ee90c554f1c23bd282e0829.txt  \n",
      " extracting: train/labels/18_20201119_1195843_jpg.rf.cc8b3ad3635cc835f22f93eac14af4b2.txt  \n",
      " extracting: train/labels/18_20201119_1195844_jpg.rf.a64e0e618e20b7b7ba3e04b3a4ff9e86.txt  \n",
      " extracting: train/labels/18_20201119_1195844_jpg.rf.b4d937cb4073e9401b6b9fd15ed97e84.txt  \n",
      " extracting: train/labels/18_20201119_1195844_jpg.rf.eafd430dbeaf454deea5dd0e658fdc07.txt  \n",
      " extracting: train/labels/18_20201119_1195845_jpg.rf.0428da6f5bb76b8dbadb394555ea1c75.txt  \n",
      " extracting: train/labels/18_20201119_1195845_jpg.rf.72f607564741aa4826c1b5a0e75ece7d.txt  \n",
      " extracting: train/labels/18_20201119_1195845_jpg.rf.82fc551696ad5b51aa29b0bd8ad65d2c.txt  \n",
      " extracting: train/labels/18_20201119_1195845_jpg.rf.bf658cf5e5f3ae92918d4f26f37d2ebb.txt  \n",
      " extracting: train/labels/18_20201119_1195845_jpg.rf.d63b5a48657bacdf168fd155828e481a.txt  \n",
      " extracting: train/labels/18_20201119_1195845_jpg.rf.f9cbb66d8e435537bfd826963c385aa1.txt  \n",
      " extracting: train/labels/18_20201119_1195847_jpg.rf.5d51503d86237e3e37c302077d862a84.txt  \n",
      " extracting: train/labels/18_20201119_1195847_jpg.rf.a6819d241a1118fb882d444be415efc3.txt  \n",
      " extracting: train/labels/18_20201119_1195847_jpg.rf.cc080c7adff3e87ac05ac93c5333eceb.txt  \n",
      " extracting: train/labels/18_20201119_1195850_jpg.rf.2834cd16c0f7b61a7f8ace2bfeb57625.txt  \n",
      " extracting: train/labels/18_20201119_1195850_jpg.rf.92b0df198cd901b8f4115d964eeb7a3c.txt  \n",
      " extracting: train/labels/18_20201119_1195850_jpg.rf.d08ddf926aeb21c24954339e12e93c44.txt  \n",
      " extracting: train/labels/18_20201119_1195853_jpg.rf.1c5752f348a4cdb56e60b54c522b6658.txt  \n",
      " extracting: train/labels/18_20201119_1195853_jpg.rf.25724583e6a5d05b02bdf472451c7487.txt  \n",
      " extracting: train/labels/18_20201119_1195853_jpg.rf.94e35937fd11371b6c326307aab3bdb2.txt  \n",
      " extracting: train/labels/18_20201119_1195854_jpg.rf.0bd57fa0d3919d94f48476f56b6e2bc7.txt  \n",
      " extracting: train/labels/18_20201119_1195854_jpg.rf.0d1965a9abc7ac8bcdb353c4a704b2ac.txt  \n",
      " extracting: train/labels/18_20201119_1195854_jpg.rf.cb05281575041f5b1c3d428a64b5b866.txt  \n",
      " extracting: train/labels/18_20201119_1195857_jpg.rf.8ee92b13f1cb2347a6e33ae9a6ff47c2.txt  \n",
      " extracting: train/labels/18_20201119_1195857_jpg.rf.db444373476b364f1e608eb9e9ea8f07.txt  \n",
      " extracting: train/labels/18_20201119_1195857_jpg.rf.ebb2560c814bae9e96786183c8b1bb41.txt  \n",
      " extracting: train/labels/18_20201119_1195858_jpg.rf.7816335135b3144b66105a40ffa694db.txt  \n",
      " extracting: train/labels/18_20201119_1195858_jpg.rf.929df1698479c38a5e912277ebde92a3.txt  \n",
      " extracting: train/labels/18_20201119_1195858_jpg.rf.b364fd8ad9db2e0658e3c4d43eef5377.txt  \n",
      " extracting: train/labels/18_20201119_1195860_jpg.rf.54a9e2fbf137ccc0efb121a800dfc423.txt  \n",
      " extracting: train/labels/18_20201119_1195860_jpg.rf.d9d95f08d543311a85e279efe7e0bd71.txt  \n",
      " extracting: train/labels/18_20201119_1195860_jpg.rf.ebc2a7109f8ebeebf0899c301dd0c959.txt  \n",
      " extracting: train/labels/18_20201119_1195861_jpg.rf.74dfbba6d53ba0134d903b2236519281.txt  \n",
      " extracting: train/labels/18_20201119_1195861_jpg.rf.8f13237c33ed0125bab008565e0f2f63.txt  \n",
      " extracting: train/labels/18_20201119_1195861_jpg.rf.f33015108ff37d014076360f2f6a860b.txt  \n",
      " extracting: train/labels/18_20201119_1195862_jpg.rf.04181cd0b00d9939b1ba9d7555c1afe2.txt  \n",
      " extracting: train/labels/18_20201119_1195862_jpg.rf.4da9e7098780b2e09d9cb85be16b416a.txt  \n",
      " extracting: train/labels/18_20201119_1195862_jpg.rf.cab418d8ebdb1cf9ecad8e965a4911eb.txt  \n",
      " extracting: train/labels/18_20201119_1195864_jpg.rf.2fc910cd1200609cca8b20dfd1689be5.txt  \n",
      " extracting: train/labels/18_20201119_1195864_jpg.rf.bd128084476e7bd019d078b965b646a9.txt  \n",
      " extracting: train/labels/18_20201119_1195864_jpg.rf.d3152970b30230f11af4778c2e5c2bd2.txt  \n",
      " extracting: train/labels/18_20201119_1195865_jpg.rf.d265ea4c0c64750b7054982e1f0659c8.txt  \n",
      " extracting: train/labels/18_20201119_1195865_jpg.rf.e2f35aea7156dc282fe76f324768cdc3.txt  \n",
      " extracting: train/labels/18_20201119_1195866_jpg.rf.28a8e07508cffe8e1abdef819db849c2.txt  \n",
      " extracting: train/labels/18_20201119_1195866_jpg.rf.3bf32b610f9d5d1f2f6a6b73c25dfd6e.txt  \n",
      " extracting: train/labels/18_20201119_1195866_jpg.rf.66720e5f3f07f57f42859a950330676e.txt  \n",
      " extracting: train/labels/18_20201119_1195866_jpg.rf.897be15cce7ac17ef717de3f581f2409.txt  \n",
      " extracting: train/labels/18_20201119_1195866_jpg.rf.b08caf23b900474769bcd2d6e66569eb.txt  \n",
      " extracting: train/labels/18_20201119_1195866_jpg.rf.bc1c18bfea9253937ddbfea8e7b91c53.txt  \n",
      " extracting: train/labels/18_20201119_1195867_jpg.rf.052bcf860318d0c45f81401fce203b14.txt  \n",
      " extracting: train/labels/18_20201119_1195867_jpg.rf.08450561d94ce32c413dafcff554c52c.txt  \n",
      " extracting: train/labels/18_20201119_1195867_jpg.rf.412bb50cad4d6c3bf86a9f637e66e4d0.txt  \n",
      " extracting: train/labels/18_20201119_1195867_jpg.rf.67e204f4852a2d675f1e6a3266e80481.txt  \n",
      " extracting: train/labels/18_20201119_1195867_jpg.rf.890ae016e1b074aa193bc1170777fb77.txt  \n",
      " extracting: train/labels/18_20201119_1195867_jpg.rf.90294b6d58dd2d81d6645d5b40c19ead.txt  \n",
      " extracting: train/labels/18_20201119_1195869_jpg.rf.1cf354ed02fdf0faac511f0a3a02c6b1.txt  \n",
      " extracting: train/labels/18_20201119_1195869_jpg.rf.94ce04d0182fe63e653f9cafbd10d39f.txt  \n",
      " extracting: train/labels/18_20201119_1195869_jpg.rf.a4901f85afff55c6c44788477496a70e.txt  \n",
      " extracting: train/labels/18_20201119_1195874_jpg.rf.1514ff05bd801ab210c51c207899e6c4.txt  \n",
      " extracting: train/labels/18_20201119_1195874_jpg.rf.946c312027f459d8d41dff720fd0a8d2.txt  \n",
      " extracting: train/labels/18_20201119_1195874_jpg.rf.9b0e8dcbd23ae940b4fd4906fc1855a9.txt  \n",
      " extracting: train/labels/18_20201119_1195877_jpg.rf.53c65b6dddfab71bb96774dc1b26b96f.txt  \n",
      " extracting: train/labels/18_20201119_1195877_jpg.rf.632e45a9187901004cc9a3523b6a9625.txt  \n",
      " extracting: train/labels/18_20201119_1195877_jpg.rf.7bc8d2083cf6cb1c883460c0e6fda35e.txt  \n",
      " extracting: train/labels/18_20201119_1195897_jpg.rf.1504fc3e068a1cba8928620a2c27087c.txt  \n",
      " extracting: train/labels/18_20201119_1195897_jpg.rf.bbb4997b0a013aab3862fc4122cd59ac.txt  \n",
      " extracting: train/labels/18_20201119_1195897_jpg.rf.d2f65fb9d99487da1fb00c843b8b6d9c.txt  \n",
      " extracting: train/labels/18_20201119_1195902_jpg.rf.4f01173bac313f532b4f324014e347cd.txt  \n",
      " extracting: train/labels/18_20201119_1195902_jpg.rf.c90da201f5316e4e0cc43f56a640b740.txt  \n",
      " extracting: train/labels/18_20201119_1195902_jpg.rf.c90ed53fa8a178db04f180efca3b99a8.txt  \n",
      " extracting: train/labels/18_20201119_1195910_jpg.rf.0cbfd84b64ff4d4f42cbf26e47dd923d.txt  \n",
      " extracting: train/labels/18_20201119_1195910_jpg.rf.1e3c621171f0f8a2e78392cd60116296.txt  \n",
      " extracting: train/labels/18_20201119_1195910_jpg.rf.6dcc224a2edb905b4f3496131e379a25.txt  \n",
      " extracting: train/labels/18_20201119_1195910_jpg.rf.824b49e3e91cdc9224936a75a74ef1e4.txt  \n",
      " extracting: train/labels/18_20201119_1195910_jpg.rf.82fb78b44f3f1e03daedc7e5e7af0f21.txt  \n",
      " extracting: train/labels/18_20201119_1195910_jpg.rf.fcb4ed54c85efa65d1202c255661549e.txt  \n",
      " extracting: train/labels/18_20201119_1195912_jpg.rf.13043e0b5e90c3e41c7961db3fca8e25.txt  \n",
      " extracting: train/labels/18_20201119_1195912_jpg.rf.af3e8ebca9976eedb5415a236966a751.txt  \n",
      " extracting: train/labels/18_20201119_1195912_jpg.rf.cd86ae2938ad76760e1868aeef4e4f41.txt  \n",
      " extracting: train/labels/18_20201119_1195914_jpg.rf.29760ea0c4ab286a773646dc52aa895a.txt  \n",
      " extracting: train/labels/18_20201119_1195914_jpg.rf.58f771098d2a0692770cc6071f489c1c.txt  \n",
      " extracting: train/labels/18_20201119_1195914_jpg.rf.e17726acf82b7193bbab780fdc58984c.txt  \n",
      " extracting: train/labels/18_20201119_1195915_jpg.rf.a0cb5db1b6c7ef74fb502c54654a7124.txt  \n",
      " extracting: train/labels/18_20201119_1195915_jpg.rf.d1b61917a0ad2d2d9c0e20e5f3a4a925.txt  \n",
      " extracting: train/labels/18_20201119_1195916_jpg.rf.010508bc25fe4bbf9762ca1b9ed634f0.txt  \n",
      " extracting: train/labels/18_20201119_1195916_jpg.rf.0fdf46d2920e8dcd805e72873607e683.txt  \n",
      " extracting: train/labels/18_20201119_1195916_jpg.rf.74bc359e963eae38f3c1e9103a22649f.txt  \n",
      " extracting: train/labels/18_20201119_1195916_jpg.rf.7d9aff2d557649886b4c135469a648fd.txt  \n",
      " extracting: train/labels/18_20201119_1195916_jpg.rf.81f585c0f9967ee1f02554a3fdfa8630.txt  \n",
      " extracting: train/labels/18_20201119_1195917_jpg.rf.86ee691004fbfb1a1fd8d312fa685a7a.txt  \n",
      " extracting: train/labels/18_20201119_1195917_jpg.rf.d7ec4ce5c6fe2720edef876feb6b0ec1.txt  \n",
      " extracting: train/labels/18_20201119_1195917_jpg.rf.da4e584f5dc63658926104ae3a04b83e.txt  \n",
      " extracting: train/labels/18_20201119_1195922_jpg.rf.349727710be088e657cf584632fe9174.txt  \n",
      " extracting: train/labels/18_20201119_1195922_jpg.rf.c37edd553003db6ccffa8e419c7a4b8d.txt  \n",
      " extracting: train/labels/18_20201119_1195922_jpg.rf.f5c0ba3cbb44b28c0b8e0a9705fef37e.txt  \n",
      " extracting: train/labels/18_20201119_1195924_jpg.rf.680e3e46973cbcaf4b8049402f1aee0f.txt  \n",
      " extracting: train/labels/18_20201119_1195924_jpg.rf.b0b465afe679c9d9d340a9512fe897e9.txt  \n",
      " extracting: train/labels/18_20201119_1195924_jpg.rf.c8651b1851ad46f36069798fa4a1bf1f.txt  \n",
      " extracting: train/labels/18_20201119_1195932_jpg.rf.70f6707bf30a213762c3a5c255e4c964.txt  \n",
      " extracting: train/labels/18_20201119_1195932_jpg.rf.b2f9596cfd2add5d05cf390cd77b21dd.txt  \n",
      " extracting: train/labels/18_20201119_1195932_jpg.rf.cdbabe087a00c236e544b10c49f13481.txt  \n",
      " extracting: train/labels/18_20201119_1195933_jpg.rf.48b6961cd7d6fda26e6b2e301f2d9d00.txt  \n",
      " extracting: train/labels/18_20201119_1195933_jpg.rf.a1a874588b989a37fff78b711007b6dc.txt  \n",
      " extracting: train/labels/18_20201119_1195933_jpg.rf.a6924a720f7aa3a46de22530f87f82ae.txt  \n",
      " extracting: train/labels/18_20201119_1195936_jpg.rf.7a88de97ba82eb2e57b42cf9c0921646.txt  \n",
      " extracting: train/labels/18_20201119_1195936_jpg.rf.a6e9042b5cfd516e0f1e91b902ff309f.txt  \n",
      " extracting: train/labels/18_20201120_1246086_jpg.rf.1d7f5e8017d0c7a0984da388cb0497a9.txt  \n",
      " extracting: train/labels/18_20201120_1246086_jpg.rf.5e5eb8c656c49062d9d75a68142a3625.txt  \n",
      " extracting: train/labels/18_20201120_1246086_jpg.rf.829914f2d55fa00aa3a74a60b42ee21b.txt  \n",
      " extracting: train/labels/18_20201120_1246088_jpg.rf.105572f45e5597536aeb96f2c8a5b709.txt  \n",
      " extracting: train/labels/18_20201120_1246088_jpg.rf.4a614aead18501c92441f3d13cc1e91b.txt  \n",
      " extracting: train/labels/18_20201120_1246088_jpg.rf.bcb317dd6f30f8bd0328021d20ae3615.txt  \n",
      " extracting: train/labels/18_20201120_1246092_jpg.rf.3512b3b3293397e89e57cdaf896f2826.txt  \n",
      " extracting: train/labels/18_20201120_1246092_jpg.rf.76390dfa76f558b1628424245b49ac4b.txt  \n",
      " extracting: train/labels/18_20201120_1246092_jpg.rf.ea90550b975e6b2ccaf0fef3e6527665.txt  \n",
      " extracting: train/labels/18_20201120_1246093_jpg.rf.2e15c8c259b0b63a418dc9c7626629d7.txt  \n",
      " extracting: train/labels/18_20201120_1246093_jpg.rf.4c7c4a75957960dc617c71490736a5bb.txt  \n",
      " extracting: train/labels/18_20201120_1246093_jpg.rf.c76b88c296ec62e31e0fd3c5eddc116b.txt  \n",
      " extracting: train/labels/18_20201120_1246093_jpg.rf.d4aecba09a3c9db9dd5364e2b55c1e76.txt  \n",
      " extracting: train/labels/18_20201120_1246093_jpg.rf.fb6f0d3234ea8c8962eed6a8700d3dc0.txt  \n",
      " extracting: train/labels/18_20201120_1246095_jpg.rf.2dbbd1ec5ab149bc9b43e624b1cae967.txt  \n",
      " extracting: train/labels/18_20201120_1246095_jpg.rf.52ab1868a8c554cb60d4dc31c4551fb5.txt  \n",
      " extracting: train/labels/18_20201120_1246095_jpg.rf.a34416e507012dfa96a0f8f62ec3b230.txt  \n",
      " extracting: train/labels/18_20201120_1246098_jpg.rf.06b1428eca8e334e8b4aee5fcfd1302a.txt  \n",
      " extracting: train/labels/18_20201120_1246098_jpg.rf.2302a6e822c244316097e91e483e7f95.txt  \n",
      " extracting: train/labels/18_20201120_1246098_jpg.rf.3a901dbf66f146cd96dff1a0b341cdee.txt  \n",
      " extracting: train/labels/18_20201120_1246098_jpg.rf.4973e611822f7c2c60d8d160fb0e7dd0.txt  \n",
      " extracting: train/labels/18_20201120_1246098_jpg.rf.826e970a41fc3dcc21b83b5c69ec47bf.txt  \n",
      " extracting: train/labels/18_20201120_1246098_jpg.rf.aa0fcc61fbf34ca18c32939b311e2b24.txt  \n",
      " extracting: train/labels/18_20201120_1246471_jpg.rf.2802a9225e28b5bb55ea2c8bc429ea41.txt  \n",
      " extracting: train/labels/18_20201120_1246471_jpg.rf.55abe3e6e77f7813e648c4f0a80dfec8.txt  \n",
      " extracting: train/labels/18_20201120_1246471_jpg.rf.b352f76b00c67034e476081f06568e1f.txt  \n",
      " extracting: train/labels/18_20201120_1246498_jpg.rf.3779a65516905d0edf167f883d169f3a.txt  \n",
      " extracting: train/labels/18_20201120_1246498_jpg.rf.6806c68fcb4b8dc97a7965a65cd9f7d5.txt  \n",
      " extracting: train/labels/18_20201120_1246498_jpg.rf.d170e0877838aa6e0f78713a1396cf72.txt  \n",
      " extracting: train/labels/18_20201120_1246513_jpg.rf.1217fe8ed60591d47debc433df961df4.txt  \n",
      " extracting: train/labels/18_20201120_1246513_jpg.rf.48e30e43b31593fa57b23279dd71d36b.txt  \n",
      " extracting: train/labels/18_20201120_1246513_jpg.rf.4fed74775db0862514998183a64540da.txt  \n",
      " extracting: train/labels/18_20201120_1246513_jpg.rf.dce44c1924f819c72a5df98fa6d4b21c.txt  \n",
      " extracting: train/labels/18_20201120_1246513_jpg.rf.dda37dede55930b2c5b83dba89a52cb7.txt  \n",
      " extracting: train/labels/18_20201120_1246513_jpg.rf.e4cf4195625e0ef0a61e3a0d3c32a5d8.txt  \n",
      " extracting: train/labels/18_20201120_1246514_jpg.rf.226e5973819871f82421607f3e965adc.txt  \n",
      " extracting: train/labels/18_20201120_1246514_jpg.rf.b26ceb8bddfe535db50a0c559ea5732c.txt  \n",
      " extracting: train/labels/18_20201120_1246514_jpg.rf.c8ce47cb78d8e0a806c9bdcfef2bbdfa.txt  \n",
      " extracting: train/labels/20100816earlyblight_jpg.rf.1caad21e7acf586e36a45ec26561bc37.txt  \n",
      " extracting: train/labels/20100816earlyblight_jpg.rf.39bda0058f01eb9c05f1027f37c7e573.txt  \n",
      " extracting: train/labels/20100816earlyblight_jpg.rf.7e3a99d409aa2ccd2686ed30a30645c1.txt  \n",
      " extracting: train/labels/5086-early_jpg.rf.9caaeeb7bfd72e5afdef35b00f7d9d7d.txt  \n",
      " extracting: train/labels/5086-early_jpg.rf.ccfc9a51c86cde319ece8c75d15ddca7.txt  \n",
      " extracting: train/labels/5086-early_jpg.rf.db1c2dbf8665311160bcacc3ee538d8a.txt  \n",
      " extracting: train/labels/BCH-20medium-20thumbnail-20for-20upload-20-2836-29_jpg.rf.5bb7fcca4882f7228ee1fd45fb604426.txt  \n",
      " extracting: train/labels/BCH-20medium-20thumbnail-20for-20upload-20-2836-29_jpg.rf.82fcf4999c91c82fd905024ca86e0e9a.txt  \n",
      " extracting: train/labels/BCH-20medium-20thumbnail-20for-20upload-20-2836-29_jpg.rf.cdf83cea35a041f9532ecf32237d12a3.txt  \n",
      " extracting: train/labels/Early-blight-660x440_jpg.rf.72ca0435e64f87e6ee8f217540f370da.txt  \n",
      " extracting: train/labels/Early-blight-660x440_jpg.rf.89964256f088fbc85edd1ef3faf78387.txt  \n",
      " extracting: train/labels/Early-blight-660x440_jpg.rf.b15187bb4f5556dfc58be11e6b88d5bb.txt  \n",
      " extracting: train/labels/Early_Blight_of_Tomato1687_jpg.rf.1a3bcb708d5c48d66be739ee8739bdd0.txt  \n",
      " extracting: train/labels/Early_Blight_of_Tomato1687_jpg.rf.af44988c75df3446934b09806d94f934.txt  \n",
      " extracting: train/labels/Early_blight_1-jpg-1376579808_jpg.rf.1c67e144c03fe8763374c1d0aa880be1.txt  \n",
      " extracting: train/labels/Early_blight_1-jpg-1376579808_jpg.rf.38b9bc5cdc6fbfb49ec439b35cccf7b6.txt  \n",
      " extracting: train/labels/Early_blight_on_tomato_leaves_7871930010-Fairfax_jpg.rf.36bf2e33c0b4fb3dd21f2ea8d5201197.txt  \n",
      " extracting: train/labels/Early_blight_on_tomato_leaves_7871930010-Fairfax_jpg.rf.3bec9af73db5e8332f75c208e6ee4330.txt  \n",
      " extracting: train/labels/Early_blight_on_tomato_leaves_7871930010-Fairfax_jpg.rf.a65c02b42afb914bba9c890cf9a3d324.txt  \n",
      " extracting: train/labels/Flower-100-_jpg.rf.4460e49c285d06661fac00f7a15ea2fa.txt  \n",
      " extracting: train/labels/Flower-100-_jpg.rf.4ae7fc067381e40c636e8acec2e02edc.txt  \n",
      " extracting: train/labels/Flower-100-_jpg.rf.ffb237a8979cd7fe7400a67beded5c0a.txt  \n",
      " extracting: train/labels/Flower-102-_jpg.rf.1a1345c2616cb11a47ec9e893cd7293a.txt  \n",
      " extracting: train/labels/Flower-102-_jpg.rf.906fae431a72303402bb918377dda3c9.txt  \n",
      " extracting: train/labels/Flower-102-_jpg.rf.a4f7c3748adde00a8e5b0872e887512c.txt  \n",
      " extracting: train/labels/Flower-109-_jpg.rf.125ae9a5ce2b6e5a66a9080160176224.txt  \n",
      " extracting: train/labels/Flower-109-_jpg.rf.7562892defda525d2f87c03998ddf611.txt  \n",
      " extracting: train/labels/Flower-109-_jpg.rf.9004d799ef3521aec39b76f43910ee09.txt  \n",
      " extracting: train/labels/Flower-111-_jpg.rf.754f66c285b702678fadece6d23f115b.txt  \n",
      " extracting: train/labels/Flower-111-_jpg.rf.908bbac83ae57422f69b3337465f1769.txt  \n",
      " extracting: train/labels/Flower-111-_jpg.rf.b62b154ba382db95bba3ee2be62fa486.txt  \n",
      " extracting: train/labels/Flower-16-_jpg.rf.51cb17df9d44e1c7bc05cc9c41cf3729.txt  \n",
      " extracting: train/labels/Flower-16-_jpg.rf.7cd480ea675828c1e8266cb07295c246.txt  \n",
      " extracting: train/labels/Flower-16-_jpg.rf.df545cb265c6d5615f529f5d335ef065.txt  \n",
      " extracting: train/labels/IMG_5715_png.rf.2220783b5d7bafa3f7f32ef78dfb9a0b.txt  \n",
      " extracting: train/labels/IMG_5715_png.rf.6ec14fc259d0255f5ea2e8b26a2bb526.txt  \n",
      " extracting: train/labels/IMG_5720_png.rf.21c1d4344ac3c7c68fb07febe18642cd.txt  \n",
      " extracting: train/labels/IMG_5720_png.rf.8ea3306f64dce5900615fa47c7cc196a.txt  \n",
      " extracting: train/labels/IMG_5720_png.rf.a50b136d06c0752372998a9a514dd2ef.txt  \n",
      " extracting: train/labels/IMG_5721_png.rf.1a8a866eb322a1db446c4b9eccea8c3e.txt  \n",
      " extracting: train/labels/IMG_5721_png.rf.b05b09009261825965a2e780f06879a3.txt  \n",
      " extracting: train/labels/IMG_5721_png.rf.fc87a79a46086510685a22839c7792f8.txt  \n",
      " extracting: train/labels/IMG_5722_png.rf.9fabbcc7a43f75bfb23b9744ce09a219.txt  \n",
      " extracting: train/labels/IMG_5722_png.rf.cfcd1d00d0bdbd145d406e445fc5e435.txt  \n",
      " extracting: train/labels/IMG_5722_png.rf.ffe998590a08563bea5067d00dddcfc8.txt  \n",
      " extracting: train/labels/IMG_5723_png.rf.06b676d97523e6c98b3c7b6787b6341a.txt  \n",
      " extracting: train/labels/IMG_5723_png.rf.ad577ae6086c6636b6e8ce1062484857.txt  \n",
      " extracting: train/labels/IMG_5726_png.rf.1c08a6e5fb23c38415d6710052c56ad3.txt  \n",
      " extracting: train/labels/IMG_5726_png.rf.880b326638d8fd0a06f78430998e1e6e.txt  \n",
      " extracting: train/labels/IMG_5726_png.rf.fb0b9672ce406f43679ff5e3c0540d76.txt  \n",
      " extracting: train/labels/IMG_5727_png.rf.048d1152771c11fcbc8e54d49b447b55.txt  \n",
      " extracting: train/labels/IMG_5727_png.rf.a06b3def1a715da40bcaab12b43bb436.txt  \n",
      " extracting: train/labels/IMG_5727_png.rf.d5cf50695573e9b922cb666ecf31325b.txt  \n",
      " extracting: train/labels/IMG_5728_png.rf.0b12ba36157e66a56b1e9056dfdf4187.txt  \n",
      " extracting: train/labels/IMG_5728_png.rf.bf60505fbb4608d39ed8e2941d2653f9.txt  \n",
      " extracting: train/labels/IMG_5728_png.rf.dd3d962b9cc4f3683e4bafcb9b71d721.txt  \n",
      " extracting: train/labels/IMG_5730_png.rf.55cafa6d1f40a1cffc0d40af6e1c5f3d.txt  \n",
      " extracting: train/labels/IMG_5730_png.rf.d07e8c195cdb2446f5c039bfb1362799.txt  \n",
      " extracting: train/labels/IMG_5730_png.rf.eb05e226450c02d5d452b95a26160277.txt  \n",
      " extracting: train/labels/IMG_5734_png.rf.0c2ddb310bb6c7695c9a171f836206f7.txt  \n",
      " extracting: train/labels/IMG_5734_png.rf.552db88363f26ab4a0879d700d7983a9.txt  \n",
      " extracting: train/labels/IMG_5734_png.rf.77ecc9a7430a0d3719ab12df64340e6d.txt  \n",
      " extracting: train/labels/IMG_5737_png.rf.0eae2ede8a11d1c0282bae24657656b8.txt  \n",
      " extracting: train/labels/IMG_5737_png.rf.8ab321f8d1f6e4aa31a680efab1a804b.txt  \n",
      " extracting: train/labels/IMG_5737_png.rf.8b6d7bd8f81af8b061ef689c139bac1c.txt  \n",
      " extracting: train/labels/IMG_5740_png.rf.8a507bdd8d66eef7cdbffa3e73b435fb.txt  \n",
      " extracting: train/labels/IMG_5740_png.rf.8d8ec912fdac2c1e382b08c6831ac5e7.txt  \n",
      " extracting: train/labels/IMG_5740_png.rf.fccb4d298ed0fc9dea2324d50b7f1df0.txt  \n",
      " extracting: train/labels/IMG_5742_png.rf.07b5faa610d044429820c9b490655136.txt  \n",
      " extracting: train/labels/IMG_5742_png.rf.4ad5ddc2114825f01204618ec01ab74d.txt  \n",
      " extracting: train/labels/IMG_5742_png.rf.b62e6c657cd1f82586f950c6bacbb02e.txt  \n",
      " extracting: train/labels/IMG_5770_png.rf.8f72caa343a2e2ce407fc0a4ff11736f.txt  \n",
      " extracting: train/labels/IMG_5770_png.rf.a14d079ddb092e42e6168a5df81da3cf.txt  \n",
      " extracting: train/labels/IMG_5828_png.rf.7c8958bc157a071e3229ea8919307cfd.txt  \n",
      " extracting: train/labels/IMG_5828_png.rf.9abe7d4ceee043130e748c5788e0f7bb.txt  \n",
      " extracting: train/labels/IMG_5828_png.rf.f44040ae25935c082271afa16f188930.txt  \n",
      " extracting: train/labels/IMG_8510_jpg.rf.3e1b329ad2a8af9fe434ba60509cd753.txt  \n",
      " extracting: train/labels/IMG_8510_jpg.rf.da6e80a045f9230225a1cf4ec714de9c.txt  \n",
      " extracting: train/labels/IMG_8510_jpg.rf.fd43858116608497f2fe88d1988f8541.txt  \n",
      " extracting: train/labels/IMG_8513_jpg.rf.0072b2904816de34962c9d854396e44a.txt  \n",
      " extracting: train/labels/IMG_8513_jpg.rf.77ccbb3b62be1dc114ec5b575d407ab4.txt  \n",
      " extracting: train/labels/IMG_8513_jpg.rf.e2cfec7449f1a284aa4fd09041175fde.txt  \n",
      " extracting: train/labels/IMG_8514_jpg.rf.53b4dd14ae92314720adbbc03fef1004.txt  \n",
      " extracting: train/labels/IMG_8514_jpg.rf.776eb6a066a7779d6a009df28ea6bd85.txt  \n",
      " extracting: train/labels/IMG_8514_jpg.rf.777f8be704280dfb8c38713aee932a65.txt  \n",
      " extracting: train/labels/IMG_8516_jpg.rf.95eb3e7dda95b2db12af8be7257a306d.txt  \n",
      " extracting: train/labels/IMG_8516_jpg.rf.af6b45fb818dadc786785acd62604eb4.txt  \n",
      " extracting: train/labels/IMG_8520_jpg.rf.7c72cab8bbc3a654f0c566dd3ba7c6a8.txt  \n",
      " extracting: train/labels/IMG_8520_jpg.rf.a49f3058faec6d6869eabe94d85a70a6.txt  \n",
      " extracting: train/labels/IMG_8535_jpg.rf.6cd121ff7c811fafacbaa7191c4558ae.txt  \n",
      " extracting: train/labels/IMG_8535_jpg.rf.6f6cfabbd72ffce6d730208f45736c8e.txt  \n",
      " extracting: train/labels/IMG_8535_jpg.rf.d7f4ed435e25f1d0b3be86ba554faa1a.txt  \n",
      " extracting: train/labels/IMG_8562_jpg.rf.0ec13313141804b93b13e4feff25b417.txt  \n",
      " extracting: train/labels/IMG_8562_jpg.rf.7fd2f1261af08750f857a2d20978b97a.txt  \n",
      " extracting: train/labels/IMG_8562_jpg.rf.8d4469a8c6c7168f00fc20346b58f998.txt  \n",
      " extracting: train/labels/IMG_8563_jpg.rf.1c1f4fa446cf0b4ce12e769f12e058c2.txt  \n",
      " extracting: train/labels/IMG_8563_jpg.rf.75bde9024dbd7797bfbbfe34fef8916e.txt  \n",
      " extracting: train/labels/IMG_8563_jpg.rf.7d899493adea68c34a021478ce4c9277.txt  \n",
      " extracting: train/labels/IMG_8565_jpg.rf.43d5eee98e3c3614e81fde202eda3422.txt  \n",
      " extracting: train/labels/IMG_8565_jpg.rf.778dfa4b1ae72c2bc014848b19c077b4.txt  \n",
      " extracting: train/labels/IMG_8587_jpg.rf.76f6f5f5ab21dd0d2759906f14691bca.txt  \n",
      " extracting: train/labels/IMG_8587_jpg.rf.802e7122d55d0ba6640fedf87ff1f6c0.txt  \n",
      " extracting: train/labels/IMG_8608_jpg.rf.8adfa763f84cd5d381ddb22e2f70e630.txt  \n",
      " extracting: train/labels/IMG_8608_jpg.rf.cd8a7c2dcf74f5b0cca351d0074bf361.txt  \n",
      " extracting: train/labels/IMG_8608_jpg.rf.f3eae2d2dad2a212a2393b5e8080fba8.txt  \n",
      " extracting: train/labels/Original_e-blight-JPG-rend-hgtvcom-966-725-jpeg_jpg.rf.2db3c3bdc8976947ff14fbe94d22eedf.txt  \n",
      " extracting: train/labels/Original_e-blight-JPG-rend-hgtvcom-966-725-jpeg_jpg.rf.5b8a3349269b71d057c942b2f737545f.txt  \n",
      " extracting: train/labels/Original_e-blight-JPG-rend-hgtvcom-966-725-jpeg_jpg.rf.8e02c5987b10304c6948168abe22941e.txt  \n",
      " extracting: train/labels/Pest2369_jpg.rf.3c045468c578bd9284bfd53328f3688e.txt  \n",
      " extracting: train/labels/Pest2369_jpg.rf.655001d5f58a830c7bdc58ccebaa0c30.txt  \n",
      " extracting: train/labels/Pest2369_jpg.rf.aa9ca16ec30ef9355215b7f369f4589e.txt  \n",
      " extracting: train/labels/Tomato-Early-Blight-Leaves-Cornell-University_jpg.rf.a6c0518d94ac39d7c5f4f0c62eae8be0.txt  \n",
      " extracting: train/labels/Tomato-Early-Blight-Leaves-Cornell-University_jpg.rf.d8af627af0a3475c4a5a2da838ad8f92.txt  \n",
      " extracting: train/labels/Tomato-Early-Blight-Leaves-Cornell-University_jpg.rf.ebf3331a86706fa0002e04b3c29d5d50.txt  \n",
      " extracting: train/labels/Tomato-Early-Blight-e1513806873934_jpg.rf.3f821122e9ab5b7e1e5860a20d536521.txt  \n",
      " extracting: train/labels/Tomato-Early-Blight-e1513806873934_jpg.rf.7ed85f2997302ca20f128d611991d759.txt  \n",
      " extracting: train/labels/Tomato-Early-Blight-e1513806873934_jpg.rf.9aaf42529f080b73bea4cc8ab10b9ee9.txt  \n",
      " extracting: train/labels/Tomato-blight-large_jpg.rf.292aee27ef534924bc677a210de8ecea.txt  \n",
      " extracting: train/labels/Tomato-blight-large_jpg.rf.9083f8a57a69c374d60503bdd065e643.txt  \n",
      " extracting: train/labels/Tomato-blight-large_jpg.rf.d293e73b92520d9b12778623dbadb210.txt  \n",
      " extracting: train/labels/Tomato-diseases-prevention-treatment-Early-blight-_jpg.rf.48bd8870f04725b7edf15cd4901f1173.txt  \n",
      " extracting: train/labels/Tomato-diseases-prevention-treatment-Early-blight-_jpg.rf.631165d24b298a996e667bfa8a725c5e.txt  \n",
      " extracting: train/labels/Tomato-diseases-prevention-treatment-Early-blight-_jpg.rf.b8f2d2bdb3efd6bf563353f5d0928cfa.txt  \n",
      " extracting: train/labels/Tomato_plant_10_jpeg.rf.1fc233e0d7d755fba5de95e21792b84d.txt  \n",
      " extracting: train/labels/Tomato_plant_10_jpeg.rf.ea47a13c91cb15aa56ee1c58fc12517c.txt  \n",
      " extracting: train/labels/Tomato_plant_10_jpeg.rf.f68d848163618763dd343231b4ae4439.txt  \n",
      " extracting: train/labels/Tomato_plant_11_jpeg.rf.4909f770d292c3f3bc6577253ad63002.txt  \n",
      " extracting: train/labels/Tomato_plant_11_jpeg.rf.c90bd5beff6632aa152679ad76c377a2.txt  \n",
      " extracting: train/labels/Tomato_plant_11_jpeg.rf.ec835f14ab751e4326489eef1f6dbb40.txt  \n",
      " extracting: train/labels/Tomato_plant_12_jpeg.rf.374d86b7c470e321f01d8f4b17bf37d0.txt  \n",
      " extracting: train/labels/Tomato_plant_12_jpeg.rf.bbc9417f1211b08288a726104bc73aa4.txt  \n",
      " extracting: train/labels/Tomato_plant_12_jpeg.rf.cdfa9bb52654ac261bed725bf886bbaa.txt  \n",
      " extracting: train/labels/Tomato_plant_13_jpeg.rf.3a6d037b1031412dcb5e090956a71a10.txt  \n",
      " extracting: train/labels/Tomato_plant_13_jpeg.rf.fe9bcb60c077540c5b1a07a33d0d8d59.txt  \n",
      " extracting: train/labels/Tomato_plant_14_jpeg.rf.20c372b32066f6247a2eb757061b1dba.txt  \n",
      " extracting: train/labels/Tomato_plant_14_jpeg.rf.32bbd368c30e40ba065a7e8d92ee6f2c.txt  \n",
      " extracting: train/labels/Tomato_plant_14_jpeg.rf.846a925a4de387aa81e3d7142c4abd3e.txt  \n",
      " extracting: train/labels/Tomato_plant_15_jpeg.rf.4df4b85359dbc7b09df23d337ae6372c.txt  \n",
      " extracting: train/labels/Tomato_plant_15_jpeg.rf.6fe3fb2e01e9153d6f5f163c0beae18d.txt  \n",
      " extracting: train/labels/Tomato_plant_15_jpeg.rf.b78bdb88628dc676749ef9cea97882d8.txt  \n",
      " extracting: train/labels/Tomato_plant_5_jpeg.rf.29a5f21c112bd23ab7a234a943c77c53.txt  \n",
      " extracting: train/labels/Tomato_plant_5_jpeg.rf.4667a02a76c0978c5620d5b5dd1a1d66.txt  \n",
      " extracting: train/labels/Tomato_plant_5_jpeg.rf.6bd24470e337754d2198c9c076c6b782.txt  \n",
      " extracting: train/labels/Tomato_plant_6_jpeg.rf.77dc803bbaa8d5cc009f1beb1c7a0a45.txt  \n",
      " extracting: train/labels/Tomato_plant_6_jpeg.rf.800ee6609d66ccd36350e818cbcad4e7.txt  \n",
      " extracting: train/labels/Tomato_plant_6_jpeg.rf.fecb93785aab2dacc049f6f8aed347cb.txt  \n",
      " extracting: train/labels/Tomato_plant_8_jpeg.rf.21b58899acc86347bd217ed337356f7c.txt  \n",
      " extracting: train/labels/Tomato_plant_8_jpeg.rf.e429c1ebf5836b74685c974aff0626d9.txt  \n",
      " extracting: train/labels/Tomato_plant_8_jpeg.rf.fe7ac61ab5765d064cb13e3941c66f71.txt  \n",
      " extracting: train/labels/Tomato_plant_9_jpeg.rf.975f77d3ecea99ab684a9eca3e77b303.txt  \n",
      " extracting: train/labels/Tomato_plant_9_jpeg.rf.bff6ae4407637bb279aa200781918ff4.txt  \n",
      " extracting: train/labels/Tomato_plant_9_jpeg.rf.dd2142a891d732d39669a4247342ee24.txt  \n",
      " extracting: train/labels/V006_79_0_00_07_03_12_0_c02_20201013_0015_S01_1_JPG_jpg.rf.33accf28a85816febbefb7220cacf238.txt  \n",
      " extracting: train/labels/V006_79_0_00_07_03_12_0_c02_20201013_0015_S01_1_JPG_jpg.rf.492a4929d991e5bf32a11357e814263a.txt  \n",
      " extracting: train/labels/V006_79_0_00_07_03_12_0_c02_20201013_0015_S01_1_JPG_jpg.rf.51ad560d86850a227a940085ee76b230.txt  \n",
      " extracting: train/labels/V006_79_0_00_07_03_12_0_c02_20201013_0015_S01_1_JPG_jpg.rf.83b864babaaa36fdda350abbc6cace87.txt  \n",
      " extracting: train/labels/V006_79_0_00_07_03_12_0_c02_20201013_0015_S01_1_JPG_jpg.rf.bc0f50a22c5da710f9fa8c09992454d2.txt  \n",
      " extracting: train/labels/V006_79_0_00_07_03_12_0_c02_20201013_0015_S01_1_JPG_jpg.rf.d77ac8ecbc02aa3b74eebd47e6d009ef.txt  \n",
      " extracting: train/labels/V006_79_0_00_07_03_12_0_c02_20201013_0016_S01_1_JPG_jpg.rf.328fb1aec4987a2598180a602786c97e.txt  \n",
      " extracting: train/labels/V006_79_0_00_07_03_12_0_c02_20201013_0016_S01_1_JPG_jpg.rf.84960972fca72a75a2ea572bf52724aa.txt  \n",
      " extracting: train/labels/V006_79_0_00_07_03_12_0_c02_20201013_0017_S01_1_JPG_jpg.rf.051283aa91eee4a4688118d10e2a139c.txt  \n",
      " extracting: train/labels/V006_79_0_00_07_03_12_0_c02_20201013_0017_S01_1_JPG_jpg.rf.af0150dbcca6933843f175f76858fd2a.txt  \n",
      " extracting: train/labels/V006_79_0_00_07_03_12_0_c02_20201013_0017_S01_1_JPG_jpg.rf.d4a69096c5d9400ba602fd31c8a01631.txt  \n",
      " extracting: train/labels/V006_79_0_00_07_03_12_0_c02_20201013_0029_S01_1_JPG_jpg.rf.2e4221c3352cff957a2d3800b788b125.txt  \n",
      " extracting: train/labels/V006_79_0_00_07_03_12_0_c02_20201013_0029_S01_1_JPG_jpg.rf.451bc1449e142d633f160d58b6be1cb7.txt  \n",
      " extracting: train/labels/V006_79_0_00_07_03_12_0_c02_20201013_0029_S01_1_JPG_jpg.rf.d577e3d0a19145b5bdf45fd182a21209.txt  \n",
      " extracting: train/labels/V006_79_0_00_07_03_12_0_c02_20201013_0029_S01_1_JPG_jpg.rf.dff31d56bffdab020429bd77fa013f7d.txt  \n",
      " extracting: train/labels/V006_79_0_00_07_03_12_0_c02_20201013_0029_S01_1_JPG_jpg.rf.ea4fac43d653a89b73b772ecec5ac22f.txt  \n",
      " extracting: train/labels/V006_79_0_00_07_03_12_0_c02_20201013_0029_S01_1_JPG_jpg.rf.fd0aa649a85da6d5b9f8711b9b15b67f.txt  \n",
      " extracting: train/labels/V006_79_0_00_07_03_12_0_c02_20201013_0032_S01_1_JPG_jpg.rf.1e0342efa0bd20d188666a18ec1eb1a1.txt  \n",
      " extracting: train/labels/V006_79_0_00_07_03_12_0_c02_20201013_0032_S01_1_JPG_jpg.rf.39e03a8d6e84ff509dde33869b918454.txt  \n",
      " extracting: train/labels/V006_79_0_00_07_03_12_0_c02_20201013_0032_S01_1_JPG_jpg.rf.7031b07cfe69cc28ca372120cf017aba.txt  \n",
      " extracting: train/labels/V006_79_0_00_07_03_12_0_c02_20201013_0032_S01_1_JPG_jpg.rf.778dddda150a2389bf6595a105b2959e.txt  \n",
      " extracting: train/labels/V006_79_0_00_07_03_12_0_c02_20201013_0032_S01_1_JPG_jpg.rf.c3f048b3e32b83e7314b6a247820c123.txt  \n",
      " extracting: train/labels/V006_79_0_00_07_03_12_0_c02_20201013_0032_S01_1_JPG_jpg.rf.e630121f2b37da9c12d88b7959870015.txt  \n",
      " extracting: train/labels/V006_79_0_00_07_03_12_0_c02_20201013_0034_S01_1_JPG_jpg.rf.63ba62dd7f634975765bc01790d22d61.txt  \n",
      " extracting: train/labels/V006_79_0_00_07_03_12_0_c02_20201013_0034_S01_1_JPG_jpg.rf.842483e63da409a6e00483f869e10904.txt  \n",
      " extracting: train/labels/V006_79_0_00_07_03_12_0_c02_20201013_0034_S01_1_JPG_jpg.rf.c136b2bb0915b930425cf0121cb1085e.txt  \n",
      " extracting: train/labels/V006_79_0_00_07_03_12_0_c02_20201013_0064_S01_1_JPG_jpg.rf.bd756cc19e3e571e61a82757722f598a.txt  \n",
      " extracting: train/labels/V006_79_0_00_07_03_12_0_c02_20201013_0064_S01_1_JPG_jpg.rf.e6935604df7b927352e6f6706866c91c.txt  \n",
      " extracting: train/labels/V006_79_0_00_07_03_12_0_c02_20201013_0068_S01_1_JPG_jpg.rf.6707161e1ea6186f785b6f734ba7dcc1.txt  \n",
      " extracting: train/labels/V006_79_0_00_07_03_12_0_c02_20201013_0068_S01_1_JPG_jpg.rf.7daa434c799f2ee87634cbe88e3024c4.txt  \n",
      " extracting: train/labels/V006_79_0_00_07_03_12_0_c02_20201013_0068_S01_1_JPG_jpg.rf.b2849973813f6c190d15a2da52246caf.txt  \n",
      " extracting: train/labels/V006_79_0_00_07_03_12_0_c12_20201028_0017_S01_1_JPG_jpg.rf.0c5d028fca0167fd22a79e5712c98eda.txt  \n",
      " extracting: train/labels/V006_79_0_00_07_03_12_0_c12_20201028_0017_S01_1_JPG_jpg.rf.113b44b09e1bf963e92db8d6aa3e615a.txt  \n",
      " extracting: train/labels/V006_79_0_00_07_03_12_0_c12_20201028_0017_S01_1_JPG_jpg.rf.2aad743d864c9a46f9d1c95eeb8282d4.txt  \n",
      " extracting: train/labels/V006_79_0_00_07_03_12_0_c12_20201028_0017_S01_1_JPG_jpg.rf.6e78aabe3559b40b822191368067ff40.txt  \n",
      " extracting: train/labels/V006_79_0_00_07_03_12_0_c12_20201028_0017_S01_1_JPG_jpg.rf.707ec492d656940d9b2601ba13945cb7.txt  \n",
      " extracting: train/labels/V006_79_0_00_07_03_12_0_c12_20201028_0017_S01_1_JPG_jpg.rf.c8f042c4aa12a647b6b96d1a44b63973.txt  \n",
      " extracting: train/labels/V006_79_0_00_07_03_12_0_c12_20201028_0031_S01_1_JPG_jpg.rf.61141bc4bb1ea9506f5e4ee5947ab25a.txt  \n",
      " extracting: train/labels/V006_79_0_00_07_03_12_0_c12_20201028_0031_S01_1_JPG_jpg.rf.7ec87d4b6ba2b11d927e90a99c6af112.txt  \n",
      " extracting: train/labels/V006_79_0_00_07_03_12_0_c12_20201028_0031_S01_1_JPG_jpg.rf.9bece0823324e3f6e9bd5f2878bbbafc.txt  \n",
      " extracting: train/labels/V006_79_0_00_07_03_12_0_c12_20201028_0031_S01_1_JPG_jpg.rf.ad47a4eab8e27bbd01c6bd631c9ee521.txt  \n",
      " extracting: train/labels/V006_79_0_00_07_03_12_0_c12_20201028_0031_S01_1_JPG_jpg.rf.bb2d862cec03736f477dcd9eae5f6abb.txt  \n",
      " extracting: train/labels/V006_79_0_00_07_03_12_0_c12_20201028_0031_S01_1_JPG_jpg.rf.ce86153dfaeeb768da1aba54fde4f193.txt  \n",
      " extracting: train/labels/V006_79_0_00_07_03_12_0_c12_20201028_0035_S01_1_JPG_jpg.rf.1a79354e729ebfc389c9f8b1b331c14a.txt  \n",
      " extracting: train/labels/V006_79_0_00_07_03_12_0_c12_20201028_0035_S01_1_JPG_jpg.rf.2b64ca3ed30a23d3fe137cbd3a2c0c43.txt  \n",
      " extracting: train/labels/V006_79_0_00_07_03_12_0_c12_20201028_0035_S01_1_JPG_jpg.rf.4edb1bfbfc8817f4b2e3c0e7e792b4ec.txt  \n",
      " extracting: train/labels/V006_79_0_00_07_03_12_0_c12_20201028_0035_S01_1_JPG_jpg.rf.5ad140f4f330b2b26ca8abb789afeb75.txt  \n",
      " extracting: train/labels/V006_79_0_00_07_03_12_0_c12_20201028_0035_S01_1_JPG_jpg.rf.bb8a05eae2d5c2060238b8c807300e7d.txt  \n",
      " extracting: train/labels/V006_79_0_00_07_03_12_0_c12_20201028_0035_S01_1_JPG_jpg.rf.bf84c2ac6b50ab1a2a37ec318dead830.txt  \n",
      " extracting: train/labels/V006_79_0_00_07_03_12_0_c13_20201023_0017_S01_1_jpg.rf.2054e7f7d329cf5ee5ce4f1c4c6f803d.txt  \n",
      " extracting: train/labels/V006_79_0_00_07_03_12_0_c13_20201023_0017_S01_1_jpg.rf.30eba715af760ce8311c837fbdbc9a48.txt  \n",
      " extracting: train/labels/V006_79_0_00_07_03_12_0_c13_20201023_0017_S01_1_jpg.rf.35d512e434aa7d9e0ce4ad50bcc9cb97.txt  \n",
      " extracting: train/labels/V006_79_0_00_07_03_12_0_c13_20201023_0017_S01_1_jpg.rf.4733af8a077a513579e5a7fc47577258.txt  \n",
      " extracting: train/labels/V006_79_0_00_07_03_12_0_c13_20201023_0017_S01_1_jpg.rf.47eb5779d89e1aaff3e1653bf3b806a5.txt  \n",
      " extracting: train/labels/V006_79_0_00_07_03_12_0_c13_20201023_0017_S01_1_jpg.rf.a0862c4f91d46956696589483ccc58a1.txt  \n",
      " extracting: train/labels/V006_79_0_00_07_03_12_0_c13_20201023_0017_S01_1_jpg.rf.b47d90f1035cdcb60b6d8153e89351fd.txt  \n",
      " extracting: train/labels/V006_79_0_00_07_03_12_0_c13_20201023_0017_S01_1_jpg.rf.bf7ecc6aa369b421094858e77589a329.txt  \n",
      " extracting: train/labels/V006_79_0_00_07_03_12_0_c13_20201023_0017_S01_1_jpg.rf.ca14965ccde26298e2892cadbbc12501.txt  \n",
      " extracting: train/labels/V006_79_0_00_07_03_12_0_c13_20201023_0020_S01_1_jpg.rf.0f5f865918d1bab5d195f645c3b9d90e.txt  \n",
      " extracting: train/labels/V006_79_0_00_07_03_12_0_c13_20201023_0020_S01_1_jpg.rf.146cbf9d4891c9d0d80d5cf3a2227e39.txt  \n",
      " extracting: train/labels/V006_79_0_00_07_03_12_0_c13_20201023_0020_S01_1_jpg.rf.9bf198d6dab6de8315b1883fd947576e.txt  \n",
      " extracting: train/labels/V006_79_0_00_07_03_12_0_c13_20201023_0020_S01_1_jpg.rf.9c3fb3fc6f1ca7f835e5546658c248a6.txt  \n",
      " extracting: train/labels/V006_79_0_00_07_03_12_0_c13_20201023_0020_S01_1_jpg.rf.b7e61f923f360a25b1a21b49259d881b.txt  \n",
      " extracting: train/labels/V006_79_0_00_07_03_12_0_c13_20201023_0020_S01_1_jpg.rf.dbb14d9c5358e0bbb61c0bcdd12019da.txt  \n",
      " extracting: train/labels/V006_79_0_00_07_03_12_0_c13_20201023_0027_S01_1_jpg.rf.08284b5f69523bf7c7c59b6997112e96.txt  \n",
      " extracting: train/labels/V006_79_0_00_07_03_12_0_c13_20201023_0027_S01_1_jpg.rf.0beb57a0d6e20fe1a73f7275b0e562bf.txt  \n",
      " extracting: train/labels/V006_79_0_00_07_03_12_0_c13_20201023_0027_S01_1_jpg.rf.3ca460f6a6c2d625d4ed14d3845bac25.txt  \n",
      " extracting: train/labels/V006_79_0_00_07_03_12_0_c13_20201023_0027_S01_1_jpg.rf.4cda6581c27130b532344a03527f04e8.txt  \n",
      " extracting: train/labels/V006_79_0_00_07_03_12_0_c13_20201023_0027_S01_1_jpg.rf.b84e5472738d0536da3e4e87806866eb.txt  \n",
      " extracting: train/labels/V006_79_0_00_07_03_12_0_c13_20201023_0027_S01_1_jpg.rf.c0431651a5c33f9866d98b59fcaeb44f.txt  \n",
      " extracting: train/labels/V006_79_0_00_07_03_12_0_c13_20201023_0027_S01_1_jpg.rf.c7172645b2f509c5d5f50d415f035d1c.txt  \n",
      " extracting: train/labels/V006_79_0_00_07_03_12_0_c13_20201023_0027_S01_1_jpg.rf.d1780db34120b72a9157f5793fae5586.txt  \n",
      " extracting: train/labels/V006_79_0_00_07_03_12_0_c13_20201023_0027_S01_1_jpg.rf.d83791eb8ddb29aafd64af8ee4447a89.txt  \n",
      " extracting: train/labels/V006_79_0_00_07_03_12_0_c13_20201023_0029_S01_1_jpg.rf.067f85a3fdd59e7b0ba216081f0d9499.txt  \n",
      " extracting: train/labels/V006_79_0_00_07_03_12_0_c13_20201023_0029_S01_1_jpg.rf.cf9b2b4f96f11cfdaaf1f76d5bde5fb8.txt  \n",
      " extracting: train/labels/V006_79_0_00_07_03_12_0_c13_20201023_0029_S01_1_jpg.rf.d2a749944ec3d1139fa328a2fd618600.txt  \n",
      " extracting: train/labels/V006_79_0_00_07_03_12_0_c13_20201023_0033_S01_1_jpg.rf.399aba630b345f20cb9e8089d6aa7ea4.txt  \n",
      " extracting: train/labels/V006_79_0_00_07_03_12_0_c13_20201023_0033_S01_1_jpg.rf.9d00bc557d041bdbf9c469bb9c950c21.txt  \n",
      " extracting: train/labels/V006_79_0_00_07_03_12_0_c13_20201023_0033_S01_1_jpg.rf.f45bb1b473cdff20f328da14ef5a478c.txt  \n",
      " extracting: train/labels/V006_79_0_00_07_03_12_0_c14_20201103_0006_S01_1_jpg.rf.08884073ff5367505f6ba04ef2c023f8.txt  \n",
      " extracting: train/labels/V006_79_0_00_07_03_12_0_c14_20201103_0006_S01_1_jpg.rf.140cab1b129289d9c3b602778e2a73ed.txt  \n",
      " extracting: train/labels/V006_79_0_00_07_03_12_0_c14_20201103_0006_S01_1_jpg.rf.32b02d84b8c2b9703a761d1e3f645ad1.txt  \n",
      " extracting: train/labels/V006_79_0_00_07_03_12_0_c14_20201103_0006_S01_1_jpg.rf.35056717010a372e91b98c8bed0adb0d.txt  \n",
      " extracting: train/labels/V006_79_0_00_07_03_12_0_c14_20201103_0006_S01_1_jpg.rf.7445f8fafd31615b1bbed9492ce333da.txt  \n",
      " extracting: train/labels/V006_79_0_00_07_03_12_0_c14_20201103_0006_S01_1_jpg.rf.b8f627fda50554758bf567d565ce730d.txt  \n",
      " extracting: train/labels/V006_79_0_00_07_03_12_0_c14_20201104_0002_S01_1_JPG_jpg.rf.05218be9b1bcc63d4050e3e9d7799bd9.txt  \n",
      " extracting: train/labels/V006_79_0_00_07_03_12_0_c14_20201104_0002_S01_1_JPG_jpg.rf.07e86fb46fcf1b13e879c42beaf1bddb.txt  \n",
      " extracting: train/labels/V006_79_0_00_07_03_12_0_c14_20201104_0002_S01_1_JPG_jpg.rf.83a37cafa6a62790627377e9f86e4ddf.txt  \n",
      " extracting: train/labels/V006_79_0_00_07_03_12_0_c14_20201109_0009_S01_1_jpg.rf.164343f4bae149e684e947949d52a718.txt  \n",
      " extracting: train/labels/V006_79_0_00_07_03_12_0_c14_20201109_0009_S01_1_jpg.rf.19bf2df22a3d483963514e35f823f3c1.txt  \n",
      " extracting: train/labels/V006_79_0_00_07_03_12_0_c14_20201109_0009_S01_1_jpg.rf.24f912f65dc37567f99b859360f03a01.txt  \n",
      " extracting: train/labels/V006_79_0_00_07_03_12_0_c14_20201109_0009_S01_1_jpg.rf.39bbd7feea62c181174f9edde065e46e.txt  \n",
      " extracting: train/labels/V006_79_0_00_07_03_12_0_c14_20201109_0009_S01_1_jpg.rf.67cf03147881d60b8c670546e48bb8b1.txt  \n",
      " extracting: train/labels/V006_79_0_00_07_03_12_0_c14_20201109_0009_S01_1_jpg.rf.692ccf55ea8801b8c06d58be5df429e4.txt  \n",
      " extracting: train/labels/V006_79_0_00_07_03_12_0_c14_20201111_0000_S01_1_jpg.rf.3196d42d22253511767001311576a5b7.txt  \n",
      " extracting: train/labels/V006_79_0_00_07_03_12_0_c14_20201111_0000_S01_1_jpg.rf.56cadf2ac6f225aed7b084ed7abf8603.txt  \n",
      " extracting: train/labels/V006_79_0_00_07_03_12_0_c14_20201111_0000_S01_1_jpg.rf.5fac1056288359809916886a2a27e749.txt  \n",
      " extracting: train/labels/V006_79_0_00_07_03_12_0_c14_20201111_0000_S01_1_jpg.rf.76e2f1471b3c770f77a1889f77cd9b15.txt  \n",
      " extracting: train/labels/V006_79_0_00_07_03_12_0_c14_20201111_0000_S01_1_jpg.rf.a46933330de362822805ada9048cb910.txt  \n",
      " extracting: train/labels/V006_79_0_00_07_03_12_0_c14_20201111_0000_S01_1_jpg.rf.c1a641b91db802e7535389a27dadbcf0.txt  \n",
      " extracting: train/labels/V006_79_0_00_07_03_12_0_c14_20201113_0002_S01_1_jpg.rf.2106a8050ab6e68b7ee6f7a196d1d8ee.txt  \n",
      " extracting: train/labels/V006_79_0_00_07_03_12_0_c14_20201113_0002_S01_1_jpg.rf.235453fc5d5c331d3c9d72f5f83ae098.txt  \n",
      " extracting: train/labels/V006_79_0_00_07_03_12_0_c14_20201113_0002_S01_1_jpg.rf.24575247a9491fcddd7acf81e5c2afb4.txt  \n",
      " extracting: train/labels/V006_79_0_00_07_03_12_0_c14_20201113_0002_S01_1_jpg.rf.883f060be5aebe3a3bb3d0df0d95fc36.txt  \n",
      " extracting: train/labels/V006_79_0_00_07_03_12_0_c14_20201113_0002_S01_1_jpg.rf.a9bae76603541739a60d99d317c1a243.txt  \n",
      " extracting: train/labels/V006_79_0_00_07_03_12_0_c14_20201116_0003_S01_1_jpg.rf.1fc54b49d5c301034a4126fd8c24c246.txt  \n",
      " extracting: train/labels/V006_79_0_00_07_03_12_0_c14_20201116_0003_S01_1_jpg.rf.2285d686b9ccdc455f97fe55779be46b.txt  \n",
      " extracting: train/labels/V006_79_0_00_07_03_12_0_c14_20201116_0003_S01_1_jpg.rf.55e5aad200fcf8a89cee539c4d467e02.txt  \n",
      " extracting: train/labels/V006_79_0_00_07_03_12_0_c14_20201116_0003_S01_1_jpg.rf.644678bbfe7fe95889f873a64ee4b633.txt  \n",
      " extracting: train/labels/V006_79_0_00_07_03_12_0_c14_20201116_0003_S01_1_jpg.rf.c4a08159e2d80b02479fb1bff9026723.txt  \n",
      " extracting: train/labels/V006_79_0_00_07_03_12_0_c14_20201116_0003_S01_1_jpg.rf.c7f2ea07733df116e8d54d4568f69c84.txt  \n",
      " extracting: train/labels/V006_79_0_00_07_03_12_0_c15_20201116_0003_S01_1_jpg.rf.04427c27c07add6e53efc5b2cfc64544.txt  \n",
      " extracting: train/labels/V006_79_0_00_07_03_12_0_c15_20201116_0003_S01_1_jpg.rf.048c82a87b748007195c6a92675d5584.txt  \n",
      " extracting: train/labels/V006_79_0_00_07_03_12_0_c15_20201116_0003_S01_1_jpg.rf.264aefc2c00a7407346303342e57b69e.txt  \n",
      " extracting: train/labels/V006_79_0_00_07_03_12_0_c15_20201116_0003_S01_1_jpg.rf.e198a543c9b035c818bb33b8ca85889f.txt  \n",
      " extracting: train/labels/V006_79_0_00_07_03_12_0_c15_20201116_0003_S01_1_jpg.rf.fd356cb7c759b687236cde18ae71ae7d.txt  \n",
      " extracting: train/labels/V006_79_0_00_07_03_12_0_c16_20201103_0000_S01_1_JPG_jpg.rf.3bba3bcff7dc7e529ea2c1920ae4c1c9.txt  \n",
      " extracting: train/labels/V006_79_0_00_07_03_12_0_c16_20201103_0000_S01_1_JPG_jpg.rf.460dad1f1564d298f348299a65c1c89b.txt  \n",
      " extracting: train/labels/V006_79_0_00_07_03_12_0_c16_20201111_0009_S01_1_JPG_jpg.rf.2f168fd3107aa5ca9ed33e6d9a0bad98.txt  \n",
      " extracting: train/labels/V006_79_0_00_07_03_12_0_c16_20201111_0009_S01_1_JPG_jpg.rf.422e69fda3e704d34147fac44340e78c.txt  \n",
      " extracting: train/labels/V006_79_0_00_07_03_12_0_c16_20201111_0009_S01_1_JPG_jpg.rf.8eca887fadfa23e39131825338706b72.txt  \n",
      " extracting: train/labels/V006_79_0_00_07_03_12_0_c17_20201104_0012_S01_1_jpg.rf.43d5e06a5cf747c7f1642cbe1020a45d.txt  \n",
      " extracting: train/labels/V006_79_0_00_07_03_12_0_c17_20201104_0012_S01_1_jpg.rf.90c6829fc627304dabd463f930798a57.txt  \n",
      " extracting: train/labels/V006_79_0_00_07_03_12_0_c17_20201104_0012_S01_1_jpg.rf.f9e18cc76b47c47bd80763ffee8bec72.txt  \n",
      " extracting: train/labels/V006_79_0_00_07_03_12_0_c17_20201113_0005_S01_1_jpg.rf.3be20a697beff1db3f1023e88a330334.txt  \n",
      " extracting: train/labels/V006_79_0_00_07_03_12_0_c17_20201113_0005_S01_1_jpg.rf.709be6937584d91c9cf6ebc8555292b5.txt  \n",
      " extracting: train/labels/V006_79_1_15_07_03_12_1_2656z_20201104_19_jpg.rf.1aaf22b097f30ab9a2ef8711181d16d1.txt  \n",
      " extracting: train/labels/V006_79_1_15_07_03_12_1_2656z_20201104_19_jpg.rf.775bd894b339dec5faa809de180ee870.txt  \n",
      " extracting: train/labels/V006_79_1_15_07_03_12_1_2656z_20201104_19_jpg.rf.812b8fce738707794748a65b494871cf.txt  \n",
      " extracting: train/labels/V006_79_1_15_07_03_12_1_2656z_20201104_19_jpg.rf.911b1f86f9159bb3debb5ff4c22c9afd.txt  \n",
      " extracting: train/labels/V006_79_1_15_07_03_12_1_2656z_20201104_19_jpg.rf.c935503a1d93b839d193522a5b26a575.txt  \n",
      " extracting: train/labels/V006_79_1_15_07_03_12_1_2656z_20201104_19_jpg.rf.fa287c0bc574ad32a00538551d984296.txt  \n",
      " extracting: train/labels/V006_79_1_15_07_03_12_1_2656z_20201106_3_jpg.rf.1c623fc8545f1ab06ba097d4af419bf1.txt  \n",
      " extracting: train/labels/V006_79_1_15_07_03_12_1_2656z_20201106_3_jpg.rf.7374c92ab63c7cda59e569cd855533d8.txt  \n",
      " extracting: train/labels/V006_79_1_15_07_03_12_1_2656z_20201106_3_jpg.rf.8002d2a2aeb8ae8afd02ac03b33f794e.txt  \n",
      " extracting: train/labels/V006_79_1_15_07_03_12_1_2656z_20201106_3_jpg.rf.a2a748a14177a6ee2237266e45658db1.txt  \n",
      " extracting: train/labels/V006_79_1_15_07_03_12_1_2656z_20201106_3_jpg.rf.c9badaafacc0fe6f572672c2b2ffcdbc.txt  \n",
      " extracting: train/labels/V006_79_1_15_07_03_12_1_2656z_20201106_3_jpg.rf.cb6f07e7c2b6b29ebd0fd47f9b18df92.txt  \n",
      " extracting: train/labels/V006_79_1_15_07_03_12_1_2656z_20201106_3_jpg.rf.d8c0c4369183cf2e3d51eed8fecaf280.txt  \n",
      " extracting: train/labels/V006_79_1_15_07_03_12_1_2656z_20201106_3_jpg.rf.dbd41b6785fe4b00ab1fee896d4e4aa3.txt  \n",
      " extracting: train/labels/V006_79_1_15_07_03_12_1_2656z_20201106_3_jpg.rf.fc95faf76b0c97b4f7e010da6473329c.txt  \n",
      " extracting: train/labels/V006_79_1_15_07_03_12_1_5322z_20201110_85_jpg.rf.342b4e357456644b020f5e4aa0b3ee31.txt  \n",
      " extracting: train/labels/V006_79_1_15_07_03_12_1_5322z_20201110_85_jpg.rf.5690db363cd74a84d174a27a2ad2832b.txt  \n",
      " extracting: train/labels/V006_79_1_15_07_03_12_1_5322z_20201110_85_jpg.rf.f726574bb3aab69c5bc5d642b495a76f.txt  \n",
      " extracting: train/labels/V006_79_1_15_07_03_12_1_5322z_20201111_114_jpg.rf.45cd8ba8ff586da62ca81573c0c91f6b.txt  \n",
      " extracting: train/labels/V006_79_1_15_07_03_12_1_5322z_20201111_114_jpg.rf.4a24fb80c11a34d020b2f2437164a5a5.txt  \n",
      " extracting: train/labels/V006_79_1_15_07_03_12_1_5322z_20201111_114_jpg.rf.ad4f90d66bd0c7ea153d0a306ba668fd.txt  \n",
      " extracting: train/labels/V006_79_1_15_07_03_12_1_5322z_20201111_114_jpg.rf.b4be12b9a6a574b1db16510e2d3322f8.txt  \n",
      " extracting: train/labels/V006_79_1_15_07_03_12_1_5322z_20201111_114_jpg.rf.eb90069624752719f87f8db55bb507df.txt  \n",
      " extracting: train/labels/V006_79_1_15_07_03_12_1_5322z_20201111_114_jpg.rf.f04548f9467765d1a0ca59652e23670d.txt  \n",
      " extracting: train/labels/V006_79_1_15_07_03_12_1_5322z_20201111_88_jpg.rf.188d4245007d688cc0709b09ace4ad73.txt  \n",
      " extracting: train/labels/V006_79_1_15_07_03_12_1_5322z_20201111_88_jpg.rf.356e7135a3e2e1e0924e9fa373ad8dd1.txt  \n",
      " extracting: train/labels/V006_79_1_15_07_03_12_1_5322z_20201111_88_jpg.rf.462624517b9c566323d578c803506dfc.txt  \n",
      " extracting: train/labels/V006_79_1_15_07_03_12_1_5322z_20201111_88_jpg.rf.897d1cfd55419f6115ecb7e49702ea24.txt  \n",
      " extracting: train/labels/V006_79_1_15_07_03_12_1_5322z_20201111_88_jpg.rf.ba53e413a56dcbd19642aa0ecaec7e43.txt  \n",
      " extracting: train/labels/V006_79_1_15_07_03_12_1_5322z_20201111_88_jpg.rf.fb79162bccacb86a139c013cd73fa492.txt  \n",
      " extracting: train/labels/V006_79_1_15_07_03_12_1_5322z_20201111_96_jpg.rf.9cb4de4f9f71f3b2e26dbbbcf88380b9.txt  \n",
      " extracting: train/labels/V006_79_1_15_07_03_12_1_5322z_20201111_96_jpg.rf.d8746e3a1fe236c28543ca468c8e2f7f.txt  \n",
      " extracting: train/labels/V006_79_1_15_07_03_12_1_5322z_20201111_96_jpg.rf.dc71475e65eb6fea81b71472da9c8c83.txt  \n",
      " extracting: train/labels/V006_79_1_15_07_03_12_1_5322z_20201118_101_jpg.rf.1957c328cc5908cdc59c8b5cb27c42c8.txt  \n",
      " extracting: train/labels/V006_79_1_15_07_03_12_1_5322z_20201118_101_jpg.rf.2ce060155c001b193453042854237e1e.txt  \n",
      " extracting: train/labels/V006_79_1_15_07_03_12_1_5322z_20201118_101_jpg.rf.e6aa937899e884a25e467c5d53380813.txt  \n",
      " extracting: train/labels/V006_79_1_15_07_03_12_1_5322z_20201119_120_jpg.rf.5a33b6e11c5b81b3c66d040a5a171e18.txt  \n",
      " extracting: train/labels/V006_79_1_15_07_03_12_1_5322z_20201119_120_jpg.rf.8128ec1f025a0d7b06c22bd0dc57cf2d.txt  \n",
      " extracting: train/labels/V006_79_1_15_07_03_12_1_5322z_20201119_120_jpg.rf.9970d9cf7269178722f8f6d6ab257745.txt  \n",
      " extracting: train/labels/V006_79_1_15_07_03_12_1_5322z_20201119_120_jpg.rf.a52ea6dafa892fd1c7928fdb110e2da9.txt  \n",
      " extracting: train/labels/V006_79_1_15_07_03_12_1_5322z_20201119_120_jpg.rf.ace5d37103c43d3a959f60a6b67cd29b.txt  \n",
      " extracting: train/labels/V006_79_1_15_07_03_12_1_5322z_20201119_120_jpg.rf.b7d5b4f2101ebd66b20679838eb93757.txt  \n",
      " extracting: train/labels/V006_79_1_15_07_03_12_1_5322z_20201124_105_jpg.rf.55d160c36800624cfe6202b3a6c63114.txt  \n",
      " extracting: train/labels/V006_79_1_15_07_03_12_1_5322z_20201124_105_jpg.rf.84153dd911ed6687cdeef41d86596dce.txt  \n",
      " extracting: train/labels/V006_79_1_15_07_03_12_1_5322z_20201124_105_jpg.rf.8adcf43fc1ebc6f9a383fe06d5177103.txt  \n",
      " extracting: train/labels/V006_79_1_15_07_03_12_1_5322z_20201124_105_jpg.rf.c49161faffeb348c3169106e907ad115.txt  \n",
      " extracting: train/labels/V006_79_1_15_07_03_12_1_5322z_20201124_105_jpg.rf.d86f676e88f9647e651f6125d259cd45.txt  \n",
      " extracting: train/labels/V006_79_1_15_07_03_12_1_5322z_20201124_105_jpg.rf.f3c2ad797a03c6122b86b585d4d68f56.txt  \n",
      " extracting: train/labels/V006_79_1_15_07_03_12_1_5322z_20201126_107_jpg.rf.30ce16e72c2837975705275a99a4db3e.txt  \n",
      " extracting: train/labels/V006_79_1_15_07_03_12_1_5322z_20201126_107_jpg.rf.703e23d87b708e00069eac94e7b1f38e.txt  \n",
      " extracting: train/labels/V006_79_1_15_07_03_12_1_5322z_20201126_107_jpg.rf.7924620081d5064e7033fd97bf5bee16.txt  \n",
      " extracting: train/labels/V006_79_1_15_07_03_12_1_5322z_20201126_107_jpg.rf.b87e92657dbf5b74750c72dcc073d579.txt  \n",
      " extracting: train/labels/V006_79_1_15_07_03_12_1_5322z_20201126_107_jpg.rf.d0b8f4fa0f1f9c6c8968b085ea324e83.txt  \n",
      " extracting: train/labels/V006_79_1_15_07_03_12_1_8540w_20201123_50_jpg.rf.0af7142e9baf00a9a35f9aef04e4606e.txt  \n",
      " extracting: train/labels/V006_79_1_15_07_03_12_1_8540w_20201123_50_jpg.rf.92a90e373b4cdcbcabd7d65de3e70c4e.txt  \n",
      " extracting: train/labels/V006_79_1_15_07_03_12_1_8540w_20201123_50_jpg.rf.cd451205646d0ea80a35c0e2b2561521.txt  \n",
      " extracting: train/labels/V006_79_1_15_07_03_12_1_8540w_20201124_51_jpg.rf.1d2694610b80fe638d29df892ee72d51.txt  \n",
      " extracting: train/labels/V006_79_1_15_07_03_12_1_8540w_20201124_51_jpg.rf.27489dbb4757263a1aa94df16cf29a18.txt  \n",
      " extracting: train/labels/V006_79_1_15_07_03_12_1_8540w_20201124_51_jpg.rf.28c205bc6e19d4cf705adb52f6dd876b.txt  \n",
      " extracting: train/labels/V006_79_1_15_07_03_12_1_8540w_20201124_51_jpg.rf.5ebceaa29ecc3d9605c7c25d614996ad.txt  \n",
      " extracting: train/labels/V006_79_1_15_07_03_12_1_8540w_20201124_51_jpg.rf.6780869c1e8defbe5ea30cbdd91cb815.txt  \n",
      " extracting: train/labels/V006_79_1_15_07_03_12_1_8540w_20201124_51_jpg.rf.8a4baaf0c28146f97bbcb561f4a9c8d7.txt  \n",
      " extracting: train/labels/V006_79_1_15_07_03_12_1_8540w_20201124_51_jpg.rf.99d7247c56fde72d945692d42c6228bc.txt  \n",
      " extracting: train/labels/V006_79_1_15_07_03_12_1_8540w_20201124_51_jpg.rf.c378c631a1416564c9c01a615525663f.txt  \n",
      " extracting: train/labels/V006_79_1_15_07_03_12_1_8540w_20201124_51_jpg.rf.f2214beeed7bdfa6ff90edf5296176c5.txt  \n",
      " extracting: train/labels/V006_79_1_15_07_03_12_1_8540w_20201125_106_jpg.rf.15de15356c10b228825cfd63155f5bf3.txt  \n",
      " extracting: train/labels/V006_79_1_15_07_03_12_1_8540w_20201125_106_jpg.rf.3798321c07426aee60219741173f4c31.txt  \n",
      " extracting: train/labels/V006_79_1_15_07_03_12_1_8540w_20201126_35_jpg.rf.285aae334529c01e8b0f5e77ce58505a.txt  \n",
      " extracting: train/labels/V006_79_1_15_07_03_12_1_8540w_20201126_35_jpg.rf.9e2c8b9e70b26d67d4e510f5a8059f71.txt  \n",
      " extracting: train/labels/V006_79_1_15_07_03_12_1_8540w_20201126_35_jpg.rf.ae84c050d8e70c8012d43a274275e5bd.txt  \n",
      " extracting: train/labels/V006_79_1_15_07_03_12_1_8540w_20201126_35_jpg.rf.c763b6d4e9536ed5cf4bbcc7fd711a76.txt  \n",
      " extracting: train/labels/V006_79_1_15_07_03_12_1_8540w_20201126_35_jpg.rf.f457feacb6c1081858947f1ea66fbc64.txt  \n",
      " extracting: train/labels/V006_79_1_15_07_03_12_2_3248bb_20201104_1_jpg.rf.430d8c78eb932bead0191871fc01460d.txt  \n",
      " extracting: train/labels/V006_79_1_15_07_03_12_2_3248bb_20201104_1_jpg.rf.4dd44d3fa2b30a1830e8cc3ab2ba62f1.txt  \n",
      " extracting: train/labels/V006_79_1_15_07_03_12_2_3248bb_20201104_1_jpg.rf.4e6dae861e67b72be9d8c9d4d64de686.txt  \n",
      " extracting: train/labels/V006_79_1_15_07_03_12_2_3248bb_20201104_1_jpg.rf.8c19500a05c78804e7500f4dcbe6db2c.txt  \n",
      " extracting: train/labels/V006_79_1_15_07_03_12_2_3248bb_20201104_1_jpg.rf.a8a51ef2c40438fe76de7af49359c061.txt  \n",
      " extracting: train/labels/V006_79_1_15_07_03_12_2_3248bb_20201104_1_jpg.rf.bc3a0444217081a0f1ed51a4cb1ddb1b.txt  \n",
      " extracting: train/labels/V006_79_1_15_07_03_12_2_3248bb_20201104_1_jpg.rf.cec5bf0ad35be3ae1da7bad2bad6b40d.txt  \n",
      " extracting: train/labels/V006_79_1_15_07_03_12_2_3248bb_20201104_1_jpg.rf.d51494968294860f2fa015b4462df7b6.txt  \n",
      " extracting: train/labels/V006_79_1_15_07_03_12_2_3248bb_20201104_1_jpg.rf.ffdd30d75b2824da8e82993a54ab735e.txt  \n",
      " extracting: train/labels/V006_79_1_15_07_03_12_2_5322z_20201104_13_jpg.rf.0867a3cfed44b05bdf32014f10104929.txt  \n",
      " extracting: train/labels/V006_79_1_15_07_03_12_2_5322z_20201104_13_jpg.rf.15ec30d30fb5abed39611ce6b0c36ad2.txt  \n",
      " extracting: train/labels/V006_79_1_15_07_03_12_2_5322z_20201104_13_jpg.rf.24bd61f764f4ed0e9ecb0fef3787a9aa.txt  \n",
      " extracting: train/labels/V006_79_1_15_07_03_12_2_5322z_20201104_13_jpg.rf.3284dbbb90a96ba7738df90483808076.txt  \n",
      " extracting: train/labels/V006_79_1_15_07_03_12_2_5322z_20201104_13_jpg.rf.6ef74b591f0219d7a1254786cebfceb0.txt  \n",
      " extracting: train/labels/V006_79_1_15_07_03_12_2_5322z_20201104_13_jpg.rf.a382ad86832ab47bc2e4c724b1bf8c22.txt  \n",
      " extracting: train/labels/V006_79_1_15_07_03_12_2_5322z_20201104_19_jpg.rf.3682e8a9b12029c986ee38317a5fb82e.txt  \n",
      " extracting: train/labels/V006_79_1_15_07_03_12_2_5322z_20201104_19_jpg.rf.71070dd1ecc7cd56638ca8f673861bab.txt  \n",
      " extracting: train/labels/V006_79_1_15_07_03_12_2_5322z_20201104_55_jpg.rf.1342520a0321bd516659cb20888a6ed0.txt  \n",
      " extracting: train/labels/V006_79_1_15_07_03_12_2_5322z_20201104_55_jpg.rf.e2521fe0478199978bbcfbf11133802b.txt  \n",
      " extracting: train/labels/V006_79_1_15_07_03_12_2_5322z_20201105_14_jpg.rf.6898a97e674eb6838c06bde09ca6049f.txt  \n",
      " extracting: train/labels/V006_79_1_15_07_03_12_2_5322z_20201105_14_jpg.rf.6fad954e6e3d52ba7bcacde8cdb0dd8b.txt  \n",
      " extracting: train/labels/V006_79_1_15_07_03_12_2_5322z_20201105_14_jpg.rf.aac977bf88f6d3df5438bd4f9178a6e3.txt  \n",
      " extracting: train/labels/V006_79_1_15_07_03_12_2_5322z_20201105_75_jpg.rf.4cefa66458998496dc5814b930e225d7.txt  \n",
      " extracting: train/labels/V006_79_1_15_07_03_12_2_5322z_20201105_75_jpg.rf.cb5da9ebf0a24a689a31b8c3e5c42aaa.txt  \n",
      " extracting: train/labels/V006_79_1_15_07_03_12_2_8540w_20201104_135_jpg.rf.291e02bc4bb4e72f1833bc22d8eb1f12.txt  \n",
      " extracting: train/labels/V006_79_1_15_07_03_12_2_8540w_20201104_135_jpg.rf.61b8be15aa19c86eef37607d6cc81601.txt  \n",
      " extracting: train/labels/V006_79_1_15_07_03_12_2_8540w_20201104_135_jpg.rf.77f9ae5c6ff34892f8b60f7f1fd55c4b.txt  \n",
      " extracting: train/labels/V006_79_1_15_07_03_12_2_8540w_20201104_135_jpg.rf.8aaa2bf3be979c078e7775ac33975208.txt  \n",
      " extracting: train/labels/V006_79_1_15_07_03_12_2_8540w_20201104_135_jpg.rf.e3aab038e158d2dfcd7f5f058fa70c80.txt  \n",
      " extracting: train/labels/V006_79_1_15_07_03_12_2_8540w_20201104_136_jpg.rf.01668c51bf6098edc628ab065748427d.txt  \n",
      " extracting: train/labels/V006_79_1_15_07_03_12_2_8540w_20201104_136_jpg.rf.35b567b9554a11361be76e103a78be5f.txt  \n",
      " extracting: train/labels/V006_79_1_15_07_03_12_2_8540w_20201104_136_jpg.rf.60cf95a7613bd2695df23a1862b29109.txt  \n",
      " extracting: train/labels/V006_79_1_15_07_03_12_2_8540w_20201104_136_jpg.rf.8584d47699c0aa3f8232cc6998efb951.txt  \n",
      " extracting: train/labels/V006_79_1_15_07_03_12_2_8540w_20201104_136_jpg.rf.a3b53ea16abe54d586359a121f0c247d.txt  \n",
      " extracting: train/labels/V006_79_1_15_07_03_12_2_8540w_20201104_136_jpg.rf.bf93d7a67c9bb9d942f070e5ab07e0be.txt  \n",
      " extracting: train/labels/V006_79_1_15_07_03_12_2_8540w_20201104_136_jpg.rf.c7bc8a254d4f2317a1e0e1bc33c38f56.txt  \n",
      " extracting: train/labels/V006_79_1_15_07_03_12_2_8540w_20201104_136_jpg.rf.e21a2f62e7249d837f15a06c03d34186.txt  \n",
      " extracting: train/labels/V006_79_1_15_07_03_12_2_8540w_20201104_136_jpg.rf.fcb749499033fb5968d781126ac95bf8.txt  \n",
      " extracting: train/labels/V006_79_1_15_07_03_12_2_8540w_20201104_13_jpg.rf.009cc7b0f8843604198821f99cddcecd.txt  \n",
      " extracting: train/labels/V006_79_1_15_07_03_12_2_8540w_20201104_13_jpg.rf.3c63a4cd1d9aaac14644c0f718b5f483.txt  \n",
      " extracting: train/labels/V006_79_1_15_07_03_12_2_8540w_20201104_13_jpg.rf.68cabaad670d7ec86b50fefeaf446ff6.txt  \n",
      " extracting: train/labels/V006_79_1_15_07_03_12_2_8540w_20201104_13_jpg.rf.804f75d6586076eb7295930df5e55e90.txt  \n",
      " extracting: train/labels/V006_79_1_15_07_03_12_2_8540w_20201104_13_jpg.rf.ffef0f368d026b73693da6390d485d68.txt  \n",
      " extracting: train/labels/V006_79_1_15_07_03_12_2_8540w_20201104_145_jpg.rf.06fbf09447f9e100031db1366354ee56.txt  \n",
      " extracting: train/labels/V006_79_1_15_07_03_12_2_8540w_20201104_145_jpg.rf.44d8c3d55162866cb97b5ba430ba0919.txt  \n",
      " extracting: train/labels/V006_79_1_15_07_03_12_2_8540w_20201104_145_jpg.rf.78996c05474fd1a2fa8f41be1d87a154.txt  \n",
      " extracting: train/labels/V006_79_1_15_07_03_12_2_8540w_20201104_145_jpg.rf.9a3639e68164b41da4c9214fcdb8c3d5.txt  \n",
      " extracting: train/labels/V006_79_1_15_07_03_12_2_8540w_20201104_145_jpg.rf.a45b18c539cee7a207a9aa3d158ea862.txt  \n",
      " extracting: train/labels/V006_79_1_15_07_03_12_2_8540w_20201104_145_jpg.rf.ab97484e53829191a77f344e6735ba1e.txt  \n",
      " extracting: train/labels/V006_79_1_15_07_03_12_2_8540w_20201104_145_jpg.rf.b324301b099b81b31ab8b456c5f67bbe.txt  \n",
      " extracting: train/labels/V006_79_1_15_07_03_12_2_8540w_20201104_145_jpg.rf.d70f302a3942aa035960e097a97cfeca.txt  \n",
      " extracting: train/labels/V006_79_1_15_07_03_12_2_8540w_20201104_145_jpg.rf.e22737005562a33f1a3cdcd5309dd517.txt  \n",
      " extracting: train/labels/V006_79_1_15_07_03_12_2_8540w_20201104_163_jpg.rf.3577ce86b554adbc5aa7435389369060.txt  \n",
      " extracting: train/labels/V006_79_1_15_07_03_12_2_8540w_20201104_163_jpg.rf.a659035fc1b35467d921690303800f0e.txt  \n",
      " extracting: train/labels/V006_79_1_15_07_03_12_2_8540w_20201104_163_jpg.rf.a9b1c9d2e4e08e25ff82a2d909303625.txt  \n",
      " extracting: train/labels/V006_79_1_15_07_03_12_2_8540w_20201104_181_jpg.rf.14675f9b85324b1ba1b9afca66b6cd62.txt  \n",
      " extracting: train/labels/V006_79_1_15_07_03_12_2_8540w_20201104_181_jpg.rf.1c07234d86f0c19f15b8cbdf68af3d2b.txt  \n",
      " extracting: train/labels/V006_79_1_15_07_03_12_2_8540w_20201104_181_jpg.rf.1d0fceabf87e734c5d844d1c0d55b5f9.txt  \n",
      " extracting: train/labels/V006_79_1_15_07_03_12_2_8540w_20201104_181_jpg.rf.22472cc39851896ad0238915dda53678.txt  \n",
      " extracting: train/labels/V006_79_1_15_07_03_12_2_8540w_20201104_181_jpg.rf.31852e65ac9ccef89daee54a6cd5a45b.txt  \n",
      " extracting: train/labels/V006_79_1_15_07_03_12_2_8540w_20201104_181_jpg.rf.73facb1f5dd20d9da940be6db11e3cc5.txt  \n",
      " extracting: train/labels/V006_79_1_15_07_03_12_2_8540w_20201104_181_jpg.rf.81c1aa72736983fe2630636e9511385a.txt  \n",
      " extracting: train/labels/V006_79_1_15_07_03_12_2_8540w_20201104_181_jpg.rf.f5ca2d94dc9288158b470ef7a1ce4700.txt  \n",
      " extracting: train/labels/V006_79_1_15_07_03_12_2_8540w_20201104_19_jpg.rf.2859565a442c7e3f1b4d1c3eb5b4708d.txt  \n",
      " extracting: train/labels/V006_79_1_15_07_03_12_2_8540w_20201104_19_jpg.rf.a1a1554a1edb51f751b089ff1a573a07.txt  \n",
      " extracting: train/labels/V006_79_1_15_07_03_12_2_8540w_20201104_19_jpg.rf.b821da2a1d1ca741e2c4b028f3c49e9e.txt  \n",
      " extracting: train/labels/V006_79_1_15_07_03_12_2_8540w_20201104_19_jpg.rf.c1f9a3a680f484b6998f43bb5a359389.txt  \n",
      " extracting: train/labels/V006_79_1_15_07_03_12_2_8540w_20201104_19_jpg.rf.cdd41e606bc6044f5537dca495848cfa.txt  \n",
      " extracting: train/labels/V006_79_1_15_07_03_12_2_8540w_20201104_19_jpg.rf.f8fbb68b2ebb90f05027c1afab92724d.txt  \n",
      " extracting: train/labels/V006_79_1_15_07_03_12_2_8540w_20201104_27_jpg.rf.3573f4799f1070d9788bed336dae9663.txt  \n",
      " extracting: train/labels/V006_79_1_15_07_03_12_2_8540w_20201104_27_jpg.rf.be699021b9870796ccc0a35eee2687af.txt  \n",
      " extracting: train/labels/V006_79_1_15_07_03_12_2_8540w_20201104_27_jpg.rf.f5c3bc618d42b648131122d032d8d285.txt  \n",
      " extracting: train/labels/V006_79_1_15_07_03_12_2_8540w_20201105_128_jpg.rf.1ae8f6d8f82c2a5f12b4051cc2100406.txt  \n",
      " extracting: train/labels/V006_79_1_15_07_03_12_2_8540w_20201105_128_jpg.rf.495d81b035e790b06fa6754dec677f48.txt  \n",
      " extracting: train/labels/V006_79_1_15_07_03_12_2_8540w_20201105_128_jpg.rf.83981563575218f72f51e8e581c775cf.txt  \n",
      " extracting: train/labels/V006_79_1_15_07_03_12_2_8540w_20201105_128_jpg.rf.94ea1fbb62e871e56bc084f70a4c5654.txt  \n",
      " extracting: train/labels/V006_79_1_15_07_03_12_2_8540w_20201105_128_jpg.rf.971cfc9492c8d28a0ce1f98fe6833517.txt  \n",
      " extracting: train/labels/V006_79_1_15_07_03_12_2_8540w_20201105_128_jpg.rf.9ae14c2634761a4d70b09a2e897c6eae.txt  \n",
      " extracting: train/labels/V006_79_1_15_07_03_12_2_8540w_20201105_128_jpg.rf.a5ddf9b9d156734d7612b17e9a332747.txt  \n",
      " extracting: train/labels/V006_79_1_15_07_03_12_2_8540w_20201105_128_jpg.rf.c9a074f023f9d2be354791c660044ca8.txt  \n",
      " extracting: train/labels/V006_79_1_15_07_03_12_2_8540w_20201105_128_jpg.rf.e159030ef015cb1af2b6dc38c038bddb.txt  \n",
      " extracting: train/labels/V006_79_1_15_07_03_12_2_8540w_20201105_138_jpg.rf.1cf388f8643e3d79db4569cbcf0a5927.txt  \n",
      " extracting: train/labels/V006_79_1_15_07_03_12_2_8540w_20201105_138_jpg.rf.213822deeb9e09820121e429a42fed03.txt  \n",
      " extracting: train/labels/V006_79_1_15_07_03_12_2_8540w_20201105_138_jpg.rf.c3245a14804ec038e2f1da23fd531d1b.txt  \n",
      " extracting: train/labels/V006_79_1_15_07_03_12_2_8540w_20201105_146_jpg.rf.0908180e1d2f9d387bc0bc4c670ae68e.txt  \n",
      " extracting: train/labels/V006_79_1_15_07_03_12_2_8540w_20201105_146_jpg.rf.4820f067b9ccc1bc37bc0522636b74c8.txt  \n",
      " extracting: train/labels/V006_79_1_15_07_03_12_2_8540w_20201105_146_jpg.rf.8101c529270b0c52a5cd415fa6b638f3.txt  \n",
      " extracting: train/labels/V006_79_1_15_07_03_12_2_8540w_20201105_146_jpg.rf.82db9580abaa7a4e30283dfe96c6f0de.txt  \n",
      " extracting: train/labels/V006_79_1_15_07_03_12_2_8540w_20201105_146_jpg.rf.a7b31f58aba18df29404754fd0172050.txt  \n",
      " extracting: train/labels/V006_79_1_15_07_03_12_2_8540w_20201105_146_jpg.rf.b0eb3d63fff33c1d15a0e7ad2fbecc6f.txt  \n",
      " extracting: train/labels/V006_79_1_15_07_03_12_2_8540w_20201105_14_jpg.rf.1aa5a515279983380dcc800dd313f7ae.txt  \n",
      " extracting: train/labels/V006_79_1_15_07_03_12_2_8540w_20201105_14_jpg.rf.67c65af8a99132013982d7c3a0ee85f1.txt  \n",
      " extracting: train/labels/V006_79_1_15_07_03_12_2_8540w_20201105_14_jpg.rf.94f25addb1ab4c1f0ea1c183f592b433.txt  \n",
      " extracting: train/labels/V006_79_1_15_07_03_12_2_8540w_20201105_14_jpg.rf.9d15102bba2a90128c2e46fc02d092bd.txt  \n",
      " extracting: train/labels/V006_79_1_15_07_03_12_2_8540w_20201105_14_jpg.rf.9f06311654830c18d4d91a339be1acea.txt  \n",
      " extracting: train/labels/V006_79_1_15_07_03_12_2_8540w_20201105_14_jpg.rf.fe65973d6d97013f0c0016a8a1a16515.txt  \n",
      " extracting: train/labels/V006_79_1_15_07_03_12_2_8540w_20201105_182_jpg.rf.3c00616bbf659b0fbc3db81bc48d553f.txt  \n",
      " extracting: train/labels/V006_79_1_15_07_03_12_2_8540w_20201105_182_jpg.rf.56c9f92334a752d5b4a1f56d53baef05.txt  \n",
      " extracting: train/labels/V006_79_1_15_07_03_12_2_8540w_20201105_182_jpg.rf.6eab5b8b540189e146f4fdb5e61c64f2.txt  \n",
      " extracting: train/labels/V006_79_1_15_07_03_12_2_8540w_20201105_182_jpg.rf.6f00d379958473a058a87b9636c697b2.txt  \n",
      " extracting: train/labels/V006_79_1_15_07_03_12_2_8540w_20201105_182_jpg.rf.7a13667f4bfc271aea1898f8b6bac834.txt  \n",
      " extracting: train/labels/V006_79_1_15_07_03_12_2_8540w_20201105_182_jpg.rf.ac26593a2f9344f4caf538ada6a0cac5.txt  \n",
      " extracting: train/labels/V006_79_1_15_07_03_12_2_8540w_20201105_182_jpg.rf.c382fb7c4b11ab4717c3981723611b57.txt  \n",
      " extracting: train/labels/V006_79_1_15_07_03_12_2_8540w_20201105_182_jpg.rf.f6b9c05cfb00d5acf23b00df951c3494.txt  \n",
      " extracting: train/labels/V006_79_1_15_07_03_12_2_8540w_20201105_200_jpg.rf.3d03e50afdd0b99f65daa1c03fb67d71.txt  \n",
      " extracting: train/labels/V006_79_1_15_07_03_12_2_8540w_20201105_200_jpg.rf.75cbe3b42441f0cb92197b04e26ae965.txt  \n",
      " extracting: train/labels/V006_79_1_15_07_03_12_2_8540w_20201105_200_jpg.rf.8445acc2c8feee4e92d719eb93756ed3.txt  \n",
      " extracting: train/labels/V006_79_1_15_07_03_12_2_8540w_20201105_200_jpg.rf.8ad9a01af5aee4a254b69efeec428430.txt  \n",
      " extracting: train/labels/V006_79_1_15_07_03_12_2_8540w_20201105_200_jpg.rf.c61468ab4f054e886641c8b99fec099b.txt  \n",
      " extracting: train/labels/V006_79_1_15_07_03_12_2_8540w_20201105_200_jpg.rf.e70856f0a1b0fd1040f064a692d42401.txt  \n",
      " extracting: train/labels/V006_79_1_15_07_03_12_2_8540w_20201105_28_jpg.rf.0b30e5dce06c12ee877f35d16433a995.txt  \n",
      " extracting: train/labels/V006_79_1_15_07_03_12_2_8540w_20201105_28_jpg.rf.2b410ab96ecbfaf4f384479c12ce94b8.txt  \n",
      " extracting: train/labels/V006_79_1_15_07_03_12_2_8540w_20201105_28_jpg.rf.3b588ee4adee5bcea9d69688fd82f2bc.txt  \n",
      " extracting: train/labels/V006_79_1_15_07_03_12_2_8540w_20201105_28_jpg.rf.4afa1bf39744f2c386de38cd7b80a338.txt  \n",
      " extracting: train/labels/V006_79_1_15_07_03_12_2_8540w_20201105_28_jpg.rf.99c47d11874c2917f58510537285e541.txt  \n",
      " extracting: train/labels/V006_79_1_15_07_03_12_2_8540w_20201105_28_jpg.rf.fe852f7927b73b4ed20fb090b194da47.txt  \n",
      " extracting: train/labels/V006_79_1_15_07_03_12_2_8540w_20201105_2_jpg.rf.259fb0c7599a1719f1c7de6462eaf346.txt  \n",
      " extracting: train/labels/V006_79_1_15_07_03_12_2_8540w_20201105_2_jpg.rf.383b556750805247d2c359969257ab55.txt  \n",
      " extracting: train/labels/V006_79_1_15_07_03_12_2_8540w_20201105_2_jpg.rf.5c96418384835bd101cce9b2b9f2c010.txt  \n",
      " extracting: train/labels/V006_79_1_15_07_03_12_2_8540w_20201105_2_jpg.rf.b9084ef192194dc77fd8e9bf3e968b66.txt  \n",
      " extracting: train/labels/V006_79_1_15_07_03_12_2_8540w_20201105_2_jpg.rf.c4c3654eef0933f5163067a27c455f78.txt  \n",
      " extracting: train/labels/V006_79_1_15_07_03_12_2_8540w_20201105_6_jpg.rf.79f3a61b456071df411fa39dbb5e2d96.txt  \n",
      " extracting: train/labels/V006_79_1_15_07_03_12_2_8540w_20201105_6_jpg.rf.afb602de5667927bedcb4cee95dc2338.txt  \n",
      " extracting: train/labels/V006_79_1_15_07_03_12_2_8540w_20201105_6_jpg.rf.d7daf722ef612aa80171dc08d831603f.txt  \n",
      " extracting: train/labels/V006_79_1_15_07_03_12_2_8540w_20201105_6_jpg.rf.dbf938e2eb37f41781f99f3059ebb1ae.txt  \n",
      " extracting: train/labels/V006_79_1_15_07_03_12_2_8540w_20201105_6_jpg.rf.f37fa891bd55b897f0a01d2fa25124d1.txt  \n",
      " extracting: train/labels/V006_79_1_15_07_03_12_2_8540w_20201105_92_jpg.rf.1e1ec42c852787ffd5c978dd390b1614.txt  \n",
      " extracting: train/labels/V006_79_1_15_07_03_12_2_8540w_20201105_92_jpg.rf.2699a6c7b4a9cdb4874b8c2bc50e3c5a.txt  \n",
      " extracting: train/labels/V006_79_1_15_07_03_12_2_8540w_20201105_92_jpg.rf.7a13a64bbbf0b1371fff70274e7da0f6.txt  \n",
      " extracting: train/labels/V006_79_1_15_07_03_12_2_8540w_20201106_11_jpg.rf.35a73d579ada97b9b362c6fb63bb5b95.txt  \n",
      " extracting: train/labels/V006_79_1_15_07_03_12_2_8540w_20201106_11_jpg.rf.3c3e258cd183a7d9bde02507fc7d68d7.txt  \n",
      " extracting: train/labels/V006_79_1_15_07_03_12_2_8540w_20201106_11_jpg.rf.4f3843d2404ab81c78125529344febe7.txt  \n",
      " extracting: train/labels/V006_79_1_15_07_03_12_2_8540w_20201106_11_jpg.rf.8c316be4c17473b2c7765460d972e626.txt  \n",
      " extracting: train/labels/V006_79_1_15_07_03_12_2_8540w_20201106_11_jpg.rf.a2e6fd0d93b707a1ae6b7ca15b473678.txt  \n",
      " extracting: train/labels/V006_79_1_15_07_03_12_2_8540w_20201106_11_jpg.rf.a9cabd06667352e2d55b677a4dc4c032.txt  \n",
      " extracting: train/labels/V006_79_1_15_07_03_12_2_8540w_20201106_11_jpg.rf.e2343f1f8907084128cf86cc9eca9192.txt  \n",
      " extracting: train/labels/V006_79_1_15_07_03_12_2_8540w_20201106_11_jpg.rf.ff052740afbd58095656837242f2eb10.txt  \n",
      " extracting: train/labels/V006_79_1_15_07_03_12_2_8540w_20201106_129_jpg.rf.a1e3a75c36e8fe46281ecc0841aa0b1e.txt  \n",
      " extracting: train/labels/V006_79_1_15_07_03_12_2_8540w_20201106_129_jpg.rf.ad873761900d99d78de4ac7093d2a3a8.txt  \n",
      " extracting: train/labels/V006_79_1_15_07_03_12_2_8540w_20201106_183_jpg.rf.9b57083d0587bc92726e388a98f1f4e1.txt  \n",
      " extracting: train/labels/V006_79_1_15_07_03_12_2_8540w_20201106_183_jpg.rf.c3e63c8eebb2f50e8998f382ab5a9778.txt  \n",
      " extracting: train/labels/V006_79_1_15_07_03_12_2_8540w_20201106_183_jpg.rf.cede253bb557826fda19480f7f8a07e5.txt  \n",
      " extracting: train/labels/V006_79_1_15_07_03_12_2_8540w_20201106_21_jpg.rf.131c269a08df19780380740a9c017ef8.txt  \n",
      " extracting: train/labels/V006_79_1_15_07_03_12_2_8540w_20201106_21_jpg.rf.644c446c252e45d91245175d22417979.txt  \n",
      " extracting: train/labels/V006_79_1_15_07_03_12_2_8540w_20201106_21_jpg.rf.a16939bb22cb9fda0ff1071ef0af1916.txt  \n",
      " extracting: train/labels/V006_79_1_15_07_03_12_2_8540w_20201106_21_jpg.rf.e5f9d92d5837a4175df04619b95e01ea.txt  \n",
      " extracting: train/labels/V006_79_1_15_07_03_12_2_8540w_20201106_21_jpg.rf.fdda5a22f48df758b5a4ca6c09dbd85a.txt  \n",
      " extracting: train/labels/V006_79_1_15_07_03_12_2_8540w_20201106_29_jpg.rf.49dcaf02048c23cbb10711c33379f6fb.txt  \n",
      " extracting: train/labels/V006_79_1_15_07_03_12_2_8540w_20201106_29_jpg.rf.da8f3fec9231986e566e538092c8b5fa.txt  \n",
      " extracting: train/labels/V006_79_1_15_07_03_12_2_8540w_20201106_29_jpg.rf.e497c2fd6f7b8aaee266bd682e8a487d.txt  \n",
      " extracting: train/labels/V006_79_1_15_07_03_12_2_8540w_20201109_12_jpg.rf.1a4fc92ca706f9ba021dc1096ce2c4b3.txt  \n",
      " extracting: train/labels/V006_79_1_15_07_03_12_2_8540w_20201109_12_jpg.rf.541b2f8787d1dfd233290030aae818ba.txt  \n",
      " extracting: train/labels/V006_79_1_15_07_03_12_2_8540w_20201109_12_jpg.rf.67f6dd64f3d31946242fd6c5ca7a57df.txt  \n",
      " extracting: train/labels/V006_79_1_15_07_03_12_2_8540w_20201109_12_jpg.rf.70b7c7ed20c792fa4edfd730aeca25fb.txt  \n",
      " extracting: train/labels/V006_79_1_15_07_03_12_2_8540w_20201109_12_jpg.rf.a9f37a6c1381d4a14803035eaba45714.txt  \n",
      " extracting: train/labels/V006_79_1_15_07_03_12_2_8540w_20201109_12_jpg.rf.c1c7fc2ebf7e4d254b34941425d8f3f2.txt  \n",
      " extracting: train/labels/V006_79_1_15_07_03_12_2_8540w_20201109_12_jpg.rf.ca0b469c97bf5fa3dc6fb0f03332ecd0.txt  \n",
      " extracting: train/labels/V006_79_1_15_07_03_12_2_8540w_20201109_12_jpg.rf.e661976025890431f2f234e436f71f4f.txt  \n",
      " extracting: train/labels/V006_79_1_15_07_03_12_2_8540w_20201109_12_jpg.rf.fac975d360196fbaccea9e90ac2dd2ac.txt  \n",
      " extracting: train/labels/V006_79_1_15_07_03_12_2_8540w_20201109_142_jpg.rf.72b71b33fd57634ee34bd6d656d24df2.txt  \n",
      " extracting: train/labels/V006_79_1_15_07_03_12_2_8540w_20201109_142_jpg.rf.c7837c67831f787b49f650f596046289.txt  \n",
      " extracting: train/labels/V006_79_1_15_07_03_12_2_8540w_20201109_148_jpg.rf.1d2e4af3f318e452b078cb280bda25a2.txt  \n",
      " extracting: train/labels/V006_79_1_15_07_03_12_2_8540w_20201109_148_jpg.rf.c10755115a153bb77166d1f487296c1f.txt  \n",
      " extracting: train/labels/V006_79_1_15_07_03_12_2_8540w_20201109_148_jpg.rf.e33750ffdffef06f13b25d5c8387b3a0.txt  \n",
      " extracting: train/labels/V006_79_1_15_07_03_12_2_8540w_20201109_184_jpg.rf.4ccb3c875b779f16cfd0e18ed427df7c.txt  \n",
      " extracting: train/labels/V006_79_1_15_07_03_12_2_8540w_20201109_184_jpg.rf.51a7052dcd10aabe55d1f2865a26cb65.txt  \n",
      " extracting: train/labels/V006_79_1_15_07_03_12_2_8540w_20201109_184_jpg.rf.b37823513630d9b1329b425ae3b84302.txt  \n",
      " extracting: train/labels/V006_79_1_15_07_03_12_2_8540w_20201109_184_jpg.rf.b66fa38ec371f8fb8ba95d9555913bcd.txt  \n",
      " extracting: train/labels/V006_79_1_15_07_03_12_2_8540w_20201109_184_jpg.rf.c683e49d7c16706a819363fa78f495cb.txt  \n",
      " extracting: train/labels/V006_79_1_15_07_03_12_2_8540w_20201109_184_jpg.rf.fe705acf6678064c5f0551deb9267614.txt  \n",
      " extracting: train/labels/V006_79_1_15_07_03_12_2_8540w_20201109_22_jpg.rf.2c9519340a5a2eeaa1c2a6f5505b1a72.txt  \n",
      " extracting: train/labels/V006_79_1_15_07_03_12_2_8540w_20201109_22_jpg.rf.375a188122d9e58618a8810ff270db05.txt  \n",
      " extracting: train/labels/V006_79_1_15_07_03_12_2_8540w_20201109_22_jpg.rf.68c969a453f4822c3597c446b249a10a.txt  \n",
      " extracting: train/labels/V006_79_1_15_07_03_12_2_8540w_20201109_22_jpg.rf.d537d6d8358bed63f72ef577959138e5.txt  \n",
      " extracting: train/labels/V006_79_1_15_07_03_12_2_8540w_20201109_22_jpg.rf.d5c1a9d546f5152e83b176aa6908d834.txt  \n",
      " extracting: train/labels/V006_79_1_15_07_03_12_2_8540w_20201109_30_jpg.rf.0ebe09e02460f91089d78a0a2d702b0f.txt  \n",
      " extracting: train/labels/V006_79_1_15_07_03_12_2_8540w_20201109_30_jpg.rf.1f539b40cd30271be0c3b76d493158cd.txt  \n",
      " extracting: train/labels/V006_79_1_15_07_03_12_2_8540w_20201109_30_jpg.rf.64649f5644ea84216a2c1c21b9ae42b6.txt  \n",
      " extracting: train/labels/V006_79_1_15_07_03_12_2_8540w_20201109_30_jpg.rf.7de7b33039057556a94b7539e3fd79ac.txt  \n",
      " extracting: train/labels/V006_79_1_15_07_03_12_2_8540w_20201109_30_jpg.rf.8a8fd27ea7ac7f4ad7823490dee09fb4.txt  \n",
      " extracting: train/labels/V006_79_1_15_07_03_12_2_8540w_20201109_30_jpg.rf.abbd17457822d4349ed8105baae390f8.txt  \n",
      " extracting: train/labels/V006_79_1_15_07_03_12_2_8540w_20201109_30_jpg.rf.ac420720d0d71c61c03a16e36e2bed43.txt  \n",
      " extracting: train/labels/V006_79_1_15_07_03_12_2_8540w_20201109_30_jpg.rf.b80e536388befb7bc78f7a22c924a014.txt  \n",
      " extracting: train/labels/V006_79_1_15_07_03_12_2_8540w_20201109_30_jpg.rf.bb14f9c126c69a40ee47ce90456b26a2.txt  \n",
      " extracting: train/labels/V006_79_1_15_07_03_12_2_8540w_20201109_8_jpg.rf.21118d1235cac6f329d3f0d95c548b37.txt  \n",
      " extracting: train/labels/V006_79_1_15_07_03_12_2_8540w_20201109_8_jpg.rf.2dc57b2944e99543c26f2a84fe260d45.txt  \n",
      " extracting: train/labels/V006_79_1_15_07_03_12_2_8540w_20201109_8_jpg.rf.348866e4358183a9cd4b55b1b213aaf0.txt  \n",
      " extracting: train/labels/V006_79_1_15_07_03_12_2_8540w_20201109_8_jpg.rf.96165cfd5a1e56743202168537e9ee63.txt  \n",
      " extracting: train/labels/V006_79_1_15_07_03_12_2_8540w_20201109_8_jpg.rf.ef3c21d56b51c5b65eefa9b04392e922.txt  \n",
      " extracting: train/labels/V006_79_1_15_07_03_12_2_8540w_20201109_8_jpg.rf.fbf12d47c652de7c2a5863855154ce01.txt  \n",
      " extracting: train/labels/V006_79_1_15_07_03_12_2_8540w_20201110_149_jpg.rf.1790af0ce5c4951a3397fc585e5336e0.txt  \n",
      " extracting: train/labels/V006_79_1_15_07_03_12_2_8540w_20201110_149_jpg.rf.3802a03d5c53de236fbac3bbaeb098bd.txt  \n",
      " extracting: train/labels/V006_79_1_15_07_03_12_2_8540w_20201110_149_jpg.rf.f88411accd3bc9461c07e8c40edf54c8.txt  \n",
      " extracting: train/labels/V006_79_1_15_07_03_12_2_8540w_20201110_152_jpg.rf.54ff25894ab887e83fd97161009ed6ee.txt  \n",
      " extracting: train/labels/V006_79_1_15_07_03_12_2_8540w_20201110_152_jpg.rf.6660cffe2ee85ca3ddaa7fe817a1b11f.txt  \n",
      " extracting: train/labels/V006_79_1_15_07_03_12_2_8540w_20201110_152_jpg.rf.ea5bd1991b696c96245e3b002e176c03.txt  \n",
      " extracting: train/labels/V006_79_1_15_07_03_12_2_8540w_20201110_59_jpg.rf.049a5e1658b02dc491f64bfe9b0a6c4d.txt  \n",
      " extracting: train/labels/V006_79_1_15_07_03_12_2_8540w_20201110_59_jpg.rf.52df8422f150401ca496c6ec629d466f.txt  \n",
      " extracting: train/labels/V006_79_1_15_07_03_12_2_8540w_20201110_59_jpg.rf.c5bdc9c640a00cba7a13a41afd775ace.txt  \n",
      " extracting: train/labels/V006_79_1_15_07_03_12_2_8540w_20201110_59_jpg.rf.c6149e63dd2d68eb8ee5ea944e9e8b1d.txt  \n",
      " extracting: train/labels/V006_79_1_15_07_03_12_2_8540w_20201110_59_jpg.rf.e591539e1530b5a458fe7ddb75aaa02c.txt  \n",
      " extracting: train/labels/V006_79_1_15_07_03_12_2_8540w_20201110_59_jpg.rf.ebe22c67f176552ef92a6684a04e33b6.txt  \n",
      " extracting: train/labels/V006_79_1_15_07_03_12_2_8540w_20201111_168_jpg.rf.5bb45fae06fe794208ac1bfc58a5e025.txt  \n",
      " extracting: train/labels/V006_79_1_15_07_03_12_2_8540w_20201111_168_jpg.rf.8dada4bf868812b878571725db43c788.txt  \n",
      " extracting: train/labels/V006_79_1_15_07_03_12_2_8540w_20201111_168_jpg.rf.99c95d596b1a82e31d04c5923126a372.txt  \n",
      " extracting: train/labels/V006_79_1_15_07_03_12_2_8540w_20201111_78_jpg.rf.4774633da8bf1ded59f68c0ab4979e15.txt  \n",
      " extracting: train/labels/V006_79_1_15_07_03_12_2_8540w_20201111_78_jpg.rf.6342c496b67502d0d9b0d4cab3c0ced1.txt  \n",
      " extracting: train/labels/V006_79_1_15_07_03_12_2_8540w_20201111_78_jpg.rf.9874f8741f90c4c1681f83f9d09f9b3a.txt  \n",
      " extracting: train/labels/V006_79_1_15_07_03_12_2_8540w_20201111_78_jpg.rf.a29d7e6dce0e33443bec23033bb28a22.txt  \n",
      " extracting: train/labels/V006_79_1_15_07_03_12_2_8540w_20201111_78_jpg.rf.b57ad8e7834c6cc81e9ea6cc916867a7.txt  \n",
      " extracting: train/labels/V006_79_1_15_07_03_12_2_8540w_20201111_78_jpg.rf.f385cad4c273da222b3833bf609d8b8f.txt  \n",
      " extracting: train/labels/V006_79_1_15_07_03_12_2_8540w_20201112_61_jpg.rf.a0745642da92558a20e663720592c339.txt  \n",
      " extracting: train/labels/V006_79_1_15_07_03_12_2_8540w_20201112_61_jpg.rf.be6ce9caa99569c2809fb76504e5d05c.txt  \n",
      " extracting: train/labels/V006_79_1_15_07_03_12_2_8540w_20201112_61_jpg.rf.e9457fefa811f5b7aa557abf5e771253.txt  \n",
      " extracting: train/labels/V006_79_1_15_07_03_12_2_8540w_20201113_188_jpg.rf.01f4871bd322001875b56e5b3666a86a.txt  \n",
      " extracting: train/labels/V006_79_1_15_07_03_12_2_8540w_20201113_188_jpg.rf.33ff4f3bc63b38e943e935c3c1cd24d0.txt  \n",
      " extracting: train/labels/V006_79_1_15_07_03_12_2_8540w_20201113_188_jpg.rf.d99db6c475e27b398999f86800c6c2dc.txt  \n",
      " extracting: train/labels/V006_79_1_15_07_03_12_2_8540w_20201116_189_jpg.rf.19c76f68efb02b127b4ad5f936351dc8.txt  \n",
      " extracting: train/labels/V006_79_1_15_07_03_12_2_8540w_20201116_189_jpg.rf.7745a9401cf86e0f4da2307c7c34dd10.txt  \n",
      " extracting: train/labels/V006_79_1_15_07_03_12_2_8540w_20201116_189_jpg.rf.d36ab7daf005fa652297700b0553541c.txt  \n",
      " extracting: train/labels/V006_79_1_15_07_03_12_2_8540w_20201116_207_jpg.rf.3cea5459b5a15a77d8fff761a1ee6c09.txt  \n",
      " extracting: train/labels/V006_79_1_15_07_03_12_2_8540w_20201116_207_jpg.rf.50b3ce7bb9dc7c3520a93873443bd99a.txt  \n",
      " extracting: train/labels/V006_79_1_15_07_03_12_2_8540w_20201116_207_jpg.rf.710a24abe12d7682cf50273019482fe3.txt  \n",
      " extracting: train/labels/V006_79_1_15_07_03_12_2_8540w_20201116_207_jpg.rf.80fc26539d6ef69728a3b1cf0c809d42.txt  \n",
      " extracting: train/labels/V006_79_1_15_07_03_12_2_8540w_20201116_207_jpg.rf.d613d98acec1be3773f503a22c7ecc10.txt  \n",
      " extracting: train/labels/V006_79_1_15_07_03_12_2_8540w_20201116_45_jpg.rf.2318a30f98ad6940774da8d5cb66b600.txt  \n",
      " extracting: train/labels/V006_79_1_15_07_03_12_2_8540w_20201116_45_jpg.rf.909c4369257c4a8c718922206caf4bd7.txt  \n",
      " extracting: train/labels/V006_79_1_15_07_03_12_2_8540w_20201116_45_jpg.rf.d23c7475f97c4d24ef0bcaf412d11542.txt  \n",
      " extracting: train/labels/V006_79_1_15_07_03_12_2_8540w_20201116_99_jpg.rf.a1a333d6329583cfafede025ef108dbe.txt  \n",
      " extracting: train/labels/V006_79_1_15_07_03_12_2_8540w_20201116_99_jpg.rf.f0eb63a638396da3ac27c7689fe2bc69.txt  \n",
      " extracting: train/labels/V006_79_1_15_07_03_12_2_8540w_20201116_99_jpg.rf.f5b270dd43078ca4163826bb59257533.txt  \n",
      " extracting: train/labels/V006_79_1_15_07_03_12_2_8540w_20201117_172_jpg.rf.14adaeb4f4feb415e9b11f3a6429a673.txt  \n",
      " extracting: train/labels/V006_79_1_15_07_03_12_2_8540w_20201117_172_jpg.rf.303049f9bbe10d946ef2d53a258e105b.txt  \n",
      " extracting: train/labels/V006_79_1_15_07_03_12_2_8540w_20201117_172_jpg.rf.af66053d5528a728a99dfd0c346e35ea.txt  \n",
      " extracting: train/labels/V006_79_1_15_07_03_12_2_8540w_20201118_65_jpg.rf.b99c1f242cfa690dcbaa55363506d479.txt  \n",
      " extracting: train/labels/V006_79_1_15_07_03_12_2_8540w_20201118_65_jpg.rf.f1727e0987398e9bfbef3cbcccdaace2.txt  \n",
      " extracting: train/labels/V006_79_1_15_07_03_12_2_8540w_20201118_65_jpg.rf.fb6f6476f526f165acfad0fca495cd2a.txt  \n",
      " extracting: train/labels/V006_79_1_15_07_03_12_2_8540w_20201118_83_jpg.rf.0053e81a183533c956009ad30a2bb4d6.txt  \n",
      " extracting: train/labels/V006_79_1_15_07_03_12_2_8540w_20201118_83_jpg.rf.1d0a26159b7b660d4b410892f0dad019.txt  \n",
      " extracting: train/labels/V006_79_1_15_07_03_12_2_8540w_20201118_83_jpg.rf.289d2ae25f47d6230025b04e89cb87fe.txt  \n",
      " extracting: train/labels/V006_79_1_15_07_03_12_2_8540w_20201118_83_jpg.rf.4329390d6f818d3941edd671695fb292.txt  \n",
      " extracting: train/labels/V006_79_1_15_07_03_12_2_8540w_20201118_83_jpg.rf.7d0086c714c5b30d1d3308a5c57f3280.txt  \n",
      " extracting: train/labels/V006_79_1_15_07_03_12_2_8540w_20201118_83_jpg.rf.c57a9c5d84e2768000c4d2c7c64b11bd.txt  \n",
      " extracting: train/labels/V006_79_1_15_07_03_12_2_8540w_20201119_120_jpg.rf.0ad3ff75239242dbfe77c29c4824d670.txt  \n",
      " extracting: train/labels/V006_79_1_15_07_03_12_2_8540w_20201119_120_jpg.rf.182ec7c477cc862a8a3810703026a0e4.txt  \n",
      " extracting: train/labels/V006_79_1_15_07_03_12_2_8540w_20201119_120_jpg.rf.417e7e9ebd8a24654962f3d36fae43f7.txt  \n",
      " extracting: train/labels/V006_79_1_15_07_03_12_2_8540w_20201119_48_jpg.rf.2bb68d0d4bcd6ac9c91a638299360b66.txt  \n",
      " extracting: train/labels/V006_79_1_15_07_03_12_2_8540w_20201119_48_jpg.rf.3a823d0ba7bbd95853c8b37e67d39791.txt  \n",
      " extracting: train/labels/V006_79_1_15_07_03_12_2_8540w_20201119_48_jpg.rf.8c2693a730242478d1bfbd33d61dc0f9.txt  \n",
      " extracting: train/labels/V006_79_1_15_07_03_12_2_8540w_20201119_48_jpg.rf.d0973e0e803f244e2b3edef4ce964772.txt  \n",
      " extracting: train/labels/V006_79_1_15_07_03_12_2_8540w_20201119_48_jpg.rf.ed8bb6083688e6b0ef25f08db1537bab.txt  \n",
      " extracting: train/labels/V006_79_1_15_07_03_12_2_8540w_20201120_103_jpg.rf.144bbeeb7a753477a2044d88740a5c50.txt  \n",
      " extracting: train/labels/V006_79_1_15_07_03_12_2_8540w_20201120_103_jpg.rf.80b7d012bcf3161a4ead945b079588b1.txt  \n",
      " extracting: train/labels/V006_79_1_15_07_03_12_2_8540w_20201120_103_jpg.rf.8af1fa1457f4f9d52ff881dc3bb33ec3.txt  \n",
      " extracting: train/labels/V006_79_1_15_07_03_12_2_8540w_20201123_177_jpg.rf.68ab0c566fb677a44d1aa6d9b4c65b0c.txt  \n",
      " extracting: train/labels/V006_79_1_15_07_03_12_2_8540w_20201123_177_jpg.rf.70f91bd9cb6a88126ddcf0f86ad291a8.txt  \n",
      " extracting: train/labels/V006_79_1_15_07_03_12_2_8540w_20201123_177_jpg.rf.f7aef1a82b1421462ebd82463d9d989e.txt  \n",
      " extracting: train/labels/blog_early_blight_628_jpg.rf.0be927b7ab3e9cccdb6721a5fdc30042.txt  \n",
      " extracting: train/labels/blog_early_blight_628_jpg.rf.55f121287272a710d44846b3fece25c1.txt  \n",
      " extracting: train/labels/blog_early_blight_628_jpg.rf.aa87d502f460d884f9d969602eb06271.txt  \n",
      " extracting: train/labels/blog_early_blight_628_jpg.rf.bf78b7fbd33583b4e3620f776250da24.txt  \n",
      " extracting: train/labels/blog_early_blight_628_jpg.rf.e781cdcc72257db6f1f49b60261e7965.txt  \n",
      " extracting: train/labels/blog_early_blight_628_jpg.rf.eef13f797f0487aad91a3d7b0d0c6eeb.txt  \n",
      " extracting: train/labels/early-20blight-tom__jpg.rf.49d08ac50f7cd3699613c4c0a8ac112e.txt  \n",
      " extracting: train/labels/early-20blight-tom__jpg.rf.4ceb3610185b5ea0a4a99bdb7c415a56.txt  \n",
      " extracting: train/labels/early-20blight-tom__jpg.rf.702a970ba62d4f94690a8d4ef1a94277.txt  \n",
      " extracting: train/labels/early-blight-of-tomato-tomato-1_jpg.rf.4e4f0650b0ba4f2bec45b2ed27414823.txt  \n",
      " extracting: train/labels/early-blight-of-tomato-tomato-1_jpg.rf.8f917cbc664d711e6ba5ec12ade87fe5.txt  \n",
      " extracting: train/labels/early-blight-of-tomato-tomato-1_jpg.rf.a8bfb580d001f5d7c842079ba888ea8d.txt  \n",
      " extracting: train/labels/seedling-166-_jpg.rf.1e77db8a401b7371133de3cbd3bac87d.txt  \n",
      " extracting: train/labels/seedling-166-_jpg.rf.40ff5317567a8b32bbff526b40ef531a.txt  \n",
      " extracting: train/labels/seedling-166-_jpg.rf.eda7078e04f77698250d46648bd63c3b.txt  \n",
      " extracting: train/labels/seedling-167-_jpg.rf.510d12d31f6dfe475adf7fae2fda4003.txt  \n",
      " extracting: train/labels/seedling-167-_jpg.rf.8c7d60d5ac18b09cb333184aa9cdc4e0.txt  \n",
      " extracting: train/labels/seedling-169-_jpg.rf.66204b18cd62c2c0b4f2f64b3c2ad80a.txt  \n",
      " extracting: train/labels/seedling-169-_jpg.rf.752df56529d5771423fd07dd9fa85327.txt  \n",
      " extracting: train/labels/seedling-169-_jpg.rf.c9854edbddbee1adac8abef78fef09d1.txt  \n",
      " extracting: train/labels/seedling-186-_jpg.rf.454ba21b11fa3d092d6384e9a2e12912.txt  \n",
      " extracting: train/labels/seedling-186-_jpg.rf.49f34b060565661b2a09ced39aba3ae2.txt  \n",
      " extracting: train/labels/seedling-189-_jpg.rf.5988f873c23ee1fa0d88b4f424447f43.txt  \n",
      " extracting: train/labels/seedling-189-_jpg.rf.dc669a87d78901a9bede9080a984801a.txt  \n",
      " extracting: train/labels/seedling-189-_jpg.rf.e0571b392697f6b73c9b3b4948d4903d.txt  \n",
      " extracting: train/labels/seedling-190-_jpg.rf.1ed393c60fd2dd338fdbd41d9e7b4601.txt  \n",
      " extracting: train/labels/seedling-190-_jpg.rf.7aff36c1661dd491be784488bba65834.txt  \n",
      " extracting: train/labels/seedling-190-_jpg.rf.80d7b85ccaf3bb3cfe9056fd135f55f9.txt  \n",
      " extracting: train/labels/seedling-192-_jpg.rf.09a97a3b8e32c1e047cd8a4ece8bc20b.txt  \n",
      " extracting: train/labels/seedling-192-_jpg.rf.af85d725d00f65804b3698c7bc8ad368.txt  \n",
      " extracting: train/labels/seedling-192-_jpg.rf.cc12593f4deea7ae02064d3b0ae41737.txt  \n",
      " extracting: train/labels/seedling-194-_jpg.rf.5d2f73c5d94599546cc00c4e8f895f1b.txt  \n",
      " extracting: train/labels/seedling-194-_jpg.rf.e17a14d0f24d9c96487025d3eac23e1d.txt  \n",
      " extracting: train/labels/seedling-194-_jpg.rf.f0426c9700da6e80411c26f68c948c3a.txt  \n",
      " extracting: train/labels/seedling-202-_jpg.rf.0c7a1d4b45e964bd9446c4a9dbd9b3b3.txt  \n",
      " extracting: train/labels/seedling-202-_jpg.rf.59cf4132961e7cfcbc1ea6f02294e1e0.txt  \n",
      " extracting: train/labels/seedling-202-_jpg.rf.96b7d5b4fc2b1d9ce6132d7ce0289b17.txt  \n",
      " extracting: train/labels/seedling-203-_jpg.rf.3f3384b16fe5d719f3999acb09c66a56.txt  \n",
      " extracting: train/labels/seedling-203-_jpg.rf.446085e03acd2606bf0a56475d336049.txt  \n",
      " extracting: train/labels/seedling-74-_jpg.rf.16a2a3cf51f267d17ff6269fc1c15ec4.txt  \n",
      " extracting: train/labels/seedling-74-_jpg.rf.533fd94efe2efbd040370149fac3a0e2.txt  \n",
      " extracting: train/labels/seedling-74-_jpg.rf.99cf0a30de268746accda569dbcae125.txt  \n",
      " extracting: train/labels/seedling-86-_jpg.rf.1131191af6d8071a6ce3dfe1c6845e58.txt  \n",
      " extracting: train/labels/seedling-86-_jpg.rf.8bcff2f9dc6a43efaa166663be534f2e.txt  \n",
      " extracting: train/labels/seedling-90-_jpg.rf.6f1ff38e89850f6dcdd018b4d5aeb1e4.txt  \n",
      " extracting: train/labels/seedling-90-_jpg.rf.a0e1120f7641a4870912978e2b335cde.txt  \n",
      " extracting: train/labels/seedling-90-_jpg.rf.e3b26d56565aec02b24fe5bb09ebe327.txt  \n",
      " extracting: train/labels/seedling-91-_jpg.rf.0261fde6b348375b1609d3c03fa89ed6.txt  \n",
      " extracting: train/labels/seedling-91-_jpg.rf.09cfa2e1232d6673c8a17feaf4542536.txt  \n",
      " extracting: train/labels/seedling-91-_jpg.rf.c8fe13609a5001516f9d4cdbce24387d.txt  \n",
      " extracting: train/labels/seedling-94-_jpg.rf.5943540325d312b5c6f18e3fad31bf79.txt  \n",
      " extracting: train/labels/seedling-94-_jpg.rf.8c8795ca9104474271fa844f55830afa.txt  \n",
      " extracting: train/labels/seedling-94-_jpg.rf.fdc4c69dc13b8344b6fb9a7a5720bae8.txt  \n",
      " extracting: train/labels/tomato-early-blight-1_jpg.rf.3f5b74a73013328eac4c82ea10d7e6fd.txt  \n",
      " extracting: train/labels/tomato-early-blight-1_jpg.rf.45dac62e4eb3751f1c282d3f58545e44.txt  \n",
      " extracting: train/labels/tomato-early-blight-1_jpg.rf.fd215dc6ddbdbe042258f78467d2e763.txt  \n",
      " extracting: train/labels/tomato-early-blightH_jpg.rf.195570d82f46d5793ce01426ed5d85d5.txt  \n",
      " extracting: train/labels/tomato-early-blightH_jpg.rf.6acfb4d1fe29dfa2279ba8640e30dfd7.txt  \n",
      " extracting: train/labels/tomato-early-blightH_jpg.rf.939afca4090108fe92f521ae10a7977b.txt  \n",
      " extracting: train/labels/tomato_D2b-Early-blight-RPitblado_zoom_jpg.rf.1a09318ea4dd1bc0a9e1151eae0b8630.txt  \n",
      " extracting: train/labels/tomato_D2b-Early-blight-RPitblado_zoom_jpg.rf.55d69045f3b0382c98c1684511e4a803.txt  \n",
      " extracting: train/labels/tomato_D2b-Early-blight-RPitblado_zoom_jpg.rf.a5e09200e56f5f904705b178349c9ea5.txt  \n",
      " extracting: train/labels/tomatoes-40-_jpg.rf.3c86d099be08ce87a26b80c29f1f9720.txt  \n",
      " extracting: train/labels/tomatoes-40-_jpg.rf.888848ef327da10ce6ab404319deba7f.txt  \n",
      " extracting: train/labels/tomatoes-40-_jpg.rf.ce25637091ea34c4dd820a383600efd5.txt  \n",
      " extracting: train/labels/tomatoes-43-_jpg.rf.47af85eb91063a8560c8eb8f1ff91b3a.txt  \n",
      " extracting: train/labels/tomatoes-43-_jpg.rf.6074498c1b47a4a31df0eaaaa9a6cf07.txt  \n",
      " extracting: train/labels/tomatoes-43-_jpg.rf.d5667f66a47cfc0d04db8c5f0a0f2df3.txt  \n",
      " extracting: train/labels/tomatoes-52-_jpg.rf.652e5e05dbc180ae1fd176524a71c292.txt  \n",
      " extracting: train/labels/tomatoes-52-_jpg.rf.d1fe080cfc21586fd7d8c6b0bd5de85c.txt  \n",
      " extracting: train/labels/tomatoes-52-_jpg.rf.d5fde0a37eea0668bb4854dc27ea054c.txt  \n",
      " extracting: train/labels/tomatoes-56-_jpg.rf.4c59108dcf03c52e22c13c4e98ac9da6.txt  \n",
      " extracting: train/labels/tomatoes-56-_jpg.rf.c8d131fd1697c6e0e089aed0095750cf.txt  \n",
      " extracting: train/labels/tomatoes-56-_jpg.rf.f76227f918a5de23bfebc3828d02f1ab.txt  \n",
      " extracting: train/labels/tomatoes-70-_jpg.rf.10b07587219d254aa89b416cc3bbb1a6.txt  \n",
      " extracting: train/labels/tomatoes-70-_jpg.rf.6801cf1ac21efaaca45f5e911e723663.txt  \n",
      " extracting: train/labels/tomatoes-70-_jpg.rf.9d2d6c6ddab77cdbc2d87eb5c218d016.txt  \n",
      " extracting: train/labels/tomatoes-77-_jpg.rf.70c5849dc844572f38982e4c261b67e8.txt  \n",
      " extracting: train/labels/tomatoes-77-_jpg.rf.7cb419466523ca11f75a113de2a05b20.txt  \n",
      " extracting: train/labels/tomatoes-77-_jpg.rf.e2a8b11bc96398bad811fe47323021b6.txt  \n",
      " extracting: train/labels/tomatoes-86-_jpg.rf.2dafccab9b1bc9bf080d914189778ba7.txt  \n",
      " extracting: train/labels/tomatoes-86-_jpg.rf.3c93cb94b993cd931bd45394b000bd1d.txt  \n",
      "   creating: valid/\n",
      "   creating: valid/images/\n",
      " extracting: valid/images/1234080-Early-Blight_jpg.rf.037a599c10bd3d2792008c2040da5d6c.jpg  \n",
      " extracting: valid/images/12July_mwnews_3-C_jpg.rf.ce1b50f06d7de686030f0237396ae3fa.jpg  \n",
      " extracting: valid/images/18_20201027_553175_jpg.rf.3f7da536ced7f4998c7e67d945b1f445.jpg  \n",
      " extracting: valid/images/18_20201027_553327_jpg.rf.fe62a9f3215f96dd8a596636a16965db.jpg  \n",
      " extracting: valid/images/18_20201028_556417_jpg.rf.803afd87a218d86a1c72d1f03c64f5fd.jpg  \n",
      " extracting: valid/images/18_20201028_557141_jpg.rf.1d946dc892003c4b4ff1992c2a7c6eab.jpg  \n",
      " extracting: valid/images/18_20201028_557145_jpg.rf.31b82593095e6b06db9305393d3e6b74.jpg  \n",
      " extracting: valid/images/18_20201028_557145_jpg.rf.8ef6020ebcc7549a837b4675ef4bf1a4.jpg  \n",
      " extracting: valid/images/18_20201028_557146_jpg.rf.46762d62671da235a07888a5c6d791f0.jpg  \n",
      " extracting: valid/images/18_20201028_557150_jpg.rf.f388e6604fca9dd15a8dab56c230479b.jpg  \n",
      " extracting: valid/images/18_20201028_557153_jpg.rf.eb68114f632eb8ecdddf10bcf443c775.jpg  \n",
      " extracting: valid/images/18_20201028_557164_jpg.rf.8072fe872361a5c0ebb178554c2b9688.jpg  \n",
      " extracting: valid/images/18_20201028_557167_jpg.rf.da2307347e8bfe703f3090b968b217fb.jpg  \n",
      " extracting: valid/images/18_20201028_557168_jpg.rf.ee8e617f4ac48ebfa8821be4bb630c1a.jpg  \n",
      " extracting: valid/images/18_20201028_569175_jpg.rf.4f445a5027fd04c1f0c3e46aeb15c2cd.jpg  \n",
      " extracting: valid/images/18_20201028_569175_jpg.rf.bde8214c8bfbd2a25b2e100665f8591f.jpg  \n",
      " extracting: valid/images/18_20201028_569236_jpg.rf.30858ef49b965572892ea9fe4bd725df.jpg  \n",
      " extracting: valid/images/18_20201028_569236_jpg.rf.367a8c02b6009b1a66f43e714f951fad.jpg  \n",
      " extracting: valid/images/18_20201028_569236_jpg.rf.eb6a26d70e66f802edd7695091e7b3de.jpg  \n",
      " extracting: valid/images/18_20201028_569237_jpg.rf.14bb4ce52677ac43e475b8d2df0d5d76.jpg  \n",
      " extracting: valid/images/18_20201028_569242_jpg.rf.70091469a933a7623a1d8bb8049b7193.jpg  \n",
      " extracting: valid/images/18_20201028_569518_jpg.rf.490c924a8ec74c5b98392ac14a23d661.jpg  \n",
      " extracting: valid/images/18_20201028_569608_jpg.rf.94f8a4c7f4d1c05e2a198e9a754476ac.jpg  \n",
      " extracting: valid/images/18_20201118_1179132_jpg.rf.7bb9ec5e75d70d3c92b139b30fba40e5.jpg  \n",
      " extracting: valid/images/18_20201118_1179153_jpg.rf.10e1d7b995d9c70ccd5500e59db77acf.jpg  \n",
      " extracting: valid/images/18_20201118_1179155_jpg.rf.f0deee25524cd5ce97605b945eb10bac.jpg  \n",
      " extracting: valid/images/18_20201118_1179165_jpg.rf.8e6f20345464dcae18db9c4568677f45.jpg  \n",
      " extracting: valid/images/18_20201119_1195844_jpg.rf.4f280ff884444b7c2c01106213b6618d.jpg  \n",
      " extracting: valid/images/18_20201119_1195847_jpg.rf.5332a9dd7cfc89ddebaa546d88044e8f.jpg  \n",
      " extracting: valid/images/18_20201119_1195853_jpg.rf.fb52a261525ebab46362c0bb9ff66711.jpg  \n",
      " extracting: valid/images/18_20201119_1195857_jpg.rf.b90326ac7c45462afab21a96b15d4b88.jpg  \n",
      " extracting: valid/images/18_20201119_1195857_jpg.rf.e5d8b3fbbde87ae395b61a8ad1882878.jpg  \n",
      " extracting: valid/images/18_20201119_1195880_jpg.rf.89b92e2f3a35ead632724ced2a013371.jpg  \n",
      " extracting: valid/images/18_20201119_1195913_jpg.rf.94b2153d4cc6a6ed6dd8056eacdfcf12.jpg  \n",
      " extracting: valid/images/18_20201119_1195923_jpg.rf.ebbe9800324b6bb3a8a9afd8232c242a.jpg  \n",
      " extracting: valid/images/18_20201120_1246105_jpg.rf.e1bdb4c7fbf4236a55415b0c9af1e100.jpg  \n",
      " extracting: valid/images/18_20201120_1246380_jpg.rf.1e994d5224769da3a1877410176c91d3.jpg  \n",
      " extracting: valid/images/18_20201120_1246407_jpg.rf.71f2a1a56ec2a42c6b6b2dc2bbd95973.jpg  \n",
      " extracting: valid/images/18_20201120_1246430_jpg.rf.2782ec06799cda1df77b2730e32bb7a0.jpg  \n",
      " extracting: valid/images/18_20201120_1246517_jpg.rf.1da0b5494cd6f7e68e8ea0f92b2a5104.jpg  \n",
      " extracting: valid/images/Flower-103-_jpg.rf.f80e492eaae8f612bda0da9238581504.jpg  \n",
      " extracting: valid/images/Flower-19-_jpg.rf.406e4c1aeff1fdb4b089ee8cbb0ef594.jpg  \n",
      " extracting: valid/images/IMG_2436w_jpg.rf.5eaa782bed1d174e39dffebddcb8de3f.jpg  \n",
      " extracting: valid/images/IMG_5724_png.rf.73017e06421d3a01090a0093af4face1.jpg  \n",
      " extracting: valid/images/IMG_5824_png.rf.1ed821819edb014403b75e8f084917bb.jpg  \n",
      " extracting: valid/images/IMG_8509_jpg.rf.000570b8bf4fdde625f3fd861bbb72a8.jpg  \n",
      " extracting: valid/images/IMG_8511_jpg.rf.aa8e67377b74f9ddee24580afebea59a.jpg  \n",
      " extracting: valid/images/IMG_8610_jpg.rf.f2cc23f7845f95922222611a98cbfc30.jpg  \n",
      " extracting: valid/images/Tomato-20bacterial-20canker-JPG_jpg.rf.cd50d8dbd9db531d42ed2c86a5cee05a.jpg  \n",
      " extracting: valid/images/Tomato_Blight_Leaves-JPG_jpg.rf.52e458d9dec49fc277ed1f3f0659241e.jpg  \n",
      " extracting: valid/images/Tomato_plant_2_jpeg.rf.d8d8348ba38da5ab52f896b67fef8f63.jpg  \n",
      " extracting: valid/images/Tomato_plant_3_jpeg.rf.805896ab1c263da28bb258b4f2ef511b.jpg  \n",
      " extracting: valid/images/Tomato_plant_7_jpeg.rf.5aa5d4636764fa62a5c4e055343a6c7a.jpg  \n",
      " extracting: valid/images/V006_79_0_00_07_03_12_0_c02_20201013_0013_S01_1_JPG_jpg.rf.48f57dec7f8fdbaaccdddf276b7ed942.jpg  \n",
      " extracting: valid/images/V006_79_0_00_07_03_12_0_c02_20201013_0064_S01_1_JPG_jpg.rf.90eca26fd51a8736a99dcd5fd27ac9d1.jpg  \n",
      " extracting: valid/images/V006_79_0_00_07_03_12_0_c02_20201013_0068_S01_1_JPG_jpg.rf.9193a77314291c80ce498bd8ade9ad58.jpg  \n",
      " extracting: valid/images/V006_79_0_00_07_03_12_0_c02_20201013_0068_S01_1_JPG_jpg.rf.dedd0131e3f3ec8d5d555ded2d9c7533.jpg  \n",
      " extracting: valid/images/V006_79_0_00_07_03_12_0_c12_20201028_0035_S01_1_JPG_jpg.rf.110bb6aecb1fadb6b3963bfe77f56d01.jpg  \n",
      " extracting: valid/images/V006_79_0_00_07_03_12_0_c13_20201023_0029_S01_1_jpg.rf.5245b8cb4e7dd2a6a2b8b0ddbb2ca6ae.jpg  \n",
      " extracting: valid/images/V006_79_0_00_07_03_12_0_c13_20201023_0029_S01_1_jpg.rf.c4c75245b43cea1d6174eb9e5c13e3f5.jpg  \n",
      " extracting: valid/images/V006_79_0_00_07_03_12_0_c14_20201103_0003_S01_1_jpg.rf.844c2073c18e914e7eabb1f6da0d8c03.jpg  \n",
      " extracting: valid/images/V006_79_0_00_07_03_12_0_c14_20201103_0006_S01_1_jpg.rf.472346e66979760df50bd3132d646e50.jpg  \n",
      " extracting: valid/images/V006_79_0_00_07_03_12_0_c14_20201104_0002_S01_1_JPG_jpg.rf.9f231c33fb2697f71a9178278510b786.jpg  \n",
      " extracting: valid/images/V006_79_0_00_07_03_12_0_c16_20201116_0003_S01_1_JPG_jpg.rf.fb9839712569951227089e5d92893142.jpg  \n",
      " extracting: valid/images/V006_79_0_00_07_03_12_0_c17_20201113_0005_S01_1_jpg.rf.c7b07893d823600506c44b9208b78007.jpg  \n",
      " extracting: valid/images/V006_79_1_15_07_03_12_1_2656z_20201104_19_jpg.rf.6865cb640f0f762ac862e9dede76aee5.jpg  \n",
      " extracting: valid/images/V006_79_1_15_07_03_12_1_2656z_20201104_37_jpg.rf.9f175b3a13d0a155096b7ccb2c25667d.jpg  \n",
      " extracting: valid/images/V006_79_1_15_07_03_12_1_2656z_20201105_38_jpg.rf.38fe29c0c06723b15ee71a261b9bf2c6.jpg  \n",
      " extracting: valid/images/V006_79_1_15_07_03_12_1_2656z_20201105_38_jpg.rf.a9105cd2064a7b936593ecd42df48560.jpg  \n",
      " extracting: valid/images/V006_79_1_15_07_03_12_1_5322z_20201111_88_jpg.rf.0883c0b49cd2f7ce7ae3e6311b385a08.jpg  \n",
      " extracting: valid/images/V006_79_1_15_07_03_12_1_5322z_20201111_96_jpg.rf.b287d5c3c2e8be00ed1f04b85b7e2a10.jpg  \n",
      " extracting: valid/images/V006_79_1_15_07_03_12_2_5322z_20201104_55_jpg.rf.372d207a06a7a4fb039d234fab05c7ff.jpg  \n",
      " extracting: valid/images/V006_79_1_15_07_03_12_2_5322z_20201105_14_jpg.rf.4b5acc7891a9f962f231bfb032017216.jpg  \n",
      " extracting: valid/images/V006_79_1_15_07_03_12_2_5322z_20201105_75_jpg.rf.cdd837f2b1011ea6fc217da766d9333c.jpg  \n",
      " extracting: valid/images/V006_79_1_15_07_03_12_2_8540w_20201104_163_jpg.rf.b83e09f6b644a69f53a33e7a75e27654.jpg  \n",
      " extracting: valid/images/V006_79_1_15_07_03_12_2_8540w_20201104_163_jpg.rf.fad53ee1121fbb02c66bf1fffaa97231.jpg  \n",
      " extracting: valid/images/V006_79_1_15_07_03_12_2_8540w_20201104_19_jpg.rf.b0804bed938c0c75323b566fab513536.jpg  \n",
      " extracting: valid/images/V006_79_1_15_07_03_12_2_8540w_20201104_5_jpg.rf.56c0d07901bfdb1383671fedd40ff058.jpg  \n",
      " extracting: valid/images/V006_79_1_15_07_03_12_2_8540w_20201104_5_jpg.rf.f7499d8f353455748506c1979b7ad867.jpg  \n",
      " extracting: valid/images/V006_79_1_15_07_03_12_2_8540w_20201105_138_jpg.rf.a63642c6a9ec002eb023008f9a59aa2f.jpg  \n",
      " extracting: valid/images/V006_79_1_15_07_03_12_2_8540w_20201105_28_jpg.rf.b920be98df2699b5080c7486efbdfd3e.jpg  \n",
      " extracting: valid/images/V006_79_1_15_07_03_12_2_8540w_20201105_2_jpg.rf.b3b96a2eb2c71d357bb1a73624acdced.jpg  \n",
      " extracting: valid/images/V006_79_1_15_07_03_12_2_8540w_20201106_129_jpg.rf.620442e4ae2c327d606e35741eb58993.jpg  \n",
      " extracting: valid/images/V006_79_1_15_07_03_12_2_8540w_20201106_129_jpg.rf.b00488bdbcd0c0661e857d56a4cc95b2.jpg  \n",
      " extracting: valid/images/V006_79_1_15_07_03_12_2_8540w_20201106_183_jpg.rf.9e0413c8d164f403a4a96a0ac4f9015d.jpg  \n",
      " extracting: valid/images/V006_79_1_15_07_03_12_2_8540w_20201106_75_jpg.rf.2db3a4913431859ab8fb5715d98ba7ab.jpg  \n",
      " extracting: valid/images/V006_79_1_15_07_03_12_2_8540w_20201109_141_jpg.rf.6dda96784e1dd5b4b68d80ed4f943633.jpg  \n",
      " extracting: valid/images/V006_79_1_15_07_03_12_2_8540w_20201109_141_jpg.rf.e0875ead74a24ecd866077c0767bf37e.jpg  \n",
      " extracting: valid/images/V006_79_1_15_07_03_12_2_8540w_20201109_142_jpg.rf.768364aa23a12ed33defc977d141d751.jpg  \n",
      " extracting: valid/images/V006_79_1_15_07_03_12_2_8540w_20201109_94_jpg.rf.49184df179dc1f0fec0bbb1df06668f1.jpg  \n",
      " extracting: valid/images/V006_79_1_15_07_03_12_2_8540w_20201110_149_jpg.rf.6327c97af14103961871463f6ecffd38.jpg  \n",
      " extracting: valid/images/V006_79_1_15_07_03_12_2_8540w_20201110_152_jpg.rf.08dfeb6a16377805207c225390d5330f.jpg  \n",
      " extracting: valid/images/V006_79_1_15_07_03_12_2_8540w_20201110_152_jpg.rf.8aed922ec82b9b19b58137c0cf959b32.jpg  \n",
      " extracting: valid/images/V006_79_1_15_07_03_12_2_8540w_20201110_59_jpg.rf.45db0854cca610ee1f5e263eb6eaf2fe.jpg  \n",
      " extracting: valid/images/V006_79_1_15_07_03_12_2_8540w_20201111_168_jpg.rf.0e47d05a72286cae4be76216adee5086.jpg  \n",
      " extracting: valid/images/V006_79_1_15_07_03_12_2_8540w_20201111_78_jpg.rf.3d3683d14128d7e0bbb1af6438329b43.jpg  \n",
      " extracting: valid/images/V006_79_1_15_07_03_12_2_8540w_20201116_45_jpg.rf.c4114d51531648dbe331299b3733e7ef.jpg  \n",
      " extracting: valid/images/V006_79_1_15_07_03_12_2_8540w_20201117_46_jpg.rf.eee92e118de2cfcf5d5c458ebdff79a8.jpg  \n",
      " extracting: valid/images/V006_79_1_15_07_03_12_2_8540w_20201117_82_jpg.rf.f626f273dbcb8cde20689387dba30a0d.jpg  \n",
      " extracting: valid/images/V006_79_1_15_07_03_12_2_8540w_20201119_48_jpg.rf.d73c2028cc048c2afa5e8dc5e2642ffd.jpg  \n",
      " extracting: valid/images/V006_79_1_15_07_03_12_2_8540w_20201120_49_jpg.rf.97fed5182737d659172aea5c232acb94.jpg  \n",
      " extracting: valid/images/seedling-166-_jpg.rf.aa7821a941ae1750ef47d6086a22f4c3.jpg  \n",
      " extracting: valid/images/seedling-188-_jpg.rf.faa6b436d8bae32864411ba4db04efae.jpg  \n",
      " extracting: valid/images/seedling-194-_jpg.rf.fd3a463a1d28269c3859a04120382f49.jpg  \n",
      " extracting: valid/images/seedling-89-_jpg.rf.ea4370267fa5dcf6b948b26d8a9bee91.jpg  \n",
      "   creating: valid/labels/\n",
      " extracting: valid/labels/1234080-Early-Blight_jpg.rf.037a599c10bd3d2792008c2040da5d6c.txt  \n",
      " extracting: valid/labels/12July_mwnews_3-C_jpg.rf.ce1b50f06d7de686030f0237396ae3fa.txt  \n",
      " extracting: valid/labels/18_20201027_553175_jpg.rf.3f7da536ced7f4998c7e67d945b1f445.txt  \n",
      " extracting: valid/labels/18_20201027_553327_jpg.rf.fe62a9f3215f96dd8a596636a16965db.txt  \n",
      " extracting: valid/labels/18_20201028_556417_jpg.rf.803afd87a218d86a1c72d1f03c64f5fd.txt  \n",
      " extracting: valid/labels/18_20201028_557141_jpg.rf.1d946dc892003c4b4ff1992c2a7c6eab.txt  \n",
      " extracting: valid/labels/18_20201028_557145_jpg.rf.31b82593095e6b06db9305393d3e6b74.txt  \n",
      " extracting: valid/labels/18_20201028_557145_jpg.rf.8ef6020ebcc7549a837b4675ef4bf1a4.txt  \n",
      " extracting: valid/labels/18_20201028_557146_jpg.rf.46762d62671da235a07888a5c6d791f0.txt  \n",
      " extracting: valid/labels/18_20201028_557150_jpg.rf.f388e6604fca9dd15a8dab56c230479b.txt  \n",
      " extracting: valid/labels/18_20201028_557153_jpg.rf.eb68114f632eb8ecdddf10bcf443c775.txt  \n",
      " extracting: valid/labels/18_20201028_557164_jpg.rf.8072fe872361a5c0ebb178554c2b9688.txt  \n",
      " extracting: valid/labels/18_20201028_557167_jpg.rf.da2307347e8bfe703f3090b968b217fb.txt  \n",
      " extracting: valid/labels/18_20201028_557168_jpg.rf.ee8e617f4ac48ebfa8821be4bb630c1a.txt  \n",
      " extracting: valid/labels/18_20201028_569175_jpg.rf.4f445a5027fd04c1f0c3e46aeb15c2cd.txt  \n",
      " extracting: valid/labels/18_20201028_569175_jpg.rf.bde8214c8bfbd2a25b2e100665f8591f.txt  \n",
      " extracting: valid/labels/18_20201028_569236_jpg.rf.30858ef49b965572892ea9fe4bd725df.txt  \n",
      " extracting: valid/labels/18_20201028_569236_jpg.rf.367a8c02b6009b1a66f43e714f951fad.txt  \n",
      " extracting: valid/labels/18_20201028_569236_jpg.rf.eb6a26d70e66f802edd7695091e7b3de.txt  \n",
      " extracting: valid/labels/18_20201028_569237_jpg.rf.14bb4ce52677ac43e475b8d2df0d5d76.txt  \n",
      " extracting: valid/labels/18_20201028_569242_jpg.rf.70091469a933a7623a1d8bb8049b7193.txt  \n",
      " extracting: valid/labels/18_20201028_569518_jpg.rf.490c924a8ec74c5b98392ac14a23d661.txt  \n",
      " extracting: valid/labels/18_20201028_569608_jpg.rf.94f8a4c7f4d1c05e2a198e9a754476ac.txt  \n",
      " extracting: valid/labels/18_20201118_1179132_jpg.rf.7bb9ec5e75d70d3c92b139b30fba40e5.txt  \n",
      " extracting: valid/labels/18_20201118_1179153_jpg.rf.10e1d7b995d9c70ccd5500e59db77acf.txt  \n",
      " extracting: valid/labels/18_20201118_1179155_jpg.rf.f0deee25524cd5ce97605b945eb10bac.txt  \n",
      " extracting: valid/labels/18_20201118_1179165_jpg.rf.8e6f20345464dcae18db9c4568677f45.txt  \n",
      " extracting: valid/labels/18_20201119_1195844_jpg.rf.4f280ff884444b7c2c01106213b6618d.txt  \n",
      " extracting: valid/labels/18_20201119_1195847_jpg.rf.5332a9dd7cfc89ddebaa546d88044e8f.txt  \n",
      " extracting: valid/labels/18_20201119_1195853_jpg.rf.fb52a261525ebab46362c0bb9ff66711.txt  \n",
      " extracting: valid/labels/18_20201119_1195857_jpg.rf.b90326ac7c45462afab21a96b15d4b88.txt  \n",
      " extracting: valid/labels/18_20201119_1195857_jpg.rf.e5d8b3fbbde87ae395b61a8ad1882878.txt  \n",
      " extracting: valid/labels/18_20201119_1195880_jpg.rf.89b92e2f3a35ead632724ced2a013371.txt  \n",
      " extracting: valid/labels/18_20201119_1195913_jpg.rf.94b2153d4cc6a6ed6dd8056eacdfcf12.txt  \n",
      " extracting: valid/labels/18_20201119_1195923_jpg.rf.ebbe9800324b6bb3a8a9afd8232c242a.txt  \n",
      " extracting: valid/labels/18_20201120_1246105_jpg.rf.e1bdb4c7fbf4236a55415b0c9af1e100.txt  \n",
      " extracting: valid/labels/18_20201120_1246380_jpg.rf.1e994d5224769da3a1877410176c91d3.txt  \n",
      " extracting: valid/labels/18_20201120_1246407_jpg.rf.71f2a1a56ec2a42c6b6b2dc2bbd95973.txt  \n",
      " extracting: valid/labels/18_20201120_1246430_jpg.rf.2782ec06799cda1df77b2730e32bb7a0.txt  \n",
      " extracting: valid/labels/18_20201120_1246517_jpg.rf.1da0b5494cd6f7e68e8ea0f92b2a5104.txt  \n",
      " extracting: valid/labels/Flower-103-_jpg.rf.f80e492eaae8f612bda0da9238581504.txt  \n",
      " extracting: valid/labels/Flower-19-_jpg.rf.406e4c1aeff1fdb4b089ee8cbb0ef594.txt  \n",
      " extracting: valid/labels/IMG_2436w_jpg.rf.5eaa782bed1d174e39dffebddcb8de3f.txt  \n",
      " extracting: valid/labels/IMG_5724_png.rf.73017e06421d3a01090a0093af4face1.txt  \n",
      " extracting: valid/labels/IMG_5824_png.rf.1ed821819edb014403b75e8f084917bb.txt  \n",
      " extracting: valid/labels/IMG_8509_jpg.rf.000570b8bf4fdde625f3fd861bbb72a8.txt  \n",
      " extracting: valid/labels/IMG_8511_jpg.rf.aa8e67377b74f9ddee24580afebea59a.txt  \n",
      " extracting: valid/labels/IMG_8610_jpg.rf.f2cc23f7845f95922222611a98cbfc30.txt  \n",
      " extracting: valid/labels/Tomato-20bacterial-20canker-JPG_jpg.rf.cd50d8dbd9db531d42ed2c86a5cee05a.txt  \n",
      " extracting: valid/labels/Tomato_Blight_Leaves-JPG_jpg.rf.52e458d9dec49fc277ed1f3f0659241e.txt  \n",
      " extracting: valid/labels/Tomato_plant_2_jpeg.rf.d8d8348ba38da5ab52f896b67fef8f63.txt  \n",
      " extracting: valid/labels/Tomato_plant_3_jpeg.rf.805896ab1c263da28bb258b4f2ef511b.txt  \n",
      " extracting: valid/labels/Tomato_plant_7_jpeg.rf.5aa5d4636764fa62a5c4e055343a6c7a.txt  \n",
      " extracting: valid/labels/V006_79_0_00_07_03_12_0_c02_20201013_0013_S01_1_JPG_jpg.rf.48f57dec7f8fdbaaccdddf276b7ed942.txt  \n",
      " extracting: valid/labels/V006_79_0_00_07_03_12_0_c02_20201013_0064_S01_1_JPG_jpg.rf.90eca26fd51a8736a99dcd5fd27ac9d1.txt  \n",
      " extracting: valid/labels/V006_79_0_00_07_03_12_0_c02_20201013_0068_S01_1_JPG_jpg.rf.9193a77314291c80ce498bd8ade9ad58.txt  \n",
      " extracting: valid/labels/V006_79_0_00_07_03_12_0_c02_20201013_0068_S01_1_JPG_jpg.rf.dedd0131e3f3ec8d5d555ded2d9c7533.txt  \n",
      " extracting: valid/labels/V006_79_0_00_07_03_12_0_c12_20201028_0035_S01_1_JPG_jpg.rf.110bb6aecb1fadb6b3963bfe77f56d01.txt  \n",
      " extracting: valid/labels/V006_79_0_00_07_03_12_0_c13_20201023_0029_S01_1_jpg.rf.5245b8cb4e7dd2a6a2b8b0ddbb2ca6ae.txt  \n",
      " extracting: valid/labels/V006_79_0_00_07_03_12_0_c13_20201023_0029_S01_1_jpg.rf.c4c75245b43cea1d6174eb9e5c13e3f5.txt  \n",
      " extracting: valid/labels/V006_79_0_00_07_03_12_0_c14_20201103_0003_S01_1_jpg.rf.844c2073c18e914e7eabb1f6da0d8c03.txt  \n",
      " extracting: valid/labels/V006_79_0_00_07_03_12_0_c14_20201103_0006_S01_1_jpg.rf.472346e66979760df50bd3132d646e50.txt  \n",
      " extracting: valid/labels/V006_79_0_00_07_03_12_0_c14_20201104_0002_S01_1_JPG_jpg.rf.9f231c33fb2697f71a9178278510b786.txt  \n",
      " extracting: valid/labels/V006_79_0_00_07_03_12_0_c16_20201116_0003_S01_1_JPG_jpg.rf.fb9839712569951227089e5d92893142.txt  \n",
      " extracting: valid/labels/V006_79_0_00_07_03_12_0_c17_20201113_0005_S01_1_jpg.rf.c7b07893d823600506c44b9208b78007.txt  \n",
      " extracting: valid/labels/V006_79_1_15_07_03_12_1_2656z_20201104_19_jpg.rf.6865cb640f0f762ac862e9dede76aee5.txt  \n",
      " extracting: valid/labels/V006_79_1_15_07_03_12_1_2656z_20201104_37_jpg.rf.9f175b3a13d0a155096b7ccb2c25667d.txt  \n",
      " extracting: valid/labels/V006_79_1_15_07_03_12_1_2656z_20201105_38_jpg.rf.38fe29c0c06723b15ee71a261b9bf2c6.txt  \n",
      " extracting: valid/labels/V006_79_1_15_07_03_12_1_2656z_20201105_38_jpg.rf.a9105cd2064a7b936593ecd42df48560.txt  \n",
      " extracting: valid/labels/V006_79_1_15_07_03_12_1_5322z_20201111_88_jpg.rf.0883c0b49cd2f7ce7ae3e6311b385a08.txt  \n",
      " extracting: valid/labels/V006_79_1_15_07_03_12_1_5322z_20201111_96_jpg.rf.b287d5c3c2e8be00ed1f04b85b7e2a10.txt  \n",
      " extracting: valid/labels/V006_79_1_15_07_03_12_2_5322z_20201104_55_jpg.rf.372d207a06a7a4fb039d234fab05c7ff.txt  \n",
      " extracting: valid/labels/V006_79_1_15_07_03_12_2_5322z_20201105_14_jpg.rf.4b5acc7891a9f962f231bfb032017216.txt  \n",
      " extracting: valid/labels/V006_79_1_15_07_03_12_2_5322z_20201105_75_jpg.rf.cdd837f2b1011ea6fc217da766d9333c.txt  \n",
      " extracting: valid/labels/V006_79_1_15_07_03_12_2_8540w_20201104_163_jpg.rf.b83e09f6b644a69f53a33e7a75e27654.txt  \n",
      " extracting: valid/labels/V006_79_1_15_07_03_12_2_8540w_20201104_163_jpg.rf.fad53ee1121fbb02c66bf1fffaa97231.txt  \n",
      " extracting: valid/labels/V006_79_1_15_07_03_12_2_8540w_20201104_19_jpg.rf.b0804bed938c0c75323b566fab513536.txt  \n",
      " extracting: valid/labels/V006_79_1_15_07_03_12_2_8540w_20201104_5_jpg.rf.56c0d07901bfdb1383671fedd40ff058.txt  \n",
      " extracting: valid/labels/V006_79_1_15_07_03_12_2_8540w_20201104_5_jpg.rf.f7499d8f353455748506c1979b7ad867.txt  \n",
      " extracting: valid/labels/V006_79_1_15_07_03_12_2_8540w_20201105_138_jpg.rf.a63642c6a9ec002eb023008f9a59aa2f.txt  \n",
      " extracting: valid/labels/V006_79_1_15_07_03_12_2_8540w_20201105_28_jpg.rf.b920be98df2699b5080c7486efbdfd3e.txt  \n",
      " extracting: valid/labels/V006_79_1_15_07_03_12_2_8540w_20201105_2_jpg.rf.b3b96a2eb2c71d357bb1a73624acdced.txt  \n",
      " extracting: valid/labels/V006_79_1_15_07_03_12_2_8540w_20201106_129_jpg.rf.620442e4ae2c327d606e35741eb58993.txt  \n",
      " extracting: valid/labels/V006_79_1_15_07_03_12_2_8540w_20201106_129_jpg.rf.b00488bdbcd0c0661e857d56a4cc95b2.txt  \n",
      " extracting: valid/labels/V006_79_1_15_07_03_12_2_8540w_20201106_183_jpg.rf.9e0413c8d164f403a4a96a0ac4f9015d.txt  \n",
      " extracting: valid/labels/V006_79_1_15_07_03_12_2_8540w_20201106_75_jpg.rf.2db3a4913431859ab8fb5715d98ba7ab.txt  \n",
      " extracting: valid/labels/V006_79_1_15_07_03_12_2_8540w_20201109_141_jpg.rf.6dda96784e1dd5b4b68d80ed4f943633.txt  \n",
      " extracting: valid/labels/V006_79_1_15_07_03_12_2_8540w_20201109_141_jpg.rf.e0875ead74a24ecd866077c0767bf37e.txt  \n",
      " extracting: valid/labels/V006_79_1_15_07_03_12_2_8540w_20201109_142_jpg.rf.768364aa23a12ed33defc977d141d751.txt  \n",
      " extracting: valid/labels/V006_79_1_15_07_03_12_2_8540w_20201109_94_jpg.rf.49184df179dc1f0fec0bbb1df06668f1.txt  \n",
      " extracting: valid/labels/V006_79_1_15_07_03_12_2_8540w_20201110_149_jpg.rf.6327c97af14103961871463f6ecffd38.txt  \n",
      " extracting: valid/labels/V006_79_1_15_07_03_12_2_8540w_20201110_152_jpg.rf.08dfeb6a16377805207c225390d5330f.txt  \n",
      " extracting: valid/labels/V006_79_1_15_07_03_12_2_8540w_20201110_152_jpg.rf.8aed922ec82b9b19b58137c0cf959b32.txt  \n",
      " extracting: valid/labels/V006_79_1_15_07_03_12_2_8540w_20201110_59_jpg.rf.45db0854cca610ee1f5e263eb6eaf2fe.txt  \n",
      " extracting: valid/labels/V006_79_1_15_07_03_12_2_8540w_20201111_168_jpg.rf.0e47d05a72286cae4be76216adee5086.txt  \n",
      " extracting: valid/labels/V006_79_1_15_07_03_12_2_8540w_20201111_78_jpg.rf.3d3683d14128d7e0bbb1af6438329b43.txt  \n",
      " extracting: valid/labels/V006_79_1_15_07_03_12_2_8540w_20201116_45_jpg.rf.c4114d51531648dbe331299b3733e7ef.txt  \n",
      " extracting: valid/labels/V006_79_1_15_07_03_12_2_8540w_20201117_46_jpg.rf.eee92e118de2cfcf5d5c458ebdff79a8.txt  \n",
      " extracting: valid/labels/V006_79_1_15_07_03_12_2_8540w_20201117_82_jpg.rf.f626f273dbcb8cde20689387dba30a0d.txt  \n",
      " extracting: valid/labels/V006_79_1_15_07_03_12_2_8540w_20201119_48_jpg.rf.d73c2028cc048c2afa5e8dc5e2642ffd.txt  \n",
      " extracting: valid/labels/V006_79_1_15_07_03_12_2_8540w_20201120_49_jpg.rf.97fed5182737d659172aea5c232acb94.txt  \n",
      " extracting: valid/labels/seedling-166-_jpg.rf.aa7821a941ae1750ef47d6086a22f4c3.txt  \n",
      " extracting: valid/labels/seedling-188-_jpg.rf.faa6b436d8bae32864411ba4db04efae.txt  \n",
      " extracting: valid/labels/seedling-194-_jpg.rf.fd3a463a1d28269c3859a04120382f49.txt  \n",
      " extracting: valid/labels/seedling-89-_jpg.rf.ea4370267fa5dcf6b948b26d8a9bee91.txt  \n"
     ]
    }
   ],
   "source": [
    "!unzip \"Tomato Leaves Detection.v1i.yolov8.zip\""
   ]
  },
  {
   "cell_type": "code",
   "execution_count": 7,
   "id": "cf7d8352-19ef-4294-9926-141c67b96318",
   "metadata": {},
   "outputs": [
    {
     "name": "stdout",
     "output_type": "stream",
     "text": [
      "Ultralytics YOLOv8.2.9 🚀 Python-3.11.9 torch-2.3.0+cu121 CUDA:0 (NVIDIA A40, 45416MiB)\n",
      "\u001b[34m\u001b[1mengine/trainer: \u001b[0mtask=detect, mode=train, model=yolov8m.pt, data=/home/jovyan/FREISA/code/training-yolo/data.yaml, epochs=200, time=None, patience=80, batch=4, imgsz=640, save=True, save_period=-1, cache=False, device=None, workers=8, project=None, name=train2, exist_ok=False, pretrained=True, optimizer=auto, verbose=True, seed=0, deterministic=True, single_cls=False, rect=False, cos_lr=False, close_mosaic=10, resume=False, amp=True, fraction=1.0, profile=False, freeze=None, multi_scale=False, overlap_mask=True, mask_ratio=4, dropout=0.0, val=True, split=val, save_json=False, save_hybrid=False, conf=None, iou=0.7, max_det=300, half=False, dnn=False, plots=True, source=None, vid_stride=1, stream_buffer=False, visualize=False, augment=False, agnostic_nms=False, classes=None, retina_masks=False, embed=None, show=False, save_frames=False, save_txt=False, save_conf=False, save_crop=False, show_labels=True, show_conf=True, show_boxes=True, line_width=None, format=torchscript, keras=False, optimize=False, int8=False, dynamic=False, simplify=False, opset=None, workspace=4, nms=False, lr0=0.01, lrf=0.01, momentum=0.937, weight_decay=0.0005, warmup_epochs=3.0, warmup_momentum=0.8, warmup_bias_lr=0.1, box=7.5, cls=0.5, dfl=1.5, pose=12.0, kobj=1.0, label_smoothing=0.0, nbs=64, hsv_h=0.015, hsv_s=0.7, hsv_v=0.4, degrees=0.0, translate=0.1, scale=0.5, shear=0.0, perspective=0.0, flipud=0.0, fliplr=0.5, bgr=0.0, mosaic=1.0, mixup=0.0, copy_paste=0.0, auto_augment=randaugment, erasing=0.4, crop_fraction=1.0, cfg=None, tracker=botsort.yaml, save_dir=runs/detect/train2\n",
      "Downloading https://ultralytics.com/assets/Arial.ttf to '/home/jovyan/.config/Ultralytics/Arial.ttf'...\n"
     ]
    },
    {
     "name": "stderr",
     "output_type": "stream",
     "text": [
      "100%|██████████| 755k/755k [00:00<00:00, 25.0MB/s]"
     ]
    },
    {
     "name": "stdout",
     "output_type": "stream",
     "text": [
      "Overriding model.yaml nc=80 with nc=2\n",
      "\n",
      "                   from  n    params  module                                       arguments                     \n",
      "  0                  -1  1      1392  ultralytics.nn.modules.conv.Conv             [3, 48, 3, 2]                 \n",
      "  1                  -1  1     41664  ultralytics.nn.modules.conv.Conv             [48, 96, 3, 2]                \n",
      "  2                  -1  2    111360  ultralytics.nn.modules.block.C2f             [96, 96, 2, True]             \n",
      "  3                  -1  1    166272  ultralytics.nn.modules.conv.Conv             [96, 192, 3, 2]               \n",
      "  4                  -1  4    813312  ultralytics.nn.modules.block.C2f             [192, 192, 4, True]           \n",
      "  5                  -1  1    664320  ultralytics.nn.modules.conv.Conv             [192, 384, 3, 2]              \n",
      "  6                  -1  4   3248640  ultralytics.nn.modules.block.C2f             [384, 384, 4, True]           \n",
      "  7                  -1  1   1991808  ultralytics.nn.modules.conv.Conv             [384, 576, 3, 2]              \n",
      "  8                  -1  2   3985920  ultralytics.nn.modules.block.C2f             [576, 576, 2, True]           \n",
      "  9                  -1  1    831168  ultralytics.nn.modules.block.SPPF            [576, 576, 5]                 \n",
      " 10                  -1  1         0  torch.nn.modules.upsampling.Upsample         [None, 2, 'nearest']          \n",
      " 11             [-1, 6]  1         0  ultralytics.nn.modules.conv.Concat           [1]                           \n",
      " 12                  -1  2   1993728  ultralytics.nn.modules.block.C2f             [960, 384, 2]                 \n",
      " 13                  -1  1         0  torch.nn.modules.upsampling.Upsample         [None, 2, 'nearest']          \n",
      " 14             [-1, 4]  1         0  ultralytics.nn.modules.conv.Concat           [1]                           \n",
      " 15                  -1  2    517632  ultralytics.nn.modules.block.C2f             [576, 192, 2]                 \n",
      " 16                  -1  1    332160  ultralytics.nn.modules.conv.Conv             [192, 192, 3, 2]              \n",
      " 17            [-1, 12]  1         0  ultralytics.nn.modules.conv.Concat           [1]                           \n",
      " 18                  -1  2   1846272  ultralytics.nn.modules.block.C2f             [576, 384, 2]                 \n",
      " 19                  -1  1   1327872  ultralytics.nn.modules.conv.Conv             [384, 384, 3, 2]              \n",
      " 20             [-1, 9]  1         0  ultralytics.nn.modules.conv.Concat           [1]                           \n"
     ]
    },
    {
     "name": "stderr",
     "output_type": "stream",
     "text": [
      "\n"
     ]
    },
    {
     "name": "stdout",
     "output_type": "stream",
     "text": [
      " 21                  -1  2   4207104  ultralytics.nn.modules.block.C2f             [960, 576, 2]                 \n",
      " 22        [15, 18, 21]  1   3776854  ultralytics.nn.modules.head.Detect           [2, [192, 384, 576]]          \n",
      "Model summary: 295 layers, 25857478 parameters, 25857462 gradients, 79.1 GFLOPs\n",
      "\n",
      "Transferred 469/475 items from pretrained weights\n",
      "Freezing layer 'model.22.dfl.conv.weight'\n",
      "\u001b[34m\u001b[1mAMP: \u001b[0mrunning Automatic Mixed Precision (AMP) checks with YOLOv8n...\n",
      "Downloading https://github.com/ultralytics/assets/releases/download/v8.2.0/yolov8n.pt to 'yolov8n.pt'...\n"
     ]
    },
    {
     "name": "stderr",
     "output_type": "stream",
     "text": [
      "100%|██████████| 6.23M/6.23M [00:00<00:00, 75.0MB/s]\n"
     ]
    },
    {
     "name": "stdout",
     "output_type": "stream",
     "text": [
      "\u001b[34m\u001b[1mAMP: \u001b[0mchecks passed ✅\n"
     ]
    },
    {
     "name": "stderr",
     "output_type": "stream",
     "text": [
      "\u001b[34m\u001b[1mtrain: \u001b[0mScanning /home/jovyan/FREISA/code/training-yolo/train/labels... 1069 images, 28 backgrounds, 0 corrupt: 100%|██████████| 1069/1069 [00:00<00:00, 2364.18it/s]"
     ]
    },
    {
     "name": "stdout",
     "output_type": "stream",
     "text": [
      "\u001b[34m\u001b[1mtrain: \u001b[0mNew cache created: /home/jovyan/FREISA/code/training-yolo/train/labels.cache\n"
     ]
    },
    {
     "name": "stderr",
     "output_type": "stream",
     "text": [
      "\n",
      "\u001b[34m\u001b[1mval: \u001b[0mScanning /home/jovyan/FREISA/code/training-yolo/valid/labels... 105 images, 1 backgrounds, 0 corrupt: 100%|██████████| 105/105 [00:00<00:00, 3636.95it/s]"
     ]
    },
    {
     "name": "stdout",
     "output_type": "stream",
     "text": [
      "\u001b[34m\u001b[1mval: \u001b[0mNew cache created: /home/jovyan/FREISA/code/training-yolo/valid/labels.cache\n"
     ]
    },
    {
     "name": "stderr",
     "output_type": "stream",
     "text": [
      "\n"
     ]
    },
    {
     "name": "stdout",
     "output_type": "stream",
     "text": [
      "Plotting labels to runs/detect/train2/labels.jpg... \n",
      "\u001b[34m\u001b[1moptimizer:\u001b[0m 'optimizer=auto' found, ignoring 'lr0=0.01' and 'momentum=0.937' and determining best 'optimizer', 'lr0' and 'momentum' automatically... \n",
      "\u001b[34m\u001b[1moptimizer:\u001b[0m AdamW(lr=0.001667, momentum=0.9) with parameter groups 77 weight(decay=0.0), 84 weight(decay=0.0005), 83 bias(decay=0.0)\n",
      "Image sizes 640 train, 640 val\n",
      "Using 4 dataloader workers\n",
      "Logging results to \u001b[1mruns/detect/train2\u001b[0m\n",
      "Starting training for 200 epochs...\n",
      "\n",
      "      Epoch    GPU_mem   box_loss   cls_loss   dfl_loss  Instances       Size\n"
     ]
    },
    {
     "name": "stderr",
     "output_type": "stream",
     "text": [
      "      1/200      1.84G      1.725       2.36       1.79          5        640: 100%|██████████| 268/268 [00:19<00:00, 13.93it/s]\n",
      "                 Class     Images  Instances      Box(P          R      mAP50  mAP50-95): 100%|██████████| 14/14 [00:02<00:00,  6.34it/s]"
     ]
    },
    {
     "name": "stdout",
     "output_type": "stream",
     "text": [
      "                   all        105        608      0.455      0.193      0.187     0.0797\n"
     ]
    },
    {
     "name": "stderr",
     "output_type": "stream",
     "text": [
      "\n"
     ]
    },
    {
     "name": "stdout",
     "output_type": "stream",
     "text": [
      "\n",
      "      Epoch    GPU_mem   box_loss   cls_loss   dfl_loss  Instances       Size\n"
     ]
    },
    {
     "name": "stderr",
     "output_type": "stream",
     "text": [
      "      2/200      2.33G      1.796       2.19      1.843          7        640: 100%|██████████| 268/268 [00:15<00:00, 17.10it/s]\n",
      "                 Class     Images  Instances      Box(P          R      mAP50  mAP50-95): 100%|██████████| 14/14 [00:00<00:00, 17.75it/s]"
     ]
    },
    {
     "name": "stdout",
     "output_type": "stream",
     "text": [
      "                   all        105        608      0.143      0.395       0.11     0.0478\n"
     ]
    },
    {
     "name": "stderr",
     "output_type": "stream",
     "text": [
      "\n"
     ]
    },
    {
     "name": "stdout",
     "output_type": "stream",
     "text": [
      "\n",
      "      Epoch    GPU_mem   box_loss   cls_loss   dfl_loss  Instances       Size\n"
     ]
    },
    {
     "name": "stderr",
     "output_type": "stream",
     "text": [
      "      3/200      2.44G      1.845      2.218      1.857         12        640: 100%|██████████| 268/268 [00:15<00:00, 17.34it/s]\n",
      "                 Class     Images  Instances      Box(P          R      mAP50  mAP50-95): 100%|██████████| 14/14 [00:00<00:00, 18.56it/s]"
     ]
    },
    {
     "name": "stdout",
     "output_type": "stream",
     "text": [
      "                   all        105        608      0.319      0.486      0.319       0.15\n"
     ]
    },
    {
     "name": "stderr",
     "output_type": "stream",
     "text": [
      "\n"
     ]
    },
    {
     "name": "stdout",
     "output_type": "stream",
     "text": [
      "\n",
      "      Epoch    GPU_mem   box_loss   cls_loss   dfl_loss  Instances       Size\n"
     ]
    },
    {
     "name": "stderr",
     "output_type": "stream",
     "text": [
      "      4/200       2.5G      1.793       2.11      1.816          6        640: 100%|██████████| 268/268 [00:15<00:00, 17.55it/s]\n",
      "                 Class     Images  Instances      Box(P          R      mAP50  mAP50-95): 100%|██████████| 14/14 [00:00<00:00, 16.46it/s]\n"
     ]
    },
    {
     "name": "stdout",
     "output_type": "stream",
     "text": [
      "                   all        105        608      0.322      0.403      0.278      0.129\n",
      "\n",
      "      Epoch    GPU_mem   box_loss   cls_loss   dfl_loss  Instances       Size\n"
     ]
    },
    {
     "name": "stderr",
     "output_type": "stream",
     "text": [
      "      5/200      2.43G      1.773      2.061      1.834          1        640: 100%|██████████| 268/268 [00:15<00:00, 17.12it/s]\n",
      "                 Class     Images  Instances      Box(P          R      mAP50  mAP50-95): 100%|██████████| 14/14 [00:00<00:00, 19.27it/s]"
     ]
    },
    {
     "name": "stdout",
     "output_type": "stream",
     "text": [
      "                   all        105        608      0.402      0.438      0.386      0.202\n"
     ]
    },
    {
     "name": "stderr",
     "output_type": "stream",
     "text": [
      "\n"
     ]
    },
    {
     "name": "stdout",
     "output_type": "stream",
     "text": [
      "\n",
      "      Epoch    GPU_mem   box_loss   cls_loss   dfl_loss  Instances       Size\n"
     ]
    },
    {
     "name": "stderr",
     "output_type": "stream",
     "text": [
      "      6/200      2.44G       1.74      1.993      1.784         16        640: 100%|██████████| 268/268 [00:16<00:00, 16.54it/s]\n",
      "                 Class     Images  Instances      Box(P          R      mAP50  mAP50-95): 100%|██████████| 14/14 [00:00<00:00, 16.04it/s]"
     ]
    },
    {
     "name": "stdout",
     "output_type": "stream",
     "text": [
      "                   all        105        608      0.373       0.42      0.366      0.189\n"
     ]
    },
    {
     "name": "stderr",
     "output_type": "stream",
     "text": [
      "\n"
     ]
    },
    {
     "name": "stdout",
     "output_type": "stream",
     "text": [
      "\n",
      "      Epoch    GPU_mem   box_loss   cls_loss   dfl_loss  Instances       Size\n"
     ]
    },
    {
     "name": "stderr",
     "output_type": "stream",
     "text": [
      "      7/200      2.43G      1.723      1.935      1.762         10        640: 100%|██████████| 268/268 [00:15<00:00, 16.98it/s]\n",
      "                 Class     Images  Instances      Box(P          R      mAP50  mAP50-95): 100%|██████████| 14/14 [00:00<00:00, 18.45it/s]"
     ]
    },
    {
     "name": "stdout",
     "output_type": "stream",
     "text": [
      "                   all        105        608      0.398      0.511      0.415      0.204\n"
     ]
    },
    {
     "name": "stderr",
     "output_type": "stream",
     "text": [
      "\n"
     ]
    },
    {
     "name": "stdout",
     "output_type": "stream",
     "text": [
      "\n",
      "      Epoch    GPU_mem   box_loss   cls_loss   dfl_loss  Instances       Size\n"
     ]
    },
    {
     "name": "stderr",
     "output_type": "stream",
     "text": [
      "      8/200      2.45G      1.682      1.872      1.748          1        640: 100%|██████████| 268/268 [00:15<00:00, 17.01it/s]\n",
      "                 Class     Images  Instances      Box(P          R      mAP50  mAP50-95): 100%|██████████| 14/14 [00:00<00:00, 18.74it/s]"
     ]
    },
    {
     "name": "stdout",
     "output_type": "stream",
     "text": [
      "                   all        105        608      0.436      0.477      0.405      0.212\n"
     ]
    },
    {
     "name": "stderr",
     "output_type": "stream",
     "text": [
      "\n"
     ]
    },
    {
     "name": "stdout",
     "output_type": "stream",
     "text": [
      "\n",
      "      Epoch    GPU_mem   box_loss   cls_loss   dfl_loss  Instances       Size\n"
     ]
    },
    {
     "name": "stderr",
     "output_type": "stream",
     "text": [
      "      9/200      2.43G      1.664      1.867      1.741         29        640: 100%|██████████| 268/268 [00:15<00:00, 17.00it/s]\n",
      "                 Class     Images  Instances      Box(P          R      mAP50  mAP50-95): 100%|██████████| 14/14 [00:00<00:00, 17.33it/s]"
     ]
    },
    {
     "name": "stdout",
     "output_type": "stream",
     "text": [
      "                   all        105        608      0.468      0.502      0.428      0.215\n"
     ]
    },
    {
     "name": "stderr",
     "output_type": "stream",
     "text": [
      "\n"
     ]
    },
    {
     "name": "stdout",
     "output_type": "stream",
     "text": [
      "\n",
      "      Epoch    GPU_mem   box_loss   cls_loss   dfl_loss  Instances       Size\n"
     ]
    },
    {
     "name": "stderr",
     "output_type": "stream",
     "text": [
      "     10/200       2.5G      1.667      1.762      1.739          5        640: 100%|██████████| 268/268 [00:15<00:00, 16.87it/s]\n",
      "                 Class     Images  Instances      Box(P          R      mAP50  mAP50-95): 100%|██████████| 14/14 [00:00<00:00, 17.97it/s]\n"
     ]
    },
    {
     "name": "stdout",
     "output_type": "stream",
     "text": [
      "                   all        105        608       0.38      0.516      0.394      0.192\n",
      "\n",
      "      Epoch    GPU_mem   box_loss   cls_loss   dfl_loss  Instances       Size\n"
     ]
    },
    {
     "name": "stderr",
     "output_type": "stream",
     "text": [
      "     11/200      2.48G      1.643      1.817      1.698         13        640: 100%|██████████| 268/268 [00:15<00:00, 17.02it/s]\n",
      "                 Class     Images  Instances      Box(P          R      mAP50  mAP50-95): 100%|██████████| 14/14 [00:00<00:00, 18.89it/s]\n"
     ]
    },
    {
     "name": "stdout",
     "output_type": "stream",
     "text": [
      "                   all        105        608      0.502      0.505      0.503      0.273\n",
      "\n",
      "      Epoch    GPU_mem   box_loss   cls_loss   dfl_loss  Instances       Size\n"
     ]
    },
    {
     "name": "stderr",
     "output_type": "stream",
     "text": [
      "     12/200      2.42G      1.612      1.751      1.688          5        640: 100%|██████████| 268/268 [00:16<00:00, 16.60it/s]\n",
      "                 Class     Images  Instances      Box(P          R      mAP50  mAP50-95): 100%|██████████| 14/14 [00:00<00:00, 19.11it/s]"
     ]
    },
    {
     "name": "stdout",
     "output_type": "stream",
     "text": [
      "                   all        105        608      0.513      0.554      0.509      0.279\n"
     ]
    },
    {
     "name": "stderr",
     "output_type": "stream",
     "text": [
      "\n"
     ]
    },
    {
     "name": "stdout",
     "output_type": "stream",
     "text": [
      "\n",
      "      Epoch    GPU_mem   box_loss   cls_loss   dfl_loss  Instances       Size\n"
     ]
    },
    {
     "name": "stderr",
     "output_type": "stream",
     "text": [
      "     13/200      2.42G      1.588      1.698      1.667          9        640: 100%|██████████| 268/268 [00:15<00:00, 17.25it/s]\n",
      "                 Class     Images  Instances      Box(P          R      mAP50  mAP50-95): 100%|██████████| 14/14 [00:00<00:00, 15.65it/s]"
     ]
    },
    {
     "name": "stdout",
     "output_type": "stream",
     "text": [
      "                   all        105        608      0.506      0.509       0.49      0.261\n"
     ]
    },
    {
     "name": "stderr",
     "output_type": "stream",
     "text": [
      "\n"
     ]
    },
    {
     "name": "stdout",
     "output_type": "stream",
     "text": [
      "\n",
      "      Epoch    GPU_mem   box_loss   cls_loss   dfl_loss  Instances       Size\n"
     ]
    },
    {
     "name": "stderr",
     "output_type": "stream",
     "text": [
      "     14/200      2.44G      1.554      1.596      1.658         12        640: 100%|██████████| 268/268 [00:15<00:00, 17.00it/s]\n",
      "                 Class     Images  Instances      Box(P          R      mAP50  mAP50-95): 100%|██████████| 14/14 [00:00<00:00, 20.80it/s]"
     ]
    },
    {
     "name": "stdout",
     "output_type": "stream",
     "text": [
      "                   all        105        608      0.543      0.505      0.521      0.278\n"
     ]
    },
    {
     "name": "stderr",
     "output_type": "stream",
     "text": [
      "\n"
     ]
    },
    {
     "name": "stdout",
     "output_type": "stream",
     "text": [
      "\n",
      "      Epoch    GPU_mem   box_loss   cls_loss   dfl_loss  Instances       Size\n"
     ]
    },
    {
     "name": "stderr",
     "output_type": "stream",
     "text": [
      "     15/200      2.49G      1.594      1.634      1.681          4        640: 100%|██████████| 268/268 [00:15<00:00, 16.80it/s]\n",
      "                 Class     Images  Instances      Box(P          R      mAP50  mAP50-95): 100%|██████████| 14/14 [00:00<00:00, 17.64it/s]"
     ]
    },
    {
     "name": "stdout",
     "output_type": "stream",
     "text": [
      "                   all        105        608        0.5      0.551      0.471      0.245\n"
     ]
    },
    {
     "name": "stderr",
     "output_type": "stream",
     "text": [
      "\n"
     ]
    },
    {
     "name": "stdout",
     "output_type": "stream",
     "text": [
      "\n",
      "      Epoch    GPU_mem   box_loss   cls_loss   dfl_loss  Instances       Size\n"
     ]
    },
    {
     "name": "stderr",
     "output_type": "stream",
     "text": [
      "     16/200      2.48G      1.571      1.629      1.655          2        640: 100%|██████████| 268/268 [00:16<00:00, 16.67it/s]\n",
      "                 Class     Images  Instances      Box(P          R      mAP50  mAP50-95): 100%|██████████| 14/14 [00:00<00:00, 15.32it/s]"
     ]
    },
    {
     "name": "stdout",
     "output_type": "stream",
     "text": [
      "                   all        105        608      0.488      0.531      0.496      0.269\n"
     ]
    },
    {
     "name": "stderr",
     "output_type": "stream",
     "text": [
      "\n"
     ]
    },
    {
     "name": "stdout",
     "output_type": "stream",
     "text": [
      "\n",
      "      Epoch    GPU_mem   box_loss   cls_loss   dfl_loss  Instances       Size\n"
     ]
    },
    {
     "name": "stderr",
     "output_type": "stream",
     "text": [
      "     17/200      2.43G      1.534      1.559      1.626         11        640: 100%|██████████| 268/268 [00:15<00:00, 16.90it/s]\n",
      "                 Class     Images  Instances      Box(P          R      mAP50  mAP50-95): 100%|██████████| 14/14 [00:00<00:00, 20.49it/s]"
     ]
    },
    {
     "name": "stdout",
     "output_type": "stream",
     "text": [
      "                   all        105        608        0.6      0.502      0.556      0.304\n"
     ]
    },
    {
     "name": "stderr",
     "output_type": "stream",
     "text": [
      "\n"
     ]
    },
    {
     "name": "stdout",
     "output_type": "stream",
     "text": [
      "\n",
      "      Epoch    GPU_mem   box_loss   cls_loss   dfl_loss  Instances       Size\n"
     ]
    },
    {
     "name": "stderr",
     "output_type": "stream",
     "text": [
      "     18/200      2.48G      1.551      1.549      1.649         17        640: 100%|██████████| 268/268 [00:15<00:00, 17.13it/s]\n",
      "                 Class     Images  Instances      Box(P          R      mAP50  mAP50-95): 100%|██████████| 14/14 [00:00<00:00, 16.09it/s]"
     ]
    },
    {
     "name": "stdout",
     "output_type": "stream",
     "text": [
      "                   all        105        608      0.494      0.573      0.519      0.287\n"
     ]
    },
    {
     "name": "stderr",
     "output_type": "stream",
     "text": [
      "\n"
     ]
    },
    {
     "name": "stdout",
     "output_type": "stream",
     "text": [
      "\n",
      "      Epoch    GPU_mem   box_loss   cls_loss   dfl_loss  Instances       Size\n"
     ]
    },
    {
     "name": "stderr",
     "output_type": "stream",
     "text": [
      "     19/200      2.46G      1.499      1.524      1.625          5        640: 100%|██████████| 268/268 [00:15<00:00, 17.06it/s]\n",
      "                 Class     Images  Instances      Box(P          R      mAP50  mAP50-95): 100%|██████████| 14/14 [00:00<00:00, 17.72it/s]\n"
     ]
    },
    {
     "name": "stdout",
     "output_type": "stream",
     "text": [
      "                   all        105        608      0.563      0.551      0.545      0.297\n",
      "\n",
      "      Epoch    GPU_mem   box_loss   cls_loss   dfl_loss  Instances       Size\n"
     ]
    },
    {
     "name": "stderr",
     "output_type": "stream",
     "text": [
      "     20/200      2.45G      1.535      1.536      1.637          2        640: 100%|██████████| 268/268 [00:15<00:00, 17.46it/s]\n",
      "                 Class     Images  Instances      Box(P          R      mAP50  mAP50-95): 100%|██████████| 14/14 [00:00<00:00, 20.95it/s]"
     ]
    },
    {
     "name": "stdout",
     "output_type": "stream",
     "text": [
      "                   all        105        608      0.544      0.505      0.525      0.301\n"
     ]
    },
    {
     "name": "stderr",
     "output_type": "stream",
     "text": [
      "\n"
     ]
    },
    {
     "name": "stdout",
     "output_type": "stream",
     "text": [
      "\n",
      "      Epoch    GPU_mem   box_loss   cls_loss   dfl_loss  Instances       Size\n"
     ]
    },
    {
     "name": "stderr",
     "output_type": "stream",
     "text": [
      "     21/200      2.43G      1.504      1.518      1.625          1        640: 100%|██████████| 268/268 [00:15<00:00, 17.48it/s]\n",
      "                 Class     Images  Instances      Box(P          R      mAP50  mAP50-95): 100%|██████████| 14/14 [00:00<00:00, 21.28it/s]"
     ]
    },
    {
     "name": "stdout",
     "output_type": "stream",
     "text": [
      "                   all        105        608      0.567      0.504      0.545      0.318\n"
     ]
    },
    {
     "name": "stderr",
     "output_type": "stream",
     "text": [
      "\n"
     ]
    },
    {
     "name": "stdout",
     "output_type": "stream",
     "text": [
      "\n",
      "      Epoch    GPU_mem   box_loss   cls_loss   dfl_loss  Instances       Size\n"
     ]
    },
    {
     "name": "stderr",
     "output_type": "stream",
     "text": [
      "     22/200      2.49G      1.504       1.51        1.6         10        640: 100%|██████████| 268/268 [00:15<00:00, 17.47it/s]\n",
      "                 Class     Images  Instances      Box(P          R      mAP50  mAP50-95): 100%|██████████| 14/14 [00:00<00:00, 21.54it/s]"
     ]
    },
    {
     "name": "stdout",
     "output_type": "stream",
     "text": [
      "                   all        105        608      0.535      0.545      0.517       0.29\n"
     ]
    },
    {
     "name": "stderr",
     "output_type": "stream",
     "text": [
      "\n"
     ]
    },
    {
     "name": "stdout",
     "output_type": "stream",
     "text": [
      "\n",
      "      Epoch    GPU_mem   box_loss   cls_loss   dfl_loss  Instances       Size\n"
     ]
    },
    {
     "name": "stderr",
     "output_type": "stream",
     "text": [
      "     23/200      2.49G      1.485      1.431      1.571         19        640: 100%|██████████| 268/268 [00:15<00:00, 17.46it/s]\n",
      "                 Class     Images  Instances      Box(P          R      mAP50  mAP50-95): 100%|██████████| 14/14 [00:00<00:00, 21.01it/s]"
     ]
    },
    {
     "name": "stdout",
     "output_type": "stream",
     "text": [
      "                   all        105        608      0.597      0.565       0.59       0.33\n"
     ]
    },
    {
     "name": "stderr",
     "output_type": "stream",
     "text": [
      "\n"
     ]
    },
    {
     "name": "stdout",
     "output_type": "stream",
     "text": [
      "\n",
      "      Epoch    GPU_mem   box_loss   cls_loss   dfl_loss  Instances       Size\n"
     ]
    },
    {
     "name": "stderr",
     "output_type": "stream",
     "text": [
      "     24/200      2.48G      1.472      1.415      1.586          1        640: 100%|██████████| 268/268 [00:15<00:00, 17.46it/s]\n",
      "                 Class     Images  Instances      Box(P          R      mAP50  mAP50-95): 100%|██████████| 14/14 [00:00<00:00, 20.70it/s]"
     ]
    },
    {
     "name": "stdout",
     "output_type": "stream",
     "text": [
      "                   all        105        608      0.576      0.593       0.59      0.345\n"
     ]
    },
    {
     "name": "stderr",
     "output_type": "stream",
     "text": [
      "\n"
     ]
    },
    {
     "name": "stdout",
     "output_type": "stream",
     "text": [
      "\n",
      "      Epoch    GPU_mem   box_loss   cls_loss   dfl_loss  Instances       Size\n"
     ]
    },
    {
     "name": "stderr",
     "output_type": "stream",
     "text": [
      "     25/200      2.44G      1.436      1.363      1.566          7        640: 100%|██████████| 268/268 [00:15<00:00, 17.47it/s]\n",
      "                 Class     Images  Instances      Box(P          R      mAP50  mAP50-95): 100%|██████████| 14/14 [00:00<00:00, 21.45it/s]"
     ]
    },
    {
     "name": "stdout",
     "output_type": "stream",
     "text": [
      "                   all        105        608      0.564      0.537      0.546        0.3\n"
     ]
    },
    {
     "name": "stderr",
     "output_type": "stream",
     "text": [
      "\n"
     ]
    },
    {
     "name": "stdout",
     "output_type": "stream",
     "text": [
      "\n",
      "      Epoch    GPU_mem   box_loss   cls_loss   dfl_loss  Instances       Size\n"
     ]
    },
    {
     "name": "stderr",
     "output_type": "stream",
     "text": [
      "     26/200      2.48G      1.465      1.394      1.568         15        640: 100%|██████████| 268/268 [00:15<00:00, 17.37it/s]\n",
      "                 Class     Images  Instances      Box(P          R      mAP50  mAP50-95): 100%|██████████| 14/14 [00:00<00:00, 21.47it/s]"
     ]
    },
    {
     "name": "stdout",
     "output_type": "stream",
     "text": [
      "                   all        105        608      0.582      0.592      0.592      0.327\n"
     ]
    },
    {
     "name": "stderr",
     "output_type": "stream",
     "text": [
      "\n"
     ]
    },
    {
     "name": "stdout",
     "output_type": "stream",
     "text": [
      "\n",
      "      Epoch    GPU_mem   box_loss   cls_loss   dfl_loss  Instances       Size\n"
     ]
    },
    {
     "name": "stderr",
     "output_type": "stream",
     "text": [
      "     27/200      2.48G      1.434      1.378      1.561         10        640: 100%|██████████| 268/268 [00:15<00:00, 17.05it/s]\n",
      "                 Class     Images  Instances      Box(P          R      mAP50  mAP50-95): 100%|██████████| 14/14 [00:00<00:00, 21.01it/s]"
     ]
    },
    {
     "name": "stdout",
     "output_type": "stream",
     "text": [
      "                   all        105        608      0.599      0.562      0.568      0.321\n"
     ]
    },
    {
     "name": "stderr",
     "output_type": "stream",
     "text": [
      "\n"
     ]
    },
    {
     "name": "stdout",
     "output_type": "stream",
     "text": [
      "\n",
      "      Epoch    GPU_mem   box_loss   cls_loss   dfl_loss  Instances       Size\n"
     ]
    },
    {
     "name": "stderr",
     "output_type": "stream",
     "text": [
      "     28/200      2.47G      1.425      1.358       1.55          7        640: 100%|██████████| 268/268 [00:15<00:00, 17.04it/s]\n",
      "                 Class     Images  Instances      Box(P          R      mAP50  mAP50-95): 100%|██████████| 14/14 [00:00<00:00, 18.08it/s]"
     ]
    },
    {
     "name": "stdout",
     "output_type": "stream",
     "text": [
      "                   all        105        608      0.538      0.592      0.559        0.3\n"
     ]
    },
    {
     "name": "stderr",
     "output_type": "stream",
     "text": [
      "\n"
     ]
    },
    {
     "name": "stdout",
     "output_type": "stream",
     "text": [
      "\n",
      "      Epoch    GPU_mem   box_loss   cls_loss   dfl_loss  Instances       Size\n"
     ]
    },
    {
     "name": "stderr",
     "output_type": "stream",
     "text": [
      "     29/200      2.44G      1.414      1.349      1.548         10        640: 100%|██████████| 268/268 [00:15<00:00, 16.97it/s]\n",
      "                 Class     Images  Instances      Box(P          R      mAP50  mAP50-95): 100%|██████████| 14/14 [00:00<00:00, 21.80it/s]"
     ]
    },
    {
     "name": "stdout",
     "output_type": "stream",
     "text": [
      "                   all        105        608       0.56      0.572      0.588      0.346\n"
     ]
    },
    {
     "name": "stderr",
     "output_type": "stream",
     "text": [
      "\n"
     ]
    },
    {
     "name": "stdout",
     "output_type": "stream",
     "text": [
      "\n",
      "      Epoch    GPU_mem   box_loss   cls_loss   dfl_loss  Instances       Size\n"
     ]
    },
    {
     "name": "stderr",
     "output_type": "stream",
     "text": [
      "     30/200      2.44G      1.443      1.365      1.553          4        640: 100%|██████████| 268/268 [00:15<00:00, 16.84it/s]\n",
      "                 Class     Images  Instances      Box(P          R      mAP50  mAP50-95): 100%|██████████| 14/14 [00:00<00:00, 18.37it/s]\n"
     ]
    },
    {
     "name": "stdout",
     "output_type": "stream",
     "text": [
      "                   all        105        608      0.558      0.555      0.582      0.341\n",
      "\n",
      "      Epoch    GPU_mem   box_loss   cls_loss   dfl_loss  Instances       Size\n"
     ]
    },
    {
     "name": "stderr",
     "output_type": "stream",
     "text": [
      "     31/200      2.44G      1.418      1.278      1.543          6        640: 100%|██████████| 268/268 [00:15<00:00, 17.16it/s]\n",
      "                 Class     Images  Instances      Box(P          R      mAP50  mAP50-95): 100%|██████████| 14/14 [00:00<00:00, 21.36it/s]"
     ]
    },
    {
     "name": "stdout",
     "output_type": "stream",
     "text": [
      "                   all        105        608      0.603      0.591      0.611      0.343\n"
     ]
    },
    {
     "name": "stderr",
     "output_type": "stream",
     "text": [
      "\n"
     ]
    },
    {
     "name": "stdout",
     "output_type": "stream",
     "text": [
      "\n",
      "      Epoch    GPU_mem   box_loss   cls_loss   dfl_loss  Instances       Size\n"
     ]
    },
    {
     "name": "stderr",
     "output_type": "stream",
     "text": [
      "     32/200      2.43G       1.42      1.278      1.541         14        640: 100%|██████████| 268/268 [00:15<00:00, 17.18it/s]\n",
      "                 Class     Images  Instances      Box(P          R      mAP50  mAP50-95): 100%|██████████| 14/14 [00:00<00:00, 19.42it/s]"
     ]
    },
    {
     "name": "stdout",
     "output_type": "stream",
     "text": [
      "                   all        105        608      0.597      0.502      0.548      0.306\n"
     ]
    },
    {
     "name": "stderr",
     "output_type": "stream",
     "text": [
      "\n"
     ]
    },
    {
     "name": "stdout",
     "output_type": "stream",
     "text": [
      "\n",
      "      Epoch    GPU_mem   box_loss   cls_loss   dfl_loss  Instances       Size\n"
     ]
    },
    {
     "name": "stderr",
     "output_type": "stream",
     "text": [
      "     33/200      2.42G      1.411      1.283      1.525         14        640: 100%|██████████| 268/268 [00:15<00:00, 17.02it/s]\n",
      "                 Class     Images  Instances      Box(P          R      mAP50  mAP50-95): 100%|██████████| 14/14 [00:00<00:00, 20.84it/s]"
     ]
    },
    {
     "name": "stdout",
     "output_type": "stream",
     "text": [
      "                   all        105        608       0.55      0.582      0.537      0.296\n"
     ]
    },
    {
     "name": "stderr",
     "output_type": "stream",
     "text": [
      "\n"
     ]
    },
    {
     "name": "stdout",
     "output_type": "stream",
     "text": [
      "\n",
      "      Epoch    GPU_mem   box_loss   cls_loss   dfl_loss  Instances       Size\n"
     ]
    },
    {
     "name": "stderr",
     "output_type": "stream",
     "text": [
      "     34/200      2.53G       1.38      1.257      1.526          6        640: 100%|██████████| 268/268 [00:15<00:00, 16.77it/s]\n",
      "                 Class     Images  Instances      Box(P          R      mAP50  mAP50-95): 100%|██████████| 14/14 [00:00<00:00, 19.65it/s]"
     ]
    },
    {
     "name": "stdout",
     "output_type": "stream",
     "text": [
      "                   all        105        608      0.594      0.585      0.595      0.337\n"
     ]
    },
    {
     "name": "stderr",
     "output_type": "stream",
     "text": [
      "\n"
     ]
    },
    {
     "name": "stdout",
     "output_type": "stream",
     "text": [
      "\n",
      "      Epoch    GPU_mem   box_loss   cls_loss   dfl_loss  Instances       Size\n"
     ]
    },
    {
     "name": "stderr",
     "output_type": "stream",
     "text": [
      "     35/200      2.44G      1.384      1.266      1.528          8        640: 100%|██████████| 268/268 [00:15<00:00, 17.04it/s]\n",
      "                 Class     Images  Instances      Box(P          R      mAP50  mAP50-95): 100%|██████████| 14/14 [00:00<00:00, 19.75it/s]"
     ]
    },
    {
     "name": "stdout",
     "output_type": "stream",
     "text": [
      "                   all        105        608      0.606      0.543      0.583      0.328\n"
     ]
    },
    {
     "name": "stderr",
     "output_type": "stream",
     "text": [
      "\n"
     ]
    },
    {
     "name": "stdout",
     "output_type": "stream",
     "text": [
      "\n",
      "      Epoch    GPU_mem   box_loss   cls_loss   dfl_loss  Instances       Size\n"
     ]
    },
    {
     "name": "stderr",
     "output_type": "stream",
     "text": [
      "     36/200      2.52G      1.373      1.237      1.535          1        640: 100%|██████████| 268/268 [00:15<00:00, 16.98it/s]\n",
      "                 Class     Images  Instances      Box(P          R      mAP50  mAP50-95): 100%|██████████| 14/14 [00:00<00:00, 20.56it/s]"
     ]
    },
    {
     "name": "stdout",
     "output_type": "stream",
     "text": [
      "                   all        105        608      0.573      0.573      0.597      0.331\n"
     ]
    },
    {
     "name": "stderr",
     "output_type": "stream",
     "text": [
      "\n"
     ]
    },
    {
     "name": "stdout",
     "output_type": "stream",
     "text": [
      "\n",
      "      Epoch    GPU_mem   box_loss   cls_loss   dfl_loss  Instances       Size\n"
     ]
    },
    {
     "name": "stderr",
     "output_type": "stream",
     "text": [
      "     37/200      2.43G      1.374      1.241      1.498          5        640: 100%|██████████| 268/268 [00:15<00:00, 17.02it/s]\n",
      "                 Class     Images  Instances      Box(P          R      mAP50  mAP50-95): 100%|██████████| 14/14 [00:00<00:00, 20.74it/s]"
     ]
    },
    {
     "name": "stdout",
     "output_type": "stream",
     "text": [
      "                   all        105        608      0.562      0.577      0.582      0.332\n"
     ]
    },
    {
     "name": "stderr",
     "output_type": "stream",
     "text": [
      "\n"
     ]
    },
    {
     "name": "stdout",
     "output_type": "stream",
     "text": [
      "\n",
      "      Epoch    GPU_mem   box_loss   cls_loss   dfl_loss  Instances       Size\n"
     ]
    },
    {
     "name": "stderr",
     "output_type": "stream",
     "text": [
      "     38/200      2.44G      1.351      1.222      1.494         15        640: 100%|██████████| 268/268 [00:15<00:00, 17.16it/s]\n",
      "                 Class     Images  Instances      Box(P          R      mAP50  mAP50-95): 100%|██████████| 14/14 [00:00<00:00, 20.71it/s]"
     ]
    },
    {
     "name": "stdout",
     "output_type": "stream",
     "text": [
      "                   all        105        608      0.594        0.6      0.599      0.342\n"
     ]
    },
    {
     "name": "stderr",
     "output_type": "stream",
     "text": [
      "\n"
     ]
    },
    {
     "name": "stdout",
     "output_type": "stream",
     "text": [
      "\n",
      "      Epoch    GPU_mem   box_loss   cls_loss   dfl_loss  Instances       Size\n"
     ]
    },
    {
     "name": "stderr",
     "output_type": "stream",
     "text": [
      "     39/200      2.44G      1.351      1.205      1.499          2        640: 100%|██████████| 268/268 [00:15<00:00, 17.00it/s]\n",
      "                 Class     Images  Instances      Box(P          R      mAP50  mAP50-95): 100%|██████████| 14/14 [00:00<00:00, 19.24it/s]"
     ]
    },
    {
     "name": "stdout",
     "output_type": "stream",
     "text": [
      "                   all        105        608      0.559      0.617      0.579       0.34\n"
     ]
    },
    {
     "name": "stderr",
     "output_type": "stream",
     "text": [
      "\n"
     ]
    },
    {
     "name": "stdout",
     "output_type": "stream",
     "text": [
      "\n",
      "      Epoch    GPU_mem   box_loss   cls_loss   dfl_loss  Instances       Size\n"
     ]
    },
    {
     "name": "stderr",
     "output_type": "stream",
     "text": [
      "     40/200      2.43G      1.308      1.155      1.465          9        640: 100%|██████████| 268/268 [00:15<00:00, 16.92it/s]\n",
      "                 Class     Images  Instances      Box(P          R      mAP50  mAP50-95): 100%|██████████| 14/14 [00:00<00:00, 20.60it/s]"
     ]
    },
    {
     "name": "stdout",
     "output_type": "stream",
     "text": [
      "                   all        105        608      0.589      0.573      0.596      0.339\n"
     ]
    },
    {
     "name": "stderr",
     "output_type": "stream",
     "text": [
      "\n"
     ]
    },
    {
     "name": "stdout",
     "output_type": "stream",
     "text": [
      "\n",
      "      Epoch    GPU_mem   box_loss   cls_loss   dfl_loss  Instances       Size\n"
     ]
    },
    {
     "name": "stderr",
     "output_type": "stream",
     "text": [
      "     41/200      2.44G      1.344      1.206      1.477          4        640: 100%|██████████| 268/268 [00:15<00:00, 16.95it/s]\n",
      "                 Class     Images  Instances      Box(P          R      mAP50  mAP50-95): 100%|██████████| 14/14 [00:00<00:00, 17.00it/s]"
     ]
    },
    {
     "name": "stdout",
     "output_type": "stream",
     "text": [
      "                   all        105        608      0.575      0.577      0.567      0.317\n"
     ]
    },
    {
     "name": "stderr",
     "output_type": "stream",
     "text": [
      "\n"
     ]
    },
    {
     "name": "stdout",
     "output_type": "stream",
     "text": [
      "\n",
      "      Epoch    GPU_mem   box_loss   cls_loss   dfl_loss  Instances       Size\n"
     ]
    },
    {
     "name": "stderr",
     "output_type": "stream",
     "text": [
      "     42/200      2.44G      1.324      1.184      1.473         12        640: 100%|██████████| 268/268 [00:15<00:00, 17.04it/s]\n",
      "                 Class     Images  Instances      Box(P          R      mAP50  mAP50-95): 100%|██████████| 14/14 [00:00<00:00, 19.50it/s]"
     ]
    },
    {
     "name": "stdout",
     "output_type": "stream",
     "text": [
      "                   all        105        608      0.615      0.574      0.596      0.337\n"
     ]
    },
    {
     "name": "stderr",
     "output_type": "stream",
     "text": [
      "\n"
     ]
    },
    {
     "name": "stdout",
     "output_type": "stream",
     "text": [
      "\n",
      "      Epoch    GPU_mem   box_loss   cls_loss   dfl_loss  Instances       Size\n"
     ]
    },
    {
     "name": "stderr",
     "output_type": "stream",
     "text": [
      "     43/200      2.44G      1.313      1.147      1.473          4        640: 100%|██████████| 268/268 [00:15<00:00, 17.01it/s]\n",
      "                 Class     Images  Instances      Box(P          R      mAP50  mAP50-95): 100%|██████████| 14/14 [00:00<00:00, 21.46it/s]"
     ]
    },
    {
     "name": "stdout",
     "output_type": "stream",
     "text": [
      "                   all        105        608      0.566      0.607      0.611      0.354\n"
     ]
    },
    {
     "name": "stderr",
     "output_type": "stream",
     "text": [
      "\n"
     ]
    },
    {
     "name": "stdout",
     "output_type": "stream",
     "text": [
      "\n",
      "      Epoch    GPU_mem   box_loss   cls_loss   dfl_loss  Instances       Size\n"
     ]
    },
    {
     "name": "stderr",
     "output_type": "stream",
     "text": [
      "     44/200      2.41G      1.296      1.159      1.468         23        640: 100%|██████████| 268/268 [00:15<00:00, 16.95it/s]\n",
      "                 Class     Images  Instances      Box(P          R      mAP50  mAP50-95): 100%|██████████| 14/14 [00:00<00:00, 20.61it/s]"
     ]
    },
    {
     "name": "stdout",
     "output_type": "stream",
     "text": [
      "                   all        105        608      0.595      0.592      0.581      0.323\n"
     ]
    },
    {
     "name": "stderr",
     "output_type": "stream",
     "text": [
      "\n"
     ]
    },
    {
     "name": "stdout",
     "output_type": "stream",
     "text": [
      "\n",
      "      Epoch    GPU_mem   box_loss   cls_loss   dfl_loss  Instances       Size\n"
     ]
    },
    {
     "name": "stderr",
     "output_type": "stream",
     "text": [
      "     45/200      2.42G      1.323      1.159      1.478         19        640: 100%|██████████| 268/268 [00:15<00:00, 17.00it/s]\n",
      "                 Class     Images  Instances      Box(P          R      mAP50  mAP50-95): 100%|██████████| 14/14 [00:00<00:00, 21.14it/s]"
     ]
    },
    {
     "name": "stdout",
     "output_type": "stream",
     "text": [
      "                   all        105        608      0.555      0.601      0.585      0.334\n"
     ]
    },
    {
     "name": "stderr",
     "output_type": "stream",
     "text": [
      "\n"
     ]
    },
    {
     "name": "stdout",
     "output_type": "stream",
     "text": [
      "\n",
      "      Epoch    GPU_mem   box_loss   cls_loss   dfl_loss  Instances       Size\n"
     ]
    },
    {
     "name": "stderr",
     "output_type": "stream",
     "text": [
      "     46/200      2.44G      1.321      1.176      1.465          3        640: 100%|██████████| 268/268 [00:15<00:00, 16.83it/s]\n",
      "                 Class     Images  Instances      Box(P          R      mAP50  mAP50-95): 100%|██████████| 14/14 [00:00<00:00, 19.79it/s]"
     ]
    },
    {
     "name": "stdout",
     "output_type": "stream",
     "text": [
      "                   all        105        608      0.575      0.598       0.59      0.342\n"
     ]
    },
    {
     "name": "stderr",
     "output_type": "stream",
     "text": [
      "\n"
     ]
    },
    {
     "name": "stdout",
     "output_type": "stream",
     "text": [
      "\n",
      "      Epoch    GPU_mem   box_loss   cls_loss   dfl_loss  Instances       Size\n"
     ]
    },
    {
     "name": "stderr",
     "output_type": "stream",
     "text": [
      "     47/200      2.42G      1.298      1.101      1.462         16        640: 100%|██████████| 268/268 [00:15<00:00, 16.87it/s]\n",
      "                 Class     Images  Instances      Box(P          R      mAP50  mAP50-95): 100%|██████████| 14/14 [00:00<00:00, 20.51it/s]"
     ]
    },
    {
     "name": "stdout",
     "output_type": "stream",
     "text": [
      "                   all        105        608      0.631      0.559      0.599      0.342\n"
     ]
    },
    {
     "name": "stderr",
     "output_type": "stream",
     "text": [
      "\n"
     ]
    },
    {
     "name": "stdout",
     "output_type": "stream",
     "text": [
      "\n",
      "      Epoch    GPU_mem   box_loss   cls_loss   dfl_loss  Instances       Size\n"
     ]
    },
    {
     "name": "stderr",
     "output_type": "stream",
     "text": [
      "     48/200      2.43G       1.28      1.082      1.446          2        640: 100%|██████████| 268/268 [00:16<00:00, 16.68it/s]\n",
      "                 Class     Images  Instances      Box(P          R      mAP50  mAP50-95): 100%|██████████| 14/14 [00:00<00:00, 20.06it/s]"
     ]
    },
    {
     "name": "stdout",
     "output_type": "stream",
     "text": [
      "                   all        105        608      0.516       0.62      0.565      0.319\n"
     ]
    },
    {
     "name": "stderr",
     "output_type": "stream",
     "text": [
      "\n"
     ]
    },
    {
     "name": "stdout",
     "output_type": "stream",
     "text": [
      "\n",
      "      Epoch    GPU_mem   box_loss   cls_loss   dfl_loss  Instances       Size\n"
     ]
    },
    {
     "name": "stderr",
     "output_type": "stream",
     "text": [
      "     49/200      2.44G       1.27       1.11      1.444          6        640: 100%|██████████| 268/268 [00:15<00:00, 16.81it/s]\n",
      "                 Class     Images  Instances      Box(P          R      mAP50  mAP50-95): 100%|██████████| 14/14 [00:00<00:00, 19.66it/s]"
     ]
    },
    {
     "name": "stdout",
     "output_type": "stream",
     "text": [
      "                   all        105        608      0.652      0.521      0.575      0.331\n"
     ]
    },
    {
     "name": "stderr",
     "output_type": "stream",
     "text": [
      "\n"
     ]
    },
    {
     "name": "stdout",
     "output_type": "stream",
     "text": [
      "\n",
      "      Epoch    GPU_mem   box_loss   cls_loss   dfl_loss  Instances       Size\n"
     ]
    },
    {
     "name": "stderr",
     "output_type": "stream",
     "text": [
      "     50/200      2.44G      1.253        1.1      1.438          8        640: 100%|██████████| 268/268 [00:15<00:00, 16.97it/s]\n",
      "                 Class     Images  Instances      Box(P          R      mAP50  mAP50-95): 100%|██████████| 14/14 [00:00<00:00, 21.10it/s]"
     ]
    },
    {
     "name": "stdout",
     "output_type": "stream",
     "text": [
      "                   all        105        608      0.592      0.515      0.553       0.31\n"
     ]
    },
    {
     "name": "stderr",
     "output_type": "stream",
     "text": [
      "\n"
     ]
    },
    {
     "name": "stdout",
     "output_type": "stream",
     "text": [
      "\n",
      "      Epoch    GPU_mem   box_loss   cls_loss   dfl_loss  Instances       Size\n"
     ]
    },
    {
     "name": "stderr",
     "output_type": "stream",
     "text": [
      "     51/200      2.46G      1.259      1.074      1.427         13        640: 100%|██████████| 268/268 [00:15<00:00, 16.94it/s]\n",
      "                 Class     Images  Instances      Box(P          R      mAP50  mAP50-95): 100%|██████████| 14/14 [00:00<00:00, 20.07it/s]"
     ]
    },
    {
     "name": "stdout",
     "output_type": "stream",
     "text": [
      "                   all        105        608      0.575      0.602      0.603      0.341\n"
     ]
    },
    {
     "name": "stderr",
     "output_type": "stream",
     "text": [
      "\n"
     ]
    },
    {
     "name": "stdout",
     "output_type": "stream",
     "text": [
      "\n",
      "      Epoch    GPU_mem   box_loss   cls_loss   dfl_loss  Instances       Size\n"
     ]
    },
    {
     "name": "stderr",
     "output_type": "stream",
     "text": [
      "     52/200      2.45G      1.244      1.079      1.406          2        640: 100%|██████████| 268/268 [00:15<00:00, 17.04it/s]\n",
      "                 Class     Images  Instances      Box(P          R      mAP50  mAP50-95): 100%|██████████| 14/14 [00:00<00:00, 20.85it/s]"
     ]
    },
    {
     "name": "stdout",
     "output_type": "stream",
     "text": [
      "                   all        105        608      0.625      0.553        0.6      0.352\n"
     ]
    },
    {
     "name": "stderr",
     "output_type": "stream",
     "text": [
      "\n"
     ]
    },
    {
     "name": "stdout",
     "output_type": "stream",
     "text": [
      "\n",
      "      Epoch    GPU_mem   box_loss   cls_loss   dfl_loss  Instances       Size\n"
     ]
    },
    {
     "name": "stderr",
     "output_type": "stream",
     "text": [
      "     53/200      2.43G      1.265      1.052       1.42          7        640: 100%|██████████| 268/268 [00:16<00:00, 16.71it/s]\n",
      "                 Class     Images  Instances      Box(P          R      mAP50  mAP50-95): 100%|██████████| 14/14 [00:00<00:00, 18.83it/s]"
     ]
    },
    {
     "name": "stdout",
     "output_type": "stream",
     "text": [
      "                   all        105        608      0.559      0.585      0.586       0.34\n"
     ]
    },
    {
     "name": "stderr",
     "output_type": "stream",
     "text": [
      "\n"
     ]
    },
    {
     "name": "stdout",
     "output_type": "stream",
     "text": [
      "\n",
      "      Epoch    GPU_mem   box_loss   cls_loss   dfl_loss  Instances       Size\n"
     ]
    },
    {
     "name": "stderr",
     "output_type": "stream",
     "text": [
      "     54/200      2.48G      1.268      1.048      1.422          6        640: 100%|██████████| 268/268 [00:16<00:00, 16.65it/s]\n",
      "                 Class     Images  Instances      Box(P          R      mAP50  mAP50-95): 100%|██████████| 14/14 [00:00<00:00, 21.21it/s]"
     ]
    },
    {
     "name": "stdout",
     "output_type": "stream",
     "text": [
      "                   all        105        608      0.566      0.593      0.562      0.319\n"
     ]
    },
    {
     "name": "stderr",
     "output_type": "stream",
     "text": [
      "\n"
     ]
    },
    {
     "name": "stdout",
     "output_type": "stream",
     "text": [
      "\n",
      "      Epoch    GPU_mem   box_loss   cls_loss   dfl_loss  Instances       Size\n"
     ]
    },
    {
     "name": "stderr",
     "output_type": "stream",
     "text": [
      "     55/200      2.46G      1.261      1.065      1.427         48        640: 100%|██████████| 268/268 [00:15<00:00, 16.94it/s]\n",
      "                 Class     Images  Instances      Box(P          R      mAP50  mAP50-95): 100%|██████████| 14/14 [00:00<00:00, 18.79it/s]\n"
     ]
    },
    {
     "name": "stdout",
     "output_type": "stream",
     "text": [
      "                   all        105        608      0.593      0.561      0.574      0.329\n",
      "\n",
      "      Epoch    GPU_mem   box_loss   cls_loss   dfl_loss  Instances       Size\n"
     ]
    },
    {
     "name": "stderr",
     "output_type": "stream",
     "text": [
      "     56/200      2.45G      1.248      1.025      1.413          4        640: 100%|██████████| 268/268 [00:15<00:00, 16.80it/s]\n",
      "                 Class     Images  Instances      Box(P          R      mAP50  mAP50-95): 100%|██████████| 14/14 [00:00<00:00, 19.98it/s]"
     ]
    },
    {
     "name": "stdout",
     "output_type": "stream",
     "text": [
      "                   all        105        608      0.583      0.594      0.595      0.345\n"
     ]
    },
    {
     "name": "stderr",
     "output_type": "stream",
     "text": [
      "\n"
     ]
    },
    {
     "name": "stdout",
     "output_type": "stream",
     "text": [
      "\n",
      "      Epoch    GPU_mem   box_loss   cls_loss   dfl_loss  Instances       Size\n"
     ]
    },
    {
     "name": "stderr",
     "output_type": "stream",
     "text": [
      "     57/200      2.42G      1.229      1.043      1.412         13        640: 100%|██████████| 268/268 [00:15<00:00, 17.06it/s]\n",
      "                 Class     Images  Instances      Box(P          R      mAP50  mAP50-95): 100%|██████████| 14/14 [00:00<00:00, 19.46it/s]"
     ]
    },
    {
     "name": "stdout",
     "output_type": "stream",
     "text": [
      "                   all        105        608      0.563      0.615      0.581      0.341\n"
     ]
    },
    {
     "name": "stderr",
     "output_type": "stream",
     "text": [
      "\n"
     ]
    },
    {
     "name": "stdout",
     "output_type": "stream",
     "text": [
      "\n",
      "      Epoch    GPU_mem   box_loss   cls_loss   dfl_loss  Instances       Size\n"
     ]
    },
    {
     "name": "stderr",
     "output_type": "stream",
     "text": [
      "     58/200      2.53G      1.236      1.014      1.402         14        640: 100%|██████████| 268/268 [00:15<00:00, 17.01it/s]\n",
      "                 Class     Images  Instances      Box(P          R      mAP50  mAP50-95): 100%|██████████| 14/14 [00:00<00:00, 19.83it/s]"
     ]
    },
    {
     "name": "stdout",
     "output_type": "stream",
     "text": [
      "                   all        105        608      0.631      0.573      0.605      0.352\n"
     ]
    },
    {
     "name": "stderr",
     "output_type": "stream",
     "text": [
      "\n"
     ]
    },
    {
     "name": "stdout",
     "output_type": "stream",
     "text": [
      "\n",
      "      Epoch    GPU_mem   box_loss   cls_loss   dfl_loss  Instances       Size\n"
     ]
    },
    {
     "name": "stderr",
     "output_type": "stream",
     "text": [
      "     59/200      2.53G      1.217      1.018      1.406          3        640: 100%|██████████| 268/268 [00:16<00:00, 16.61it/s]\n",
      "                 Class     Images  Instances      Box(P          R      mAP50  mAP50-95): 100%|██████████| 14/14 [00:00<00:00, 21.20it/s]"
     ]
    },
    {
     "name": "stdout",
     "output_type": "stream",
     "text": [
      "                   all        105        608      0.581      0.567      0.582      0.333\n"
     ]
    },
    {
     "name": "stderr",
     "output_type": "stream",
     "text": [
      "\n"
     ]
    },
    {
     "name": "stdout",
     "output_type": "stream",
     "text": [
      "\n",
      "      Epoch    GPU_mem   box_loss   cls_loss   dfl_loss  Instances       Size\n"
     ]
    },
    {
     "name": "stderr",
     "output_type": "stream",
     "text": [
      "     60/200      2.52G      1.196     0.9909      1.386          7        640: 100%|██████████| 268/268 [00:16<00:00, 16.44it/s]\n",
      "                 Class     Images  Instances      Box(P          R      mAP50  mAP50-95): 100%|██████████| 14/14 [00:00<00:00, 21.46it/s]"
     ]
    },
    {
     "name": "stdout",
     "output_type": "stream",
     "text": [
      "                   all        105        608      0.593      0.568      0.568      0.318\n"
     ]
    },
    {
     "name": "stderr",
     "output_type": "stream",
     "text": [
      "\n"
     ]
    },
    {
     "name": "stdout",
     "output_type": "stream",
     "text": [
      "\n",
      "      Epoch    GPU_mem   box_loss   cls_loss   dfl_loss  Instances       Size\n"
     ]
    },
    {
     "name": "stderr",
     "output_type": "stream",
     "text": [
      "     61/200      2.44G      1.192      0.989      1.383         12        640: 100%|██████████| 268/268 [00:16<00:00, 16.74it/s]\n",
      "                 Class     Images  Instances      Box(P          R      mAP50  mAP50-95): 100%|██████████| 14/14 [00:00<00:00, 21.39it/s]"
     ]
    },
    {
     "name": "stdout",
     "output_type": "stream",
     "text": [
      "                   all        105        608      0.603      0.558       0.59      0.338\n"
     ]
    },
    {
     "name": "stderr",
     "output_type": "stream",
     "text": [
      "\n"
     ]
    },
    {
     "name": "stdout",
     "output_type": "stream",
     "text": [
      "\n",
      "      Epoch    GPU_mem   box_loss   cls_loss   dfl_loss  Instances       Size\n"
     ]
    },
    {
     "name": "stderr",
     "output_type": "stream",
     "text": [
      "     62/200      2.44G      1.186      0.964      1.369          5        640: 100%|██████████| 268/268 [00:15<00:00, 17.08it/s]\n",
      "                 Class     Images  Instances      Box(P          R      mAP50  mAP50-95): 100%|██████████| 14/14 [00:00<00:00, 21.45it/s]"
     ]
    },
    {
     "name": "stdout",
     "output_type": "stream",
     "text": [
      "                   all        105        608      0.564       0.62      0.604      0.356\n"
     ]
    },
    {
     "name": "stderr",
     "output_type": "stream",
     "text": [
      "\n"
     ]
    },
    {
     "name": "stdout",
     "output_type": "stream",
     "text": [
      "\n",
      "      Epoch    GPU_mem   box_loss   cls_loss   dfl_loss  Instances       Size\n"
     ]
    },
    {
     "name": "stderr",
     "output_type": "stream",
     "text": [
      "     63/200      2.44G      1.178      0.958       1.37          7        640: 100%|██████████| 268/268 [00:15<00:00, 17.38it/s]\n",
      "                 Class     Images  Instances      Box(P          R      mAP50  mAP50-95): 100%|██████████| 14/14 [00:00<00:00, 21.14it/s]"
     ]
    },
    {
     "name": "stdout",
     "output_type": "stream",
     "text": [
      "                   all        105        608      0.641      0.554       0.61      0.345\n"
     ]
    },
    {
     "name": "stderr",
     "output_type": "stream",
     "text": [
      "\n"
     ]
    },
    {
     "name": "stdout",
     "output_type": "stream",
     "text": [
      "\n",
      "      Epoch    GPU_mem   box_loss   cls_loss   dfl_loss  Instances       Size\n"
     ]
    },
    {
     "name": "stderr",
     "output_type": "stream",
     "text": [
      "     64/200      2.43G      1.195     0.9804       1.36          5        640: 100%|██████████| 268/268 [00:15<00:00, 17.57it/s]\n",
      "                 Class     Images  Instances      Box(P          R      mAP50  mAP50-95): 100%|██████████| 14/14 [00:00<00:00, 21.24it/s]"
     ]
    },
    {
     "name": "stdout",
     "output_type": "stream",
     "text": [
      "                   all        105        608      0.608      0.581      0.572       0.32\n"
     ]
    },
    {
     "name": "stderr",
     "output_type": "stream",
     "text": [
      "\n"
     ]
    },
    {
     "name": "stdout",
     "output_type": "stream",
     "text": [
      "\n",
      "      Epoch    GPU_mem   box_loss   cls_loss   dfl_loss  Instances       Size\n"
     ]
    },
    {
     "name": "stderr",
     "output_type": "stream",
     "text": [
      "     65/200      2.43G      1.176     0.9608      1.371         62        640: 100%|██████████| 268/268 [00:15<00:00, 17.38it/s]\n",
      "                 Class     Images  Instances      Box(P          R      mAP50  mAP50-95): 100%|██████████| 14/14 [00:00<00:00, 21.32it/s]"
     ]
    },
    {
     "name": "stdout",
     "output_type": "stream",
     "text": [
      "                   all        105        608      0.655      0.546      0.595      0.347\n"
     ]
    },
    {
     "name": "stderr",
     "output_type": "stream",
     "text": [
      "\n"
     ]
    },
    {
     "name": "stdout",
     "output_type": "stream",
     "text": [
      "\n",
      "      Epoch    GPU_mem   box_loss   cls_loss   dfl_loss  Instances       Size\n"
     ]
    },
    {
     "name": "stderr",
     "output_type": "stream",
     "text": [
      "     66/200      2.44G      1.169     0.9493      1.361          7        640: 100%|██████████| 268/268 [00:15<00:00, 17.43it/s]\n",
      "                 Class     Images  Instances      Box(P          R      mAP50  mAP50-95): 100%|██████████| 14/14 [00:00<00:00, 21.64it/s]"
     ]
    },
    {
     "name": "stdout",
     "output_type": "stream",
     "text": [
      "                   all        105        608      0.602      0.545      0.568      0.325\n"
     ]
    },
    {
     "name": "stderr",
     "output_type": "stream",
     "text": [
      "\n"
     ]
    },
    {
     "name": "stdout",
     "output_type": "stream",
     "text": [
      "\n",
      "      Epoch    GPU_mem   box_loss   cls_loss   dfl_loss  Instances       Size\n"
     ]
    },
    {
     "name": "stderr",
     "output_type": "stream",
     "text": [
      "     67/200      2.44G      1.166     0.9418      1.361          6        640: 100%|██████████| 268/268 [00:15<00:00, 17.41it/s]\n",
      "                 Class     Images  Instances      Box(P          R      mAP50  mAP50-95): 100%|██████████| 14/14 [00:00<00:00, 21.81it/s]"
     ]
    },
    {
     "name": "stdout",
     "output_type": "stream",
     "text": [
      "                   all        105        608      0.565      0.638      0.597      0.343\n"
     ]
    },
    {
     "name": "stderr",
     "output_type": "stream",
     "text": [
      "\n"
     ]
    },
    {
     "name": "stdout",
     "output_type": "stream",
     "text": [
      "\n",
      "      Epoch    GPU_mem   box_loss   cls_loss   dfl_loss  Instances       Size\n"
     ]
    },
    {
     "name": "stderr",
     "output_type": "stream",
     "text": [
      "     68/200      2.42G      1.136     0.9873      1.349          0        640: 100%|██████████| 268/268 [00:15<00:00, 17.42it/s]\n",
      "                 Class     Images  Instances      Box(P          R      mAP50  mAP50-95): 100%|██████████| 14/14 [00:00<00:00, 19.63it/s]"
     ]
    },
    {
     "name": "stdout",
     "output_type": "stream",
     "text": [
      "                   all        105        608      0.572       0.57      0.564      0.321\n"
     ]
    },
    {
     "name": "stderr",
     "output_type": "stream",
     "text": [
      "\n"
     ]
    },
    {
     "name": "stdout",
     "output_type": "stream",
     "text": [
      "\n",
      "      Epoch    GPU_mem   box_loss   cls_loss   dfl_loss  Instances       Size\n"
     ]
    },
    {
     "name": "stderr",
     "output_type": "stream",
     "text": [
      "     69/200      2.44G      1.163     0.9478       1.35         12        640: 100%|██████████| 268/268 [00:15<00:00, 17.54it/s]\n",
      "                 Class     Images  Instances      Box(P          R      mAP50  mAP50-95): 100%|██████████| 14/14 [00:00<00:00, 21.44it/s]"
     ]
    },
    {
     "name": "stdout",
     "output_type": "stream",
     "text": [
      "                   all        105        608      0.596      0.567      0.579      0.333\n"
     ]
    },
    {
     "name": "stderr",
     "output_type": "stream",
     "text": [
      "\n"
     ]
    },
    {
     "name": "stdout",
     "output_type": "stream",
     "text": [
      "\n",
      "      Epoch    GPU_mem   box_loss   cls_loss   dfl_loss  Instances       Size\n"
     ]
    },
    {
     "name": "stderr",
     "output_type": "stream",
     "text": [
      "     70/200      2.43G      1.136     0.9248      1.343          7        640: 100%|██████████| 268/268 [00:15<00:00, 17.51it/s]\n",
      "                 Class     Images  Instances      Box(P          R      mAP50  mAP50-95): 100%|██████████| 14/14 [00:00<00:00, 21.62it/s]"
     ]
    },
    {
     "name": "stdout",
     "output_type": "stream",
     "text": [
      "                   all        105        608      0.577       0.59      0.569      0.326\n"
     ]
    },
    {
     "name": "stderr",
     "output_type": "stream",
     "text": [
      "\n"
     ]
    },
    {
     "name": "stdout",
     "output_type": "stream",
     "text": [
      "\n",
      "      Epoch    GPU_mem   box_loss   cls_loss   dfl_loss  Instances       Size\n"
     ]
    },
    {
     "name": "stderr",
     "output_type": "stream",
     "text": [
      "     71/200      2.43G      1.146     0.9031      1.333          5        640: 100%|██████████| 268/268 [00:15<00:00, 17.21it/s]\n",
      "                 Class     Images  Instances      Box(P          R      mAP50  mAP50-95): 100%|██████████| 14/14 [00:00<00:00, 22.04it/s]"
     ]
    },
    {
     "name": "stdout",
     "output_type": "stream",
     "text": [
      "                   all        105        608      0.612      0.595      0.592      0.334\n"
     ]
    },
    {
     "name": "stderr",
     "output_type": "stream",
     "text": [
      "\n"
     ]
    },
    {
     "name": "stdout",
     "output_type": "stream",
     "text": [
      "\n",
      "      Epoch    GPU_mem   box_loss   cls_loss   dfl_loss  Instances       Size\n"
     ]
    },
    {
     "name": "stderr",
     "output_type": "stream",
     "text": [
      "     72/200      2.43G      1.137     0.9184      1.333          6        640: 100%|██████████| 268/268 [00:15<00:00, 17.11it/s]\n",
      "                 Class     Images  Instances      Box(P          R      mAP50  mAP50-95): 100%|██████████| 14/14 [00:00<00:00, 21.45it/s]"
     ]
    },
    {
     "name": "stdout",
     "output_type": "stream",
     "text": [
      "                   all        105        608        0.6      0.561      0.562      0.322\n"
     ]
    },
    {
     "name": "stderr",
     "output_type": "stream",
     "text": [
      "\n"
     ]
    },
    {
     "name": "stdout",
     "output_type": "stream",
     "text": [
      "\n",
      "      Epoch    GPU_mem   box_loss   cls_loss   dfl_loss  Instances       Size\n"
     ]
    },
    {
     "name": "stderr",
     "output_type": "stream",
     "text": [
      "     73/200      2.43G      1.118     0.9063      1.334          4        640: 100%|██████████| 268/268 [00:15<00:00, 17.05it/s]\n",
      "                 Class     Images  Instances      Box(P          R      mAP50  mAP50-95): 100%|██████████| 14/14 [00:00<00:00, 18.86it/s]"
     ]
    },
    {
     "name": "stdout",
     "output_type": "stream",
     "text": [
      "                   all        105        608      0.603      0.584      0.596       0.34\n"
     ]
    },
    {
     "name": "stderr",
     "output_type": "stream",
     "text": [
      "\n"
     ]
    },
    {
     "name": "stdout",
     "output_type": "stream",
     "text": [
      "\n",
      "      Epoch    GPU_mem   box_loss   cls_loss   dfl_loss  Instances       Size\n"
     ]
    },
    {
     "name": "stderr",
     "output_type": "stream",
     "text": [
      "     74/200      2.43G      1.145      0.924      1.354          7        640: 100%|██████████| 268/268 [00:15<00:00, 16.94it/s]\n",
      "                 Class     Images  Instances      Box(P          R      mAP50  mAP50-95): 100%|██████████| 14/14 [00:00<00:00, 20.47it/s]"
     ]
    },
    {
     "name": "stdout",
     "output_type": "stream",
     "text": [
      "                   all        105        608      0.599      0.594      0.603      0.345\n"
     ]
    },
    {
     "name": "stderr",
     "output_type": "stream",
     "text": [
      "\n"
     ]
    },
    {
     "name": "stdout",
     "output_type": "stream",
     "text": [
      "\n",
      "      Epoch    GPU_mem   box_loss   cls_loss   dfl_loss  Instances       Size\n"
     ]
    },
    {
     "name": "stderr",
     "output_type": "stream",
     "text": [
      "     75/200      2.43G      1.136     0.9211      1.339          5        640: 100%|██████████| 268/268 [00:15<00:00, 16.99it/s]\n",
      "                 Class     Images  Instances      Box(P          R      mAP50  mAP50-95): 100%|██████████| 14/14 [00:00<00:00, 20.54it/s]"
     ]
    },
    {
     "name": "stdout",
     "output_type": "stream",
     "text": [
      "                   all        105        608      0.636      0.606      0.606      0.351\n"
     ]
    },
    {
     "name": "stderr",
     "output_type": "stream",
     "text": [
      "\n"
     ]
    },
    {
     "name": "stdout",
     "output_type": "stream",
     "text": [
      "\n",
      "      Epoch    GPU_mem   box_loss   cls_loss   dfl_loss  Instances       Size\n"
     ]
    },
    {
     "name": "stderr",
     "output_type": "stream",
     "text": [
      "     76/200      2.42G      1.107     0.8783      1.316          9        640: 100%|██████████| 268/268 [00:15<00:00, 17.09it/s]\n",
      "                 Class     Images  Instances      Box(P          R      mAP50  mAP50-95): 100%|██████████| 14/14 [00:00<00:00, 21.24it/s]"
     ]
    },
    {
     "name": "stdout",
     "output_type": "stream",
     "text": [
      "                   all        105        608      0.596      0.621      0.594      0.341\n"
     ]
    },
    {
     "name": "stderr",
     "output_type": "stream",
     "text": [
      "\n"
     ]
    },
    {
     "name": "stdout",
     "output_type": "stream",
     "text": [
      "\n",
      "      Epoch    GPU_mem   box_loss   cls_loss   dfl_loss  Instances       Size\n"
     ]
    },
    {
     "name": "stderr",
     "output_type": "stream",
     "text": [
      "     77/200      2.43G      1.115      0.862      1.323          1        640: 100%|██████████| 268/268 [00:15<00:00, 16.94it/s]\n",
      "                 Class     Images  Instances      Box(P          R      mAP50  mAP50-95): 100%|██████████| 14/14 [00:00<00:00, 18.18it/s]"
     ]
    },
    {
     "name": "stdout",
     "output_type": "stream",
     "text": [
      "                   all        105        608      0.615      0.559      0.586      0.335\n"
     ]
    },
    {
     "name": "stderr",
     "output_type": "stream",
     "text": [
      "\n"
     ]
    },
    {
     "name": "stdout",
     "output_type": "stream",
     "text": [
      "\n",
      "      Epoch    GPU_mem   box_loss   cls_loss   dfl_loss  Instances       Size\n"
     ]
    },
    {
     "name": "stderr",
     "output_type": "stream",
     "text": [
      "     78/200      2.43G      1.112     0.8653      1.325          1        640: 100%|██████████| 268/268 [00:15<00:00, 17.05it/s]\n",
      "                 Class     Images  Instances      Box(P          R      mAP50  mAP50-95): 100%|██████████| 14/14 [00:00<00:00, 21.82it/s]"
     ]
    },
    {
     "name": "stdout",
     "output_type": "stream",
     "text": [
      "                   all        105        608      0.592      0.592       0.59       0.34\n"
     ]
    },
    {
     "name": "stderr",
     "output_type": "stream",
     "text": [
      "\n"
     ]
    },
    {
     "name": "stdout",
     "output_type": "stream",
     "text": [
      "\n",
      "      Epoch    GPU_mem   box_loss   cls_loss   dfl_loss  Instances       Size\n"
     ]
    },
    {
     "name": "stderr",
     "output_type": "stream",
     "text": [
      "     79/200      2.43G      1.094     0.8729      1.316          2        640: 100%|██████████| 268/268 [00:15<00:00, 16.92it/s]\n",
      "                 Class     Images  Instances      Box(P          R      mAP50  mAP50-95): 100%|██████████| 14/14 [00:00<00:00, 21.68it/s]"
     ]
    },
    {
     "name": "stdout",
     "output_type": "stream",
     "text": [
      "                   all        105        608      0.592      0.623      0.601      0.347\n"
     ]
    },
    {
     "name": "stderr",
     "output_type": "stream",
     "text": [
      "\n"
     ]
    },
    {
     "name": "stdout",
     "output_type": "stream",
     "text": [
      "\n",
      "      Epoch    GPU_mem   box_loss   cls_loss   dfl_loss  Instances       Size\n"
     ]
    },
    {
     "name": "stderr",
     "output_type": "stream",
     "text": [
      "     80/200      2.42G      1.086     0.8566      1.312          2        640: 100%|██████████| 268/268 [00:15<00:00, 17.04it/s]\n",
      "                 Class     Images  Instances      Box(P          R      mAP50  mAP50-95): 100%|██████████| 14/14 [00:00<00:00, 21.90it/s]"
     ]
    },
    {
     "name": "stdout",
     "output_type": "stream",
     "text": [
      "                   all        105        608       0.66      0.581      0.611      0.347\n"
     ]
    },
    {
     "name": "stderr",
     "output_type": "stream",
     "text": [
      "\n"
     ]
    },
    {
     "name": "stdout",
     "output_type": "stream",
     "text": [
      "\n",
      "      Epoch    GPU_mem   box_loss   cls_loss   dfl_loss  Instances       Size\n"
     ]
    },
    {
     "name": "stderr",
     "output_type": "stream",
     "text": [
      "     81/200      2.45G      1.094     0.8599      1.307          3        640: 100%|██████████| 268/268 [00:15<00:00, 17.12it/s]\n",
      "                 Class     Images  Instances      Box(P          R      mAP50  mAP50-95): 100%|██████████| 14/14 [00:00<00:00, 21.49it/s]"
     ]
    },
    {
     "name": "stdout",
     "output_type": "stream",
     "text": [
      "                   all        105        608      0.612      0.603      0.593      0.338\n"
     ]
    },
    {
     "name": "stderr",
     "output_type": "stream",
     "text": [
      "\n"
     ]
    },
    {
     "name": "stdout",
     "output_type": "stream",
     "text": [
      "\n",
      "      Epoch    GPU_mem   box_loss   cls_loss   dfl_loss  Instances       Size\n"
     ]
    },
    {
     "name": "stderr",
     "output_type": "stream",
     "text": [
      "     82/200      2.43G      1.084     0.8384      1.299          5        640: 100%|██████████| 268/268 [00:15<00:00, 16.94it/s]\n",
      "                 Class     Images  Instances      Box(P          R      mAP50  mAP50-95): 100%|██████████| 14/14 [00:00<00:00, 22.11it/s]"
     ]
    },
    {
     "name": "stdout",
     "output_type": "stream",
     "text": [
      "                   all        105        608      0.631       0.58        0.6      0.346\n"
     ]
    },
    {
     "name": "stderr",
     "output_type": "stream",
     "text": [
      "\n"
     ]
    },
    {
     "name": "stdout",
     "output_type": "stream",
     "text": [
      "\n",
      "      Epoch    GPU_mem   box_loss   cls_loss   dfl_loss  Instances       Size\n"
     ]
    },
    {
     "name": "stderr",
     "output_type": "stream",
     "text": [
      "     83/200      2.44G       1.07     0.8243      1.276         28        640: 100%|██████████| 268/268 [00:15<00:00, 16.88it/s]\n",
      "                 Class     Images  Instances      Box(P          R      mAP50  mAP50-95): 100%|██████████| 14/14 [00:00<00:00, 21.34it/s]"
     ]
    },
    {
     "name": "stdout",
     "output_type": "stream",
     "text": [
      "                   all        105        608      0.623      0.566      0.591      0.339\n"
     ]
    },
    {
     "name": "stderr",
     "output_type": "stream",
     "text": [
      "\n"
     ]
    },
    {
     "name": "stdout",
     "output_type": "stream",
     "text": [
      "\n",
      "      Epoch    GPU_mem   box_loss   cls_loss   dfl_loss  Instances       Size\n"
     ]
    },
    {
     "name": "stderr",
     "output_type": "stream",
     "text": [
      "     84/200      2.43G      1.113     0.8789      1.323          2        640: 100%|██████████| 268/268 [00:16<00:00, 16.69it/s]\n",
      "                 Class     Images  Instances      Box(P          R      mAP50  mAP50-95): 100%|██████████| 14/14 [00:00<00:00, 21.22it/s]"
     ]
    },
    {
     "name": "stdout",
     "output_type": "stream",
     "text": [
      "                   all        105        608        0.6      0.572      0.561      0.311\n"
     ]
    },
    {
     "name": "stderr",
     "output_type": "stream",
     "text": [
      "\n"
     ]
    },
    {
     "name": "stdout",
     "output_type": "stream",
     "text": [
      "\n",
      "      Epoch    GPU_mem   box_loss   cls_loss   dfl_loss  Instances       Size\n"
     ]
    },
    {
     "name": "stderr",
     "output_type": "stream",
     "text": [
      "     85/200      2.44G      1.076     0.8335      1.295          9        640: 100%|██████████| 268/268 [00:15<00:00, 16.86it/s]\n",
      "                 Class     Images  Instances      Box(P          R      mAP50  mAP50-95): 100%|██████████| 14/14 [00:00<00:00, 19.42it/s]"
     ]
    },
    {
     "name": "stdout",
     "output_type": "stream",
     "text": [
      "                   all        105        608      0.588       0.61      0.583      0.329\n"
     ]
    },
    {
     "name": "stderr",
     "output_type": "stream",
     "text": [
      "\n"
     ]
    },
    {
     "name": "stdout",
     "output_type": "stream",
     "text": [
      "\n",
      "      Epoch    GPU_mem   box_loss   cls_loss   dfl_loss  Instances       Size\n"
     ]
    },
    {
     "name": "stderr",
     "output_type": "stream",
     "text": [
      "     86/200      2.44G       1.07     0.8332       1.29         10        640: 100%|██████████| 268/268 [00:15<00:00, 16.76it/s]\n",
      "                 Class     Images  Instances      Box(P          R      mAP50  mAP50-95): 100%|██████████| 14/14 [00:00<00:00, 21.41it/s]"
     ]
    },
    {
     "name": "stdout",
     "output_type": "stream",
     "text": [
      "                   all        105        608      0.602      0.589      0.598      0.341\n"
     ]
    },
    {
     "name": "stderr",
     "output_type": "stream",
     "text": [
      "\n"
     ]
    },
    {
     "name": "stdout",
     "output_type": "stream",
     "text": [
      "\n",
      "      Epoch    GPU_mem   box_loss   cls_loss   dfl_loss  Instances       Size\n"
     ]
    },
    {
     "name": "stderr",
     "output_type": "stream",
     "text": [
      "     87/200      2.44G      1.056     0.8078      1.274          2        640: 100%|██████████| 268/268 [00:15<00:00, 16.77it/s]\n",
      "                 Class     Images  Instances      Box(P          R      mAP50  mAP50-95): 100%|██████████| 14/14 [00:00<00:00, 21.59it/s]"
     ]
    },
    {
     "name": "stdout",
     "output_type": "stream",
     "text": [
      "                   all        105        608      0.603      0.566      0.593      0.345\n"
     ]
    },
    {
     "name": "stderr",
     "output_type": "stream",
     "text": [
      "\n"
     ]
    },
    {
     "name": "stdout",
     "output_type": "stream",
     "text": [
      "\n",
      "      Epoch    GPU_mem   box_loss   cls_loss   dfl_loss  Instances       Size\n"
     ]
    },
    {
     "name": "stderr",
     "output_type": "stream",
     "text": [
      "     88/200      2.43G      1.047     0.8038      1.281          3        640: 100%|██████████| 268/268 [00:15<00:00, 16.95it/s]\n",
      "                 Class     Images  Instances      Box(P          R      mAP50  mAP50-95): 100%|██████████| 14/14 [00:00<00:00, 20.39it/s]"
     ]
    },
    {
     "name": "stdout",
     "output_type": "stream",
     "text": [
      "                   all        105        608      0.607       0.61      0.608      0.348\n"
     ]
    },
    {
     "name": "stderr",
     "output_type": "stream",
     "text": [
      "\n"
     ]
    },
    {
     "name": "stdout",
     "output_type": "stream",
     "text": [
      "\n",
      "      Epoch    GPU_mem   box_loss   cls_loss   dfl_loss  Instances       Size\n"
     ]
    },
    {
     "name": "stderr",
     "output_type": "stream",
     "text": [
      "     89/200      2.43G       1.05     0.8081      1.279         28        640: 100%|██████████| 268/268 [00:15<00:00, 17.05it/s]\n",
      "                 Class     Images  Instances      Box(P          R      mAP50  mAP50-95): 100%|██████████| 14/14 [00:00<00:00, 21.38it/s]"
     ]
    },
    {
     "name": "stdout",
     "output_type": "stream",
     "text": [
      "                   all        105        608       0.57      0.623      0.595       0.34\n"
     ]
    },
    {
     "name": "stderr",
     "output_type": "stream",
     "text": [
      "\n"
     ]
    },
    {
     "name": "stdout",
     "output_type": "stream",
     "text": [
      "\n",
      "      Epoch    GPU_mem   box_loss   cls_loss   dfl_loss  Instances       Size\n"
     ]
    },
    {
     "name": "stderr",
     "output_type": "stream",
     "text": [
      "     90/200      2.44G      1.039     0.8082      1.268         10        640: 100%|██████████| 268/268 [00:15<00:00, 16.78it/s]\n",
      "                 Class     Images  Instances      Box(P          R      mAP50  mAP50-95): 100%|██████████| 14/14 [00:00<00:00, 20.27it/s]"
     ]
    },
    {
     "name": "stdout",
     "output_type": "stream",
     "text": [
      "                   all        105        608      0.595      0.591      0.583      0.323\n"
     ]
    },
    {
     "name": "stderr",
     "output_type": "stream",
     "text": [
      "\n"
     ]
    },
    {
     "name": "stdout",
     "output_type": "stream",
     "text": [
      "\n",
      "      Epoch    GPU_mem   box_loss   cls_loss   dfl_loss  Instances       Size\n"
     ]
    },
    {
     "name": "stderr",
     "output_type": "stream",
     "text": [
      "     91/200      2.44G      1.032     0.7874      1.254          5        640: 100%|██████████| 268/268 [00:15<00:00, 16.77it/s]\n",
      "                 Class     Images  Instances      Box(P          R      mAP50  mAP50-95): 100%|██████████| 14/14 [00:00<00:00, 21.66it/s]"
     ]
    },
    {
     "name": "stdout",
     "output_type": "stream",
     "text": [
      "                   all        105        608      0.637      0.545      0.581      0.333\n"
     ]
    },
    {
     "name": "stderr",
     "output_type": "stream",
     "text": [
      "\n"
     ]
    },
    {
     "name": "stdout",
     "output_type": "stream",
     "text": [
      "\n",
      "      Epoch    GPU_mem   box_loss   cls_loss   dfl_loss  Instances       Size\n"
     ]
    },
    {
     "name": "stderr",
     "output_type": "stream",
     "text": [
      "     92/200      2.42G      1.035     0.7947       1.26         20        640: 100%|██████████| 268/268 [00:15<00:00, 17.02it/s]\n",
      "                 Class     Images  Instances      Box(P          R      mAP50  mAP50-95): 100%|██████████| 14/14 [00:00<00:00, 20.69it/s]"
     ]
    },
    {
     "name": "stdout",
     "output_type": "stream",
     "text": [
      "                   all        105        608      0.579      0.596       0.58      0.337\n"
     ]
    },
    {
     "name": "stderr",
     "output_type": "stream",
     "text": [
      "\n"
     ]
    },
    {
     "name": "stdout",
     "output_type": "stream",
     "text": [
      "\n",
      "      Epoch    GPU_mem   box_loss   cls_loss   dfl_loss  Instances       Size\n"
     ]
    },
    {
     "name": "stderr",
     "output_type": "stream",
     "text": [
      "     93/200      2.44G      1.017     0.7776      1.263          2        640: 100%|██████████| 268/268 [00:16<00:00, 16.62it/s]\n",
      "                 Class     Images  Instances      Box(P          R      mAP50  mAP50-95): 100%|██████████| 14/14 [00:00<00:00, 18.27it/s]"
     ]
    },
    {
     "name": "stdout",
     "output_type": "stream",
     "text": [
      "                   all        105        608      0.636      0.559      0.588      0.337\n"
     ]
    },
    {
     "name": "stderr",
     "output_type": "stream",
     "text": [
      "\n"
     ]
    },
    {
     "name": "stdout",
     "output_type": "stream",
     "text": [
      "\n",
      "      Epoch    GPU_mem   box_loss   cls_loss   dfl_loss  Instances       Size\n"
     ]
    },
    {
     "name": "stderr",
     "output_type": "stream",
     "text": [
      "     94/200      2.43G       1.03     0.7776      1.252          4        640: 100%|██████████| 268/268 [00:15<00:00, 16.77it/s]\n",
      "                 Class     Images  Instances      Box(P          R      mAP50  mAP50-95): 100%|██████████| 14/14 [00:00<00:00, 21.84it/s]"
     ]
    },
    {
     "name": "stdout",
     "output_type": "stream",
     "text": [
      "                   all        105        608      0.635      0.576      0.579      0.328\n"
     ]
    },
    {
     "name": "stderr",
     "output_type": "stream",
     "text": [
      "\n"
     ]
    },
    {
     "name": "stdout",
     "output_type": "stream",
     "text": [
      "\n",
      "      Epoch    GPU_mem   box_loss   cls_loss   dfl_loss  Instances       Size\n"
     ]
    },
    {
     "name": "stderr",
     "output_type": "stream",
     "text": [
      "     95/200      2.43G      1.019     0.7726       1.26          3        640: 100%|██████████| 268/268 [00:15<00:00, 17.04it/s]\n",
      "                 Class     Images  Instances      Box(P          R      mAP50  mAP50-95): 100%|██████████| 14/14 [00:00<00:00, 21.48it/s]"
     ]
    },
    {
     "name": "stdout",
     "output_type": "stream",
     "text": [
      "                   all        105        608      0.597       0.59      0.589      0.333\n"
     ]
    },
    {
     "name": "stderr",
     "output_type": "stream",
     "text": [
      "\n"
     ]
    },
    {
     "name": "stdout",
     "output_type": "stream",
     "text": [
      "\n",
      "      Epoch    GPU_mem   box_loss   cls_loss   dfl_loss  Instances       Size\n"
     ]
    },
    {
     "name": "stderr",
     "output_type": "stream",
     "text": [
      "     96/200       2.5G      1.005     0.7672      1.253          2        640: 100%|██████████| 268/268 [00:15<00:00, 17.02it/s]\n",
      "                 Class     Images  Instances      Box(P          R      mAP50  mAP50-95): 100%|██████████| 14/14 [00:00<00:00, 19.93it/s]"
     ]
    },
    {
     "name": "stdout",
     "output_type": "stream",
     "text": [
      "                   all        105        608      0.628      0.539       0.58      0.333\n"
     ]
    },
    {
     "name": "stderr",
     "output_type": "stream",
     "text": [
      "\n"
     ]
    },
    {
     "name": "stdout",
     "output_type": "stream",
     "text": [
      "\n",
      "      Epoch    GPU_mem   box_loss   cls_loss   dfl_loss  Instances       Size\n"
     ]
    },
    {
     "name": "stderr",
     "output_type": "stream",
     "text": [
      "     97/200      2.43G      1.002     0.7424      1.234         15        640: 100%|██████████| 268/268 [00:15<00:00, 17.03it/s]\n",
      "                 Class     Images  Instances      Box(P          R      mAP50  mAP50-95): 100%|██████████| 14/14 [00:00<00:00, 21.65it/s]"
     ]
    },
    {
     "name": "stdout",
     "output_type": "stream",
     "text": [
      "                   all        105        608      0.607      0.559      0.576      0.327\n"
     ]
    },
    {
     "name": "stderr",
     "output_type": "stream",
     "text": [
      "\n"
     ]
    },
    {
     "name": "stdout",
     "output_type": "stream",
     "text": [
      "\n",
      "      Epoch    GPU_mem   box_loss   cls_loss   dfl_loss  Instances       Size\n"
     ]
    },
    {
     "name": "stderr",
     "output_type": "stream",
     "text": [
      "     98/200      2.49G      1.009     0.7665      1.254          1        640: 100%|██████████| 268/268 [00:15<00:00, 16.76it/s]\n",
      "                 Class     Images  Instances      Box(P          R      mAP50  mAP50-95): 100%|██████████| 14/14 [00:00<00:00, 21.08it/s]"
     ]
    },
    {
     "name": "stdout",
     "output_type": "stream",
     "text": [
      "                   all        105        608      0.673      0.562      0.591      0.338\n"
     ]
    },
    {
     "name": "stderr",
     "output_type": "stream",
     "text": [
      "\n"
     ]
    },
    {
     "name": "stdout",
     "output_type": "stream",
     "text": [
      "\n",
      "      Epoch    GPU_mem   box_loss   cls_loss   dfl_loss  Instances       Size\n"
     ]
    },
    {
     "name": "stderr",
     "output_type": "stream",
     "text": [
      "     99/200      2.49G     0.9849     0.7379       1.23          5        640: 100%|██████████| 268/268 [00:15<00:00, 16.93it/s]\n",
      "                 Class     Images  Instances      Box(P          R      mAP50  mAP50-95): 100%|██████████| 14/14 [00:00<00:00, 21.31it/s]"
     ]
    },
    {
     "name": "stdout",
     "output_type": "stream",
     "text": [
      "                   all        105        608      0.641       0.57      0.582      0.337\n"
     ]
    },
    {
     "name": "stderr",
     "output_type": "stream",
     "text": [
      "\n"
     ]
    },
    {
     "name": "stdout",
     "output_type": "stream",
     "text": [
      "\n",
      "      Epoch    GPU_mem   box_loss   cls_loss   dfl_loss  Instances       Size\n"
     ]
    },
    {
     "name": "stderr",
     "output_type": "stream",
     "text": [
      "    100/200      2.48G     0.9889     0.7349       1.24         11        640: 100%|██████████| 268/268 [00:15<00:00, 17.21it/s]\n",
      "                 Class     Images  Instances      Box(P          R      mAP50  mAP50-95): 100%|██████████| 14/14 [00:00<00:00, 21.64it/s]"
     ]
    },
    {
     "name": "stdout",
     "output_type": "stream",
     "text": [
      "                   all        105        608      0.623       0.57      0.583      0.328\n"
     ]
    },
    {
     "name": "stderr",
     "output_type": "stream",
     "text": [
      "\n"
     ]
    },
    {
     "name": "stdout",
     "output_type": "stream",
     "text": [
      "\n",
      "      Epoch    GPU_mem   box_loss   cls_loss   dfl_loss  Instances       Size\n"
     ]
    },
    {
     "name": "stderr",
     "output_type": "stream",
     "text": [
      "    101/200      2.43G     0.9945     0.7407      1.233          8        640: 100%|██████████| 268/268 [00:15<00:00, 16.81it/s]\n",
      "                 Class     Images  Instances      Box(P          R      mAP50  mAP50-95): 100%|██████████| 14/14 [00:00<00:00, 21.52it/s]"
     ]
    },
    {
     "name": "stdout",
     "output_type": "stream",
     "text": [
      "                   all        105        608      0.542      0.565      0.551      0.313\n"
     ]
    },
    {
     "name": "stderr",
     "output_type": "stream",
     "text": [
      "\n"
     ]
    },
    {
     "name": "stdout",
     "output_type": "stream",
     "text": [
      "\n",
      "      Epoch    GPU_mem   box_loss   cls_loss   dfl_loss  Instances       Size\n"
     ]
    },
    {
     "name": "stderr",
     "output_type": "stream",
     "text": [
      "    102/200      2.46G      1.015     0.7666      1.246         18        640: 100%|██████████| 268/268 [00:16<00:00, 16.66it/s]\n",
      "                 Class     Images  Instances      Box(P          R      mAP50  mAP50-95): 100%|██████████| 14/14 [00:00<00:00, 21.28it/s]"
     ]
    },
    {
     "name": "stdout",
     "output_type": "stream",
     "text": [
      "                   all        105        608      0.583      0.575      0.574      0.323\n"
     ]
    },
    {
     "name": "stderr",
     "output_type": "stream",
     "text": [
      "\n"
     ]
    },
    {
     "name": "stdout",
     "output_type": "stream",
     "text": [
      "\n",
      "      Epoch    GPU_mem   box_loss   cls_loss   dfl_loss  Instances       Size\n"
     ]
    },
    {
     "name": "stderr",
     "output_type": "stream",
     "text": [
      "    103/200      2.46G     0.9738     0.7166      1.221          6        640: 100%|██████████| 268/268 [00:16<00:00, 16.74it/s]\n",
      "                 Class     Images  Instances      Box(P          R      mAP50  mAP50-95): 100%|██████████| 14/14 [00:00<00:00, 21.73it/s]"
     ]
    },
    {
     "name": "stdout",
     "output_type": "stream",
     "text": [
      "                   all        105        608      0.634       0.56      0.589      0.332\n"
     ]
    },
    {
     "name": "stderr",
     "output_type": "stream",
     "text": [
      "\n"
     ]
    },
    {
     "name": "stdout",
     "output_type": "stream",
     "text": [
      "\n",
      "      Epoch    GPU_mem   box_loss   cls_loss   dfl_loss  Instances       Size\n"
     ]
    },
    {
     "name": "stderr",
     "output_type": "stream",
     "text": [
      "    104/200      2.45G     0.9863     0.7156      1.228          1        640: 100%|██████████| 268/268 [00:15<00:00, 17.09it/s]\n",
      "                 Class     Images  Instances      Box(P          R      mAP50  mAP50-95): 100%|██████████| 14/14 [00:00<00:00, 20.52it/s]"
     ]
    },
    {
     "name": "stdout",
     "output_type": "stream",
     "text": [
      "                   all        105        608      0.612      0.591      0.592      0.339\n"
     ]
    },
    {
     "name": "stderr",
     "output_type": "stream",
     "text": [
      "\n"
     ]
    },
    {
     "name": "stdout",
     "output_type": "stream",
     "text": [
      "\n",
      "      Epoch    GPU_mem   box_loss   cls_loss   dfl_loss  Instances       Size\n"
     ]
    },
    {
     "name": "stderr",
     "output_type": "stream",
     "text": [
      "    105/200      2.43G      0.968     0.7151      1.216          3        640: 100%|██████████| 268/268 [00:15<00:00, 17.02it/s]\n",
      "                 Class     Images  Instances      Box(P          R      mAP50  mAP50-95): 100%|██████████| 14/14 [00:00<00:00, 21.51it/s]"
     ]
    },
    {
     "name": "stdout",
     "output_type": "stream",
     "text": [
      "                   all        105        608      0.561      0.607      0.587      0.338\n"
     ]
    },
    {
     "name": "stderr",
     "output_type": "stream",
     "text": [
      "\n"
     ]
    },
    {
     "name": "stdout",
     "output_type": "stream",
     "text": [
      "\n",
      "      Epoch    GPU_mem   box_loss   cls_loss   dfl_loss  Instances       Size\n"
     ]
    },
    {
     "name": "stderr",
     "output_type": "stream",
     "text": [
      "    106/200      2.43G     0.9745     0.7063      1.218         32        640: 100%|██████████| 268/268 [00:15<00:00, 17.15it/s]\n",
      "                 Class     Images  Instances      Box(P          R      mAP50  mAP50-95): 100%|██████████| 14/14 [00:00<00:00, 21.39it/s]"
     ]
    },
    {
     "name": "stdout",
     "output_type": "stream",
     "text": [
      "                   all        105        608      0.605       0.55      0.556      0.313\n"
     ]
    },
    {
     "name": "stderr",
     "output_type": "stream",
     "text": [
      "\n"
     ]
    },
    {
     "name": "stdout",
     "output_type": "stream",
     "text": [
      "\n",
      "      Epoch    GPU_mem   box_loss   cls_loss   dfl_loss  Instances       Size\n"
     ]
    },
    {
     "name": "stderr",
     "output_type": "stream",
     "text": [
      "    107/200       2.5G     0.9585     0.7106      1.209          1        640: 100%|██████████| 268/268 [00:15<00:00, 17.12it/s]\n",
      "                 Class     Images  Instances      Box(P          R      mAP50  mAP50-95): 100%|██████████| 14/14 [00:00<00:00, 21.36it/s]"
     ]
    },
    {
     "name": "stdout",
     "output_type": "stream",
     "text": [
      "                   all        105        608      0.613      0.569      0.565       0.32\n"
     ]
    },
    {
     "name": "stderr",
     "output_type": "stream",
     "text": [
      "\n"
     ]
    },
    {
     "name": "stdout",
     "output_type": "stream",
     "text": [
      "\n",
      "      Epoch    GPU_mem   box_loss   cls_loss   dfl_loss  Instances       Size\n"
     ]
    },
    {
     "name": "stderr",
     "output_type": "stream",
     "text": [
      "    108/200      2.47G     0.9712     0.7089      1.218         21        640: 100%|██████████| 268/268 [00:15<00:00, 16.95it/s]\n",
      "                 Class     Images  Instances      Box(P          R      mAP50  mAP50-95): 100%|██████████| 14/14 [00:00<00:00, 20.95it/s]"
     ]
    },
    {
     "name": "stdout",
     "output_type": "stream",
     "text": [
      "                   all        105        608      0.585      0.568      0.548      0.307\n"
     ]
    },
    {
     "name": "stderr",
     "output_type": "stream",
     "text": [
      "\n"
     ]
    },
    {
     "name": "stdout",
     "output_type": "stream",
     "text": [
      "\n",
      "      Epoch    GPU_mem   box_loss   cls_loss   dfl_loss  Instances       Size\n"
     ]
    },
    {
     "name": "stderr",
     "output_type": "stream",
     "text": [
      "    109/200      2.43G     0.9625     0.6938      1.204          4        640: 100%|██████████| 268/268 [00:15<00:00, 16.82it/s]\n",
      "                 Class     Images  Instances      Box(P          R      mAP50  mAP50-95): 100%|██████████| 14/14 [00:00<00:00, 21.59it/s]"
     ]
    },
    {
     "name": "stdout",
     "output_type": "stream",
     "text": [
      "                   all        105        608      0.617      0.558      0.569      0.316\n"
     ]
    },
    {
     "name": "stderr",
     "output_type": "stream",
     "text": [
      "\n"
     ]
    },
    {
     "name": "stdout",
     "output_type": "stream",
     "text": [
      "\n",
      "      Epoch    GPU_mem   box_loss   cls_loss   dfl_loss  Instances       Size\n"
     ]
    },
    {
     "name": "stderr",
     "output_type": "stream",
     "text": [
      "    110/200      2.48G     0.9535     0.7065      1.214         12        640: 100%|██████████| 268/268 [00:15<00:00, 17.05it/s]\n",
      "                 Class     Images  Instances      Box(P          R      mAP50  mAP50-95): 100%|██████████| 14/14 [00:00<00:00, 21.81it/s]"
     ]
    },
    {
     "name": "stdout",
     "output_type": "stream",
     "text": [
      "                   all        105        608      0.588      0.601      0.583      0.325\n"
     ]
    },
    {
     "name": "stderr",
     "output_type": "stream",
     "text": [
      "\n"
     ]
    },
    {
     "name": "stdout",
     "output_type": "stream",
     "text": [
      "\n",
      "      Epoch    GPU_mem   box_loss   cls_loss   dfl_loss  Instances       Size\n"
     ]
    },
    {
     "name": "stderr",
     "output_type": "stream",
     "text": [
      "    111/200      2.48G     0.9575     0.7056      1.206          1        640: 100%|██████████| 268/268 [00:16<00:00, 16.65it/s]\n",
      "                 Class     Images  Instances      Box(P          R      mAP50  mAP50-95): 100%|██████████| 14/14 [00:00<00:00, 21.06it/s]"
     ]
    },
    {
     "name": "stdout",
     "output_type": "stream",
     "text": [
      "                   all        105        608      0.564      0.587       0.55      0.311\n"
     ]
    },
    {
     "name": "stderr",
     "output_type": "stream",
     "text": [
      "\n"
     ]
    },
    {
     "name": "stdout",
     "output_type": "stream",
     "text": [
      "\n",
      "      Epoch    GPU_mem   box_loss   cls_loss   dfl_loss  Instances       Size\n"
     ]
    },
    {
     "name": "stderr",
     "output_type": "stream",
     "text": [
      "    112/200      2.47G     0.9435     0.6953      1.202         61        640: 100%|██████████| 268/268 [00:15<00:00, 16.89it/s]\n",
      "                 Class     Images  Instances      Box(P          R      mAP50  mAP50-95): 100%|██████████| 14/14 [00:00<00:00, 20.93it/s]"
     ]
    },
    {
     "name": "stdout",
     "output_type": "stream",
     "text": [
      "                   all        105        608      0.648      0.568      0.577      0.325\n"
     ]
    },
    {
     "name": "stderr",
     "output_type": "stream",
     "text": [
      "\n"
     ]
    },
    {
     "name": "stdout",
     "output_type": "stream",
     "text": [
      "\n",
      "      Epoch    GPU_mem   box_loss   cls_loss   dfl_loss  Instances       Size\n"
     ]
    },
    {
     "name": "stderr",
     "output_type": "stream",
     "text": [
      "    113/200      2.44G     0.9415     0.6789      1.199          4        640: 100%|██████████| 268/268 [00:15<00:00, 16.96it/s]\n",
      "                 Class     Images  Instances      Box(P          R      mAP50  mAP50-95): 100%|██████████| 14/14 [00:00<00:00, 20.63it/s]"
     ]
    },
    {
     "name": "stdout",
     "output_type": "stream",
     "text": [
      "                   all        105        608      0.585      0.605      0.571      0.321\n"
     ]
    },
    {
     "name": "stderr",
     "output_type": "stream",
     "text": [
      "\n"
     ]
    },
    {
     "name": "stdout",
     "output_type": "stream",
     "text": [
      "\n",
      "      Epoch    GPU_mem   box_loss   cls_loss   dfl_loss  Instances       Size\n"
     ]
    },
    {
     "name": "stderr",
     "output_type": "stream",
     "text": [
      "    114/200      2.48G       0.93     0.6835      1.201         12        640: 100%|██████████| 268/268 [00:15<00:00, 16.99it/s]\n",
      "                 Class     Images  Instances      Box(P          R      mAP50  mAP50-95): 100%|██████████| 14/14 [00:00<00:00, 21.60it/s]"
     ]
    },
    {
     "name": "stdout",
     "output_type": "stream",
     "text": [
      "                   all        105        608      0.631      0.572      0.572      0.328\n"
     ]
    },
    {
     "name": "stderr",
     "output_type": "stream",
     "text": [
      "\n"
     ]
    },
    {
     "name": "stdout",
     "output_type": "stream",
     "text": [
      "\n",
      "      Epoch    GPU_mem   box_loss   cls_loss   dfl_loss  Instances       Size\n"
     ]
    },
    {
     "name": "stderr",
     "output_type": "stream",
     "text": [
      "    115/200      2.46G      0.919     0.6633      1.177         11        640: 100%|██████████| 268/268 [00:15<00:00, 17.21it/s]\n",
      "                 Class     Images  Instances      Box(P          R      mAP50  mAP50-95): 100%|██████████| 14/14 [00:00<00:00, 21.08it/s]"
     ]
    },
    {
     "name": "stdout",
     "output_type": "stream",
     "text": [
      "                   all        105        608      0.595      0.592      0.569      0.326\n"
     ]
    },
    {
     "name": "stderr",
     "output_type": "stream",
     "text": [
      "\n"
     ]
    },
    {
     "name": "stdout",
     "output_type": "stream",
     "text": [
      "\n",
      "      Epoch    GPU_mem   box_loss   cls_loss   dfl_loss  Instances       Size\n"
     ]
    },
    {
     "name": "stderr",
     "output_type": "stream",
     "text": [
      "    116/200      2.45G     0.9366     0.6615      1.198          1        640: 100%|██████████| 268/268 [00:15<00:00, 16.88it/s]\n",
      "                 Class     Images  Instances      Box(P          R      mAP50  mAP50-95): 100%|██████████| 14/14 [00:00<00:00, 21.03it/s]"
     ]
    },
    {
     "name": "stdout",
     "output_type": "stream",
     "text": [
      "                   all        105        608      0.592      0.564      0.563       0.32\n"
     ]
    },
    {
     "name": "stderr",
     "output_type": "stream",
     "text": [
      "\n"
     ]
    },
    {
     "name": "stdout",
     "output_type": "stream",
     "text": [
      "\n",
      "      Epoch    GPU_mem   box_loss   cls_loss   dfl_loss  Instances       Size\n"
     ]
    },
    {
     "name": "stderr",
     "output_type": "stream",
     "text": [
      "    117/200      2.43G     0.9153     0.6672      1.179         18        640: 100%|██████████| 268/268 [00:15<00:00, 16.84it/s]\n",
      "                 Class     Images  Instances      Box(P          R      mAP50  mAP50-95): 100%|██████████| 14/14 [00:00<00:00, 21.41it/s]"
     ]
    },
    {
     "name": "stdout",
     "output_type": "stream",
     "text": [
      "                   all        105        608      0.576      0.547      0.543       0.31\n"
     ]
    },
    {
     "name": "stderr",
     "output_type": "stream",
     "text": [
      "\n"
     ]
    },
    {
     "name": "stdout",
     "output_type": "stream",
     "text": [
      "\n",
      "      Epoch    GPU_mem   box_loss   cls_loss   dfl_loss  Instances       Size\n"
     ]
    },
    {
     "name": "stderr",
     "output_type": "stream",
     "text": [
      "    118/200      2.48G     0.9286      0.668      1.181          2        640: 100%|██████████| 268/268 [00:15<00:00, 17.27it/s]\n",
      "                 Class     Images  Instances      Box(P          R      mAP50  mAP50-95): 100%|██████████| 14/14 [00:00<00:00, 19.25it/s]"
     ]
    },
    {
     "name": "stdout",
     "output_type": "stream",
     "text": [
      "                   all        105        608      0.629       0.54      0.571      0.328\n"
     ]
    },
    {
     "name": "stderr",
     "output_type": "stream",
     "text": [
      "\n"
     ]
    },
    {
     "name": "stdout",
     "output_type": "stream",
     "text": [
      "\n",
      "      Epoch    GPU_mem   box_loss   cls_loss   dfl_loss  Instances       Size\n"
     ]
    },
    {
     "name": "stderr",
     "output_type": "stream",
     "text": [
      "    119/200      2.44G     0.9042     0.6508      1.174         16        640: 100%|██████████| 268/268 [00:16<00:00, 16.64it/s]\n",
      "                 Class     Images  Instances      Box(P          R      mAP50  mAP50-95): 100%|██████████| 14/14 [00:00<00:00, 20.55it/s]"
     ]
    },
    {
     "name": "stdout",
     "output_type": "stream",
     "text": [
      "                   all        105        608      0.555       0.59      0.562      0.318\n"
     ]
    },
    {
     "name": "stderr",
     "output_type": "stream",
     "text": [
      "\n"
     ]
    },
    {
     "name": "stdout",
     "output_type": "stream",
     "text": [
      "\n",
      "      Epoch    GPU_mem   box_loss   cls_loss   dfl_loss  Instances       Size\n"
     ]
    },
    {
     "name": "stderr",
     "output_type": "stream",
     "text": [
      "    120/200       2.5G     0.9094     0.6638      1.183         11        640: 100%|██████████| 268/268 [00:15<00:00, 17.03it/s]\n",
      "                 Class     Images  Instances      Box(P          R      mAP50  mAP50-95): 100%|██████████| 14/14 [00:00<00:00, 21.26it/s]"
     ]
    },
    {
     "name": "stdout",
     "output_type": "stream",
     "text": [
      "                   all        105        608      0.605      0.573      0.574      0.327\n"
     ]
    },
    {
     "name": "stderr",
     "output_type": "stream",
     "text": [
      "\n"
     ]
    },
    {
     "name": "stdout",
     "output_type": "stream",
     "text": [
      "\n",
      "      Epoch    GPU_mem   box_loss   cls_loss   dfl_loss  Instances       Size\n"
     ]
    },
    {
     "name": "stderr",
     "output_type": "stream",
     "text": [
      "    121/200      2.44G     0.8983      0.652      1.165         20        640: 100%|██████████| 268/268 [00:15<00:00, 16.97it/s]\n",
      "                 Class     Images  Instances      Box(P          R      mAP50  mAP50-95): 100%|██████████| 14/14 [00:00<00:00, 20.87it/s]"
     ]
    },
    {
     "name": "stdout",
     "output_type": "stream",
     "text": [
      "                   all        105        608      0.621      0.578      0.578      0.323\n"
     ]
    },
    {
     "name": "stderr",
     "output_type": "stream",
     "text": [
      "\n"
     ]
    },
    {
     "name": "stdout",
     "output_type": "stream",
     "text": [
      "\n",
      "      Epoch    GPU_mem   box_loss   cls_loss   dfl_loss  Instances       Size\n"
     ]
    },
    {
     "name": "stderr",
     "output_type": "stream",
     "text": [
      "    122/200      2.44G     0.9058     0.6588      1.179         16        640: 100%|██████████| 268/268 [00:15<00:00, 17.00it/s]\n",
      "                 Class     Images  Instances      Box(P          R      mAP50  mAP50-95): 100%|██████████| 14/14 [00:00<00:00, 21.95it/s]"
     ]
    },
    {
     "name": "stdout",
     "output_type": "stream",
     "text": [
      "                   all        105        608      0.624      0.571       0.58      0.327\n"
     ]
    },
    {
     "name": "stderr",
     "output_type": "stream",
     "text": [
      "\n"
     ]
    },
    {
     "name": "stdout",
     "output_type": "stream",
     "text": [
      "\n",
      "      Epoch    GPU_mem   box_loss   cls_loss   dfl_loss  Instances       Size\n"
     ]
    },
    {
     "name": "stderr",
     "output_type": "stream",
     "text": [
      "    123/200      2.44G     0.8914     0.6492      1.163          2        640: 100%|██████████| 268/268 [00:15<00:00, 16.94it/s]\n",
      "                 Class     Images  Instances      Box(P          R      mAP50  mAP50-95): 100%|██████████| 14/14 [00:00<00:00, 21.56it/s]"
     ]
    },
    {
     "name": "stdout",
     "output_type": "stream",
     "text": [
      "                   all        105        608      0.622      0.588      0.583      0.331\n"
     ]
    },
    {
     "name": "stderr",
     "output_type": "stream",
     "text": [
      "\n"
     ]
    },
    {
     "name": "stdout",
     "output_type": "stream",
     "text": [
      "\n",
      "      Epoch    GPU_mem   box_loss   cls_loss   dfl_loss  Instances       Size\n"
     ]
    },
    {
     "name": "stderr",
     "output_type": "stream",
     "text": [
      "    124/200      2.48G      0.879     0.6384      1.152          6        640: 100%|██████████| 268/268 [00:15<00:00, 17.00it/s]\n",
      "                 Class     Images  Instances      Box(P          R      mAP50  mAP50-95): 100%|██████████| 14/14 [00:00<00:00, 21.21it/s]"
     ]
    },
    {
     "name": "stdout",
     "output_type": "stream",
     "text": [
      "                   all        105        608      0.644      0.573      0.595      0.334\n"
     ]
    },
    {
     "name": "stderr",
     "output_type": "stream",
     "text": [
      "\n"
     ]
    },
    {
     "name": "stdout",
     "output_type": "stream",
     "text": [
      "\n",
      "      Epoch    GPU_mem   box_loss   cls_loss   dfl_loss  Instances       Size\n"
     ]
    },
    {
     "name": "stderr",
     "output_type": "stream",
     "text": [
      "    125/200      2.43G     0.8659      0.641       1.15          3        640: 100%|██████████| 268/268 [00:15<00:00, 16.79it/s]\n",
      "                 Class     Images  Instances      Box(P          R      mAP50  mAP50-95): 100%|██████████| 14/14 [00:00<00:00, 21.53it/s]"
     ]
    },
    {
     "name": "stdout",
     "output_type": "stream",
     "text": [
      "                   all        105        608      0.625      0.563      0.577      0.331\n"
     ]
    },
    {
     "name": "stderr",
     "output_type": "stream",
     "text": [
      "\n"
     ]
    },
    {
     "name": "stdout",
     "output_type": "stream",
     "text": [
      "\n",
      "      Epoch    GPU_mem   box_loss   cls_loss   dfl_loss  Instances       Size\n"
     ]
    },
    {
     "name": "stderr",
     "output_type": "stream",
     "text": [
      "    126/200      2.48G     0.8803      0.632       1.16         30        640: 100%|██████████| 268/268 [00:15<00:00, 17.04it/s]\n",
      "                 Class     Images  Instances      Box(P          R      mAP50  mAP50-95): 100%|██████████| 14/14 [00:00<00:00, 21.03it/s]"
     ]
    },
    {
     "name": "stdout",
     "output_type": "stream",
     "text": [
      "                   all        105        608      0.705      0.528      0.594      0.336\n"
     ]
    },
    {
     "name": "stderr",
     "output_type": "stream",
     "text": [
      "\n"
     ]
    },
    {
     "name": "stdout",
     "output_type": "stream",
     "text": [
      "\n",
      "      Epoch    GPU_mem   box_loss   cls_loss   dfl_loss  Instances       Size\n"
     ]
    },
    {
     "name": "stderr",
     "output_type": "stream",
     "text": [
      "    127/200      2.44G     0.8867     0.6321      1.172          2        640: 100%|██████████| 268/268 [00:15<00:00, 17.02it/s]\n",
      "                 Class     Images  Instances      Box(P          R      mAP50  mAP50-95): 100%|██████████| 14/14 [00:00<00:00, 21.53it/s]"
     ]
    },
    {
     "name": "stdout",
     "output_type": "stream",
     "text": [
      "                   all        105        608      0.619      0.583      0.591      0.337\n"
     ]
    },
    {
     "name": "stderr",
     "output_type": "stream",
     "text": [
      "\n"
     ]
    },
    {
     "name": "stdout",
     "output_type": "stream",
     "text": [
      "\n",
      "      Epoch    GPU_mem   box_loss   cls_loss   dfl_loss  Instances       Size\n"
     ]
    },
    {
     "name": "stderr",
     "output_type": "stream",
     "text": [
      "    128/200      2.43G      0.873     0.6305      1.162         17        640: 100%|██████████| 268/268 [00:15<00:00, 17.04it/s]\n",
      "                 Class     Images  Instances      Box(P          R      mAP50  mAP50-95): 100%|██████████| 14/14 [00:00<00:00, 19.94it/s]"
     ]
    },
    {
     "name": "stdout",
     "output_type": "stream",
     "text": [
      "                   all        105        608       0.59      0.565      0.562      0.321\n"
     ]
    },
    {
     "name": "stderr",
     "output_type": "stream",
     "text": [
      "\n"
     ]
    },
    {
     "name": "stdout",
     "output_type": "stream",
     "text": [
      "\n",
      "      Epoch    GPU_mem   box_loss   cls_loss   dfl_loss  Instances       Size\n"
     ]
    },
    {
     "name": "stderr",
     "output_type": "stream",
     "text": [
      "    129/200      2.43G     0.8673     0.6377      1.163          1        640: 100%|██████████| 268/268 [00:15<00:00, 17.02it/s]\n",
      "                 Class     Images  Instances      Box(P          R      mAP50  mAP50-95): 100%|██████████| 14/14 [00:00<00:00, 20.58it/s]"
     ]
    },
    {
     "name": "stdout",
     "output_type": "stream",
     "text": [
      "                   all        105        608      0.603      0.551      0.551      0.313\n"
     ]
    },
    {
     "name": "stderr",
     "output_type": "stream",
     "text": [
      "\n"
     ]
    },
    {
     "name": "stdout",
     "output_type": "stream",
     "text": [
      "\n",
      "      Epoch    GPU_mem   box_loss   cls_loss   dfl_loss  Instances       Size\n"
     ]
    },
    {
     "name": "stderr",
     "output_type": "stream",
     "text": [
      "    130/200      2.44G     0.8688     0.6263      1.169          4        640: 100%|██████████| 268/268 [00:15<00:00, 17.15it/s]\n",
      "                 Class     Images  Instances      Box(P          R      mAP50  mAP50-95): 100%|██████████| 14/14 [00:00<00:00, 21.48it/s]"
     ]
    },
    {
     "name": "stdout",
     "output_type": "stream",
     "text": [
      "                   all        105        608       0.61      0.559      0.564      0.319\n"
     ]
    },
    {
     "name": "stderr",
     "output_type": "stream",
     "text": [
      "\n"
     ]
    },
    {
     "name": "stdout",
     "output_type": "stream",
     "text": [
      "\n",
      "      Epoch    GPU_mem   box_loss   cls_loss   dfl_loss  Instances       Size\n"
     ]
    },
    {
     "name": "stderr",
     "output_type": "stream",
     "text": [
      "    131/200      2.55G     0.8592     0.6121      1.152          2        640: 100%|██████████| 268/268 [00:16<00:00, 16.70it/s]\n",
      "                 Class     Images  Instances      Box(P          R      mAP50  mAP50-95): 100%|██████████| 14/14 [00:00<00:00, 21.19it/s]"
     ]
    },
    {
     "name": "stdout",
     "output_type": "stream",
     "text": [
      "                   all        105        608      0.565      0.552      0.539      0.304\n"
     ]
    },
    {
     "name": "stderr",
     "output_type": "stream",
     "text": [
      "\n"
     ]
    },
    {
     "name": "stdout",
     "output_type": "stream",
     "text": [
      "\n",
      "      Epoch    GPU_mem   box_loss   cls_loss   dfl_loss  Instances       Size\n"
     ]
    },
    {
     "name": "stderr",
     "output_type": "stream",
     "text": [
      "    132/200      2.54G     0.8583     0.6038      1.142          7        640: 100%|██████████| 268/268 [00:15<00:00, 17.03it/s]\n",
      "                 Class     Images  Instances      Box(P          R      mAP50  mAP50-95): 100%|██████████| 14/14 [00:00<00:00, 21.51it/s]"
     ]
    },
    {
     "name": "stdout",
     "output_type": "stream",
     "text": [
      "                   all        105        608       0.58      0.581      0.577      0.327\n"
     ]
    },
    {
     "name": "stderr",
     "output_type": "stream",
     "text": [
      "\n"
     ]
    },
    {
     "name": "stdout",
     "output_type": "stream",
     "text": [
      "\n",
      "      Epoch    GPU_mem   box_loss   cls_loss   dfl_loss  Instances       Size\n"
     ]
    },
    {
     "name": "stderr",
     "output_type": "stream",
     "text": [
      "    133/200      2.43G     0.8509     0.6165      1.142         23        640: 100%|██████████| 268/268 [00:15<00:00, 17.12it/s]\n",
      "                 Class     Images  Instances      Box(P          R      mAP50  mAP50-95): 100%|██████████| 14/14 [00:00<00:00, 21.47it/s]"
     ]
    },
    {
     "name": "stdout",
     "output_type": "stream",
     "text": [
      "                   all        105        608      0.646      0.535      0.552      0.309\n"
     ]
    },
    {
     "name": "stderr",
     "output_type": "stream",
     "text": [
      "\n"
     ]
    },
    {
     "name": "stdout",
     "output_type": "stream",
     "text": [
      "\n",
      "      Epoch    GPU_mem   box_loss   cls_loss   dfl_loss  Instances       Size\n"
     ]
    },
    {
     "name": "stderr",
     "output_type": "stream",
     "text": [
      "    134/200      2.49G     0.8607     0.5949      1.139         27        640: 100%|██████████| 268/268 [00:16<00:00, 16.75it/s]\n",
      "                 Class     Images  Instances      Box(P          R      mAP50  mAP50-95): 100%|██████████| 14/14 [00:00<00:00, 20.89it/s]"
     ]
    },
    {
     "name": "stdout",
     "output_type": "stream",
     "text": [
      "                   all        105        608      0.638       0.55      0.575       0.32\n"
     ]
    },
    {
     "name": "stderr",
     "output_type": "stream",
     "text": [
      "\n"
     ]
    },
    {
     "name": "stdout",
     "output_type": "stream",
     "text": [
      "\n",
      "      Epoch    GPU_mem   box_loss   cls_loss   dfl_loss  Instances       Size\n"
     ]
    },
    {
     "name": "stderr",
     "output_type": "stream",
     "text": [
      "    135/200      2.49G     0.8704     0.6273      1.156          1        640: 100%|██████████| 268/268 [00:15<00:00, 16.89it/s]\n",
      "                 Class     Images  Instances      Box(P          R      mAP50  mAP50-95): 100%|██████████| 14/14 [00:00<00:00, 20.94it/s]"
     ]
    },
    {
     "name": "stdout",
     "output_type": "stream",
     "text": [
      "                   all        105        608      0.637       0.55      0.568       0.32\n"
     ]
    },
    {
     "name": "stderr",
     "output_type": "stream",
     "text": [
      "\n"
     ]
    },
    {
     "name": "stdout",
     "output_type": "stream",
     "text": [
      "\n",
      "      Epoch    GPU_mem   box_loss   cls_loss   dfl_loss  Instances       Size\n"
     ]
    },
    {
     "name": "stderr",
     "output_type": "stream",
     "text": [
      "    136/200      2.45G     0.8299     0.5854      1.131          1        640: 100%|██████████| 268/268 [00:15<00:00, 16.77it/s]\n",
      "                 Class     Images  Instances      Box(P          R      mAP50  mAP50-95): 100%|██████████| 14/14 [00:00<00:00, 21.42it/s]"
     ]
    },
    {
     "name": "stdout",
     "output_type": "stream",
     "text": [
      "                   all        105        608      0.644      0.515      0.546      0.301\n"
     ]
    },
    {
     "name": "stderr",
     "output_type": "stream",
     "text": [
      "\n"
     ]
    },
    {
     "name": "stdout",
     "output_type": "stream",
     "text": [
      "\n",
      "      Epoch    GPU_mem   box_loss   cls_loss   dfl_loss  Instances       Size\n"
     ]
    },
    {
     "name": "stderr",
     "output_type": "stream",
     "text": [
      "    137/200      2.42G     0.8262     0.5858      1.128          3        640: 100%|██████████| 268/268 [00:15<00:00, 16.87it/s]\n",
      "                 Class     Images  Instances      Box(P          R      mAP50  mAP50-95): 100%|██████████| 14/14 [00:00<00:00, 20.45it/s]"
     ]
    },
    {
     "name": "stdout",
     "output_type": "stream",
     "text": [
      "                   all        105        608      0.626      0.517      0.554      0.316\n"
     ]
    },
    {
     "name": "stderr",
     "output_type": "stream",
     "text": [
      "\n"
     ]
    },
    {
     "name": "stdout",
     "output_type": "stream",
     "text": [
      "\n",
      "      Epoch    GPU_mem   box_loss   cls_loss   dfl_loss  Instances       Size\n"
     ]
    },
    {
     "name": "stderr",
     "output_type": "stream",
     "text": [
      "    138/200      2.48G     0.8429      0.601      1.137          3        640: 100%|██████████| 268/268 [00:15<00:00, 16.87it/s]\n",
      "                 Class     Images  Instances      Box(P          R      mAP50  mAP50-95): 100%|██████████| 14/14 [00:00<00:00, 21.15it/s]"
     ]
    },
    {
     "name": "stdout",
     "output_type": "stream",
     "text": [
      "                   all        105        608        0.6      0.548      0.558      0.311\n"
     ]
    },
    {
     "name": "stderr",
     "output_type": "stream",
     "text": [
      "\n"
     ]
    },
    {
     "name": "stdout",
     "output_type": "stream",
     "text": [
      "\n",
      "      Epoch    GPU_mem   box_loss   cls_loss   dfl_loss  Instances       Size\n"
     ]
    },
    {
     "name": "stderr",
     "output_type": "stream",
     "text": [
      "    139/200      2.46G     0.8445     0.5977      1.136          3        640: 100%|██████████| 268/268 [00:15<00:00, 16.97it/s]\n",
      "                 Class     Images  Instances      Box(P          R      mAP50  mAP50-95): 100%|██████████| 14/14 [00:00<00:00, 20.07it/s]"
     ]
    },
    {
     "name": "stdout",
     "output_type": "stream",
     "text": [
      "                   all        105        608      0.669      0.515      0.562      0.313\n"
     ]
    },
    {
     "name": "stderr",
     "output_type": "stream",
     "text": [
      "\n"
     ]
    },
    {
     "name": "stdout",
     "output_type": "stream",
     "text": [
      "\n",
      "      Epoch    GPU_mem   box_loss   cls_loss   dfl_loss  Instances       Size\n"
     ]
    },
    {
     "name": "stderr",
     "output_type": "stream",
     "text": [
      "    140/200      2.45G     0.8465     0.5904      1.138          4        640: 100%|██████████| 268/268 [00:15<00:00, 16.98it/s]\n",
      "                 Class     Images  Instances      Box(P          R      mAP50  mAP50-95): 100%|██████████| 14/14 [00:00<00:00, 20.52it/s]"
     ]
    },
    {
     "name": "stdout",
     "output_type": "stream",
     "text": [
      "                   all        105        608      0.647      0.514      0.565      0.318\n"
     ]
    },
    {
     "name": "stderr",
     "output_type": "stream",
     "text": [
      "\n"
     ]
    },
    {
     "name": "stdout",
     "output_type": "stream",
     "text": [
      "\n",
      "      Epoch    GPU_mem   box_loss   cls_loss   dfl_loss  Instances       Size\n"
     ]
    },
    {
     "name": "stderr",
     "output_type": "stream",
     "text": [
      "    141/200      2.43G     0.8281     0.5846      1.126          7        640: 100%|██████████| 268/268 [00:15<00:00, 17.03it/s]\n",
      "                 Class     Images  Instances      Box(P          R      mAP50  mAP50-95): 100%|██████████| 14/14 [00:00<00:00, 21.21it/s]"
     ]
    },
    {
     "name": "stdout",
     "output_type": "stream",
     "text": [
      "                   all        105        608      0.612      0.544       0.56      0.318\n"
     ]
    },
    {
     "name": "stderr",
     "output_type": "stream",
     "text": [
      "\n"
     ]
    },
    {
     "name": "stdout",
     "output_type": "stream",
     "text": [
      "\n",
      "      Epoch    GPU_mem   box_loss   cls_loss   dfl_loss  Instances       Size\n"
     ]
    },
    {
     "name": "stderr",
     "output_type": "stream",
     "text": [
      "    142/200      2.44G     0.7995     0.5735      1.112         12        640: 100%|██████████| 268/268 [00:15<00:00, 17.07it/s]\n",
      "                 Class     Images  Instances      Box(P          R      mAP50  mAP50-95): 100%|██████████| 14/14 [00:00<00:00, 21.81it/s]"
     ]
    },
    {
     "name": "stdout",
     "output_type": "stream",
     "text": [
      "                   all        105        608      0.633      0.554       0.57      0.321\n",
      "\u001b[34m\u001b[1mEarlyStopping: \u001b[0mTraining stopped early as no improvement observed in last 80 epochs. Best results observed at epoch 62, best model saved as best.pt.\n",
      "To update EarlyStopping(patience=80) pass a new patience value, i.e. `patience=300` or use `patience=0` to disable EarlyStopping.\n"
     ]
    },
    {
     "name": "stderr",
     "output_type": "stream",
     "text": [
      "\n"
     ]
    },
    {
     "name": "stdout",
     "output_type": "stream",
     "text": [
      "\n",
      "142 epochs completed in 0.689 hours.\n",
      "Optimizer stripped from runs/detect/train2/weights/last.pt, 52.0MB\n",
      "Optimizer stripped from runs/detect/train2/weights/best.pt, 52.0MB\n",
      "\n",
      "Validating runs/detect/train2/weights/best.pt...\n",
      "Ultralytics YOLOv8.2.9 🚀 Python-3.11.9 torch-2.3.0+cu121 CUDA:0 (NVIDIA A40, 45416MiB)\n",
      "Model summary (fused): 218 layers, 25840918 parameters, 0 gradients, 78.7 GFLOPs\n"
     ]
    },
    {
     "name": "stderr",
     "output_type": "stream",
     "text": [
      "                 Class     Images  Instances      Box(P          R      mAP50  mAP50-95): 100%|██████████| 14/14 [00:00<00:00, 15.21it/s]\n"
     ]
    },
    {
     "name": "stdout",
     "output_type": "stream",
     "text": [
      "                   all        105        608      0.564       0.62      0.604      0.356\n",
      "          Healthy-Leaf        105        265      0.615      0.758      0.715      0.455\n",
      "        Unhealthy-Leaf        105        343      0.513      0.481      0.493      0.256\n",
      "Speed: 0.2ms preprocess, 3.1ms inference, 0.0ms loss, 1.1ms postprocess per image\n",
      "Results saved to \u001b[1mruns/detect/train2\u001b[0m\n"
     ]
    }
   ],
   "source": [
    "model = ultralytics.YOLO(yolo_model)\n",
    "t_start = time.time()\n",
    "results = model.train(data=os.path.join(HOME_tomato_leaves_segm, 'data.yaml'), epochs=n_epochs, patience=n_patience, batch=batch_size, imgsz=640, amp=amp_flag)\n",
    "t_stop = time.time()"
   ]
  },
  {
   "cell_type": "code",
   "execution_count": null,
   "id": "8c0e3ff6-6938-4ce7-ad86-07b48760dfb2",
   "metadata": {},
   "outputs": [],
   "source": [
    "print(f\"Training time, AMP enabled: {t_stop - t_start} seconds\")"
   ]
  },
  {
   "cell_type": "markdown",
   "id": "aa8a76e0-bc7f-43e3-80b0-7a2b47d47878",
   "metadata": {},
   "source": [
    "### Validation"
   ]
  },
  {
   "cell_type": "code",
   "execution_count": null,
   "id": "98a75f53-e4f4-441a-aaf0-c8b39b3b8e2d",
   "metadata": {},
   "outputs": [],
   "source": [
    "model.val()"
   ]
  }
 ],
 "metadata": {
  "kernelspec": {
   "display_name": "Python 3 (ipykernel)",
   "language": "python",
   "name": "python3"
  },
  "language_info": {
   "codemirror_mode": {
    "name": "ipython",
    "version": 3
   },
   "file_extension": ".py",
   "mimetype": "text/x-python",
   "name": "python",
   "nbconvert_exporter": "python",
   "pygments_lexer": "ipython3",
   "version": "3.11.9"
  }
 },
 "nbformat": 4,
 "nbformat_minor": 5
}
